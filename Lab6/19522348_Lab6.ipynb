{
  "nbformat": 4,
  "nbformat_minor": 0,
  "metadata": {
    "colab": {
      "provenance": []
    },
    "kernelspec": {
      "name": "python3",
      "display_name": "Python 3"
    },
    "language_info": {
      "name": "python"
    }
  },
  "cells": [
    {
      "cell_type": "markdown",
      "source": [
        "# Mssv: 19522348\n",
        "# Tên: Lê Đức Tín\n",
        "\n"
      ],
      "metadata": {
        "id": "gC601KJEUAe8"
      }
    },
    {
      "cell_type": "markdown",
      "source": [
        "Github: https://github.com/tinld/MKTG5883.N22.CTTT"
      ],
      "metadata": {
        "id": "D44Az4kWUL0E"
      }
    },
    {
      "cell_type": "markdown",
      "source": [
        "**Lab 6**"
      ],
      "metadata": {
        "id": "HDrUbnhRUDTA"
      }
    },
    {
      "cell_type": "markdown",
      "source": [
        "1. Text Normalization"
      ],
      "metadata": {
        "id": "YL7HaYoMOWzk"
      }
    },
    {
      "cell_type": "code",
      "source": [
        "# import needed libraries\n",
        "import nltk\n",
        "import numpy as np\n",
        "import pandas as pd"
      ],
      "metadata": {
        "id": "_N41SlWBOdrL"
      },
      "execution_count": null,
      "outputs": []
    },
    {
      "cell_type": "code",
      "source": [
        "df=pd.read_csv(\"/content/drive/MyDrive/Colab/elonmusk_tweets.csv\")"
      ],
      "metadata": {
        "id": "0WIf1U-mO2jI"
      },
      "execution_count": null,
      "outputs": []
    },
    {
      "cell_type": "code",
      "source": [
        "df.shape"
      ],
      "metadata": {
        "colab": {
          "base_uri": "https://localhost:8080/"
        },
        "id": "CvJD0osRPvEi",
        "outputId": "b914a125-b20d-4a18-d1ec-a2f2b5cb4177"
      },
      "execution_count": null,
      "outputs": [
        {
          "output_type": "execute_result",
          "data": {
            "text/plain": [
              "(2819, 3)"
            ]
          },
          "metadata": {},
          "execution_count": 7
        }
      ]
    },
    {
      "cell_type": "code",
      "source": [
        "df.info()\n"
      ],
      "metadata": {
        "colab": {
          "base_uri": "https://localhost:8080/"
        },
        "id": "vh3RFwUlPyFq",
        "outputId": "a01544fe-e31f-4b71-88dd-f234d69d5182"
      },
      "execution_count": null,
      "outputs": [
        {
          "output_type": "stream",
          "name": "stdout",
          "text": [
            "<class 'pandas.core.frame.DataFrame'>\n",
            "RangeIndex: 2819 entries, 0 to 2818\n",
            "Data columns (total 3 columns):\n",
            " #   Column      Non-Null Count  Dtype \n",
            "---  ------      --------------  ----- \n",
            " 0   id          2819 non-null   int64 \n",
            " 1   created_at  2819 non-null   object\n",
            " 2   text        2819 non-null   object\n",
            "dtypes: int64(1), object(2)\n",
            "memory usage: 66.2+ KB\n"
          ]
        }
      ]
    },
    {
      "cell_type": "code",
      "source": [
        "df.describe()\n"
      ],
      "metadata": {
        "colab": {
          "base_uri": "https://localhost:8080/",
          "height": 300
        },
        "id": "6IAevfQMP1zZ",
        "outputId": "60f1dd1f-23e7-4da1-b332-8f547de7837e"
      },
      "execution_count": null,
      "outputs": [
        {
          "output_type": "execute_result",
          "data": {
            "text/plain": [
              "                 id\n",
              "count  2.819000e+03\n",
              "mean   5.804848e+17\n",
              "std    2.186404e+17\n",
              "min    1.543473e+10\n",
              "25%    3.506818e+17\n",
              "50%    6.569719e+17\n",
              "75%    7.704732e+17\n",
              "max    8.496369e+17"
            ],
            "text/html": [
              "\n",
              "  <div id=\"df-fbbc3d73-bd8d-4482-ba64-9faea20a151c\">\n",
              "    <div class=\"colab-df-container\">\n",
              "      <div>\n",
              "<style scoped>\n",
              "    .dataframe tbody tr th:only-of-type {\n",
              "        vertical-align: middle;\n",
              "    }\n",
              "\n",
              "    .dataframe tbody tr th {\n",
              "        vertical-align: top;\n",
              "    }\n",
              "\n",
              "    .dataframe thead th {\n",
              "        text-align: right;\n",
              "    }\n",
              "</style>\n",
              "<table border=\"1\" class=\"dataframe\">\n",
              "  <thead>\n",
              "    <tr style=\"text-align: right;\">\n",
              "      <th></th>\n",
              "      <th>id</th>\n",
              "    </tr>\n",
              "  </thead>\n",
              "  <tbody>\n",
              "    <tr>\n",
              "      <th>count</th>\n",
              "      <td>2.819000e+03</td>\n",
              "    </tr>\n",
              "    <tr>\n",
              "      <th>mean</th>\n",
              "      <td>5.804848e+17</td>\n",
              "    </tr>\n",
              "    <tr>\n",
              "      <th>std</th>\n",
              "      <td>2.186404e+17</td>\n",
              "    </tr>\n",
              "    <tr>\n",
              "      <th>min</th>\n",
              "      <td>1.543473e+10</td>\n",
              "    </tr>\n",
              "    <tr>\n",
              "      <th>25%</th>\n",
              "      <td>3.506818e+17</td>\n",
              "    </tr>\n",
              "    <tr>\n",
              "      <th>50%</th>\n",
              "      <td>6.569719e+17</td>\n",
              "    </tr>\n",
              "    <tr>\n",
              "      <th>75%</th>\n",
              "      <td>7.704732e+17</td>\n",
              "    </tr>\n",
              "    <tr>\n",
              "      <th>max</th>\n",
              "      <td>8.496369e+17</td>\n",
              "    </tr>\n",
              "  </tbody>\n",
              "</table>\n",
              "</div>\n",
              "      <button class=\"colab-df-convert\" onclick=\"convertToInteractive('df-fbbc3d73-bd8d-4482-ba64-9faea20a151c')\"\n",
              "              title=\"Convert this dataframe to an interactive table.\"\n",
              "              style=\"display:none;\">\n",
              "        \n",
              "  <svg xmlns=\"http://www.w3.org/2000/svg\" height=\"24px\"viewBox=\"0 0 24 24\"\n",
              "       width=\"24px\">\n",
              "    <path d=\"M0 0h24v24H0V0z\" fill=\"none\"/>\n",
              "    <path d=\"M18.56 5.44l.94 2.06.94-2.06 2.06-.94-2.06-.94-.94-2.06-.94 2.06-2.06.94zm-11 1L8.5 8.5l.94-2.06 2.06-.94-2.06-.94L8.5 2.5l-.94 2.06-2.06.94zm10 10l.94 2.06.94-2.06 2.06-.94-2.06-.94-.94-2.06-.94 2.06-2.06.94z\"/><path d=\"M17.41 7.96l-1.37-1.37c-.4-.4-.92-.59-1.43-.59-.52 0-1.04.2-1.43.59L10.3 9.45l-7.72 7.72c-.78.78-.78 2.05 0 2.83L4 21.41c.39.39.9.59 1.41.59.51 0 1.02-.2 1.41-.59l7.78-7.78 2.81-2.81c.8-.78.8-2.07 0-2.86zM5.41 20L4 18.59l7.72-7.72 1.47 1.35L5.41 20z\"/>\n",
              "  </svg>\n",
              "      </button>\n",
              "      \n",
              "  <style>\n",
              "    .colab-df-container {\n",
              "      display:flex;\n",
              "      flex-wrap:wrap;\n",
              "      gap: 12px;\n",
              "    }\n",
              "\n",
              "    .colab-df-convert {\n",
              "      background-color: #E8F0FE;\n",
              "      border: none;\n",
              "      border-radius: 50%;\n",
              "      cursor: pointer;\n",
              "      display: none;\n",
              "      fill: #1967D2;\n",
              "      height: 32px;\n",
              "      padding: 0 0 0 0;\n",
              "      width: 32px;\n",
              "    }\n",
              "\n",
              "    .colab-df-convert:hover {\n",
              "      background-color: #E2EBFA;\n",
              "      box-shadow: 0px 1px 2px rgba(60, 64, 67, 0.3), 0px 1px 3px 1px rgba(60, 64, 67, 0.15);\n",
              "      fill: #174EA6;\n",
              "    }\n",
              "\n",
              "    [theme=dark] .colab-df-convert {\n",
              "      background-color: #3B4455;\n",
              "      fill: #D2E3FC;\n",
              "    }\n",
              "\n",
              "    [theme=dark] .colab-df-convert:hover {\n",
              "      background-color: #434B5C;\n",
              "      box-shadow: 0px 1px 3px 1px rgba(0, 0, 0, 0.15);\n",
              "      filter: drop-shadow(0px 1px 2px rgba(0, 0, 0, 0.3));\n",
              "      fill: #FFFFFF;\n",
              "    }\n",
              "  </style>\n",
              "\n",
              "      <script>\n",
              "        const buttonEl =\n",
              "          document.querySelector('#df-fbbc3d73-bd8d-4482-ba64-9faea20a151c button.colab-df-convert');\n",
              "        buttonEl.style.display =\n",
              "          google.colab.kernel.accessAllowed ? 'block' : 'none';\n",
              "\n",
              "        async function convertToInteractive(key) {\n",
              "          const element = document.querySelector('#df-fbbc3d73-bd8d-4482-ba64-9faea20a151c');\n",
              "          const dataTable =\n",
              "            await google.colab.kernel.invokeFunction('convertToInteractive',\n",
              "                                                     [key], {});\n",
              "          if (!dataTable) return;\n",
              "\n",
              "          const docLinkHtml = 'Like what you see? Visit the ' +\n",
              "            '<a target=\"_blank\" href=https://colab.research.google.com/notebooks/data_table.ipynb>data table notebook</a>'\n",
              "            + ' to learn more about interactive tables.';\n",
              "          element.innerHTML = '';\n",
              "          dataTable['output_type'] = 'display_data';\n",
              "          await google.colab.output.renderOutput(dataTable, element);\n",
              "          const docLink = document.createElement('div');\n",
              "          docLink.innerHTML = docLinkHtml;\n",
              "          element.appendChild(docLink);\n",
              "        }\n",
              "      </script>\n",
              "    </div>\n",
              "  </div>\n",
              "  "
            ]
          },
          "metadata": {},
          "execution_count": 4
        }
      ]
    },
    {
      "cell_type": "code",
      "source": [
        "import re\n",
        "import nltk\n",
        "from nltk.corpus import stopwords\n",
        "from nltk.tokenize import word_tokenize\n",
        "from nltk.stem import PorterStemmer\n",
        "import string"
      ],
      "metadata": {
        "id": "gpiuHYcdNHyi"
      },
      "execution_count": null,
      "outputs": []
    },
    {
      "cell_type": "code",
      "source": [
        "def normalize(document):\n",
        "    # Remove punctuation\n",
        "    text = \"\".join([ch for ch in document if ch not in string.punctuation])\n",
        "    \n",
        "    # Tokenize text\n",
        "    tokens = word_tokenize(text)\n",
        "    \n",
        "    # Stemming\n",
        "    stemmer = PorterStemmer()\n",
        "    ret = \" \".join([stemmer.stem(word.lower()) for word in tokens])\n",
        "    \n",
        "    return ret\n",
        "\n",
        "original_documents = [x.strip() for x in df['text']]\n",
        "documents = [normalize(d).split() for d in original_documents]\n",
        "documents[0]\n"
      ],
      "metadata": {
        "id": "aAs4gvRvQRB2",
        "colab": {
          "base_uri": "https://localhost:8080/"
        },
        "outputId": "e9321f21-a64c-4625-995f-5db87d336e4e"
      },
      "execution_count": null,
      "outputs": [
        {
          "output_type": "execute_result",
          "data": {
            "text/plain": [
              "['band', 'robot', 'spare', 'human', 'httpstcov7jujqwfcv']"
            ]
          },
          "metadata": {},
          "execution_count": 35
        }
      ]
    },
    {
      "cell_type": "code",
      "source": [
        "import re\n",
        " \n",
        "emoticons_str = r\"\"\"\n",
        "    (?:\n",
        "        [:=;] # Eyes\n",
        "        [oO\\-]? # Nose (optional)\n",
        "        [D\\)\\]\\(\\]/\\\\OpP] # Mouth\n",
        "    )\"\"\"\n",
        " \n",
        "regex_str = [\n",
        "    emoticons_str,\n",
        "    r'<[^>]+>', # HTML tags\n",
        "    r'(?:@[\\w_]+)', # @-mentions\n",
        "    r\"(?:\\#+[\\w_]+[\\w\\'_\\-]*[\\w_]+)\", # hash-tags\n",
        "    r'http[s]?://(?:[a-z]|[0-9]|[$-_@.&amp;+]|[!*\\(\\),]|(?:%[0-9a-f][0-9a-f]))+', # URLs\n",
        " \n",
        "    r'(?:(?:\\d+,?)+(?:\\.?\\d+)?)', # numbers\n",
        "    r\"(?:[a-z][a-z'\\-_]+[a-z])\", # words with - and '\n",
        "    r'(?:[\\w_]+)', # other words\n",
        "    r'(?:\\S)' # anything else\n",
        "]\n",
        "    \n",
        "tokens_re = re.compile(r'('+'|'.join(regex_str)+')', re.VERBOSE | re.IGNORECASE)\n",
        "emoticon_re = re.compile(r'^'+emoticons_str+'$', re.VERBOSE | re.IGNORECASE)\n",
        " \n",
        "def tokenize(s):\n",
        "    return tokens_re.findall(s)\n",
        " \n",
        "def preprocess(s, lowercase=False):\n",
        "    tokens = tokenize(s)\n",
        "    if lowercase:\n",
        "        tokens = [token if emoticon_re.search(token) else token.lower() for token in tokens]\n",
        "    return tokens  \n",
        "original_documents = [x.strip() for x in df['text']]\n",
        "documents = [preprocess(d) for d in original_documents]\n",
        "\n",
        "documents[1]"
      ],
      "metadata": {
        "colab": {
          "base_uri": "https://localhost:8080/"
        },
        "id": "4CUTaXwwbNZY",
        "outputId": "881b8db4-bd3c-479c-b41c-d216225969a9"
      },
      "execution_count": null,
      "outputs": [
        {
          "output_type": "execute_result",
          "data": {
            "text/plain": [
              "['b',\n",
              " '\"',\n",
              " '@ForIn2020',\n",
              " '@waltmossberg',\n",
              " '@mims',\n",
              " '@defcon_5',\n",
              " 'Exactly',\n",
              " '.',\n",
              " 'Tesla',\n",
              " 'is',\n",
              " 'absurdly',\n",
              " 'overvalued',\n",
              " 'if',\n",
              " 'based',\n",
              " 'on',\n",
              " 'the',\n",
              " 'past',\n",
              " ',',\n",
              " 'but',\n",
              " \"that's\",\n",
              " 'irr',\n",
              " '\\\\',\n",
              " 'xe2',\n",
              " '\\\\',\n",
              " 'x80',\n",
              " '\\\\',\n",
              " 'xa6',\n",
              " 'https://t.co/qQcTqkzgMl',\n",
              " '\"']"
            ]
          },
          "metadata": {},
          "execution_count": 37
        }
      ]
    },
    {
      "cell_type": "markdown",
      "source": [
        "2. Implement TF-IDF \n"
      ],
      "metadata": {
        "id": "ZN7AxE3ZQfUv"
      }
    },
    {
      "cell_type": "code",
      "source": [
        "import pandas as pd\n",
        "from collections import Counter\n",
        "from nltk.corpus import stopwords\n",
        "from sklearn.feature_extraction.text import CountVectorizer\n",
        "import math"
      ],
      "metadata": {
        "id": "CyTRH26PVXUD"
      },
      "execution_count": null,
      "outputs": []
    },
    {
      "cell_type": "code",
      "source": [
        "#Flatten all the documents\n",
        "flat_list = [word for doc in documents for word in doc]\n",
        "#TODO: remove stop words from the vocabulary\n",
        "words = [word for word in flat_list if word not in stopwords.words('english')]\n",
        "# TODO: we take the 500 most common words only\n",
        "counts = Counter (words)\n",
        "vocabulary = counts.most_common (500)\n",
        "print([x for x in vocabulary if x[0] == 'Tesla']) \n",
        "vocabulary =  [x[0] for x in vocabulary]\n",
        "assert len (vocabulary) == 500\n",
        "#vocabulary.sort() \n",
        "vocabulary[:5]\n"
      ],
      "metadata": {
        "colab": {
          "base_uri": "https://localhost:8080/"
        },
        "id": "dL_57a3KVWIh",
        "outputId": "66225d6c-dbc7-4bdc-e918-21eb0a85abe5"
      },
      "execution_count": null,
      "outputs": [
        {
          "output_type": "stream",
          "name": "stdout",
          "text": [
            "[('Tesla', 272)]\n"
          ]
        },
        {
          "output_type": "execute_result",
          "data": {
            "text/plain": [
              "['.', \"'\", 'b', '\\\\', '\"']"
            ]
          },
          "metadata": {},
          "execution_count": 41
        }
      ]
    },
    {
      "cell_type": "code",
      "source": [
        "def idf(vocabulary, documents):\n",
        "    idf_values = {}\n",
        "    num_documents = len(documents)\n",
        "    for term in vocabulary:\n",
        "        count = sum(term in document for document in documents)\n",
        "        idf_values[term] = math.log(num_documents / count, 2) \n",
        "    return idf_values\n",
        "\n",
        "idf_values = idf(vocabulary, documents)\n",
        "[idf_values[key] for key in vocabulary[:5]]"
      ],
      "metadata": {
        "colab": {
          "base_uri": "https://localhost:8080/"
        },
        "id": "HOMF6Av9YLmO",
        "outputId": "044e8086-50e4-408a-a131-598c1c694f7a"
      },
      "execution_count": null,
      "outputs": [
        {
          "output_type": "execute_result",
          "data": {
            "text/plain": [
              "[0.959130577668125,\n",
              " 0.7493007890060756,\n",
              " 1.1177820471225408,\n",
              " 3.1034157579523383,\n",
              " 2.384152165519591]"
            ]
          },
          "metadata": {},
          "execution_count": 46
        }
      ]
    },
    {
      "cell_type": "markdown",
      "source": [
        "3. Compare the results with the reference implementation of scikit-learn library."
      ],
      "metadata": {
        "id": "lB6PSiMPjFFX"
      }
    },
    {
      "cell_type": "code",
      "source": [
        "from sklearn.feature_extraction.text import CountVectorizer\n",
        "from nltk.stem.snowball import FrenchStemmer\n",
        "\n",
        "stemmer = FrenchStemmer()\n",
        "analyzer = CountVectorizer().build_analyzer()\n",
        "\n",
        "def stemmed_words(doc):\n",
        "    return (stemmer.stem(w) for w in analyzer(doc))\n",
        "\n",
        "# Convert the list of documents into a single string\n",
        "corpus = [' '.join(doc) for doc in documents]\n",
        "\n",
        "stem_vectorizer = CountVectorizer(analyzer=stemmed_words)\n",
        "print(stem_vectorizer.fit_transform(corpus))\n",
        "print(stem_vectorizer.get_feature_names_out())"
      ],
      "metadata": {
        "colab": {
          "base_uri": "https://localhost:8080/"
        },
        "id": "Q7fK6QXwjHB1",
        "outputId": "f8bdc4bc-51c9-479f-8063-ced51a41849e"
      },
      "execution_count": null,
      "outputs": [
        {
          "output_type": "stream",
          "name": "stdout",
          "text": [
            "  (0, 617)\t1\n",
            "  (0, 6120)\t1\n",
            "  (0, 6614)\t1\n",
            "  (0, 5674)\t1\n",
            "  (0, 6187)\t1\n",
            "  (0, 3209)\t1\n",
            "  (0, 3203)\t1\n",
            "  (0, 1462)\t1\n",
            "  (0, 7107)\t1\n",
            "  (1, 6614)\t1\n",
            "  (1, 3203)\t1\n",
            "  (1, 1462)\t1\n",
            "  (1, 2667)\t1\n",
            "  (1, 7259)\t1\n",
            "  (1, 4285)\t1\n",
            "  (1, 1881)\t1\n",
            "  (1, 2392)\t1\n",
            "  (1, 6575)\t1\n",
            "  (1, 3489)\t1\n",
            "  (1, 403)\t1\n",
            "  (1, 4846)\t1\n",
            "  (1, 3278)\t1\n",
            "  (1, 897)\t1\n",
            "  (1, 4751)\t1\n",
            "  (1, 4936)\t1\n",
            "  :\t:\n",
            "  (2817, 2740)\t1\n",
            "  (2817, 3257)\t1\n",
            "  (2817, 5817)\t1\n",
            "  (2817, 3258)\t1\n",
            "  (2817, 1162)\t1\n",
            "  (2817, 7201)\t1\n",
            "  (2817, 5655)\t1\n",
            "  (2817, 7123)\t1\n",
            "  (2817, 4655)\t1\n",
            "  (2817, 5409)\t1\n",
            "  (2818, 3489)\t1\n",
            "  (2818, 6612)\t1\n",
            "  (2818, 6740)\t1\n",
            "  (2818, 6658)\t1\n",
            "  (2818, 441)\t1\n",
            "  (2818, 7272)\t1\n",
            "  (2818, 733)\t1\n",
            "  (2818, 4192)\t2\n",
            "  (2818, 924)\t1\n",
            "  (2818, 5190)\t1\n",
            "  (2818, 6907)\t1\n",
            "  (2818, 5056)\t1\n",
            "  (2818, 6144)\t1\n",
            "  (2818, 3282)\t1\n",
            "  (2818, 5168)\t1\n",
            "['00' '000' '01' ... 'zyfazr2bb2' 'zyv4h85o' 'zzijxxyy']\n"
          ]
        }
      ]
    },
    {
      "cell_type": "code",
      "source": [
        "from sklearn.feature_extraction.text import CountVectorizer, TfidfVectorizer \n",
        "from sklearn.metrics.pairwise import linear_kernel\n",
        "tfidf = TfidfVectorizer (analyzer='word', ngram_range=(1,1), min_df = 1, stop_words = 'english', max_features=500)\n",
        "\n",
        "features=tfidf.fit(original_documents)\n",
        "corpus_tf_idf = tfidf.transform (original_documents)\n",
        "\n",
        "sum_words = corpus_tf_idf.sum(axis=0)\n",
        "words_freq = [(word, sum_words [0, idx]) for word, idx in tfidf.vocabulary_.items()]\n",
        "print (sorted (words_freq, key = lambda x: x[1], reverse=True)[:5])\n",
        "print('testla', corpus_tf_idf [1, features.vocabulary_['tesla']])\n"
      ],
      "metadata": {
        "colab": {
          "base_uri": "https://localhost:8080/"
        },
        "id": "Z3txiSyvk0e-",
        "outputId": "0f432f2e-8fc2-4736-82ef-7da393f3fe81"
      },
      "execution_count": null,
      "outputs": [
        {
          "output_type": "stream",
          "name": "stdout",
          "text": [
            "[('http', 163.54366542841234), ('https', 151.85039944652075), ('rt', 112.61998731390989), ('tesla', 95.96401470715628), ('xe2', 88.20944486346477)]\n",
            "testla 0.3495243100660956\n"
          ]
        }
      ]
    },
    {
      "cell_type": "markdown",
      "source": [
        "4. Apply TF-IDF for information retrieval \n"
      ],
      "metadata": {
        "id": "Wq_Lcju_lol8"
      }
    },
    {
      "cell_type": "code",
      "source": [
        "from nltk.stem import PorterStemmer\n",
        "def cosine_similarity (v1, v2):\n",
        "\n",
        "  sumxx, sumxy, sumyy = 0, 0, 0\n",
        "  for i in range(len(v1)):\n",
        "    x = v[i]; \n",
        "    y = v2[i]\n",
        "    sumxx += x*x\n",
        "    sumyy += y*y\n",
        "    sumxy += x*y\n",
        "  if sumxy == 0:\n",
        "    result = 0\n",
        "  else:\n",
        "    result = sumxy/math.sqrt(sumxx*sumyy)\n",
        "  return result\n",
        "\n",
        "def search_vec (query, k, vocabulary, stemmer, document_vectors, original_documents):\n",
        "  q= query.split()\n",
        "  q = [stemmer.stem (w) for w in q]\n",
        "  query_vector = vectorize(q, vocabulary, idf)\n",
        "    # TODO: rank the documents by cosine similarity\n",
        "  scores = [[cosine_similarity (query_vector, document_vectors[d]), d] for d in range(len(document_vectors))] \n",
        "  scores.sort(key=lambda x: -x[0])\n",
        "\n",
        "  print('Top-{0} documents'.format(k))\n",
        "  for i in range(k):\n",
        "     print(i, original_documents [scores [i][1]])\n",
        "\n",
        "query= \"tesla nasa\"\n",
        "stemmer = PorterStemmer()\n",
        "document_vectors=words_freq\n",
        "search_vec(query, 5, vocabulary, stemmer, document_vectors, original_documents)\n"
      ],
      "metadata": {
        "colab": {
          "base_uri": "https://localhost:8080/",
          "height": 217
        },
        "id": "dtqtZ9uZlo-c",
        "outputId": "bd15d7fe-b143-424d-916b-e246b2d9ea68"
      },
      "execution_count": null,
      "outputs": [
        {
          "output_type": "error",
          "ename": "NameError",
          "evalue": "ignored",
          "traceback": [
            "\u001b[0;31m---------------------------------------------------------------------------\u001b[0m",
            "\u001b[0;31mNameError\u001b[0m                                 Traceback (most recent call last)",
            "\u001b[0;32m<ipython-input-36-9d6b9465bc56>\u001b[0m in \u001b[0;36m<cell line: 31>\u001b[0;34m()\u001b[0m\n\u001b[1;32m     29\u001b[0m \u001b[0mquery\u001b[0m\u001b[0;34m=\u001b[0m \u001b[0;34m\"tesla nasa\"\u001b[0m\u001b[0;34m\u001b[0m\u001b[0;34m\u001b[0m\u001b[0m\n\u001b[1;32m     30\u001b[0m \u001b[0mstemmer\u001b[0m \u001b[0;34m=\u001b[0m \u001b[0mPorterStemmer\u001b[0m\u001b[0;34m(\u001b[0m\u001b[0;34m)\u001b[0m\u001b[0;34m\u001b[0m\u001b[0;34m\u001b[0m\u001b[0m\n\u001b[0;32m---> 31\u001b[0;31m \u001b[0mdocument_vectors\u001b[0m\u001b[0;34m=\u001b[0m\u001b[0mwords_freq\u001b[0m\u001b[0;34m\u001b[0m\u001b[0;34m\u001b[0m\u001b[0m\n\u001b[0m\u001b[1;32m     32\u001b[0m \u001b[0msearch_vec\u001b[0m\u001b[0;34m(\u001b[0m\u001b[0mquery\u001b[0m\u001b[0;34m,\u001b[0m \u001b[0;36m5\u001b[0m\u001b[0;34m,\u001b[0m \u001b[0mvocabulary\u001b[0m\u001b[0;34m,\u001b[0m \u001b[0mstemmer\u001b[0m\u001b[0;34m,\u001b[0m \u001b[0mdocument_vectors\u001b[0m\u001b[0;34m,\u001b[0m \u001b[0moriginal_documents\u001b[0m\u001b[0;34m)\u001b[0m\u001b[0;34m\u001b[0m\u001b[0;34m\u001b[0m\u001b[0m\n",
            "\u001b[0;31mNameError\u001b[0m: name 'words_freq' is not defined"
          ]
        }
      ]
    },
    {
      "cell_type": "markdown",
      "source": [
        "II. Text Processing "
      ],
      "metadata": {
        "id": "7izliSOroyyH"
      }
    },
    {
      "cell_type": "markdown",
      "source": [
        "1. Preprocessing"
      ],
      "metadata": {
        "id": "dvcVJN4To1pS"
      }
    },
    {
      "cell_type": "code",
      "source": [
        "import nltk\n",
        "nltk.download('punkt') #Run this line one time to get the resource\n",
        "nltk.download('stopwords') #Run this line one time to get the resource\n",
        "nltk.download('wordnet') #Run this line one time to get the resource\n",
        "nltk.download('averaged_perceptron_tagger') #Run this line one time to get the resource\n",
        "import numpy as np\n",
        "import pandas as pd"
      ],
      "metadata": {
        "colab": {
          "base_uri": "https://localhost:8080/"
        },
        "id": "wMfRPWKyo9gZ",
        "outputId": "f267b650-c8eb-4830-8f7a-bd05153694a1"
      },
      "execution_count": null,
      "outputs": [
        {
          "output_type": "stream",
          "name": "stderr",
          "text": [
            "[nltk_data] Downloading package punkt to /root/nltk_data...\n",
            "[nltk_data]   Unzipping tokenizers/punkt.zip.\n",
            "[nltk_data] Downloading package stopwords to /root/nltk_data...\n",
            "[nltk_data]   Unzipping corpora/stopwords.zip.\n",
            "[nltk_data] Downloading package wordnet to /root/nltk_data...\n",
            "[nltk_data] Downloading package averaged_perceptron_tagger to\n",
            "[nltk_data]     /root/nltk_data...\n",
            "[nltk_data]   Unzipping taggers/averaged_perceptron_tagger.zip.\n"
          ]
        }
      ]
    },
    {
      "cell_type": "code",
      "source": [
        "df=pd.read_csv(\"/content/drive/MyDrive/Colab/coldplay.csv\")"
      ],
      "metadata": {
        "id": "aNCH1wqco-r9"
      },
      "execution_count": null,
      "outputs": []
    },
    {
      "cell_type": "code",
      "source": [
        "df"
      ],
      "metadata": {
        "colab": {
          "base_uri": "https://localhost:8080/",
          "height": 424
        },
        "id": "1xBk3lL3ps6c",
        "outputId": "d95b4731-3058-488b-d2f6-af9b687d9f87"
      },
      "execution_count": null,
      "outputs": [
        {
          "output_type": "execute_result",
          "data": {
            "text/plain": [
              "       Artist                           Song  \\\n",
              "0    Coldplay                 Another's Arms   \n",
              "1    Coldplay                Bigger Stronger   \n",
              "2    Coldplay                       Daylight   \n",
              "3    Coldplay                       Everglow   \n",
              "4    Coldplay  Every Teardrop Is A Waterfall   \n",
              "..        ...                            ...   \n",
              "115  Coldplay           Hymn For The Weekend   \n",
              "116  Coldplay                    In My Place   \n",
              "117  Coldplay                            Ink   \n",
              "118  Coldplay              Ladder To The Sun   \n",
              "119  Coldplay                           Lost   \n",
              "\n",
              "                                                  Link  \\\n",
              "0              /c/coldplay/anothers+arms_21079526.html   \n",
              "1            /c/coldplay/bigger+stronger_20032648.html   \n",
              "2                   /c/coldplay/daylight_20032625.html   \n",
              "3                   /c/coldplay/everglow_21104546.html   \n",
              "4    /c/coldplay/every+teardrop+is+a+waterfall_2091...   \n",
              "..                                                 ...   \n",
              "115     /c/coldplay/hymn+for+the+weekend_21104544.html   \n",
              "116              /c/coldplay/in+my+place_20032629.html   \n",
              "117                      /c/coldplay/ink_21082518.html   \n",
              "118        /c/coldplay/ladder+to+the+sun_20232934.html   \n",
              "119                     /c/coldplay/lost_20743853.html   \n",
              "\n",
              "                                                Lyrics  \n",
              "0    Late night watching tv  \\nUsed to be you here ...  \n",
              "1    I want to be bigger stronger drive a faster ca...  \n",
              "2    To my surprise, and my delight  \\nI saw sunris...  \n",
              "3    Oh, they say people come  \\nThey say people go...  \n",
              "4    I turn the music up, I got my records on  \\nI ...  \n",
              "..                                                 ...  \n",
              "115  Oh, angel sent from up above  \\nYou know you m...  \n",
              "116  In my place, in my place  \\nWere lines that I ...  \n",
              "117  Got a tattoo that says \"2gether thru life\"  \\n...  \n",
              "118  From the very start  \\nIt came apart  \\nIt bro...  \n",
              "119  Just because I'm losing  \\nDoesn't mean I'm lo...  \n",
              "\n",
              "[120 rows x 4 columns]"
            ],
            "text/html": [
              "\n",
              "  <div id=\"df-81469232-dd54-4ccb-9644-d164fb0728b3\">\n",
              "    <div class=\"colab-df-container\">\n",
              "      <div>\n",
              "<style scoped>\n",
              "    .dataframe tbody tr th:only-of-type {\n",
              "        vertical-align: middle;\n",
              "    }\n",
              "\n",
              "    .dataframe tbody tr th {\n",
              "        vertical-align: top;\n",
              "    }\n",
              "\n",
              "    .dataframe thead th {\n",
              "        text-align: right;\n",
              "    }\n",
              "</style>\n",
              "<table border=\"1\" class=\"dataframe\">\n",
              "  <thead>\n",
              "    <tr style=\"text-align: right;\">\n",
              "      <th></th>\n",
              "      <th>Artist</th>\n",
              "      <th>Song</th>\n",
              "      <th>Link</th>\n",
              "      <th>Lyrics</th>\n",
              "    </tr>\n",
              "  </thead>\n",
              "  <tbody>\n",
              "    <tr>\n",
              "      <th>0</th>\n",
              "      <td>Coldplay</td>\n",
              "      <td>Another's Arms</td>\n",
              "      <td>/c/coldplay/anothers+arms_21079526.html</td>\n",
              "      <td>Late night watching tv  \\nUsed to be you here ...</td>\n",
              "    </tr>\n",
              "    <tr>\n",
              "      <th>1</th>\n",
              "      <td>Coldplay</td>\n",
              "      <td>Bigger Stronger</td>\n",
              "      <td>/c/coldplay/bigger+stronger_20032648.html</td>\n",
              "      <td>I want to be bigger stronger drive a faster ca...</td>\n",
              "    </tr>\n",
              "    <tr>\n",
              "      <th>2</th>\n",
              "      <td>Coldplay</td>\n",
              "      <td>Daylight</td>\n",
              "      <td>/c/coldplay/daylight_20032625.html</td>\n",
              "      <td>To my surprise, and my delight  \\nI saw sunris...</td>\n",
              "    </tr>\n",
              "    <tr>\n",
              "      <th>3</th>\n",
              "      <td>Coldplay</td>\n",
              "      <td>Everglow</td>\n",
              "      <td>/c/coldplay/everglow_21104546.html</td>\n",
              "      <td>Oh, they say people come  \\nThey say people go...</td>\n",
              "    </tr>\n",
              "    <tr>\n",
              "      <th>4</th>\n",
              "      <td>Coldplay</td>\n",
              "      <td>Every Teardrop Is A Waterfall</td>\n",
              "      <td>/c/coldplay/every+teardrop+is+a+waterfall_2091...</td>\n",
              "      <td>I turn the music up, I got my records on  \\nI ...</td>\n",
              "    </tr>\n",
              "    <tr>\n",
              "      <th>...</th>\n",
              "      <td>...</td>\n",
              "      <td>...</td>\n",
              "      <td>...</td>\n",
              "      <td>...</td>\n",
              "    </tr>\n",
              "    <tr>\n",
              "      <th>115</th>\n",
              "      <td>Coldplay</td>\n",
              "      <td>Hymn For The Weekend</td>\n",
              "      <td>/c/coldplay/hymn+for+the+weekend_21104544.html</td>\n",
              "      <td>Oh, angel sent from up above  \\nYou know you m...</td>\n",
              "    </tr>\n",
              "    <tr>\n",
              "      <th>116</th>\n",
              "      <td>Coldplay</td>\n",
              "      <td>In My Place</td>\n",
              "      <td>/c/coldplay/in+my+place_20032629.html</td>\n",
              "      <td>In my place, in my place  \\nWere lines that I ...</td>\n",
              "    </tr>\n",
              "    <tr>\n",
              "      <th>117</th>\n",
              "      <td>Coldplay</td>\n",
              "      <td>Ink</td>\n",
              "      <td>/c/coldplay/ink_21082518.html</td>\n",
              "      <td>Got a tattoo that says \"2gether thru life\"  \\n...</td>\n",
              "    </tr>\n",
              "    <tr>\n",
              "      <th>118</th>\n",
              "      <td>Coldplay</td>\n",
              "      <td>Ladder To The Sun</td>\n",
              "      <td>/c/coldplay/ladder+to+the+sun_20232934.html</td>\n",
              "      <td>From the very start  \\nIt came apart  \\nIt bro...</td>\n",
              "    </tr>\n",
              "    <tr>\n",
              "      <th>119</th>\n",
              "      <td>Coldplay</td>\n",
              "      <td>Lost</td>\n",
              "      <td>/c/coldplay/lost_20743853.html</td>\n",
              "      <td>Just because I'm losing  \\nDoesn't mean I'm lo...</td>\n",
              "    </tr>\n",
              "  </tbody>\n",
              "</table>\n",
              "<p>120 rows × 4 columns</p>\n",
              "</div>\n",
              "      <button class=\"colab-df-convert\" onclick=\"convertToInteractive('df-81469232-dd54-4ccb-9644-d164fb0728b3')\"\n",
              "              title=\"Convert this dataframe to an interactive table.\"\n",
              "              style=\"display:none;\">\n",
              "        \n",
              "  <svg xmlns=\"http://www.w3.org/2000/svg\" height=\"24px\"viewBox=\"0 0 24 24\"\n",
              "       width=\"24px\">\n",
              "    <path d=\"M0 0h24v24H0V0z\" fill=\"none\"/>\n",
              "    <path d=\"M18.56 5.44l.94 2.06.94-2.06 2.06-.94-2.06-.94-.94-2.06-.94 2.06-2.06.94zm-11 1L8.5 8.5l.94-2.06 2.06-.94-2.06-.94L8.5 2.5l-.94 2.06-2.06.94zm10 10l.94 2.06.94-2.06 2.06-.94-2.06-.94-.94-2.06-.94 2.06-2.06.94z\"/><path d=\"M17.41 7.96l-1.37-1.37c-.4-.4-.92-.59-1.43-.59-.52 0-1.04.2-1.43.59L10.3 9.45l-7.72 7.72c-.78.78-.78 2.05 0 2.83L4 21.41c.39.39.9.59 1.41.59.51 0 1.02-.2 1.41-.59l7.78-7.78 2.81-2.81c.8-.78.8-2.07 0-2.86zM5.41 20L4 18.59l7.72-7.72 1.47 1.35L5.41 20z\"/>\n",
              "  </svg>\n",
              "      </button>\n",
              "      \n",
              "  <style>\n",
              "    .colab-df-container {\n",
              "      display:flex;\n",
              "      flex-wrap:wrap;\n",
              "      gap: 12px;\n",
              "    }\n",
              "\n",
              "    .colab-df-convert {\n",
              "      background-color: #E8F0FE;\n",
              "      border: none;\n",
              "      border-radius: 50%;\n",
              "      cursor: pointer;\n",
              "      display: none;\n",
              "      fill: #1967D2;\n",
              "      height: 32px;\n",
              "      padding: 0 0 0 0;\n",
              "      width: 32px;\n",
              "    }\n",
              "\n",
              "    .colab-df-convert:hover {\n",
              "      background-color: #E2EBFA;\n",
              "      box-shadow: 0px 1px 2px rgba(60, 64, 67, 0.3), 0px 1px 3px 1px rgba(60, 64, 67, 0.15);\n",
              "      fill: #174EA6;\n",
              "    }\n",
              "\n",
              "    [theme=dark] .colab-df-convert {\n",
              "      background-color: #3B4455;\n",
              "      fill: #D2E3FC;\n",
              "    }\n",
              "\n",
              "    [theme=dark] .colab-df-convert:hover {\n",
              "      background-color: #434B5C;\n",
              "      box-shadow: 0px 1px 3px 1px rgba(0, 0, 0, 0.15);\n",
              "      filter: drop-shadow(0px 1px 2px rgba(0, 0, 0, 0.3));\n",
              "      fill: #FFFFFF;\n",
              "    }\n",
              "  </style>\n",
              "\n",
              "      <script>\n",
              "        const buttonEl =\n",
              "          document.querySelector('#df-81469232-dd54-4ccb-9644-d164fb0728b3 button.colab-df-convert');\n",
              "        buttonEl.style.display =\n",
              "          google.colab.kernel.accessAllowed ? 'block' : 'none';\n",
              "\n",
              "        async function convertToInteractive(key) {\n",
              "          const element = document.querySelector('#df-81469232-dd54-4ccb-9644-d164fb0728b3');\n",
              "          const dataTable =\n",
              "            await google.colab.kernel.invokeFunction('convertToInteractive',\n",
              "                                                     [key], {});\n",
              "          if (!dataTable) return;\n",
              "\n",
              "          const docLinkHtml = 'Like what you see? Visit the ' +\n",
              "            '<a target=\"_blank\" href=https://colab.research.google.com/notebooks/data_table.ipynb>data table notebook</a>'\n",
              "            + ' to learn more about interactive tables.';\n",
              "          element.innerHTML = '';\n",
              "          dataTable['output_type'] = 'display_data';\n",
              "          await google.colab.output.renderOutput(dataTable, element);\n",
              "          const docLink = document.createElement('div');\n",
              "          docLink.innerHTML = docLinkHtml;\n",
              "          element.appendChild(docLink);\n",
              "        }\n",
              "      </script>\n",
              "    </div>\n",
              "  </div>\n",
              "  "
            ]
          },
          "metadata": {},
          "execution_count": 4
        }
      ]
    },
    {
      "cell_type": "code",
      "source": [
        "print(df.info())"
      ],
      "metadata": {
        "colab": {
          "base_uri": "https://localhost:8080/"
        },
        "id": "6kDT-XVCp8mH",
        "outputId": "c2a30be9-2bb5-47e2-ce2e-f3bb9db5cf34"
      },
      "execution_count": null,
      "outputs": [
        {
          "output_type": "stream",
          "name": "stdout",
          "text": [
            "<class 'pandas.core.frame.DataFrame'>\n",
            "RangeIndex: 120 entries, 0 to 119\n",
            "Data columns (total 4 columns):\n",
            " #   Column  Non-Null Count  Dtype \n",
            "---  ------  --------------  ----- \n",
            " 0   Artist  120 non-null    object\n",
            " 1   Song    120 non-null    object\n",
            " 2   Link    120 non-null    object\n",
            " 3   Lyrics  120 non-null    object\n",
            "dtypes: object(4)\n",
            "memory usage: 3.9+ KB\n",
            "None\n"
          ]
        }
      ]
    },
    {
      "cell_type": "code",
      "source": [
        "song_title = 'Every Teardrop Is A Waterfall'\n",
        "lyrics = df.loc[df['Song'] == song_title, 'Lyrics'].values[0]\n",
        "print(lyrics)"
      ],
      "metadata": {
        "colab": {
          "base_uri": "https://localhost:8080/"
        },
        "id": "clecBSz_qzgw",
        "outputId": "4fcde08f-1b23-42b3-8052-9bdac878fda6"
      },
      "execution_count": null,
      "outputs": [
        {
          "output_type": "stream",
          "name": "stdout",
          "text": [
            "I turn the music up, I got my records on  \n",
            "I shut the world outside until the lights come on  \n",
            "Maybe the streets alight, maybe the trees are gone  \n",
            "I feel my heart start beating to my favourite song  \n",
            "  \n",
            "And all the kids they dance, all the kids all night  \n",
            "Until Monday morning feels another life  \n",
            "I turn the music up  \n",
            "I'm on a roll this time  \n",
            "And heaven is in sight  \n",
            "  \n",
            "I turn the music up, I got my records on  \n",
            "From underneath the rubble sing a rebel song  \n",
            "Don't want to see another generation drop  \n",
            "I'd rather be a comma than a full stop  \n",
            "  \n",
            "Maybe I'm in the black, maybe I'm on my knees  \n",
            "Maybe I'm in the gap between the two trapezes  \n",
            "But my heart is beating and my pulses start  \n",
            "Cathedrals in my heart  \n",
            "  \n",
            "As we saw oh this light I swear you, emerge blinking into  \n",
            "To tell me it's alright  \n",
            "As we soar walls, every siren is a symphony  \n",
            "And every tear's a waterfall  \n",
            "Is a waterfall  \n",
            "Oh  \n",
            "Is a waterfall  \n",
            "Oh oh oh  \n",
            "Is a is a waterfall  \n",
            "Every tear  \n",
            "Is a waterfall  \n",
            "Oh oh oh  \n",
            "  \n",
            "So you can hurt, hurt me bad  \n",
            "But still I'll raise the flag  \n",
            "  \n",
            "Oh  \n",
            "It was a wa wa wa wa wa-aterfall  \n",
            "A wa wa wa wa wa-aterfall  \n",
            "  \n",
            "Every tear  \n",
            "Every tear  \n",
            "Every teardrop is a waterfall  \n",
            "  \n",
            "Every tear  \n",
            "Every tear  \n",
            "Every teardrop is a waterfall  \n",
            "  \n",
            "Every tear  \n",
            "Every tear  \n",
            "Every teardrop is a waterfall\n",
            "\n",
            "\n"
          ]
        }
      ]
    },
    {
      "cell_type": "code",
      "source": [
        "import nltk\n",
        "import string\n",
        "\n",
        "\n",
        "# Tokenize the lyrics\n",
        "from nltk import word_tokenize\n",
        "words = word_tokenize(lyrics)\n",
        "print(words)\n"
      ],
      "metadata": {
        "colab": {
          "base_uri": "https://localhost:8080/"
        },
        "id": "ycBcYNwwq-T5",
        "outputId": "d543e24d-2800-403b-eb58-d75365e80d32"
      },
      "execution_count": null,
      "outputs": [
        {
          "output_type": "stream",
          "name": "stdout",
          "text": [
            "['I', 'turn', 'the', 'music', 'up', ',', 'I', 'got', 'my', 'records', 'on', 'I', 'shut', 'the', 'world', 'outside', 'until', 'the', 'lights', 'come', 'on', 'Maybe', 'the', 'streets', 'alight', ',', 'maybe', 'the', 'trees', 'are', 'gone', 'I', 'feel', 'my', 'heart', 'start', 'beating', 'to', 'my', 'favourite', 'song', 'And', 'all', 'the', 'kids', 'they', 'dance', ',', 'all', 'the', 'kids', 'all', 'night', 'Until', 'Monday', 'morning', 'feels', 'another', 'life', 'I', 'turn', 'the', 'music', 'up', 'I', \"'m\", 'on', 'a', 'roll', 'this', 'time', 'And', 'heaven', 'is', 'in', 'sight', 'I', 'turn', 'the', 'music', 'up', ',', 'I', 'got', 'my', 'records', 'on', 'From', 'underneath', 'the', 'rubble', 'sing', 'a', 'rebel', 'song', 'Do', \"n't\", 'want', 'to', 'see', 'another', 'generation', 'drop', 'I', \"'d\", 'rather', 'be', 'a', 'comma', 'than', 'a', 'full', 'stop', 'Maybe', 'I', \"'m\", 'in', 'the', 'black', ',', 'maybe', 'I', \"'m\", 'on', 'my', 'knees', 'Maybe', 'I', \"'m\", 'in', 'the', 'gap', 'between', 'the', 'two', 'trapezes', 'But', 'my', 'heart', 'is', 'beating', 'and', 'my', 'pulses', 'start', 'Cathedrals', 'in', 'my', 'heart', 'As', 'we', 'saw', 'oh', 'this', 'light', 'I', 'swear', 'you', ',', 'emerge', 'blinking', 'into', 'To', 'tell', 'me', 'it', \"'s\", 'alright', 'As', 'we', 'soar', 'walls', ',', 'every', 'siren', 'is', 'a', 'symphony', 'And', 'every', 'tear', \"'s\", 'a', 'waterfall', 'Is', 'a', 'waterfall', 'Oh', 'Is', 'a', 'waterfall', 'Oh', 'oh', 'oh', 'Is', 'a', 'is', 'a', 'waterfall', 'Every', 'tear', 'Is', 'a', 'waterfall', 'Oh', 'oh', 'oh', 'So', 'you', 'can', 'hurt', ',', 'hurt', 'me', 'bad', 'But', 'still', 'I', \"'ll\", 'raise', 'the', 'flag', 'Oh', 'It', 'was', 'a', 'wa', 'wa', 'wa', 'wa', 'wa-aterfall', 'A', 'wa', 'wa', 'wa', 'wa', 'wa-aterfall', 'Every', 'tear', 'Every', 'tear', 'Every', 'teardrop', 'is', 'a', 'waterfall', 'Every', 'tear', 'Every', 'tear', 'Every', 'teardrop', 'is', 'a', 'waterfall', 'Every', 'tear', 'Every', 'tear', 'Every', 'teardrop', 'is', 'a', 'waterfall']\n"
          ]
        }
      ]
    },
    {
      "cell_type": "code",
      "source": [
        "tokens_without_punctuation = [token for token in words if token not in string.punctuation]\n",
        "\n",
        "print(tokens_without_punctuation)"
      ],
      "metadata": {
        "colab": {
          "base_uri": "https://localhost:8080/"
        },
        "id": "Mta30M25rBMQ",
        "outputId": "8759fec1-6e60-4f36-9d68-30f8ed7b2e59"
      },
      "execution_count": null,
      "outputs": [
        {
          "output_type": "stream",
          "name": "stdout",
          "text": [
            "['I', 'turn', 'the', 'music', 'up', 'I', 'got', 'my', 'records', 'on', 'I', 'shut', 'the', 'world', 'outside', 'until', 'the', 'lights', 'come', 'on', 'Maybe', 'the', 'streets', 'alight', 'maybe', 'the', 'trees', 'are', 'gone', 'I', 'feel', 'my', 'heart', 'start', 'beating', 'to', 'my', 'favourite', 'song', 'And', 'all', 'the', 'kids', 'they', 'dance', 'all', 'the', 'kids', 'all', 'night', 'Until', 'Monday', 'morning', 'feels', 'another', 'life', 'I', 'turn', 'the', 'music', 'up', 'I', \"'m\", 'on', 'a', 'roll', 'this', 'time', 'And', 'heaven', 'is', 'in', 'sight', 'I', 'turn', 'the', 'music', 'up', 'I', 'got', 'my', 'records', 'on', 'From', 'underneath', 'the', 'rubble', 'sing', 'a', 'rebel', 'song', 'Do', \"n't\", 'want', 'to', 'see', 'another', 'generation', 'drop', 'I', \"'d\", 'rather', 'be', 'a', 'comma', 'than', 'a', 'full', 'stop', 'Maybe', 'I', \"'m\", 'in', 'the', 'black', 'maybe', 'I', \"'m\", 'on', 'my', 'knees', 'Maybe', 'I', \"'m\", 'in', 'the', 'gap', 'between', 'the', 'two', 'trapezes', 'But', 'my', 'heart', 'is', 'beating', 'and', 'my', 'pulses', 'start', 'Cathedrals', 'in', 'my', 'heart', 'As', 'we', 'saw', 'oh', 'this', 'light', 'I', 'swear', 'you', 'emerge', 'blinking', 'into', 'To', 'tell', 'me', 'it', \"'s\", 'alright', 'As', 'we', 'soar', 'walls', 'every', 'siren', 'is', 'a', 'symphony', 'And', 'every', 'tear', \"'s\", 'a', 'waterfall', 'Is', 'a', 'waterfall', 'Oh', 'Is', 'a', 'waterfall', 'Oh', 'oh', 'oh', 'Is', 'a', 'is', 'a', 'waterfall', 'Every', 'tear', 'Is', 'a', 'waterfall', 'Oh', 'oh', 'oh', 'So', 'you', 'can', 'hurt', 'hurt', 'me', 'bad', 'But', 'still', 'I', \"'ll\", 'raise', 'the', 'flag', 'Oh', 'It', 'was', 'a', 'wa', 'wa', 'wa', 'wa', 'wa-aterfall', 'A', 'wa', 'wa', 'wa', 'wa', 'wa-aterfall', 'Every', 'tear', 'Every', 'tear', 'Every', 'teardrop', 'is', 'a', 'waterfall', 'Every', 'tear', 'Every', 'tear', 'Every', 'teardrop', 'is', 'a', 'waterfall', 'Every', 'tear', 'Every', 'tear', 'Every', 'teardrop', 'is', 'a', 'waterfall']\n"
          ]
        }
      ]
    },
    {
      "cell_type": "code",
      "source": [
        "from nltk.tokenize import word_tokenize\n",
        "from nltk.corpus import stopwords\n",
        "from nltk.stem import WordNetLemmatizer\n",
        " \n",
        "word_tokens = word_tokenize(lyrics)\n",
        "# converts the words in word_tokens to lower case and then checks whether\n",
        "#they are present in stop_words or not\n",
        "filtered_sentence = [w for w in words if not w.lower() in stop_words]\n",
        "#with no lower case conversion\n",
        "filtered_sentence = []\n",
        " \n",
        "for w in word_tokens:\n",
        "    if w not in stop_words:\n",
        "        filtered_sentence.append(w)\n",
        " \n",
        "print(filtered_sentence)"
      ],
      "metadata": {
        "colab": {
          "base_uri": "https://localhost:8080/"
        },
        "id": "JWgGp7sgrSjg",
        "outputId": "df8e7ce6-9858-4062-aabb-861e91027851"
      },
      "execution_count": null,
      "outputs": [
        {
          "output_type": "stream",
          "name": "stdout",
          "text": [
            "['I', 'turn', 'music', ',', 'I', 'got', 'records', 'I', 'shut', 'world', 'outside', 'lights', 'come', 'Maybe', 'streets', 'alight', ',', 'maybe', 'trees', 'gone', 'I', 'feel', 'heart', 'start', 'beating', 'favourite', 'song', 'And', 'kids', 'dance', ',', 'kids', 'night', 'Until', 'Monday', 'morning', 'feels', 'another', 'life', 'I', 'turn', 'music', 'I', \"'m\", 'roll', 'time', 'And', 'heaven', 'sight', 'I', 'turn', 'music', ',', 'I', 'got', 'records', 'From', 'underneath', 'rubble', 'sing', 'rebel', 'song', 'Do', \"n't\", 'want', 'see', 'another', 'generation', 'drop', 'I', \"'d\", 'rather', 'comma', 'full', 'stop', 'Maybe', 'I', \"'m\", 'black', ',', 'maybe', 'I', \"'m\", 'knees', 'Maybe', 'I', \"'m\", 'gap', 'two', 'trapezes', 'But', 'heart', 'beating', 'pulses', 'start', 'Cathedrals', 'heart', 'As', 'saw', 'oh', 'light', 'I', 'swear', ',', 'emerge', 'blinking', 'To', 'tell', \"'s\", 'alright', 'As', 'soar', 'walls', ',', 'every', 'siren', 'symphony', 'And', 'every', 'tear', \"'s\", 'waterfall', 'Is', 'waterfall', 'Oh', 'Is', 'waterfall', 'Oh', 'oh', 'oh', 'Is', 'waterfall', 'Every', 'tear', 'Is', 'waterfall', 'Oh', 'oh', 'oh', 'So', 'hurt', ',', 'hurt', 'bad', 'But', 'still', 'I', \"'ll\", 'raise', 'flag', 'Oh', 'It', 'wa', 'wa', 'wa', 'wa', 'wa-aterfall', 'A', 'wa', 'wa', 'wa', 'wa', 'wa-aterfall', 'Every', 'tear', 'Every', 'tear', 'Every', 'teardrop', 'waterfall', 'Every', 'tear', 'Every', 'tear', 'Every', 'teardrop', 'waterfall', 'Every', 'tear', 'Every', 'tear', 'Every', 'teardrop', 'waterfall']\n"
          ]
        }
      ]
    },
    {
      "cell_type": "code",
      "source": [
        "lemmatizer = WordNetLemmatizer()\n",
        "lemmatized_tokens = [lemmatizer.lemmatize(token) for token in filtered_sentence]\n",
        "print(lemmatized_tokens)"
      ],
      "metadata": {
        "colab": {
          "base_uri": "https://localhost:8080/"
        },
        "id": "0jrlULdhrVtZ",
        "outputId": "fd8be6d1-db37-4200-a65e-b54259f7b52a"
      },
      "execution_count": null,
      "outputs": [
        {
          "output_type": "stream",
          "name": "stdout",
          "text": [
            "['I', 'turn', 'music', ',', 'I', 'got', 'record', 'I', 'shut', 'world', 'outside', 'light', 'come', 'Maybe', 'street', 'alight', ',', 'maybe', 'tree', 'gone', 'I', 'feel', 'heart', 'start', 'beating', 'favourite', 'song', 'And', 'kid', 'dance', ',', 'kid', 'night', 'Until', 'Monday', 'morning', 'feel', 'another', 'life', 'I', 'turn', 'music', 'I', \"'m\", 'roll', 'time', 'And', 'heaven', 'sight', 'I', 'turn', 'music', ',', 'I', 'got', 'record', 'From', 'underneath', 'rubble', 'sing', 'rebel', 'song', 'Do', \"n't\", 'want', 'see', 'another', 'generation', 'drop', 'I', \"'d\", 'rather', 'comma', 'full', 'stop', 'Maybe', 'I', \"'m\", 'black', ',', 'maybe', 'I', \"'m\", 'knee', 'Maybe', 'I', \"'m\", 'gap', 'two', 'trapeze', 'But', 'heart', 'beating', 'pulse', 'start', 'Cathedrals', 'heart', 'As', 'saw', 'oh', 'light', 'I', 'swear', ',', 'emerge', 'blinking', 'To', 'tell', \"'s\", 'alright', 'As', 'soar', 'wall', ',', 'every', 'siren', 'symphony', 'And', 'every', 'tear', \"'s\", 'waterfall', 'Is', 'waterfall', 'Oh', 'Is', 'waterfall', 'Oh', 'oh', 'oh', 'Is', 'waterfall', 'Every', 'tear', 'Is', 'waterfall', 'Oh', 'oh', 'oh', 'So', 'hurt', ',', 'hurt', 'bad', 'But', 'still', 'I', \"'ll\", 'raise', 'flag', 'Oh', 'It', 'wa', 'wa', 'wa', 'wa', 'wa-aterfall', 'A', 'wa', 'wa', 'wa', 'wa', 'wa-aterfall', 'Every', 'tear', 'Every', 'tear', 'Every', 'teardrop', 'waterfall', 'Every', 'tear', 'Every', 'tear', 'Every', 'teardrop', 'waterfall', 'Every', 'tear', 'Every', 'tear', 'Every', 'teardrop', 'waterfall']\n"
          ]
        }
      ]
    },
    {
      "cell_type": "code",
      "source": [
        "from nltk import pos_tag\n",
        "pos_tags = nltk.pos_tag(lemmatized_tokens)\n",
        "\n",
        "print(pos_tags)"
      ],
      "metadata": {
        "colab": {
          "base_uri": "https://localhost:8080/"
        },
        "id": "tdXSGwKZrheh",
        "outputId": "53f201d9-ef9d-44bb-9c09-eba73760a335"
      },
      "execution_count": null,
      "outputs": [
        {
          "output_type": "stream",
          "name": "stdout",
          "text": [
            "[('I', 'PRP'), ('turn', 'VBP'), ('music', 'NN'), (',', ','), ('I', 'PRP'), ('got', 'VBD'), ('record', 'NN'), ('I', 'PRP'), ('shut', 'VBP'), ('world', 'NN'), ('outside', 'IN'), ('light', 'JJ'), ('come', 'VBP'), ('Maybe', 'NNP'), ('street', 'NN'), ('alight', 'NN'), (',', ','), ('maybe', 'RB'), ('tree', 'IN'), ('gone', 'VBN'), ('I', 'PRP'), ('feel', 'VBP'), ('heart', 'NN'), ('start', 'NN'), ('beating', 'VBG'), ('favourite', 'NN'), ('song', 'NN'), ('And', 'CC'), ('kid', 'NN'), ('dance', 'NN'), (',', ','), ('kid', 'VB'), ('night', 'NN'), ('Until', 'IN'), ('Monday', 'NNP'), ('morning', 'NN'), ('feel', 'NN'), ('another', 'DT'), ('life', 'NN'), ('I', 'PRP'), ('turn', 'VBP'), ('music', 'NN'), ('I', 'PRP'), (\"'m\", 'VBP'), ('roll', 'JJ'), ('time', 'NN'), ('And', 'CC'), ('heaven', 'JJ'), ('sight', 'NN'), ('I', 'PRP'), ('turn', 'VBP'), ('music', 'NN'), (',', ','), ('I', 'PRP'), ('got', 'VBD'), ('record', 'NN'), ('From', 'IN'), ('underneath', 'JJ'), ('rubble', 'JJ'), ('sing', 'VBG'), ('rebel', 'NN'), ('song', 'NN'), ('Do', 'VBP'), (\"n't\", 'RB'), ('want', 'VB'), ('see', 'VB'), ('another', 'DT'), ('generation', 'NN'), ('drop', 'NN'), ('I', 'PRP'), (\"'d\", 'MD'), ('rather', 'RB'), ('comma', 'VB'), ('full', 'JJ'), ('stop', 'NN'), ('Maybe', 'NNP'), ('I', 'PRP'), (\"'m\", 'VBP'), ('black', 'JJ'), (',', ','), ('maybe', 'RB'), ('I', 'PRP'), (\"'m\", 'VBP'), ('knee', 'JJ'), ('Maybe', 'NNP'), ('I', 'PRP'), (\"'m\", 'VBP'), ('gap', 'JJ'), ('two', 'CD'), ('trapeze', 'NN'), ('But', 'CC'), ('heart', 'NN'), ('beating', 'NN'), ('pulse', 'JJ'), ('start', 'NN'), ('Cathedrals', 'NNP'), ('heart', 'NN'), ('As', 'IN'), ('saw', 'JJ'), ('oh', 'IN'), ('light', 'JJ'), ('I', 'PRP'), ('swear', 'VBP'), (',', ','), ('emerge', 'VBP'), ('blinking', 'VBG'), ('To', 'TO'), ('tell', 'VB'), (\"'s\", 'POS'), ('alright', 'NN'), ('As', 'IN'), ('soar', 'NN'), ('wall', 'NN'), (',', ','), ('every', 'DT'), ('siren', 'NN'), ('symphony', 'NN'), ('And', 'CC'), ('every', 'DT'), ('tear', 'NN'), (\"'s\", 'POS'), ('waterfall', 'NN'), ('Is', 'VBZ'), ('waterfall', 'JJ'), ('Oh', 'NNP'), ('Is', 'NNP'), ('waterfall', 'JJ'), ('Oh', 'NNP'), ('oh', 'MD'), ('oh', 'VB'), ('Is', 'NNP'), ('waterfall', 'JJ'), ('Every', 'NNP'), ('tear', 'NN'), ('Is', 'VBZ'), ('waterfall', 'JJ'), ('Oh', 'NNP'), ('oh', 'MD'), ('oh', 'VB'), ('So', 'NNP'), ('hurt', 'FW'), (',', ','), ('hurt', 'VBN'), ('bad', 'JJ'), ('But', 'CC'), ('still', 'RB'), ('I', 'PRP'), (\"'ll\", 'MD'), ('raise', 'VB'), ('flag', 'NN'), ('Oh', 'IN'), ('It', 'PRP'), ('wa', 'VBZ'), ('wa', 'JJ'), ('wa', 'JJ'), ('wa', 'NN'), ('wa-aterfall', 'NN'), ('A', 'NNP'), ('wa', 'NN'), ('wa', 'NN'), ('wa', 'NN'), ('wa', 'VBD'), ('wa-aterfall', 'JJ'), ('Every', 'NNP'), ('tear', 'NN'), ('Every', 'NNP'), ('tear', 'NN'), ('Every', 'NNP'), ('teardrop', 'NN'), ('waterfall', 'NN'), ('Every', 'NNP'), ('tear', 'NN'), ('Every', 'NNP'), ('tear', 'NN'), ('Every', 'NNP'), ('teardrop', 'NN'), ('waterfall', 'NN'), ('Every', 'NNP'), ('tear', 'NN'), ('Every', 'NNP'), ('tear', 'NN'), ('Every', 'NNP'), ('teardrop', 'NN'), ('waterfall', 'NN')]\n"
          ]
        }
      ]
    },
    {
      "cell_type": "code",
      "source": [
        "from nltk.corpus import wordnet\n",
        "\n",
        "def get_wordnet_pos(pos_tag):\n",
        "    output = np.asarray(pos_tag)\n",
        "    for i in range(len(pos_tag)):\n",
        "        if pos_tag[i][1].startswith('J'):\n",
        "            output[i][1] = wordnet.ADJ\n",
        "        elif pos_tag[i][1].startswith('V'):\n",
        "            output[i][1] = wordnet.VERB\n",
        "        elif pos_tag[i][1].startswith('R'):\n",
        "            output[i][1] = wordnet.ADV\n",
        "        else:\n",
        "            output[i][1] = wordnet.NOUN\n",
        "    return output"
      ],
      "metadata": {
        "id": "4gYpine7sNKN"
      },
      "execution_count": null,
      "outputs": []
    },
    {
      "cell_type": "markdown",
      "source": [
        "2. Bag-of-words"
      ],
      "metadata": {
        "id": "vFb2W_zPbWpz"
      }
    },
    {
      "cell_type": "code",
      "source": [
        "import nltk\n",
        "import numpy as np\n",
        "import pandas as pd\n",
        "from sklearn.feature_extraction.text import CountVectorizer"
      ],
      "metadata": {
        "id": "0Q4X2_nObXK5"
      },
      "execution_count": null,
      "outputs": []
    },
    {
      "cell_type": "code",
      "source": [
        "df=pd.read_csv(\"/content/drive/MyDrive/Colab/coldplay.csv\")"
      ],
      "metadata": {
        "id": "oQ3GVk76beZr"
      },
      "execution_count": null,
      "outputs": []
    },
    {
      "cell_type": "code",
      "source": [
        "print(df.info())"
      ],
      "metadata": {
        "colab": {
          "base_uri": "https://localhost:8080/"
        },
        "id": "cOAhOO3ubk4z",
        "outputId": "76fbfa2c-3a35-4f3f-c970-bf13f0a967a8"
      },
      "execution_count": null,
      "outputs": [
        {
          "output_type": "stream",
          "name": "stdout",
          "text": [
            "<class 'pandas.core.frame.DataFrame'>\n",
            "RangeIndex: 120 entries, 0 to 119\n",
            "Data columns (total 4 columns):\n",
            " #   Column  Non-Null Count  Dtype \n",
            "---  ------  --------------  ----- \n",
            " 0   Artist  120 non-null    object\n",
            " 1   Song    120 non-null    object\n",
            " 2   Link    120 non-null    object\n",
            " 3   Lyrics  120 non-null    object\n",
            "dtypes: object(4)\n",
            "memory usage: 3.9+ KB\n",
            "None\n"
          ]
        }
      ]
    },
    {
      "cell_type": "code",
      "source": [
        "from sklearn.feature_extraction.text import CountVectorizer\n",
        "\n",
        "\n",
        "\n",
        "vectorizer = CountVectorizer()\n",
        "\n",
        "bow = vectorizer.fit_transform(df['Lyrics'])\n",
        "\n",
        "print( bow.shape)"
      ],
      "metadata": {
        "colab": {
          "base_uri": "https://localhost:8080/"
        },
        "id": "HYYwPGedbl_M",
        "outputId": "63d4429b-65a5-4d92-ff57-d0a6c2e6601e"
      },
      "execution_count": null,
      "outputs": [
        {
          "output_type": "stream",
          "name": "stdout",
          "text": [
            "(120, 1776)\n"
          ]
        }
      ]
    },
    {
      "cell_type": "code",
      "source": [
        "import pandas as pd\n",
        "from sklearn.feature_extraction.text import CountVectorizer\n",
        "\n",
        "\n",
        "\n",
        "# Get the feature names (words) from the vectorizer\n",
        "feature_names = vectorizer.get_feature_names_out()\n",
        "\n",
        "# Create a dataframe from the BOW matrix and feature names\n",
        "bow_df = pd.DataFrame(bow.toarray(), columns=feature_names)\n",
        "\n",
        "bow_df\n"
      ],
      "metadata": {
        "colab": {
          "base_uri": "https://localhost:8080/",
          "height": 424
        },
        "id": "T48K7TtmcHl7",
        "outputId": "1c7adbe8-1761-4c13-e00b-5d09f59e07c2"
      },
      "execution_count": null,
      "outputs": [
        {
          "output_type": "execute_result",
          "data": {
            "text/plain": [
              "     10  2000  2gether  76543  aaaaaah  aaaaah  aaaah  about  above  achin  \\\n",
              "0     0     0        0      0        0       0      0      0      0      0   \n",
              "1     0     0        0      0        0       0      0      0      0      0   \n",
              "2     0     0        0      0        0       0      0      0      0      0   \n",
              "3     0     0        0      0        0       0      0      0      0      0   \n",
              "4     0     0        0      0        0       0      0      0      0      0   \n",
              "..   ..   ...      ...    ...      ...     ...    ...    ...    ...    ...   \n",
              "115   0     0        0      0        0       0      0      1      2      0   \n",
              "116   0     0        0      0        0       0      0      0      0      0   \n",
              "117   0     0        1      0        0       0      0      0      0      0   \n",
              "118   0     0        0      0        0       0      0      0      0      0   \n",
              "119   0     0        0      0        0       0      0      0      0      0   \n",
              "\n",
              "     ...  yellow  yes  yesterday  yet  you  young  your  yours  yourself  \\\n",
              "0    ...       0    0          0    0    4      0     4      0         2   \n",
              "1    ...       0    0          0    0    0      0     0      0         0   \n",
              "2    ...       0    0          0    0    0      0     0      0         0   \n",
              "3    ...       0    0          0    0   16      0     0      0         0   \n",
              "4    ...       0    0          0    0    2      0     0      0         0   \n",
              "..   ...     ...  ...        ...  ...  ...    ...   ...    ...       ...   \n",
              "115  ...       0    0          0    0    5      0     3      0         0   \n",
              "116  ...       0    0          0    0    9      0     0      0         0   \n",
              "117  ...       0    0          0    0    7      0     4      0         0   \n",
              "118  ...       0    0          0    0   16      0     1      0         0   \n",
              "119  ...       0    0          0    0    5      0     0      0         0   \n",
              "\n",
              "     yuletide  \n",
              "0           0  \n",
              "1           0  \n",
              "2           0  \n",
              "3           0  \n",
              "4           0  \n",
              "..        ...  \n",
              "115         0  \n",
              "116         0  \n",
              "117         0  \n",
              "118         0  \n",
              "119         0  \n",
              "\n",
              "[120 rows x 1776 columns]"
            ],
            "text/html": [
              "\n",
              "  <div id=\"df-89a20bc6-5cd3-48d6-a8c9-0e106c97c409\">\n",
              "    <div class=\"colab-df-container\">\n",
              "      <div>\n",
              "<style scoped>\n",
              "    .dataframe tbody tr th:only-of-type {\n",
              "        vertical-align: middle;\n",
              "    }\n",
              "\n",
              "    .dataframe tbody tr th {\n",
              "        vertical-align: top;\n",
              "    }\n",
              "\n",
              "    .dataframe thead th {\n",
              "        text-align: right;\n",
              "    }\n",
              "</style>\n",
              "<table border=\"1\" class=\"dataframe\">\n",
              "  <thead>\n",
              "    <tr style=\"text-align: right;\">\n",
              "      <th></th>\n",
              "      <th>10</th>\n",
              "      <th>2000</th>\n",
              "      <th>2gether</th>\n",
              "      <th>76543</th>\n",
              "      <th>aaaaaah</th>\n",
              "      <th>aaaaah</th>\n",
              "      <th>aaaah</th>\n",
              "      <th>about</th>\n",
              "      <th>above</th>\n",
              "      <th>achin</th>\n",
              "      <th>...</th>\n",
              "      <th>yellow</th>\n",
              "      <th>yes</th>\n",
              "      <th>yesterday</th>\n",
              "      <th>yet</th>\n",
              "      <th>you</th>\n",
              "      <th>young</th>\n",
              "      <th>your</th>\n",
              "      <th>yours</th>\n",
              "      <th>yourself</th>\n",
              "      <th>yuletide</th>\n",
              "    </tr>\n",
              "  </thead>\n",
              "  <tbody>\n",
              "    <tr>\n",
              "      <th>0</th>\n",
              "      <td>0</td>\n",
              "      <td>0</td>\n",
              "      <td>0</td>\n",
              "      <td>0</td>\n",
              "      <td>0</td>\n",
              "      <td>0</td>\n",
              "      <td>0</td>\n",
              "      <td>0</td>\n",
              "      <td>0</td>\n",
              "      <td>0</td>\n",
              "      <td>...</td>\n",
              "      <td>0</td>\n",
              "      <td>0</td>\n",
              "      <td>0</td>\n",
              "      <td>0</td>\n",
              "      <td>4</td>\n",
              "      <td>0</td>\n",
              "      <td>4</td>\n",
              "      <td>0</td>\n",
              "      <td>2</td>\n",
              "      <td>0</td>\n",
              "    </tr>\n",
              "    <tr>\n",
              "      <th>1</th>\n",
              "      <td>0</td>\n",
              "      <td>0</td>\n",
              "      <td>0</td>\n",
              "      <td>0</td>\n",
              "      <td>0</td>\n",
              "      <td>0</td>\n",
              "      <td>0</td>\n",
              "      <td>0</td>\n",
              "      <td>0</td>\n",
              "      <td>0</td>\n",
              "      <td>...</td>\n",
              "      <td>0</td>\n",
              "      <td>0</td>\n",
              "      <td>0</td>\n",
              "      <td>0</td>\n",
              "      <td>0</td>\n",
              "      <td>0</td>\n",
              "      <td>0</td>\n",
              "      <td>0</td>\n",
              "      <td>0</td>\n",
              "      <td>0</td>\n",
              "    </tr>\n",
              "    <tr>\n",
              "      <th>2</th>\n",
              "      <td>0</td>\n",
              "      <td>0</td>\n",
              "      <td>0</td>\n",
              "      <td>0</td>\n",
              "      <td>0</td>\n",
              "      <td>0</td>\n",
              "      <td>0</td>\n",
              "      <td>0</td>\n",
              "      <td>0</td>\n",
              "      <td>0</td>\n",
              "      <td>...</td>\n",
              "      <td>0</td>\n",
              "      <td>0</td>\n",
              "      <td>0</td>\n",
              "      <td>0</td>\n",
              "      <td>0</td>\n",
              "      <td>0</td>\n",
              "      <td>0</td>\n",
              "      <td>0</td>\n",
              "      <td>0</td>\n",
              "      <td>0</td>\n",
              "    </tr>\n",
              "    <tr>\n",
              "      <th>3</th>\n",
              "      <td>0</td>\n",
              "      <td>0</td>\n",
              "      <td>0</td>\n",
              "      <td>0</td>\n",
              "      <td>0</td>\n",
              "      <td>0</td>\n",
              "      <td>0</td>\n",
              "      <td>0</td>\n",
              "      <td>0</td>\n",
              "      <td>0</td>\n",
              "      <td>...</td>\n",
              "      <td>0</td>\n",
              "      <td>0</td>\n",
              "      <td>0</td>\n",
              "      <td>0</td>\n",
              "      <td>16</td>\n",
              "      <td>0</td>\n",
              "      <td>0</td>\n",
              "      <td>0</td>\n",
              "      <td>0</td>\n",
              "      <td>0</td>\n",
              "    </tr>\n",
              "    <tr>\n",
              "      <th>4</th>\n",
              "      <td>0</td>\n",
              "      <td>0</td>\n",
              "      <td>0</td>\n",
              "      <td>0</td>\n",
              "      <td>0</td>\n",
              "      <td>0</td>\n",
              "      <td>0</td>\n",
              "      <td>0</td>\n",
              "      <td>0</td>\n",
              "      <td>0</td>\n",
              "      <td>...</td>\n",
              "      <td>0</td>\n",
              "      <td>0</td>\n",
              "      <td>0</td>\n",
              "      <td>0</td>\n",
              "      <td>2</td>\n",
              "      <td>0</td>\n",
              "      <td>0</td>\n",
              "      <td>0</td>\n",
              "      <td>0</td>\n",
              "      <td>0</td>\n",
              "    </tr>\n",
              "    <tr>\n",
              "      <th>...</th>\n",
              "      <td>...</td>\n",
              "      <td>...</td>\n",
              "      <td>...</td>\n",
              "      <td>...</td>\n",
              "      <td>...</td>\n",
              "      <td>...</td>\n",
              "      <td>...</td>\n",
              "      <td>...</td>\n",
              "      <td>...</td>\n",
              "      <td>...</td>\n",
              "      <td>...</td>\n",
              "      <td>...</td>\n",
              "      <td>...</td>\n",
              "      <td>...</td>\n",
              "      <td>...</td>\n",
              "      <td>...</td>\n",
              "      <td>...</td>\n",
              "      <td>...</td>\n",
              "      <td>...</td>\n",
              "      <td>...</td>\n",
              "      <td>...</td>\n",
              "    </tr>\n",
              "    <tr>\n",
              "      <th>115</th>\n",
              "      <td>0</td>\n",
              "      <td>0</td>\n",
              "      <td>0</td>\n",
              "      <td>0</td>\n",
              "      <td>0</td>\n",
              "      <td>0</td>\n",
              "      <td>0</td>\n",
              "      <td>1</td>\n",
              "      <td>2</td>\n",
              "      <td>0</td>\n",
              "      <td>...</td>\n",
              "      <td>0</td>\n",
              "      <td>0</td>\n",
              "      <td>0</td>\n",
              "      <td>0</td>\n",
              "      <td>5</td>\n",
              "      <td>0</td>\n",
              "      <td>3</td>\n",
              "      <td>0</td>\n",
              "      <td>0</td>\n",
              "      <td>0</td>\n",
              "    </tr>\n",
              "    <tr>\n",
              "      <th>116</th>\n",
              "      <td>0</td>\n",
              "      <td>0</td>\n",
              "      <td>0</td>\n",
              "      <td>0</td>\n",
              "      <td>0</td>\n",
              "      <td>0</td>\n",
              "      <td>0</td>\n",
              "      <td>0</td>\n",
              "      <td>0</td>\n",
              "      <td>0</td>\n",
              "      <td>...</td>\n",
              "      <td>0</td>\n",
              "      <td>0</td>\n",
              "      <td>0</td>\n",
              "      <td>0</td>\n",
              "      <td>9</td>\n",
              "      <td>0</td>\n",
              "      <td>0</td>\n",
              "      <td>0</td>\n",
              "      <td>0</td>\n",
              "      <td>0</td>\n",
              "    </tr>\n",
              "    <tr>\n",
              "      <th>117</th>\n",
              "      <td>0</td>\n",
              "      <td>0</td>\n",
              "      <td>1</td>\n",
              "      <td>0</td>\n",
              "      <td>0</td>\n",
              "      <td>0</td>\n",
              "      <td>0</td>\n",
              "      <td>0</td>\n",
              "      <td>0</td>\n",
              "      <td>0</td>\n",
              "      <td>...</td>\n",
              "      <td>0</td>\n",
              "      <td>0</td>\n",
              "      <td>0</td>\n",
              "      <td>0</td>\n",
              "      <td>7</td>\n",
              "      <td>0</td>\n",
              "      <td>4</td>\n",
              "      <td>0</td>\n",
              "      <td>0</td>\n",
              "      <td>0</td>\n",
              "    </tr>\n",
              "    <tr>\n",
              "      <th>118</th>\n",
              "      <td>0</td>\n",
              "      <td>0</td>\n",
              "      <td>0</td>\n",
              "      <td>0</td>\n",
              "      <td>0</td>\n",
              "      <td>0</td>\n",
              "      <td>0</td>\n",
              "      <td>0</td>\n",
              "      <td>0</td>\n",
              "      <td>0</td>\n",
              "      <td>...</td>\n",
              "      <td>0</td>\n",
              "      <td>0</td>\n",
              "      <td>0</td>\n",
              "      <td>0</td>\n",
              "      <td>16</td>\n",
              "      <td>0</td>\n",
              "      <td>1</td>\n",
              "      <td>0</td>\n",
              "      <td>0</td>\n",
              "      <td>0</td>\n",
              "    </tr>\n",
              "    <tr>\n",
              "      <th>119</th>\n",
              "      <td>0</td>\n",
              "      <td>0</td>\n",
              "      <td>0</td>\n",
              "      <td>0</td>\n",
              "      <td>0</td>\n",
              "      <td>0</td>\n",
              "      <td>0</td>\n",
              "      <td>0</td>\n",
              "      <td>0</td>\n",
              "      <td>0</td>\n",
              "      <td>...</td>\n",
              "      <td>0</td>\n",
              "      <td>0</td>\n",
              "      <td>0</td>\n",
              "      <td>0</td>\n",
              "      <td>5</td>\n",
              "      <td>0</td>\n",
              "      <td>0</td>\n",
              "      <td>0</td>\n",
              "      <td>0</td>\n",
              "      <td>0</td>\n",
              "    </tr>\n",
              "  </tbody>\n",
              "</table>\n",
              "<p>120 rows × 1776 columns</p>\n",
              "</div>\n",
              "      <button class=\"colab-df-convert\" onclick=\"convertToInteractive('df-89a20bc6-5cd3-48d6-a8c9-0e106c97c409')\"\n",
              "              title=\"Convert this dataframe to an interactive table.\"\n",
              "              style=\"display:none;\">\n",
              "        \n",
              "  <svg xmlns=\"http://www.w3.org/2000/svg\" height=\"24px\"viewBox=\"0 0 24 24\"\n",
              "       width=\"24px\">\n",
              "    <path d=\"M0 0h24v24H0V0z\" fill=\"none\"/>\n",
              "    <path d=\"M18.56 5.44l.94 2.06.94-2.06 2.06-.94-2.06-.94-.94-2.06-.94 2.06-2.06.94zm-11 1L8.5 8.5l.94-2.06 2.06-.94-2.06-.94L8.5 2.5l-.94 2.06-2.06.94zm10 10l.94 2.06.94-2.06 2.06-.94-2.06-.94-.94-2.06-.94 2.06-2.06.94z\"/><path d=\"M17.41 7.96l-1.37-1.37c-.4-.4-.92-.59-1.43-.59-.52 0-1.04.2-1.43.59L10.3 9.45l-7.72 7.72c-.78.78-.78 2.05 0 2.83L4 21.41c.39.39.9.59 1.41.59.51 0 1.02-.2 1.41-.59l7.78-7.78 2.81-2.81c.8-.78.8-2.07 0-2.86zM5.41 20L4 18.59l7.72-7.72 1.47 1.35L5.41 20z\"/>\n",
              "  </svg>\n",
              "      </button>\n",
              "      \n",
              "  <style>\n",
              "    .colab-df-container {\n",
              "      display:flex;\n",
              "      flex-wrap:wrap;\n",
              "      gap: 12px;\n",
              "    }\n",
              "\n",
              "    .colab-df-convert {\n",
              "      background-color: #E8F0FE;\n",
              "      border: none;\n",
              "      border-radius: 50%;\n",
              "      cursor: pointer;\n",
              "      display: none;\n",
              "      fill: #1967D2;\n",
              "      height: 32px;\n",
              "      padding: 0 0 0 0;\n",
              "      width: 32px;\n",
              "    }\n",
              "\n",
              "    .colab-df-convert:hover {\n",
              "      background-color: #E2EBFA;\n",
              "      box-shadow: 0px 1px 2px rgba(60, 64, 67, 0.3), 0px 1px 3px 1px rgba(60, 64, 67, 0.15);\n",
              "      fill: #174EA6;\n",
              "    }\n",
              "\n",
              "    [theme=dark] .colab-df-convert {\n",
              "      background-color: #3B4455;\n",
              "      fill: #D2E3FC;\n",
              "    }\n",
              "\n",
              "    [theme=dark] .colab-df-convert:hover {\n",
              "      background-color: #434B5C;\n",
              "      box-shadow: 0px 1px 3px 1px rgba(0, 0, 0, 0.15);\n",
              "      filter: drop-shadow(0px 1px 2px rgba(0, 0, 0, 0.3));\n",
              "      fill: #FFFFFF;\n",
              "    }\n",
              "  </style>\n",
              "\n",
              "      <script>\n",
              "        const buttonEl =\n",
              "          document.querySelector('#df-89a20bc6-5cd3-48d6-a8c9-0e106c97c409 button.colab-df-convert');\n",
              "        buttonEl.style.display =\n",
              "          google.colab.kernel.accessAllowed ? 'block' : 'none';\n",
              "\n",
              "        async function convertToInteractive(key) {\n",
              "          const element = document.querySelector('#df-89a20bc6-5cd3-48d6-a8c9-0e106c97c409');\n",
              "          const dataTable =\n",
              "            await google.colab.kernel.invokeFunction('convertToInteractive',\n",
              "                                                     [key], {});\n",
              "          if (!dataTable) return;\n",
              "\n",
              "          const docLinkHtml = 'Like what you see? Visit the ' +\n",
              "            '<a target=\"_blank\" href=https://colab.research.google.com/notebooks/data_table.ipynb>data table notebook</a>'\n",
              "            + ' to learn more about interactive tables.';\n",
              "          element.innerHTML = '';\n",
              "          dataTable['output_type'] = 'display_data';\n",
              "          await google.colab.output.renderOutput(dataTable, element);\n",
              "          const docLink = document.createElement('div');\n",
              "          docLink.innerHTML = docLinkHtml;\n",
              "          element.appendChild(docLink);\n",
              "        }\n",
              "      </script>\n",
              "    </div>\n",
              "  </div>\n",
              "  "
            ]
          },
          "metadata": {},
          "execution_count": 8
        }
      ]
    },
    {
      "cell_type": "code",
      "source": [
        "sum_bow = bow_df.sum()\n",
        "sum_bow.idxmax()"
      ],
      "metadata": {
        "colab": {
          "base_uri": "https://localhost:8080/",
          "height": 35
        },
        "id": "bJAiXbcMchh0",
        "outputId": "5abbc03b-0064-4b33-8af8-9c1015c1b762"
      },
      "execution_count": null,
      "outputs": [
        {
          "output_type": "execute_result",
          "data": {
            "text/plain": [
              "'you'"
            ],
            "application/vnd.google.colaboratory.intrinsic+json": {
              "type": "string"
            }
          },
          "metadata": {},
          "execution_count": 9
        }
      ]
    },
    {
      "cell_type": "code",
      "source": [
        "word_counts = bow_df.sum()\n",
        "top_10_words = word_counts.nlargest(10)\n",
        "\n",
        "# Print the top 10 words\n",
        "print(top_10_words)"
      ],
      "metadata": {
        "colab": {
          "base_uri": "https://localhost:8080/"
        },
        "id": "MLMPgOJgc0hr",
        "outputId": "25c946ff-3a4d-4e0e-fca5-5552d13ba936"
      },
      "execution_count": null,
      "outputs": [
        {
          "output_type": "stream",
          "name": "stdout",
          "text": [
            "you    994\n",
            "the    777\n",
            "and    650\n",
            "to     481\n",
            "it     458\n",
            "oh     334\n",
            "in     318\n",
            "me     314\n",
            "my     288\n",
            "on     285\n",
            "dtype: int64\n"
          ]
        }
      ]
    },
    {
      "cell_type": "markdown",
      "source": [
        "III. Text Similarity"
      ],
      "metadata": {
        "id": "_r433ez-bXd2"
      }
    },
    {
      "cell_type": "markdown",
      "source": [
        "1.. Similarity metrics\n"
      ],
      "metadata": {
        "id": "0uVQSMwabZe-"
      }
    },
    {
      "cell_type": "code",
      "source": [
        "import nltk\n",
        "import numpy as np\n",
        "import pandas as pd"
      ],
      "metadata": {
        "id": "7w91FJfKdBQQ"
      },
      "execution_count": null,
      "outputs": []
    },
    {
      "cell_type": "code",
      "source": [
        "A = \"Outside the classroom, Stallman pursued his studies with even more diligence, rushing off to fulfill his laboratory-assistant duties at Rockefeller University during the week and dodging the Vietnam protesters on his way to Saturday school at Columbia. It was there, while the rest of the Science Honors Program students sat around discussing their college choices, that Stallman finally took a moment to participate in the preclass bull session.\"\n",
        "B = \"To facilitate the process, AI Lab hackers had built a system that displayed both the source and display modes on a split screen. Despite this innovative hack, switching from mode to mode was still a nuisance.\"\n",
        "C = \"With no dorm and no dancing, Stallman's social universe imploded. Like an astronaut experiencing the aftereffects of zero-gravity, Stallman found that his ability to interact with nonhackers, especially female nonhackers, had atrophied significantly. After 16 weeks in the AI Lab, the self confidence he'd been quietly accumulating during his 4 years at Harvard was virtually gone.\""
      ],
      "metadata": {
        "id": "OWjb3YjRdbJs"
      },
      "execution_count": null,
      "outputs": []
    },
    {
      "cell_type": "code",
      "source": [
        "set_A = set(A.lower().split())\n",
        "set_B = set(B.lower().split())\n",
        "set_C = set(C.lower().split())\n",
        "\n",
        "# Compute the intersection and union\n",
        "intersection_AB = len(set_A.intersection(set_B))\n",
        "union_AB = len(set_A.union(set_B))\n",
        "\n",
        "intersection_AC = len(set_A.intersection(set_C))\n",
        "union_AC = len(set_A.union(set_C))\n",
        "\n",
        "intersection_BC = len(set_B.intersection(set_C))\n",
        "union_BC = len(set_B.union(set_C))\n",
        "\n",
        "# Compute and print the Jaccard Similarity\n",
        "jaccard_AB = intersection_AB / union_AB\n",
        "jaccard_AC = intersection_AC / union_AC\n",
        "jaccard_BC = intersection_BC / union_BC\n",
        "\n",
        "print(\"Jaccard Similarity between A and B:\", jaccard_AB)\n",
        "print(\"Jaccard Similarity between A and C:\", jaccard_AC)\n",
        "print(\"Jaccard Similarity between B and C:\", jaccard_BC)"
      ],
      "metadata": {
        "colab": {
          "base_uri": "https://localhost:8080/"
        },
        "id": "QRv4LwDWdbru",
        "outputId": "e13ece81-f3d9-47c9-98c1-61eb8562e97b"
      },
      "execution_count": null,
      "outputs": [
        {
          "output_type": "stream",
          "name": "stdout",
          "text": [
            "Jaccard Similarity between A and B: 0.08641975308641975\n",
            "Jaccard Similarity between A and C: 0.12631578947368421\n",
            "Jaccard Similarity between B and C: 0.0945945945945946\n"
          ]
        }
      ]
    },
    {
      "cell_type": "code",
      "source": [
        "from sklearn.feature_extraction.text import TfidfVectorizer\n",
        "from sklearn.metrics.pairwise import cosine_similarity\n",
        "# Create a TF-IDF vectorizer\n",
        "vectorizer = TfidfVectorizer()\n",
        "\n",
        "# Compute TF-IDF for sentences A, B, and C\n",
        "tfidf = vectorizer.fit_transform([A, B, C])\n",
        "\n",
        "# Calculate cosine similarities\n",
        "cosine_sim_AB = cosine_similarity(tfidf[0], tfidf[1])\n",
        "cosine_sim_BC = cosine_similarity(tfidf[1], tfidf[2])\n",
        "cosine_sim_AC = cosine_similarity(tfidf[0], tfidf[2])\n",
        "\n",
        "# Print cosine similarities\n",
        "print(\"cos(A, B):\", cosine_sim_AB)\n",
        "print(\"cos(B, C):\", cosine_sim_BC)\n",
        "print(\"cos(A, C):\", cosine_sim_AC)"
      ],
      "metadata": {
        "colab": {
          "base_uri": "https://localhost:8080/"
        },
        "id": "d-kD8RGed28v",
        "outputId": "fe37b455-8770-44a4-ade6-3ca15ffba0f5"
      },
      "execution_count": null,
      "outputs": [
        {
          "output_type": "stream",
          "name": "stdout",
          "text": [
            "cos(A, B): [[0.1679327]]\n",
            "cos(B, C): [[0.13618963]]\n",
            "cos(A, C): [[0.2850296]]\n"
          ]
        }
      ]
    },
    {
      "cell_type": "markdown",
      "source": [
        "2. TF-IDF"
      ],
      "metadata": {
        "id": "iSP3fJuaTI6m"
      }
    },
    {
      "cell_type": "code",
      "source": [
        "import nltk\n",
        "import numpy as np\n",
        "import pandas as pd"
      ],
      "metadata": {
        "id": "BXj5laIZTLUm"
      },
      "execution_count": null,
      "outputs": []
    },
    {
      "cell_type": "code",
      "source": [
        "df=pd.read_csv(\"/content/drive/MyDrive/Colab/headlines.csv\")"
      ],
      "metadata": {
        "id": "x5hHRV7qTeIc"
      },
      "execution_count": null,
      "outputs": []
    },
    {
      "cell_type": "code",
      "source": [
        "df.head()"
      ],
      "metadata": {
        "colab": {
          "base_uri": "https://localhost:8080/",
          "height": 206
        },
        "id": "Dq7-nFU8TidE",
        "outputId": "27310a87-528f-4e68-cf24-3da592184144"
      },
      "execution_count": null,
      "outputs": [
        {
          "output_type": "execute_result",
          "data": {
            "text/plain": [
              "   publish_date                                      headline_text\n",
              "0      20170721  algorithms can make decisions on behalf of fed...\n",
              "1      20170721  andrew forrests fmg to appeal pilbara native t...\n",
              "2      20170721                           a rural mural in thallan\n",
              "3      20170721  australia church risks becoming haven for abusers\n",
              "4      20170721  australian company usgfx embroiled in shanghai..."
            ],
            "text/html": [
              "\n",
              "  <div id=\"df-659e97be-041a-4312-b3e8-08af7ac5d789\">\n",
              "    <div class=\"colab-df-container\">\n",
              "      <div>\n",
              "<style scoped>\n",
              "    .dataframe tbody tr th:only-of-type {\n",
              "        vertical-align: middle;\n",
              "    }\n",
              "\n",
              "    .dataframe tbody tr th {\n",
              "        vertical-align: top;\n",
              "    }\n",
              "\n",
              "    .dataframe thead th {\n",
              "        text-align: right;\n",
              "    }\n",
              "</style>\n",
              "<table border=\"1\" class=\"dataframe\">\n",
              "  <thead>\n",
              "    <tr style=\"text-align: right;\">\n",
              "      <th></th>\n",
              "      <th>publish_date</th>\n",
              "      <th>headline_text</th>\n",
              "    </tr>\n",
              "  </thead>\n",
              "  <tbody>\n",
              "    <tr>\n",
              "      <th>0</th>\n",
              "      <td>20170721</td>\n",
              "      <td>algorithms can make decisions on behalf of fed...</td>\n",
              "    </tr>\n",
              "    <tr>\n",
              "      <th>1</th>\n",
              "      <td>20170721</td>\n",
              "      <td>andrew forrests fmg to appeal pilbara native t...</td>\n",
              "    </tr>\n",
              "    <tr>\n",
              "      <th>2</th>\n",
              "      <td>20170721</td>\n",
              "      <td>a rural mural in thallan</td>\n",
              "    </tr>\n",
              "    <tr>\n",
              "      <th>3</th>\n",
              "      <td>20170721</td>\n",
              "      <td>australia church risks becoming haven for abusers</td>\n",
              "    </tr>\n",
              "    <tr>\n",
              "      <th>4</th>\n",
              "      <td>20170721</td>\n",
              "      <td>australian company usgfx embroiled in shanghai...</td>\n",
              "    </tr>\n",
              "  </tbody>\n",
              "</table>\n",
              "</div>\n",
              "      <button class=\"colab-df-convert\" onclick=\"convertToInteractive('df-659e97be-041a-4312-b3e8-08af7ac5d789')\"\n",
              "              title=\"Convert this dataframe to an interactive table.\"\n",
              "              style=\"display:none;\">\n",
              "        \n",
              "  <svg xmlns=\"http://www.w3.org/2000/svg\" height=\"24px\"viewBox=\"0 0 24 24\"\n",
              "       width=\"24px\">\n",
              "    <path d=\"M0 0h24v24H0V0z\" fill=\"none\"/>\n",
              "    <path d=\"M18.56 5.44l.94 2.06.94-2.06 2.06-.94-2.06-.94-.94-2.06-.94 2.06-2.06.94zm-11 1L8.5 8.5l.94-2.06 2.06-.94-2.06-.94L8.5 2.5l-.94 2.06-2.06.94zm10 10l.94 2.06.94-2.06 2.06-.94-2.06-.94-.94-2.06-.94 2.06-2.06.94z\"/><path d=\"M17.41 7.96l-1.37-1.37c-.4-.4-.92-.59-1.43-.59-.52 0-1.04.2-1.43.59L10.3 9.45l-7.72 7.72c-.78.78-.78 2.05 0 2.83L4 21.41c.39.39.9.59 1.41.59.51 0 1.02-.2 1.41-.59l7.78-7.78 2.81-2.81c.8-.78.8-2.07 0-2.86zM5.41 20L4 18.59l7.72-7.72 1.47 1.35L5.41 20z\"/>\n",
              "  </svg>\n",
              "      </button>\n",
              "      \n",
              "  <style>\n",
              "    .colab-df-container {\n",
              "      display:flex;\n",
              "      flex-wrap:wrap;\n",
              "      gap: 12px;\n",
              "    }\n",
              "\n",
              "    .colab-df-convert {\n",
              "      background-color: #E8F0FE;\n",
              "      border: none;\n",
              "      border-radius: 50%;\n",
              "      cursor: pointer;\n",
              "      display: none;\n",
              "      fill: #1967D2;\n",
              "      height: 32px;\n",
              "      padding: 0 0 0 0;\n",
              "      width: 32px;\n",
              "    }\n",
              "\n",
              "    .colab-df-convert:hover {\n",
              "      background-color: #E2EBFA;\n",
              "      box-shadow: 0px 1px 2px rgba(60, 64, 67, 0.3), 0px 1px 3px 1px rgba(60, 64, 67, 0.15);\n",
              "      fill: #174EA6;\n",
              "    }\n",
              "\n",
              "    [theme=dark] .colab-df-convert {\n",
              "      background-color: #3B4455;\n",
              "      fill: #D2E3FC;\n",
              "    }\n",
              "\n",
              "    [theme=dark] .colab-df-convert:hover {\n",
              "      background-color: #434B5C;\n",
              "      box-shadow: 0px 1px 3px 1px rgba(0, 0, 0, 0.15);\n",
              "      filter: drop-shadow(0px 1px 2px rgba(0, 0, 0, 0.3));\n",
              "      fill: #FFFFFF;\n",
              "    }\n",
              "  </style>\n",
              "\n",
              "      <script>\n",
              "        const buttonEl =\n",
              "          document.querySelector('#df-659e97be-041a-4312-b3e8-08af7ac5d789 button.colab-df-convert');\n",
              "        buttonEl.style.display =\n",
              "          google.colab.kernel.accessAllowed ? 'block' : 'none';\n",
              "\n",
              "        async function convertToInteractive(key) {\n",
              "          const element = document.querySelector('#df-659e97be-041a-4312-b3e8-08af7ac5d789');\n",
              "          const dataTable =\n",
              "            await google.colab.kernel.invokeFunction('convertToInteractive',\n",
              "                                                     [key], {});\n",
              "          if (!dataTable) return;\n",
              "\n",
              "          const docLinkHtml = 'Like what you see? Visit the ' +\n",
              "            '<a target=\"_blank\" href=https://colab.research.google.com/notebooks/data_table.ipynb>data table notebook</a>'\n",
              "            + ' to learn more about interactive tables.';\n",
              "          element.innerHTML = '';\n",
              "          dataTable['output_type'] = 'display_data';\n",
              "          await google.colab.output.renderOutput(dataTable, element);\n",
              "          const docLink = document.createElement('div');\n",
              "          docLink.innerHTML = docLinkHtml;\n",
              "          element.appendChild(docLink);\n",
              "        }\n",
              "      </script>\n",
              "    </div>\n",
              "  </div>\n",
              "  "
            ]
          },
          "metadata": {},
          "execution_count": 4
        }
      ]
    },
    {
      "cell_type": "code",
      "source": [
        "print(df.info())"
      ],
      "metadata": {
        "colab": {
          "base_uri": "https://localhost:8080/"
        },
        "id": "FFA-2UsCTkhS",
        "outputId": "700f1221-ee02-40cd-f724-bae17b15ba06"
      },
      "execution_count": null,
      "outputs": [
        {
          "output_type": "stream",
          "name": "stdout",
          "text": [
            "<class 'pandas.core.frame.DataFrame'>\n",
            "RangeIndex: 1999 entries, 0 to 1998\n",
            "Data columns (total 2 columns):\n",
            " #   Column         Non-Null Count  Dtype \n",
            "---  ------         --------------  ----- \n",
            " 0   publish_date   1999 non-null   int64 \n",
            " 1   headline_text  1999 non-null   object\n",
            "dtypes: int64(1), object(1)\n",
            "memory usage: 31.4+ KB\n",
            "None\n"
          ]
        }
      ]
    },
    {
      "cell_type": "code",
      "source": [
        "import nltk\n",
        "nltk.download('stopwords')\n",
        "from nltk.corpus import stopwords\n",
        "from nltk.tokenize import word_tokenize\n",
        "from nltk.stem import PorterStemmer\n",
        "from sklearn.feature_extraction.text import TfidfVectorizer\n",
        "from sklearn.metrics.pairwise import cosine_similarity\n",
        "import string\n",
        "df['tokens'] = df['headline_text'].apply(lambda x: word_tokenize(x))\n",
        "\n",
        "# Remove punctuation\n",
        "df['tokens'] = df['tokens'].apply(lambda tokens: [token for token in tokens if token not in string.punctuation])\n",
        "\n",
        "# Remove stop words\n",
        "stop_words = set(stopwords.words('english'))\n",
        "df['tokens'] = df['tokens'].apply(lambda tokens: [token for token in tokens if token.lower() not in stop_words])\n",
        "\n",
        "# Stemming\n",
        "stemmer = PorterStemmer()\n",
        "df['tokens'] = df['tokens'].apply(lambda tokens: [stemmer.stem(token) for token in tokens])\n",
        "\n",
        "# Join tokens back into a single string\n",
        "df['Stem'] = df['tokens'].apply(lambda tokens: ' '.join(tokens))"
      ],
      "metadata": {
        "id": "FdFY6X1fUFAA",
        "colab": {
          "base_uri": "https://localhost:8080/"
        },
        "outputId": "f8726e5c-d6fc-43bc-b05e-49defb220d5a"
      },
      "execution_count": null,
      "outputs": [
        {
          "output_type": "stream",
          "name": "stderr",
          "text": [
            "[nltk_data] Downloading package stopwords to /root/nltk_data...\n",
            "[nltk_data]   Unzipping corpora/stopwords.zip.\n"
          ]
        }
      ]
    },
    {
      "cell_type": "code",
      "source": [
        "df['tokens']"
      ],
      "metadata": {
        "colab": {
          "base_uri": "https://localhost:8080/"
        },
        "id": "-JZYxcFzU1kQ",
        "outputId": "3a8016d7-d59f-4377-9830-8d97f805c59f"
      },
      "execution_count": null,
      "outputs": [
        {
          "output_type": "execute_result",
          "data": {
            "text/plain": [
              "0         [algorithm, make, decis, behalf, feder, minist]\n",
              "1       [andrew, forrest, fmg, appeal, pilbara, nativ,...\n",
              "2                                 [rural, mural, thallan]\n",
              "3                  [australia, church, risk, becom, abus]\n",
              "4       [australian, compani, usgfx, embroil, shanghai...\n",
              "                              ...                        \n",
              "1994    [constitut, avenu, win, top, prize, act, archi...\n",
              "1995                         [dark, mofo, number, crunch]\n",
              "1996    [david, petraeu, say, australia, must, firm, s...\n",
              "1997    [driverless, car, australia, face, challeng, r...\n",
              "1998               [drug, compani, criticis, price, hike]\n",
              "Name: tokens, Length: 1999, dtype: object"
            ]
          },
          "metadata": {},
          "execution_count": 15
        }
      ]
    },
    {
      "cell_type": "code",
      "source": [
        "from sklearn.feature_extraction.text import CountVectorizer\n",
        "\n",
        "vectorizer = CountVectorizer(analyzer=lambda x: x)\n",
        "\n",
        "vectorizer.fit(df['tokens'])\n",
        "bow = vectorizer.transform(df['tokens'])\n",
        "\n",
        "print(bow.shape)"
      ],
      "metadata": {
        "colab": {
          "base_uri": "https://localhost:8080/"
        },
        "id": "wr29DS9VWTHl",
        "outputId": "a3cd47db-227b-41d7-c250-da63823d2ca3"
      },
      "execution_count": null,
      "outputs": [
        {
          "output_type": "stream",
          "name": "stdout",
          "text": [
            "(1999, 4271)\n"
          ]
        }
      ]
    },
    {
      "cell_type": "code",
      "source": [
        "from sklearn.feature_extraction.text import TfidfVectorizer\n",
        "\n",
        "\n",
        "vectorizer = TfidfVectorizer(analyzer=lambda x: x)\n",
        "\n",
        "vectorizer.fit(df['Stem'])\n",
        "\n",
        "\n",
        "tfidf = vectorizer.transform(df['Stem'])\n",
        "\n",
        "tfidf_array = tfidf.toarray()\n",
        "\n",
        "all_zeros = (tfidf_array == 0).all()\n",
        "\n",
        "if not all_zeros:\n",
        "    print(tfidf_array[0])"
      ],
      "metadata": {
        "colab": {
          "base_uri": "https://localhost:8080/"
        },
        "id": "Lt3oEkAAYGGX",
        "outputId": "677877db-97de-4618-af84-e42665007e7b"
      },
      "execution_count": null,
      "outputs": [
        {
          "output_type": "stream",
          "name": "stdout",
          "text": [
            "[0.3943827  0.         0.         0.         0.         0.\n",
            " 0.         0.         0.         0.         0.         0.\n",
            " 0.24444796 0.12987231 0.10011226 0.21470886 0.40884261 0.29023513\n",
            " 0.12972179 0.23484967 0.34095845 0.         0.15309538 0.18376484\n",
            " 0.32930567 0.08609939 0.08749485 0.         0.         0.16659404\n",
            " 0.18357889 0.17297874 0.         0.         0.         0.\n",
            " 0.         0.        ]\n"
          ]
        }
      ]
    },
    {
      "cell_type": "code",
      "source": [
        "import numpy as np\n",
        "from sklearn.feature_extraction.text import TfidfVectorizer\n",
        "\n",
        "\n",
        "vectorizer = TfidfVectorizer(analyzer=lambda x: x)\n",
        "\n",
        "\n",
        "vectorizer.fit(df['tokens'])\n",
        "\n",
        "\n",
        "tfidf = vectorizer.transform(df['tokens'])\n",
        "\n",
        "\n",
        "tfidf_array = tfidf.toarray()\n",
        "\n",
        "\n",
        "average_tfidf = np.mean(tfidf_array, axis=0)\n",
        "\n",
        "\n",
        "highest_indices = np.argsort(-average_tfidf)[:10]  # Use negative sign for descending order\n",
        "lowest_indices = np.argsort(average_tfidf)[:10]\n",
        "\n",
        "feature_names = vectorizer.get_feature_names_out()\n",
        "\n",
        "\n",
        "print(\"Words with the highest average TF-IDF:\")\n",
        "for index in highest_indices:\n",
        "    print(feature_names[index], average_tfidf[index])\n",
        "\n",
        "\n",
        "print(\"\\nWords with the lowest average TF-IDF:\")\n",
        "for index in lowest_indices:\n",
        "    print(feature_names[index], average_tfidf[index])"
      ],
      "metadata": {
        "id": "PuNuWy_eYmTw",
        "colab": {
          "base_uri": "https://localhost:8080/"
        },
        "outputId": "c8d05f61-52d9-43b0-b876-97de80d1510e"
      },
      "execution_count": null,
      "outputs": [
        {
          "output_type": "stream",
          "name": "stdout",
          "text": [
            "Words with the highest average TF-IDF:\n",
            "australia 0.009983014998891405\n",
            "australian 0.00969733014866161\n",
            "new 0.008703107457097207\n",
            "polic 0.0077360592047481126\n",
            "say 0.007540459757782178\n",
            "trump 0.006840891998202155\n",
            "man 0.006548453421337382\n",
            "wa 0.006274671593818188\n",
            "charg 0.006028832916829903\n",
            "sydney 0.0056424159732095394\n",
            "\n",
            "Words with the lowest average TF-IDF:\n",
            "nmfc 0.0001527054029533165\n",
            "coll 0.0001527054029533165\n",
            "melb 0.0001527054029533165\n",
            "haw 0.0001527054029533165\n",
            "adel 0.0001527054029533165\n",
            "syd 0.0001527054029533165\n",
            "gcfc 0.0001527054029533165\n",
            "gw 0.0001527054029533165\n",
            "geel 0.0001527054029533165\n",
            "fabio 0.0001613676677950104\n"
          ]
        }
      ]
    },
    {
      "cell_type": "code",
      "source": [
        "from sklearn.feature_extraction.text import TfidfVectorizer\n",
        "\n",
        "\n",
        "\n",
        "documents = df['tokens'].apply(lambda x: ' '.join(x))\n",
        "\n",
        "\n",
        "vectorizer = TfidfVectorizer()\n",
        "\n",
        "tfidf = vectorizer.fit_transform(documents)"
      ],
      "metadata": {
        "id": "cd-08TYaaRYa"
      },
      "execution_count": null,
      "outputs": []
    },
    {
      "cell_type": "code",
      "source": [
        "import numpy as np\n",
        "\n",
        "# Assuming you have computed the TF-IDF representation and stored it in 'tfidf'\n",
        "\n",
        "# Compute the average TF-IDF values for each feature (word)\n",
        "average_tfidf = np.mean(tfidf.toarray(), axis=0)\n",
        "\n",
        "# Get the indices of the words with the highest and lowest average TF-IDF values\n",
        "highest_indices = np.argsort(-average_tfidf)[:10]  # Use negative sign for descending order\n",
        "lowest_indices = np.argsort(average_tfidf)[:10]\n",
        "\n",
        "# Get the feature names (words) from the vectorizer\n",
        "feature_names = vectorizer.get_feature_names_out()\n",
        "\n",
        "# Print the words with the highest average TF-IDF values\n",
        "print(\"Words with the highest average TF-IDF:\")\n",
        "for index in highest_indices:\n",
        "    print(feature_names[index], average_tfidf[index])\n",
        "\n",
        "# Print the words with the lowest average TF-IDF values\n",
        "print(\"\\nWords with the lowest average TF-IDF:\")\n",
        "for index in lowest_indices:\n",
        "    print(feature_names[index], average_tfidf[index])\n"
      ],
      "metadata": {
        "colab": {
          "base_uri": "https://localhost:8080/"
        },
        "id": "6zJTX9gV2aY8",
        "outputId": "89597edb-1392-421d-e7e7-5ac47905e92c"
      },
      "execution_count": null,
      "outputs": [
        {
          "output_type": "stream",
          "name": "stdout",
          "text": [
            "Words with the highest average TF-IDF:\n",
            "australia 0.009983014998891405\n",
            "australian 0.009729510942149733\n",
            "new 0.008703107457097207\n",
            "polic 0.007736059204748111\n",
            "say 0.007555848605072935\n",
            "trump 0.006840891998202155\n",
            "man 0.006548453421337382\n",
            "wa 0.006274671593818188\n",
            "charg 0.006028832916829904\n",
            "sydney 0.005659788840016151\n",
            "\n",
            "Words with the lowest average TF-IDF:\n",
            "adel 0.0001527054029533165\n",
            "melb 0.0001527054029533165\n",
            "haw 0.0001527054029533165\n",
            "coll 0.0001527054029533165\n",
            "gw 0.0001527054029533165\n",
            "syd 0.0001527054029533165\n",
            "gcfc 0.0001527054029533165\n",
            "nmfc 0.0001527054029533165\n",
            "geel 0.0001527054029533165\n",
            "fabio 0.00016136766779501044\n"
          ]
        }
      ]
    },
    {
      "cell_type": "markdown",
      "source": [
        "3. Plagiarism checker \n"
      ],
      "metadata": {
        "id": "btRM-q6623i5"
      }
    },
    {
      "cell_type": "code",
      "source": [
        "file = open('/content/drive/MyDrive/Colab/A1.txt', 'r') \n",
        "A1 = file.readlines()[0]\n",
        "\n",
        "file = open('/content/drive/MyDrive/Colab/Asource.txt', 'r') \n",
        "A0 = file.readlines()[0]\n",
        "\n",
        "file = open('/content/drive/MyDrive/Colab/B1.txt', 'r') \n",
        "B1 = file.readlines()[0]\n",
        "\n",
        "file = open('/content/drive/MyDrive/Colab/Bsource.txt', 'r') \n",
        "B0 = file.readlines()[0]\n",
        "\n",
        "file = open('/content/drive/MyDrive/Colab/C1.txt', 'r') \n",
        "C1 = file.readlines()[0]\n",
        "\n",
        "file = open('/content/drive/MyDrive/Colab/Csource.txt', 'r') \n",
        "C0 = file.readlines()[0]\n",
        "\n",
        "file = open('/content/drive/MyDrive/Colab/D1.txt', 'r') \n",
        "D1 = file.readlines()[0]\n",
        "\n",
        "file = open('/content/drive/MyDrive/Colab/D2.txt', 'r') \n",
        "D2 = file.readlines()[0]\n",
        "\n",
        "file = open('/content/drive/MyDrive/Colab/Dsource.txt', 'r') \n",
        "D0 = file.readlines()[0]"
      ],
      "metadata": {
        "id": "8WrKOYrP239F"
      },
      "execution_count": null,
      "outputs": []
    },
    {
      "cell_type": "code",
      "source": [
        "C0"
      ],
      "metadata": {
        "colab": {
          "base_uri": "https://localhost:8080/",
          "height": 87
        },
        "id": "6EjZUt1x4x4H",
        "outputId": "760aa3b8-b316-46a4-f1db-fe36f2ed7247"
      },
      "execution_count": null,
      "outputs": [
        {
          "output_type": "execute_result",
          "data": {
            "text/plain": [
              "'Descartes has been heralded as the first modern philosopher. He is famous for having made an important connection between geometry and algebra, which allowed for the solving of geometrical problems by way of algebraic equations. He is also famous for having promoted a new conception of matter, which allowed for the accounting of physical phenomena by way of mechanical explanations. However, he is most famous for having written a relatively short work, Meditationes de Prima Philosophia (Meditations On First Philosophy), published in 1641, in which he provides a philosophical groundwork for the possibility of the sciences. (Smith, 2007).\\n'"
            ],
            "application/vnd.google.colaboratory.intrinsic+json": {
              "type": "string"
            }
          },
          "metadata": {},
          "execution_count": 32
        }
      ]
    },
    {
      "cell_type": "code",
      "source": [
        "alldata = [A0, A1, B0, B1, C0, C1, D0, D1, D2]"
      ],
      "metadata": {
        "id": "RG8gXJIa4z7L"
      },
      "execution_count": null,
      "outputs": []
    },
    {
      "cell_type": "code",
      "source": [
        "#TODO: Compute tf-idf for all documents\n",
        "from sklearn.feature_extraction.text import TfidfVectorizer\n",
        "\n",
        "tfvect = TfidfVectorizer()\n",
        "tfvect.fit(alldata)\n",
        "\n",
        "\n",
        "tfidf = tfvect.fit_transform(alldata).toarray()\n",
        "# Compute the TF-IDF representation for each document\n",
        "TFIDFA = tfvect.transform([A0, A1]).toarray()\n",
        "TFIDFB = tfvect.transform([B0, B1]).toarray()\n",
        "TFIDFC = tfvect.transform([C0, C1]).toarray()\n",
        "TFIDFD = tfvect.transform([D0, D1, D2]).toarray()\n",
        "\n"
      ],
      "metadata": {
        "id": "ykTo7xJt41E4"
      },
      "execution_count": null,
      "outputs": []
    },
    {
      "cell_type": "code",
      "source": [
        "from sklearn.metrics.pairwise import cosine_similarity\n",
        "\n",
        "# Compute pairwise similarity for document A\n",
        "similarityAA = cosine_similarity(TFIDFA, TFIDFA)\n",
        "\n",
        "# Compute pairwise similarity for document B\n",
        "similarityBB = cosine_similarity(TFIDFB, TFIDFB)\n",
        "\n",
        "# Compute pairwise similarity for document C\n",
        "similarityCC = cosine_similarity(TFIDFC, TFIDFC)\n",
        "\n",
        "# Compute pairwise similarity for document D\n",
        "similarityDD = cosine_similarity(TFIDFD, TFIDFD)\n",
        "\n",
        "# Compute pairwise similarity for all documents\n",
        "similarityAll = cosine_similarity(tfidf, tfidf)"
      ],
      "metadata": {
        "id": "uc6l31E_6RMj"
      },
      "execution_count": null,
      "outputs": []
    },
    {
      "cell_type": "code",
      "source": [
        "similarityAA"
      ],
      "metadata": {
        "colab": {
          "base_uri": "https://localhost:8080/"
        },
        "id": "KRtcv1R66xeT",
        "outputId": "0ea96a58-e93b-4cdb-8118-663a890dbf60"
      },
      "execution_count": null,
      "outputs": [
        {
          "output_type": "execute_result",
          "data": {
            "text/plain": [
              "array([[1.        , 0.81898863],\n",
              "       [0.81898863, 1.        ]])"
            ]
          },
          "metadata": {},
          "execution_count": 37
        }
      ]
    },
    {
      "cell_type": "code",
      "source": [
        "similarityBB"
      ],
      "metadata": {
        "colab": {
          "base_uri": "https://localhost:8080/"
        },
        "id": "I06rvNLF6yz7",
        "outputId": "0b8a0f12-7b26-4272-e3f9-1a9449ae842f"
      },
      "execution_count": null,
      "outputs": [
        {
          "output_type": "execute_result",
          "data": {
            "text/plain": [
              "array([[1.        , 0.63747903],\n",
              "       [0.63747903, 1.        ]])"
            ]
          },
          "metadata": {},
          "execution_count": 38
        }
      ]
    },
    {
      "cell_type": "code",
      "source": [
        "similarityCC"
      ],
      "metadata": {
        "colab": {
          "base_uri": "https://localhost:8080/"
        },
        "id": "P7fdbjxm6z1_",
        "outputId": "186c38f3-32c8-41cc-dcc3-1f3431f5a0d5"
      },
      "execution_count": null,
      "outputs": [
        {
          "output_type": "execute_result",
          "data": {
            "text/plain": [
              "array([[1.        , 0.85723864],\n",
              "       [0.85723864, 1.        ]])"
            ]
          },
          "metadata": {},
          "execution_count": 39
        }
      ]
    },
    {
      "cell_type": "code",
      "source": [
        "similarityDD"
      ],
      "metadata": {
        "colab": {
          "base_uri": "https://localhost:8080/"
        },
        "id": "DXSaTh7N61n-",
        "outputId": "c82bb078-b861-41d1-f569-a41f2fedebf7"
      },
      "execution_count": null,
      "outputs": [
        {
          "output_type": "execute_result",
          "data": {
            "text/plain": [
              "array([[1.        , 0.92754461, 0.45775827],\n",
              "       [0.92754461, 1.        , 0.47179638],\n",
              "       [0.45775827, 0.47179638, 1.        ]])"
            ]
          },
          "metadata": {},
          "execution_count": 40
        }
      ]
    },
    {
      "cell_type": "code",
      "source": [
        "similarityAll"
      ],
      "metadata": {
        "colab": {
          "base_uri": "https://localhost:8080/"
        },
        "id": "G3CkBDNK62pa",
        "outputId": "3dbeeae1-8af5-4bd2-9327-de774e6afeb3"
      },
      "execution_count": null,
      "outputs": [
        {
          "output_type": "execute_result",
          "data": {
            "text/plain": [
              "array([[1.        , 0.81898863, 0.10748497, 0.12736224, 0.24491604,\n",
              "        0.29501242, 0.2530779 , 0.2146434 , 0.18585492],\n",
              "       [0.81898863, 1.        , 0.10940658, 0.12644471, 0.21239125,\n",
              "        0.25583485, 0.214717  , 0.17937458, 0.16807197],\n",
              "       [0.10748497, 0.10940658, 1.        , 0.63747903, 0.08804551,\n",
              "        0.09372089, 0.08509508, 0.07946359, 0.10627147],\n",
              "       [0.12736224, 0.12644471, 0.63747903, 1.        , 0.08730757,\n",
              "        0.08893992, 0.12527568, 0.1207279 , 0.12910021],\n",
              "       [0.24491604, 0.21239125, 0.08804551, 0.08730757, 1.        ,\n",
              "        0.85723864, 0.20151171, 0.16200275, 0.14447728],\n",
              "       [0.29501242, 0.25583485, 0.09372089, 0.08893992, 0.85723864,\n",
              "        1.        , 0.22326634, 0.1806631 , 0.1558733 ],\n",
              "       [0.2530779 , 0.214717  , 0.08509508, 0.12527568, 0.20151171,\n",
              "        0.22326634, 1.        , 0.92754461, 0.45775827],\n",
              "       [0.2146434 , 0.17937458, 0.07946359, 0.1207279 , 0.16200275,\n",
              "        0.1806631 , 0.92754461, 1.        , 0.47179638],\n",
              "       [0.18585492, 0.16807197, 0.10627147, 0.12910021, 0.14447728,\n",
              "        0.1558733 , 0.45775827, 0.47179638, 1.        ]])"
            ]
          },
          "metadata": {},
          "execution_count": 41
        }
      ]
    },
    {
      "cell_type": "code",
      "source": [
        "import matplotlib.pyplot as plt\n",
        "pred_plagiarism = similarityAll>0.2\n",
        "# Function to plot the pairwise similarity matrix\n",
        "def plot_similarity(similarity_matrix):\n",
        "    plt.figure(figsize=(8, 6))\n",
        "    plt.imshow(similarity_matrix, cmap='hot', interpolation='nearest')\n",
        "    plt.colorbar()\n",
        "    plt.title('Pairwise Similarity')\n",
        "    plt.xlabel('Document Index')\n",
        "    plt.ylabel('Document Index')\n",
        "    plt.show()\n",
        "\n",
        "\n",
        "\n",
        "# Plot the pairwise similarity for all documents\n",
        "plot_similarity(similarityAll)\n"
      ],
      "metadata": {
        "colab": {
          "base_uri": "https://localhost:8080/",
          "height": 564
        },
        "id": "ccXy3ViW6_GQ",
        "outputId": "1163604e-e971-4527-aab3-ce4a2e7411ba"
      },
      "execution_count": null,
      "outputs": [
        {
          "output_type": "display_data",
          "data": {
            "text/plain": [
              "<Figure size 800x600 with 2 Axes>"
            ],
            "image/png": "[encoded data removed]"
          },
          "metadata": {}
        }
      ]
    },
    {
      "cell_type": "code",
      "source": [
        "import numpy as np\n",
        "\n",
        "# Initialize the true labels matrix\n",
        "real_plagiarism = np.zeros((9, 9))\n",
        "\n",
        "# Set the true labels for plagiarized pairs\n",
        "real_plagiarism[0:2, 0:2] = 1  # A0 and A1 are plagiarized\n",
        "real_plagiarism[2:4, 2:4] = 1  # B0 and B1 are plagiarized\n",
        "real_plagiarism[4:6, 4:6] = 1  # C0 and C1 are plagiarized\n",
        "real_plagiarism[6:9, 6:9] = 1  # D0, D1, and D2 are plagiarized\n",
        "\n",
        "# Print the true labels matrix\n",
        "print(real_plagiarism)\n"
      ],
      "metadata": {
        "colab": {
          "base_uri": "https://localhost:8080/"
        },
        "id": "hW3s0xqe7AEA",
        "outputId": "32c1d0c3-26e3-4374-a555-9653f196d1b3"
      },
      "execution_count": null,
      "outputs": [
        {
          "output_type": "stream",
          "name": "stdout",
          "text": [
            "[[1. 1. 0. 0. 0. 0. 0. 0. 0.]\n",
            " [1. 1. 0. 0. 0. 0. 0. 0. 0.]\n",
            " [0. 0. 1. 1. 0. 0. 0. 0. 0.]\n",
            " [0. 0. 1. 1. 0. 0. 0. 0. 0.]\n",
            " [0. 0. 0. 0. 1. 1. 0. 0. 0.]\n",
            " [0. 0. 0. 0. 1. 1. 0. 0. 0.]\n",
            " [0. 0. 0. 0. 0. 0. 1. 1. 1.]\n",
            " [0. 0. 0. 0. 0. 0. 1. 1. 1.]\n",
            " [0. 0. 0. 0. 0. 0. 1. 1. 1.]]\n"
          ]
        }
      ]
    },
    {
      "cell_type": "code",
      "source": [
        "import matplotlib.pyplot as plt\n",
        "plt.imshow(real_plagiarism)\n",
        "plt.show()"
      ],
      "metadata": {
        "colab": {
          "base_uri": "https://localhost:8080/",
          "height": 430
        },
        "id": "uv7CvuQq7QKH",
        "outputId": "1cb4ae2b-8df8-41f6-9902-2805861351c2"
      },
      "execution_count": null,
      "outputs": [
        {
          "output_type": "display_data",
          "data": {
            "text/plain": [
              "<Figure size 640x480 with 1 Axes>"
            ],
            "image/png": "[encoded data removed]"
          },
          "metadata": {}
        }
      ]
    },
    {
      "cell_type": "code",
      "source": [
        "from sklearn.metrics import accuracy_score\n",
        "\n",
        "# Convert similarity matrix to binary predictions\n",
        "threshold = 0.5\n",
        "binary_predictions_All = (similarityAll > threshold).astype(int).flatten()\n",
        "\n",
        "# Convert true labels matrix to binary labels\n",
        "true_labels = real_plagiarism.flatten()\n",
        "\n",
        "# Compute accuracy score\n",
        "accuracy_All = accuracy_score(true_labels, binary_predictions_All)\n",
        "\n",
        "print(\"Accuracy for All Documents:\", accuracy_All)\n"
      ],
      "metadata": {
        "colab": {
          "base_uri": "https://localhost:8080/"
        },
        "id": "uw38rgRJ8EeP",
        "outputId": "d8fdd241-2203-4408-fe37-b1ba84eda871"
      },
      "execution_count": null,
      "outputs": [
        {
          "output_type": "stream",
          "name": "stdout",
          "text": [
            "Accuracy for All Documents: 0.9506172839506173\n"
          ]
        }
      ]
    },
    {
      "cell_type": "markdown",
      "source": [
        "III. Text Classification "
      ],
      "metadata": {
        "id": "wZf4AaZ__Hfb"
      }
    },
    {
      "cell_type": "code",
      "source": [
        "# Import NLTK and all the needed libraries\n",
        "import nltk\n",
        "import numpy as np\n",
        "import pandas as pd\n",
        "from sklearn.feature_extraction.text import CountVectorizer"
      ],
      "metadata": {
        "id": "8arZXD9n_H3q"
      },
      "execution_count": null,
      "outputs": []
    },
    {
      "cell_type": "code",
      "source": [
        "\n",
        "\n",
        "# Load the dataset\n",
        "df = pd.read_csv('/content/drive/MyDrive/Colab/spam.csv', encoding='latin-1')\n",
        "\n",
        "# Display the first few rows of the dataframe\n",
        "print(df.head())\n"
      ],
      "metadata": {
        "id": "o22X-HVq_OSX",
        "colab": {
          "base_uri": "https://localhost:8080/"
        },
        "outputId": "cba3382e-0552-4fb8-ef7b-359eb54ad44f"
      },
      "execution_count": null,
      "outputs": [
        {
          "output_type": "stream",
          "name": "stdout",
          "text": [
            "  Class                                            Message\n",
            "0   ham  Go until jurong point, crazy.. Available only ...\n",
            "1   ham                      Ok lar... Joking wif u oni...\n",
            "2  spam  Free entry in 2 a wkly comp to win FA Cup fina...\n",
            "3   ham  U dun say so early hor... U c already then say...\n",
            "4   ham  Nah I don't think he goes to usf, he lives aro...\n"
          ]
        }
      ]
    },
    {
      "cell_type": "code",
      "source": [
        "df.info()"
      ],
      "metadata": {
        "colab": {
          "base_uri": "https://localhost:8080/"
        },
        "id": "TZV9nWwbAHdh",
        "outputId": "0d419794-03fd-4835-8507-450bd3cbe4da"
      },
      "execution_count": null,
      "outputs": [
        {
          "output_type": "stream",
          "name": "stdout",
          "text": [
            "<class 'pandas.core.frame.DataFrame'>\n",
            "RangeIndex: 5572 entries, 0 to 5571\n",
            "Data columns (total 2 columns):\n",
            " #   Column   Non-Null Count  Dtype \n",
            "---  ------   --------------  ----- \n",
            " 0   Class    5572 non-null   object\n",
            " 1   Message  5572 non-null   object\n",
            "dtypes: object(2)\n",
            "memory usage: 87.2+ KB\n"
          ]
        }
      ]
    },
    {
      "cell_type": "code",
      "source": [
        "import nltk\n",
        "from nltk.tokenize import word_tokenize\n",
        "from nltk.corpus import stopwords\n",
        "from nltk.stem import PorterStemmer\n",
        "\n",
        "# Download NLTK resources\n",
        "nltk.download('punkt')\n",
        "nltk.download('stopwords')\n",
        "\n",
        "# Define the preprocess_text function\n",
        "def preprocess_text(text):\n",
        "    # Tokenization\n",
        "    tokens = word_tokenize(text)\n",
        "    \n",
        "    # Lowercasing\n",
        "    tokens_lower = [token.lower() for token in tokens]\n",
        "    \n",
        "    # Stopword Removal\n",
        "    stop_words = set(stopwords.words('english'))  # Specify 'latin-1' stopwords\n",
        "    tokens_no_stopwords = [token for token in tokens_lower if token not in stop_words]\n",
        "    \n",
        "    # Stemming\n",
        "    stemmer = PorterStemmer()\n",
        "    tokens_stemmed = [stemmer.stem(token) for token in tokens_no_stopwords]\n",
        "    \n",
        "    # Return preprocessed tokens as a string\n",
        "    return ' '.join(tokens_stemmed)\n",
        "\n",
        "df['preprocessed_text'] = df['Message'].apply(preprocess_text)"
      ],
      "metadata": {
        "colab": {
          "base_uri": "https://localhost:8080/"
        },
        "id": "knYPudnoAfc1",
        "outputId": "c2acc6ab-a16c-448a-8bc5-25e7fe3d5ede"
      },
      "execution_count": null,
      "outputs": [
        {
          "output_type": "stream",
          "name": "stderr",
          "text": [
            "[nltk_data] Downloading package punkt to /root/nltk_data...\n",
            "[nltk_data]   Package punkt is already up-to-date!\n",
            "[nltk_data] Downloading package stopwords to /root/nltk_data...\n",
            "[nltk_data]   Package stopwords is already up-to-date!\n"
          ]
        }
      ]
    },
    {
      "cell_type": "code",
      "source": [
        "df['preprocessed_text']"
      ],
      "metadata": {
        "colab": {
          "base_uri": "https://localhost:8080/"
        },
        "id": "nxHGRU4_FEYR",
        "outputId": "dfb70379-32d8-470c-86b1-5e48e93b9dfa"
      },
      "execution_count": null,
      "outputs": [
        {
          "output_type": "execute_result",
          "data": {
            "text/plain": [
              "0       go jurong point , crazi .. avail bugi n great ...\n",
              "1                           ok lar ... joke wif u oni ...\n",
              "2       free entri 2 wkli comp win fa cup final tkt 21...\n",
              "3             u dun say earli hor ... u c alreadi say ...\n",
              "4              nah n't think goe usf , live around though\n",
              "                              ...                        \n",
              "5567    2nd time tri 2 contact u. u ï¿½750 pound prize...\n",
              "5568                         ï¿½_ b go esplanad fr home ?\n",
              "5569                        piti , * mood . ... suggest ?\n",
              "5570    guy bitch act like 'd interest buy someth els ...\n",
              "5571                                     rofl . true name\n",
              "Name: preprocessed_text, Length: 5572, dtype: object"
            ]
          },
          "metadata": {},
          "execution_count": 20
        }
      ]
    },
    {
      "cell_type": "code",
      "source": [
        "from sklearn.feature_extraction.text import CountVectorizer\n",
        "\n",
        "\n",
        "\n",
        "vectorizer = CountVectorizer()\n",
        "\n",
        "bow = vectorizer.fit_transform(df['preprocessed_text'])\n",
        "\n",
        "print( bow.shape)"
      ],
      "metadata": {
        "colab": {
          "base_uri": "https://localhost:8080/"
        },
        "id": "WueI8km17vil",
        "outputId": "cb721a14-59ea-4f4c-e588-b6d61e5fae74"
      },
      "execution_count": null,
      "outputs": [
        {
          "output_type": "stream",
          "name": "stdout",
          "text": [
            "(5572, 7495)\n"
          ]
        }
      ]
    },
    {
      "cell_type": "code",
      "source": [
        "import pandas as pd\n",
        "from sklearn.feature_extraction.text import CountVectorizer\n",
        "\n",
        "\n",
        "\n",
        "# Get the feature names (words) from the vectorizer\n",
        "feature_names = vectorizer.get_feature_names_out()\n",
        "\n",
        "# Create a dataframe from the BOW matrix and feature names\n",
        "bow_df = pd.DataFrame(bow.toarray(), columns=feature_names)\n",
        "\n",
        "bow_df"
      ],
      "metadata": {
        "colab": {
          "base_uri": "https://localhost:8080/",
          "height": 487
        },
        "id": "dOPrNlzB8FCT",
        "outputId": "71036621-6c94-4cf9-c38f-b83b84ee4b75"
      },
      "execution_count": null,
      "outputs": [
        {
          "output_type": "execute_result",
          "data": {
            "text/plain": [
              "      00  000  000pe  008704050406  0089  0121  01223585236  01223585334  \\\n",
              "0      0    0      0             0     0     0            0            0   \n",
              "1      0    0      0             0     0     0            0            0   \n",
              "2      0    0      0             0     0     0            0            0   \n",
              "3      0    0      0             0     0     0            0            0   \n",
              "4      0    0      0             0     0     0            0            0   \n",
              "...   ..  ...    ...           ...   ...   ...          ...          ...   \n",
              "5567   0    0      0             0     0     0            0            0   \n",
              "5568   0    0      0             0     0     0            0            0   \n",
              "5569   0    0      0             0     0     0            0            0   \n",
              "5570   0    0      0             0     0     0            0            0   \n",
              "5571   0    0      0             0     0     0            0            0   \n",
              "\n",
              "      0125698789  02  ...  ½t  ½te  ½v  ½wel  ½ï  ½û  ½ûªm  ½ûªt  ½ûªv  ì¼1  \n",
              "0              0   0  ...   0    0   0     0   0   0     0     0     0    0  \n",
              "1              0   0  ...   0    0   0     0   0   0     0     0     0    0  \n",
              "2              0   0  ...   0    0   0     0   0   0     0     0     0    0  \n",
              "3              0   0  ...   0    0   0     0   0   0     0     0     0    0  \n",
              "4              0   0  ...   0    0   0     0   0   0     0     0     0    0  \n",
              "...          ...  ..  ...  ..  ...  ..   ...  ..  ..   ...   ...   ...  ...  \n",
              "5567           0   0  ...   0    0   0     0   0   0     0     0     0    0  \n",
              "5568           0   0  ...   0    0   0     0   0   0     0     0     0    0  \n",
              "5569           0   0  ...   0    0   0     0   0   0     0     0     0    0  \n",
              "5570           0   0  ...   0    0   0     0   0   0     0     0     0    0  \n",
              "5571           0   0  ...   0    0   0     0   0   0     0     0     0    0  \n",
              "\n",
              "[5572 rows x 7495 columns]"
            ],
            "text/html": [
              "\n",
              "  <div id=\"df-ae4098e7-e001-442d-8f93-45a5f9882b8c\">\n",
              "    <div class=\"colab-df-container\">\n",
              "      <div>\n",
              "<style scoped>\n",
              "    .dataframe tbody tr th:only-of-type {\n",
              "        vertical-align: middle;\n",
              "    }\n",
              "\n",
              "    .dataframe tbody tr th {\n",
              "        vertical-align: top;\n",
              "    }\n",
              "\n",
              "    .dataframe thead th {\n",
              "        text-align: right;\n",
              "    }\n",
              "</style>\n",
              "<table border=\"1\" class=\"dataframe\">\n",
              "  <thead>\n",
              "    <tr style=\"text-align: right;\">\n",
              "      <th></th>\n",
              "      <th>00</th>\n",
              "      <th>000</th>\n",
              "      <th>000pe</th>\n",
              "      <th>008704050406</th>\n",
              "      <th>0089</th>\n",
              "      <th>0121</th>\n",
              "      <th>01223585236</th>\n",
              "      <th>01223585334</th>\n",
              "      <th>0125698789</th>\n",
              "      <th>02</th>\n",
              "      <th>...</th>\n",
              "      <th>½t</th>\n",
              "      <th>½te</th>\n",
              "      <th>½v</th>\n",
              "      <th>½wel</th>\n",
              "      <th>½ï</th>\n",
              "      <th>½û</th>\n",
              "      <th>½ûªm</th>\n",
              "      <th>½ûªt</th>\n",
              "      <th>½ûªv</th>\n",
              "      <th>ì¼1</th>\n",
              "    </tr>\n",
              "  </thead>\n",
              "  <tbody>\n",
              "    <tr>\n",
              "      <th>0</th>\n",
              "      <td>0</td>\n",
              "      <td>0</td>\n",
              "      <td>0</td>\n",
              "      <td>0</td>\n",
              "      <td>0</td>\n",
              "      <td>0</td>\n",
              "      <td>0</td>\n",
              "      <td>0</td>\n",
              "      <td>0</td>\n",
              "      <td>0</td>\n",
              "      <td>...</td>\n",
              "      <td>0</td>\n",
              "      <td>0</td>\n",
              "      <td>0</td>\n",
              "      <td>0</td>\n",
              "      <td>0</td>\n",
              "      <td>0</td>\n",
              "      <td>0</td>\n",
              "      <td>0</td>\n",
              "      <td>0</td>\n",
              "      <td>0</td>\n",
              "    </tr>\n",
              "    <tr>\n",
              "      <th>1</th>\n",
              "      <td>0</td>\n",
              "      <td>0</td>\n",
              "      <td>0</td>\n",
              "      <td>0</td>\n",
              "      <td>0</td>\n",
              "      <td>0</td>\n",
              "      <td>0</td>\n",
              "      <td>0</td>\n",
              "      <td>0</td>\n",
              "      <td>0</td>\n",
              "      <td>...</td>\n",
              "      <td>0</td>\n",
              "      <td>0</td>\n",
              "      <td>0</td>\n",
              "      <td>0</td>\n",
              "      <td>0</td>\n",
              "      <td>0</td>\n",
              "      <td>0</td>\n",
              "      <td>0</td>\n",
              "      <td>0</td>\n",
              "      <td>0</td>\n",
              "    </tr>\n",
              "    <tr>\n",
              "      <th>2</th>\n",
              "      <td>0</td>\n",
              "      <td>0</td>\n",
              "      <td>0</td>\n",
              "      <td>0</td>\n",
              "      <td>0</td>\n",
              "      <td>0</td>\n",
              "      <td>0</td>\n",
              "      <td>0</td>\n",
              "      <td>0</td>\n",
              "      <td>0</td>\n",
              "      <td>...</td>\n",
              "      <td>0</td>\n",
              "      <td>0</td>\n",
              "      <td>0</td>\n",
              "      <td>0</td>\n",
              "      <td>0</td>\n",
              "      <td>0</td>\n",
              "      <td>0</td>\n",
              "      <td>0</td>\n",
              "      <td>0</td>\n",
              "      <td>0</td>\n",
              "    </tr>\n",
              "    <tr>\n",
              "      <th>3</th>\n",
              "      <td>0</td>\n",
              "      <td>0</td>\n",
              "      <td>0</td>\n",
              "      <td>0</td>\n",
              "      <td>0</td>\n",
              "      <td>0</td>\n",
              "      <td>0</td>\n",
              "      <td>0</td>\n",
              "      <td>0</td>\n",
              "      <td>0</td>\n",
              "      <td>...</td>\n",
              "      <td>0</td>\n",
              "      <td>0</td>\n",
              "      <td>0</td>\n",
              "      <td>0</td>\n",
              "      <td>0</td>\n",
              "      <td>0</td>\n",
              "      <td>0</td>\n",
              "      <td>0</td>\n",
              "      <td>0</td>\n",
              "      <td>0</td>\n",
              "    </tr>\n",
              "    <tr>\n",
              "      <th>4</th>\n",
              "      <td>0</td>\n",
              "      <td>0</td>\n",
              "      <td>0</td>\n",
              "      <td>0</td>\n",
              "      <td>0</td>\n",
              "      <td>0</td>\n",
              "      <td>0</td>\n",
              "      <td>0</td>\n",
              "      <td>0</td>\n",
              "      <td>0</td>\n",
              "      <td>...</td>\n",
              "      <td>0</td>\n",
              "      <td>0</td>\n",
              "      <td>0</td>\n",
              "      <td>0</td>\n",
              "      <td>0</td>\n",
              "      <td>0</td>\n",
              "      <td>0</td>\n",
              "      <td>0</td>\n",
              "      <td>0</td>\n",
              "      <td>0</td>\n",
              "    </tr>\n",
              "    <tr>\n",
              "      <th>...</th>\n",
              "      <td>...</td>\n",
              "      <td>...</td>\n",
              "      <td>...</td>\n",
              "      <td>...</td>\n",
              "      <td>...</td>\n",
              "      <td>...</td>\n",
              "      <td>...</td>\n",
              "      <td>...</td>\n",
              "      <td>...</td>\n",
              "      <td>...</td>\n",
              "      <td>...</td>\n",
              "      <td>...</td>\n",
              "      <td>...</td>\n",
              "      <td>...</td>\n",
              "      <td>...</td>\n",
              "      <td>...</td>\n",
              "      <td>...</td>\n",
              "      <td>...</td>\n",
              "      <td>...</td>\n",
              "      <td>...</td>\n",
              "      <td>...</td>\n",
              "    </tr>\n",
              "    <tr>\n",
              "      <th>5567</th>\n",
              "      <td>0</td>\n",
              "      <td>0</td>\n",
              "      <td>0</td>\n",
              "      <td>0</td>\n",
              "      <td>0</td>\n",
              "      <td>0</td>\n",
              "      <td>0</td>\n",
              "      <td>0</td>\n",
              "      <td>0</td>\n",
              "      <td>0</td>\n",
              "      <td>...</td>\n",
              "      <td>0</td>\n",
              "      <td>0</td>\n",
              "      <td>0</td>\n",
              "      <td>0</td>\n",
              "      <td>0</td>\n",
              "      <td>0</td>\n",
              "      <td>0</td>\n",
              "      <td>0</td>\n",
              "      <td>0</td>\n",
              "      <td>0</td>\n",
              "    </tr>\n",
              "    <tr>\n",
              "      <th>5568</th>\n",
              "      <td>0</td>\n",
              "      <td>0</td>\n",
              "      <td>0</td>\n",
              "      <td>0</td>\n",
              "      <td>0</td>\n",
              "      <td>0</td>\n",
              "      <td>0</td>\n",
              "      <td>0</td>\n",
              "      <td>0</td>\n",
              "      <td>0</td>\n",
              "      <td>...</td>\n",
              "      <td>0</td>\n",
              "      <td>0</td>\n",
              "      <td>0</td>\n",
              "      <td>0</td>\n",
              "      <td>0</td>\n",
              "      <td>0</td>\n",
              "      <td>0</td>\n",
              "      <td>0</td>\n",
              "      <td>0</td>\n",
              "      <td>0</td>\n",
              "    </tr>\n",
              "    <tr>\n",
              "      <th>5569</th>\n",
              "      <td>0</td>\n",
              "      <td>0</td>\n",
              "      <td>0</td>\n",
              "      <td>0</td>\n",
              "      <td>0</td>\n",
              "      <td>0</td>\n",
              "      <td>0</td>\n",
              "      <td>0</td>\n",
              "      <td>0</td>\n",
              "      <td>0</td>\n",
              "      <td>...</td>\n",
              "      <td>0</td>\n",
              "      <td>0</td>\n",
              "      <td>0</td>\n",
              "      <td>0</td>\n",
              "      <td>0</td>\n",
              "      <td>0</td>\n",
              "      <td>0</td>\n",
              "      <td>0</td>\n",
              "      <td>0</td>\n",
              "      <td>0</td>\n",
              "    </tr>\n",
              "    <tr>\n",
              "      <th>5570</th>\n",
              "      <td>0</td>\n",
              "      <td>0</td>\n",
              "      <td>0</td>\n",
              "      <td>0</td>\n",
              "      <td>0</td>\n",
              "      <td>0</td>\n",
              "      <td>0</td>\n",
              "      <td>0</td>\n",
              "      <td>0</td>\n",
              "      <td>0</td>\n",
              "      <td>...</td>\n",
              "      <td>0</td>\n",
              "      <td>0</td>\n",
              "      <td>0</td>\n",
              "      <td>0</td>\n",
              "      <td>0</td>\n",
              "      <td>0</td>\n",
              "      <td>0</td>\n",
              "      <td>0</td>\n",
              "      <td>0</td>\n",
              "      <td>0</td>\n",
              "    </tr>\n",
              "    <tr>\n",
              "      <th>5571</th>\n",
              "      <td>0</td>\n",
              "      <td>0</td>\n",
              "      <td>0</td>\n",
              "      <td>0</td>\n",
              "      <td>0</td>\n",
              "      <td>0</td>\n",
              "      <td>0</td>\n",
              "      <td>0</td>\n",
              "      <td>0</td>\n",
              "      <td>0</td>\n",
              "      <td>...</td>\n",
              "      <td>0</td>\n",
              "      <td>0</td>\n",
              "      <td>0</td>\n",
              "      <td>0</td>\n",
              "      <td>0</td>\n",
              "      <td>0</td>\n",
              "      <td>0</td>\n",
              "      <td>0</td>\n",
              "      <td>0</td>\n",
              "      <td>0</td>\n",
              "    </tr>\n",
              "  </tbody>\n",
              "</table>\n",
              "<p>5572 rows × 7495 columns</p>\n",
              "</div>\n",
              "      <button class=\"colab-df-convert\" onclick=\"convertToInteractive('df-ae4098e7-e001-442d-8f93-45a5f9882b8c')\"\n",
              "              title=\"Convert this dataframe to an interactive table.\"\n",
              "              style=\"display:none;\">\n",
              "        \n",
              "  <svg xmlns=\"http://www.w3.org/2000/svg\" height=\"24px\"viewBox=\"0 0 24 24\"\n",
              "       width=\"24px\">\n",
              "    <path d=\"M0 0h24v24H0V0z\" fill=\"none\"/>\n",
              "    <path d=\"M18.56 5.44l.94 2.06.94-2.06 2.06-.94-2.06-.94-.94-2.06-.94 2.06-2.06.94zm-11 1L8.5 8.5l.94-2.06 2.06-.94-2.06-.94L8.5 2.5l-.94 2.06-2.06.94zm10 10l.94 2.06.94-2.06 2.06-.94-2.06-.94-.94-2.06-.94 2.06-2.06.94z\"/><path d=\"M17.41 7.96l-1.37-1.37c-.4-.4-.92-.59-1.43-.59-.52 0-1.04.2-1.43.59L10.3 9.45l-7.72 7.72c-.78.78-.78 2.05 0 2.83L4 21.41c.39.39.9.59 1.41.59.51 0 1.02-.2 1.41-.59l7.78-7.78 2.81-2.81c.8-.78.8-2.07 0-2.86zM5.41 20L4 18.59l7.72-7.72 1.47 1.35L5.41 20z\"/>\n",
              "  </svg>\n",
              "      </button>\n",
              "      \n",
              "  <style>\n",
              "    .colab-df-container {\n",
              "      display:flex;\n",
              "      flex-wrap:wrap;\n",
              "      gap: 12px;\n",
              "    }\n",
              "\n",
              "    .colab-df-convert {\n",
              "      background-color: #E8F0FE;\n",
              "      border: none;\n",
              "      border-radius: 50%;\n",
              "      cursor: pointer;\n",
              "      display: none;\n",
              "      fill: #1967D2;\n",
              "      height: 32px;\n",
              "      padding: 0 0 0 0;\n",
              "      width: 32px;\n",
              "    }\n",
              "\n",
              "    .colab-df-convert:hover {\n",
              "      background-color: #E2EBFA;\n",
              "      box-shadow: 0px 1px 2px rgba(60, 64, 67, 0.3), 0px 1px 3px 1px rgba(60, 64, 67, 0.15);\n",
              "      fill: #174EA6;\n",
              "    }\n",
              "\n",
              "    [theme=dark] .colab-df-convert {\n",
              "      background-color: #3B4455;\n",
              "      fill: #D2E3FC;\n",
              "    }\n",
              "\n",
              "    [theme=dark] .colab-df-convert:hover {\n",
              "      background-color: #434B5C;\n",
              "      box-shadow: 0px 1px 3px 1px rgba(0, 0, 0, 0.15);\n",
              "      filter: drop-shadow(0px 1px 2px rgba(0, 0, 0, 0.3));\n",
              "      fill: #FFFFFF;\n",
              "    }\n",
              "  </style>\n",
              "\n",
              "      <script>\n",
              "        const buttonEl =\n",
              "          document.querySelector('#df-ae4098e7-e001-442d-8f93-45a5f9882b8c button.colab-df-convert');\n",
              "        buttonEl.style.display =\n",
              "          google.colab.kernel.accessAllowed ? 'block' : 'none';\n",
              "\n",
              "        async function convertToInteractive(key) {\n",
              "          const element = document.querySelector('#df-ae4098e7-e001-442d-8f93-45a5f9882b8c');\n",
              "          const dataTable =\n",
              "            await google.colab.kernel.invokeFunction('convertToInteractive',\n",
              "                                                     [key], {});\n",
              "          if (!dataTable) return;\n",
              "\n",
              "          const docLinkHtml = 'Like what you see? Visit the ' +\n",
              "            '<a target=\"_blank\" href=https://colab.research.google.com/notebooks/data_table.ipynb>data table notebook</a>'\n",
              "            + ' to learn more about interactive tables.';\n",
              "          element.innerHTML = '';\n",
              "          dataTable['output_type'] = 'display_data';\n",
              "          await google.colab.output.renderOutput(dataTable, element);\n",
              "          const docLink = document.createElement('div');\n",
              "          docLink.innerHTML = docLinkHtml;\n",
              "          element.appendChild(docLink);\n",
              "        }\n",
              "      </script>\n",
              "    </div>\n",
              "  </div>\n",
              "  "
            ]
          },
          "metadata": {},
          "execution_count": 22
        }
      ]
    },
    {
      "cell_type": "markdown",
      "source": [
        "IV. Topic Modelling \n"
      ],
      "metadata": {
        "id": "CTk1We0796jK"
      }
    },
    {
      "cell_type": "code",
      "source": [
        "import pandas as pd\n",
        "# Load the dataset\n",
        "df = pd.read_csv('/content/random_headlines.csv')\n",
        "\n"
      ],
      "metadata": {
        "id": "chcDRLs49_5e"
      },
      "execution_count": null,
      "outputs": []
    },
    {
      "cell_type": "code",
      "source": [
        "# Display the first few rows of the dataframe\n",
        "print(df.head())"
      ],
      "metadata": {
        "colab": {
          "base_uri": "https://localhost:8080/"
        },
        "id": "fSEYtOprA5hE",
        "outputId": "4c8f05c2-725e-4aae-dfd6-bb87a40a2849"
      },
      "execution_count": null,
      "outputs": [
        {
          "output_type": "stream",
          "name": "stdout",
          "text": [
            "   publish_date                          headline_text\n",
            "0      20120305  ute driver hurt in intersection crash\n",
            "1      20081128           6yo dies in cycling accident\n",
            "2      20090325          bumper olive harvest expected\n",
            "3      20100201     replica replaces northernmost sign\n",
            "4      20080225           woods targets perfect season\n"
          ]
        }
      ]
    },
    {
      "cell_type": "code",
      "source": [
        "df.info()"
      ],
      "metadata": {
        "colab": {
          "base_uri": "https://localhost:8080/"
        },
        "id": "wSqjWy9BBhYk",
        "outputId": "da6d66f0-912b-48fb-fa2c-76f501773add"
      },
      "execution_count": null,
      "outputs": [
        {
          "output_type": "stream",
          "name": "stdout",
          "text": [
            "<class 'pandas.core.frame.DataFrame'>\n",
            "RangeIndex: 20000 entries, 0 to 19999\n",
            "Data columns (total 2 columns):\n",
            " #   Column         Non-Null Count  Dtype \n",
            "---  ------         --------------  ----- \n",
            " 0   publish_date   20000 non-null  int64 \n",
            " 1   headline_text  20000 non-null  object\n",
            "dtypes: int64(1), object(1)\n",
            "memory usage: 312.6+ KB\n"
          ]
        }
      ]
    },
    {
      "cell_type": "code",
      "source": [
        "import pandas as pd\n",
        "import nltk\n",
        "from nltk.corpus import stopwords\n",
        "from nltk.tokenize import word_tokenize\n",
        "from nltk.stem import PorterStemmer, WordNetLemmatizer\n",
        "import string\n"
      ],
      "metadata": {
        "id": "7ihbmdhmBv0I"
      },
      "execution_count": null,
      "outputs": []
    },
    {
      "cell_type": "code",
      "source": [
        "df['lowercase'] = df['headline_text'].str.lower()\n",
        "df['tokens'] = df['lowercase'].apply(word_tokenize)\n",
        "df['no_punctuation'] = df['tokens'].apply(lambda tokens: [token for token in tokens if token not in string.punctuation])\n",
        "stopwords_set = set(stopwords.words('english'))\n",
        "df['no_stopwords'] = df['no_punctuation'].apply(lambda tokens: [token for token in tokens if token not in stopwords_set])\n",
        "stemmer = PorterStemmer()\n",
        "df['stemmed'] = df['no_stopwords'].apply(lambda tokens: [stemmer.stem(token) for token in tokens])\n"
      ],
      "metadata": {
        "id": "9cVlEMbOByH7"
      },
      "execution_count": null,
      "outputs": []
    },
    {
      "cell_type": "code",
      "source": [
        "df['stemmed']"
      ],
      "metadata": {
        "colab": {
          "base_uri": "https://localhost:8080/"
        },
        "id": "dEBgJ4RjCl3O",
        "outputId": "cfd73073-42f1-4886-d12a-3684f380cdeb"
      },
      "execution_count": null,
      "outputs": [
        {
          "output_type": "execute_result",
          "data": {
            "text/plain": [
              "0                    [ute, driver, hurt, intersect, crash]\n",
              "1                                  [6yo, die, cycl, accid]\n",
              "2                          [bumper, oliv, harvest, expect]\n",
              "3                    [replica, replac, northernmost, sign]\n",
              "4                          [wood, target, perfect, season]\n",
              "                               ...                        \n",
              "19995               [judg, attack, walkinshaw, run, arrow]\n",
              "19996           [polish, govt, collaps, elect, held, next]\n",
              "19997                              [drum, friday, may, 29]\n",
              "19998            [winterbottom, bathurst, provision, pole]\n",
              "19999    [pull, pork, pawpaw, salad, local, success, st...\n",
              "Name: stemmed, Length: 20000, dtype: object"
            ]
          },
          "metadata": {},
          "execution_count": 6
        }
      ]
    },
    {
      "cell_type": "code",
      "source": [
        "!pip install gensim\n"
      ],
      "metadata": {
        "colab": {
          "base_uri": "https://localhost:8080/"
        },
        "id": "uGhgQHj7Cyc7",
        "outputId": "8028ec37-f24d-47f2-dc64-4147614791d6"
      },
      "execution_count": null,
      "outputs": [
        {
          "output_type": "stream",
          "name": "stdout",
          "text": [
            "Looking in indexes: https://pypi.org/simple, https://us-python.pkg.dev/colab-wheels/public/simple/\n",
            "Requirement already satisfied: gensim in /usr/local/lib/python3.10/dist-packages (4.3.1)\n",
            "Requirement already satisfied: numpy>=1.18.5 in /usr/local/lib/python3.10/dist-packages (from gensim) (1.24.3)\n",
            "Requirement already satisfied: scipy>=1.7.0 in /usr/local/lib/python3.10/dist-packages (from gensim) (1.10.1)\n",
            "Requirement already satisfied: smart-open>=1.8.1 in /usr/local/lib/python3.10/dist-packages (from gensim) (6.3.0)\n"
          ]
        }
      ]
    },
    {
      "cell_type": "code",
      "source": [
        "import pandas as pd\n",
        "import nltk\n",
        "from nltk.corpus import stopwords\n",
        "from nltk.tokenize import word_tokenize\n",
        "from nltk.stem import PorterStemmer, WordNetLemmatizer\n",
        "import string\n",
        "from gensim.corpora import Dictionary\n"
      ],
      "metadata": {
        "id": "eZ8TEt2RC0Bp"
      },
      "execution_count": null,
      "outputs": []
    },
    {
      "cell_type": "code",
      "source": [
        "lemmatizer = WordNetLemmatizer()\n",
        "df['lemmatized'] = df['no_stopwords'].apply(lambda tokens: [lemmatizer.lemmatize(token) for token in tokens])\n"
      ],
      "metadata": {
        "id": "3wAUaj__C6yZ"
      },
      "execution_count": null,
      "outputs": []
    },
    {
      "cell_type": "code",
      "source": [
        "# Create a dictionary of the tokens\n",
        "dictionary = Dictionary(df['stemmed'])\n",
        "\n",
        "# Filter out rare and common tokens\n",
        "dictionary.filter_extremes(no_below=5, no_above=0.5)\n",
        "\n",
        "# Convert each headline to its BOW representation\n",
        "df['bow'] = df['stemmed'].apply(lambda tokens: dictionary.doc2bow(tokens))\n"
      ],
      "metadata": {
        "id": "uuhYdPuKC9XP"
      },
      "execution_count": null,
      "outputs": []
    },
    {
      "cell_type": "code",
      "source": [
        "df['bow']"
      ],
      "metadata": {
        "colab": {
          "base_uri": "https://localhost:8080/"
        },
        "id": "9KCTMcUQC_DR",
        "outputId": "a870caac-7ff2-4fc5-d2d0-e99163572591"
      },
      "execution_count": null,
      "outputs": [
        {
          "output_type": "execute_result",
          "data": {
            "text/plain": [
              "0                         [(0, 1), (1, 1), (2, 1), (3, 1)]\n",
              "1                                 [(4, 1), (5, 1), (6, 1)]\n",
              "2                                 [(7, 1), (8, 1), (9, 1)]\n",
              "3                                       [(10, 1), (11, 1)]\n",
              "4                     [(12, 1), (13, 1), (14, 1), (15, 1)]\n",
              "                               ...                        \n",
              "19995                        [(94, 1), (612, 1), (791, 1)]\n",
              "19996    [(306, 1), (502, 1), (1125, 1), (1279, 1), (16...\n",
              "19997            [(122, 1), (362, 1), (435, 1), (1929, 1)]\n",
              "19998                                [(129, 1), (2498, 1)]\n",
              "19999    [(767, 1), (1327, 1), (1500, 1), (1927, 1), (2...\n",
              "Name: bow, Length: 20000, dtype: object"
            ]
          },
          "metadata": {},
          "execution_count": 11
        }
      ]
    },
    {
      "cell_type": "code",
      "source": [
        "from gensim.corpora import Dictionary\n",
        "from gensim.models import TfidfModel"
      ],
      "metadata": {
        "id": "4s9hHv-pDL15"
      },
      "execution_count": null,
      "outputs": []
    },
    {
      "cell_type": "code",
      "source": [
        "# Create a dictionary of the tokens\n",
        "dictionary = Dictionary(df['stemmed'])\n",
        "\n",
        "# Filter out rare and common tokens\n",
        "dictionary.filter_extremes(no_below=5, no_above=0.5)\n",
        "\n",
        "# Convert each headline to its BOW representation\n",
        "df['bow'] = df['stemmed'].apply(lambda tokens: dictionary.doc2bow(tokens))\n",
        "\n",
        "# Create a list of BOW representations\n",
        "bow_corpus = df['bow'].tolist()\n",
        "\n",
        "# Create the TF-IDF model\n",
        "tfidf_model = TfidfModel(bow_corpus)\n",
        "\n",
        "# Convert each BOW representation to TF-IDF representation\n",
        "df['tfidf'] = df['bow'].apply(lambda bow: tfidf_model[bow])\n"
      ],
      "metadata": {
        "id": "RqjdWH0FDM5n"
      },
      "execution_count": null,
      "outputs": []
    },
    {
      "cell_type": "code",
      "source": [
        "df['tfidf']"
      ],
      "metadata": {
        "colab": {
          "base_uri": "https://localhost:8080/"
        },
        "id": "cncELBU5ECK5",
        "outputId": "f572eb26-e051-48d0-ebcf-b95dfde82cd8"
      },
      "execution_count": null,
      "outputs": [
        {
          "output_type": "execute_result",
          "data": {
            "text/plain": [
              "0        [(0, 0.38380472505678387), (1, 0.4408152091819...\n",
              "1        [(4, 0.565040562691219), (5, 0.678282623325040...\n",
              "2        [(7, 0.4778523954688469), (8, 0.56145873585743...\n",
              "3        [(10, 0.7596694993542321), (11, 0.650309350809...\n",
              "4        [(12, 0.5937887452228604), (13, 0.432499245079...\n",
              "                               ...                        \n",
              "19995    [(94, 0.6788936377183876), (612, 0.47999246040...\n",
              "19996    [(306, 0.3169859350661769), (502, 0.2621260609...\n",
              "19997    [(122, 0.37474224836119696), (362, 0.485431117...\n",
              "19998    [(129, 0.6582992963848873), (2498, 0.752756292...\n",
              "19999    [(767, 0.43161038088504416), (1327, 0.42560245...\n",
              "Name: tfidf, Length: 20000, dtype: object"
            ]
          },
          "metadata": {},
          "execution_count": 14
        }
      ]
    },
    {
      "cell_type": "code",
      "source": [
        "from gensim.models import  LsiModel"
      ],
      "metadata": {
        "id": "48EmLa9KEJol"
      },
      "execution_count": null,
      "outputs": []
    },
    {
      "cell_type": "code",
      "source": [
        "\n",
        "\n",
        "# Convert each BOW representation to TF-IDF representation\n",
        "df['tfidf'] = df['bow'].apply(lambda bow: tfidf_model[bow])\n",
        "\n",
        "# Create the LSA model\n",
        "lsa_model = LsiModel(df['tfidf'], num_topics=10, id2word=dictionary)\n",
        "\n",
        "# Convert each TF-IDF representation to LSA representation\n",
        "df['lsa'] = df['tfidf'].apply(lambda tfidf: lsa_model[tfidf])\n"
      ],
      "metadata": {
        "id": "-YssUW-GEURG"
      },
      "execution_count": null,
      "outputs": []
    },
    {
      "cell_type": "code",
      "source": [
        "df['lsa']"
      ],
      "metadata": {
        "colab": {
          "base_uri": "https://localhost:8080/"
        },
        "id": "MZtFcV6-EddL",
        "outputId": "5dcfb932-3f85-4ac8-bb46-673687a46edf"
      },
      "execution_count": null,
      "outputs": [
        {
          "output_type": "execute_result",
          "data": {
            "text/plain": [
              "0        [(0, 0.004248251243656648), (1, -0.07490573060...\n",
              "1        [(0, 0.0014078164239774565), (1, -0.0606031777...\n",
              "2        [(0, 0.0011398116481298876), (1, -0.0086400486...\n",
              "3        [(0, 0.0006727772968257658), (1, -0.0125232086...\n",
              "4        [(0, 0.0004732836426305638), (1, -0.0140344296...\n",
              "                               ...                        \n",
              "19995    [(0, 0.0023562327759749234), (1, -0.0749580930...\n",
              "19996    [(0, 0.002296970742186259), (1, -0.03796353044...\n",
              "19997    [(0, 0.002323511716728376), (1, -0.01207133007...\n",
              "19998    [(0, 2.081406546614256e-05), (1, -0.0020924029...\n",
              "19999    [(0, 0.0005920407500201154), (1, -0.0108886780...\n",
              "Name: lsa, Length: 20000, dtype: object"
            ]
          },
          "metadata": {},
          "execution_count": 17
        }
      ]
    },
    {
      "cell_type": "code",
      "source": [
        "# Print the most significant words for each topic\n",
        "for topic_id, topic in lsa_model.show_topics(num_topics=10, num_words=4, formatted=False):\n",
        "    words = [f\"{word}: {weight:.3f}\" for word, weight in topic]\n",
        "    topic_str = f\"({topic_id}, '{', '.join(words)}')\"\n",
        "    print(topic_str)\n"
      ],
      "metadata": {
        "colab": {
          "base_uri": "https://localhost:8080/"
        },
        "id": "blMkEn4rEolU",
        "outputId": "989d874c-4ef4-4080-e902-df73bd9c83bd"
      },
      "execution_count": null,
      "outputs": [
        {
          "output_type": "stream",
          "name": "stdout",
          "text": [
            "(0, 'interview: 0.989, michael: 0.058, extend: 0.042, andrew: 0.037')\n",
            "(1, 'man: -0.463, polic: -0.384, charg: -0.325, court: -0.160')\n",
            "(2, 'man: -0.440, charg: -0.313, plan: 0.243, new: 0.215')\n",
            "(3, 'polic: -0.758, man: 0.230, charg: 0.219, second: 0.143')\n",
            "(4, 'second: 0.445, 90: 0.404, abc: 0.386, news: 0.344')\n",
            "(5, 'new: 0.808, plan: -0.216, fire: -0.158, council: -0.156')\n",
            "(6, 'fire: -0.420, crash: -0.315, kill: -0.299, plan: 0.292')\n",
            "(7, 'fire: -0.731, crash: 0.261, kill: 0.228, charg: -0.227')\n",
            "(8, 'win: -0.441, plan: 0.389, new: 0.298, court: -0.285')\n",
            "(9, 'court: 0.569, charg: -0.519, face: 0.273, win: -0.175')\n"
          ]
        }
      ]
    },
    {
      "cell_type": "code",
      "source": [
        "from gensim.models import  LdaModel"
      ],
      "metadata": {
        "id": "rB9M-Wk6FTnZ"
      },
      "execution_count": null,
      "outputs": []
    },
    {
      "cell_type": "code",
      "source": [
        "lda_model = LdaModel(df['tfidf'], num_topics=10, id2word=dictionary)\n",
        "\n",
        "# Convert each TF-IDF representation to LDA representation\n",
        "df['lda'] = df['tfidf'].apply(lambda tfidf: lda_model[tfidf])\n",
        "df['lda']"
      ],
      "metadata": {
        "colab": {
          "base_uri": "https://localhost:8080/"
        },
        "id": "6AZtgj5-FJOv",
        "outputId": "a2386376-aad4-4508-f88f-39fe0632b0a3"
      },
      "execution_count": null,
      "outputs": [
        {
          "output_type": "execute_result",
          "data": {
            "text/plain": [
              "0        [(0, 0.03368945), (1, 0.69677943), (2, 0.03369...\n",
              "1        [(0, 0.036864247), (1, 0.036888707), (2, 0.036...\n",
              "2        [(0, 0.0368385), (1, 0.036857087), (2, 0.03683...\n",
              "3        [(0, 0.041502547), (1, 0.6263373), (2, 0.04150...\n",
              "4        [(0, 0.033538155), (1, 0.033552643), (2, 0.033...\n",
              "                               ...                        \n",
              "19995    [(0, 0.2677625), (1, 0.036852058), (2, 0.03685...\n",
              "19996    [(0, 0.029507797), (1, 0.029510105), (2, 0.227...\n",
              "19997    [(0, 0.033685252), (1, 0.033683848), (2, 0.033...\n",
              "19998    [(0, 0.3535773), (1, 0.041485377), (2, 0.04148...\n",
              "19999    [(0, 0.031085761), (1, 0.031085763), (2, 0.031...\n",
              "Name: lda, Length: 20000, dtype: object"
            ]
          },
          "metadata": {},
          "execution_count": 20
        }
      ]
    },
    {
      "cell_type": "code",
      "source": [
        "# Print the most frequent words for each topic\n",
        "for topic_id, topic in lda_model.show_topics(num_topics=10, num_words=3, formatted=False):\n",
        "    words = [f\"{word}: {weight:.3f}\" for word, weight in topic]\n",
        "    topic_str = f\"({topic_id}, '{', '.join(words)}')\"\n",
        "    print(topic_str)\n"
      ],
      "metadata": {
        "colab": {
          "base_uri": "https://localhost:8080/"
        },
        "id": "VyX_YBoiFYeh",
        "outputId": "679f4cbd-d4fe-4640-c853-15e911bb4c25"
      },
      "execution_count": null,
      "outputs": [
        {
          "output_type": "stream",
          "name": "stdout",
          "text": [
            "(0, 'man: 0.019, polic: 0.016, charg: 0.015')\n",
            "(1, 'crash: 0.009, die: 0.009, drought: 0.009')\n",
            "(2, 'win: 0.011, perth: 0.009, world: 0.008')\n",
            "(3, 'countri: 0.010, hour: 0.008, rail: 0.008')\n",
            "(4, 'interview: 0.035, news: 0.015, fatal: 0.009')\n",
            "(5, 'talk: 0.011, abc: 0.010, start: 0.010')\n",
            "(6, 'plan: 0.009, question: 0.008, inquiri: 0.006')\n",
            "(7, 'second: 0.014, weather: 0.012, kill: 0.010')\n",
            "(8, 'futur: 0.008, make: 0.008, union: 0.007')\n",
            "(9, 'brisban: 0.010, clash: 0.008, famili: 0.008')\n"
          ]
        }
      ]
    },
    {
      "cell_type": "code",
      "source": [
        "!pip install pyLDAvis\n"
      ],
      "metadata": {
        "colab": {
          "base_uri": "https://localhost:8080/"
        },
        "id": "auccIKU9Fdqo",
        "outputId": "149318f4-41f9-4c4d-cb93-a83a01c81b9a"
      },
      "execution_count": null,
      "outputs": [
        {
          "output_type": "stream",
          "name": "stdout",
          "text": [
            "Looking in indexes: https://pypi.org/simple, https://us-python.pkg.dev/colab-wheels/public/simple/\n",
            "Requirement already satisfied: pyLDAvis in /usr/local/lib/python3.10/dist-packages (3.4.1)\n",
            "Requirement already satisfied: numpy>=1.24.2 in /usr/local/lib/python3.10/dist-packages (from pyLDAvis) (1.24.3)\n",
            "Requirement already satisfied: scipy in /usr/local/lib/python3.10/dist-packages (from pyLDAvis) (1.10.1)\n",
            "Requirement already satisfied: pandas>=2.0.0 in /usr/local/lib/python3.10/dist-packages (from pyLDAvis) (2.0.2)\n",
            "Requirement already satisfied: joblib>=1.2.0 in /usr/local/lib/python3.10/dist-packages (from pyLDAvis) (1.2.0)\n",
            "Requirement already satisfied: jinja2 in /usr/local/lib/python3.10/dist-packages (from pyLDAvis) (3.1.2)\n",
            "Requirement already satisfied: numexpr in /usr/local/lib/python3.10/dist-packages (from pyLDAvis) (2.8.4)\n",
            "Requirement already satisfied: funcy in /usr/local/lib/python3.10/dist-packages (from pyLDAvis) (2.0)\n",
            "Requirement already satisfied: scikit-learn>=1.0.0 in /usr/local/lib/python3.10/dist-packages (from pyLDAvis) (1.2.2)\n",
            "Requirement already satisfied: gensim in /usr/local/lib/python3.10/dist-packages (from pyLDAvis) (4.3.1)\n",
            "Requirement already satisfied: setuptools in /usr/local/lib/python3.10/dist-packages (from pyLDAvis) (67.7.2)\n",
            "Requirement already satisfied: python-dateutil>=2.8.2 in /usr/local/lib/python3.10/dist-packages (from pandas>=2.0.0->pyLDAvis) (2.8.2)\n",
            "Requirement already satisfied: pytz>=2020.1 in /usr/local/lib/python3.10/dist-packages (from pandas>=2.0.0->pyLDAvis) (2022.7.1)\n",
            "Requirement already satisfied: tzdata>=2022.1 in /usr/local/lib/python3.10/dist-packages (from pandas>=2.0.0->pyLDAvis) (2023.3)\n",
            "Requirement already satisfied: threadpoolctl>=2.0.0 in /usr/local/lib/python3.10/dist-packages (from scikit-learn>=1.0.0->pyLDAvis) (3.1.0)\n",
            "Requirement already satisfied: smart-open>=1.8.1 in /usr/local/lib/python3.10/dist-packages (from gensim->pyLDAvis) (6.3.0)\n",
            "Requirement already satisfied: MarkupSafe>=2.0 in /usr/local/lib/python3.10/dist-packages (from jinja2->pyLDAvis) (2.1.2)\n",
            "Requirement already satisfied: six>=1.5 in /usr/local/lib/python3.10/dist-packages (from python-dateutil>=2.8.2->pandas>=2.0.0->pyLDAvis) (1.16.0)\n"
          ]
        }
      ]
    },
    {
      "cell_type": "code",
      "source": [
        "import pyLDAvis.gensim_models as gensimvis\n",
        "import pyLDAvis\n"
      ],
      "metadata": {
        "id": "6ZLlDXyaFpoh"
      },
      "execution_count": null,
      "outputs": []
    },
    {
      "cell_type": "code",
      "source": [
        "corpus = df['tfidf']\n",
        "id2word = dictionary\n"
      ],
      "metadata": {
        "colab": {
          "base_uri": "https://localhost:8080/"
        },
        "id": "cVuM43tfFfvT",
        "outputId": "141c0a42-8ade-4a70-cdfe-a4490bdb676d"
      },
      "execution_count": null,
      "outputs": [
        {
          "output_type": "stream",
          "name": "stderr",
          "text": [
            "/usr/local/lib/python3.10/dist-packages/ipykernel/ipkernel.py:283: DeprecationWarning: `should_run_async` will not call `transform_cell` automatically in the future. Please pass the result to `transformed_cell` argument and any exception that happen during thetransform in `preprocessing_exc_tuple` in IPython 7.17 and above.\n",
            "  and should_run_async(code)\n"
          ]
        }
      ]
    },
    {
      "cell_type": "code",
      "source": [
        "!pip install joblib\n"
      ],
      "metadata": {
        "colab": {
          "base_uri": "https://localhost:8080/"
        },
        "id": "f6AuzXJ8Fqb3",
        "outputId": "501cd5f6-0c74-4dda-de8e-e058c20d242e"
      },
      "execution_count": null,
      "outputs": [
        {
          "output_type": "stream",
          "name": "stderr",
          "text": [
            "/usr/local/lib/python3.10/dist-packages/ipykernel/ipkernel.py:283: DeprecationWarning: `should_run_async` will not call `transform_cell` automatically in the future. Please pass the result to `transformed_cell` argument and any exception that happen during thetransform in `preprocessing_exc_tuple` in IPython 7.17 and above.\n",
            "  and should_run_async(code)\n"
          ]
        },
        {
          "output_type": "stream",
          "name": "stdout",
          "text": [
            "Looking in indexes: https://pypi.org/simple, https://us-python.pkg.dev/colab-wheels/public/simple/\n",
            "Requirement already satisfied: joblib in /usr/local/lib/python3.10/dist-packages (1.2.0)\n"
          ]
        }
      ]
    },
    {
      "cell_type": "code",
      "source": [
        "import pyLDAvis.gensim_models as gensimvis\n",
        "import pyLDAvis\n",
        "from joblib import Memory"
      ],
      "metadata": {
        "colab": {
          "base_uri": "https://localhost:8080/"
        },
        "id": "lKLthBL5FuAa",
        "outputId": "fd84784b-45d7-439a-bde3-49d4246fc4aa"
      },
      "execution_count": null,
      "outputs": [
        {
          "output_type": "stream",
          "name": "stderr",
          "text": [
            "/usr/local/lib/python3.10/dist-packages/ipykernel/ipkernel.py:283: DeprecationWarning: `should_run_async` will not call `transform_cell` automatically in the future. Please pass the result to `transformed_cell` argument and any exception that happen during thetransform in `preprocessing_exc_tuple` in IPython 7.17 and above.\n",
            "  and should_run_async(code)\n"
          ]
        }
      ]
    },
    {
      "cell_type": "code",
      "source": [
        "cache_dir = './cache'\n",
        "memory = Memory(cache_dir, verbose=0)\n"
      ],
      "metadata": {
        "colab": {
          "base_uri": "https://localhost:8080/"
        },
        "id": "rW7VdB0bF6gZ",
        "outputId": "241e02cf-1666-471e-f4a8-50359f43225e"
      },
      "execution_count": null,
      "outputs": [
        {
          "output_type": "stream",
          "name": "stderr",
          "text": [
            "/usr/local/lib/python3.10/dist-packages/ipykernel/ipkernel.py:283: DeprecationWarning: `should_run_async` will not call `transform_cell` automatically in the future. Please pass the result to `transformed_cell` argument and any exception that happen during thetransform in `preprocessing_exc_tuple` in IPython 7.17 and above.\n",
            "  and should_run_async(code)\n"
          ]
        }
      ]
    },
    {
      "cell_type": "code",
      "source": [
        "@memory.cache\n",
        "def compute_vis_data():\n",
        "    return gensimvis.prepare(lda_model, corpus, id2word)\n",
        "\n",
        "vis_data = compute_vis_data()\n"
      ],
      "metadata": {
        "colab": {
          "base_uri": "https://localhost:8080/"
        },
        "id": "LHJ_OG46F8Z1",
        "outputId": "3f368e65-00f9-4b45-d756-d8bfa41e4903"
      },
      "execution_count": null,
      "outputs": [
        {
          "output_type": "stream",
          "name": "stderr",
          "text": [
            "/usr/local/lib/python3.10/dist-packages/ipykernel/ipkernel.py:283: DeprecationWarning: `should_run_async` will not call `transform_cell` automatically in the future. Please pass the result to `transformed_cell` argument and any exception that happen during thetransform in `preprocessing_exc_tuple` in IPython 7.17 and above.\n",
            "  and should_run_async(code)\n"
          ]
        }
      ]
    },
    {
      "cell_type": "code",
      "source": [
        "pyLDAvis.display(vis_data)\n"
      ],
      "metadata": {
        "colab": {
          "base_uri": "https://localhost:8080/",
          "height": 916
        },
        "id": "R3OmCEPFGDDN",
        "outputId": "cb51f961-b612-4696-fb0f-472a85365b2c"
      },
      "execution_count": null,
      "outputs": [
        {
          "output_type": "stream",
          "name": "stderr",
          "text": [
            "/usr/local/lib/python3.10/dist-packages/ipykernel/ipkernel.py:283: DeprecationWarning: `should_run_async` will not call `transform_cell` automatically in the future. Please pass the result to `transformed_cell` argument and any exception that happen during thetransform in `preprocessing_exc_tuple` in IPython 7.17 and above.\n",
            "  and should_run_async(code)\n"
          ]
        },
        {
          "output_type": "execute_result",
          "data": {
            "text/plain": [
              "<IPython.core.display.HTML object>"
            ],
            "text/html": [
              "\n",
              "<link rel=\"stylesheet\" type=\"text/css\" href=\"https://cdn.jsdelivr.net/gh/bmabey/pyLDAvis@3.4.0/pyLDAvis/js/ldavis.v1.0.0.css\">\n",
              "\n",
              "\n",
              "<div id=\"ldavis_el123101405377697658888048289278\" style=\"background-color:white;\"></div>\n",
              "<script type=\"text/javascript\">\n",
              "\n",
              "var ldavis_el123101405377697658888048289278_data = {\"mdsDat\": {\"x\": [0.09196262613321686, -0.2486727611618509, 0.14104855085470872, 0.13175234186641033, -0.05533101164671196, -0.06427920875864167, -0.0852870648300743, -0.08952138008414919, 0.05598737103953856, 0.12234053658755382], \"y\": [0.059522316961323644, 0.09965313926526885, 0.0795948948995705, 0.05754275513303262, 0.037915540893776356, 0.013763472583294897, -0.2923720861789809, 0.07600449643775423, -0.021900262242930024, -0.10972426775210972], \"topics\": [1, 2, 3, 4, 5, 6, 7, 8, 9, 10], \"cluster\": [1, 1, 1, 1, 1, 1, 1, 1, 1, 1], \"Freq\": [12.021408432853281, 11.365743276421163, 10.098164829451866, 9.91210918929228, 9.853760947896058, 9.646567025364208, 9.532173307455754, 9.522166302111925, 9.067293817211771, 8.980612871941688]}, \"tinfo\": {\"Term\": [\"interview\", \"news\", \"second\", \"woman\", \"murder\", \"man\", \"weather\", \"charg\", \"abc\", \"found\", \"talk\", \"90\", \"crash\", \"brisban\", \"countri\", \"start\", \"assault\", \"train\", \"search\", \"alleg\", \"fatal\", \"guilti\", \"drought\", \"hour\", \"safeti\", \"miss\", \"busi\", \"perth\", \"iraq\", \"clash\", \"convict\", \"celebr\", \"howard\", \"bushfir\", \"rape\", \"knight\", \"grower\", \"inquiri\", \"grain\", \"nuclear\", \"outback\", \"agreement\", \"explor\", \"updat\", \"spring\", \"mill\", \"coalit\", \"next\", \"increas\", \"music\", \"point\", \"keen\", \"pilbara\", \"cabinet\", \"summit\", \"respond\", \"justic\", \"global\", \"date\", \"ash\", \"rais\", \"burn\", \"korea\", \"scientist\", \"control\", \"held\", \"question\", \"airport\", \"carbon\", \"victoria\", \"extend\", \"campaign\", \"resid\", \"region\", \"fail\", \"poll\", \"review\", \"tiger\", \"western\", \"studi\", \"speak\", \"air\", \"plan\", \"public\", \"trade\", \"protest\", \"boost\", \"group\", \"water\", \"concern\", \"rural\", \"new\", \"mine\", \"polic\", \"govt\", \"council\", \"call\", \"rise\", \"alleg\", \"guilti\", \"woman\", \"aid\", \"river\", \"stab\", \"higher\", \"japan\", \"killer\", \"assault\", \"level\", \"eas\", \"clark\", \"edg\", \"plead\", \"gain\", \"arriv\", \"roar\", \"economi\", \"scam\", \"neglect\", \"japanes\", \"goe\", \"sold\", \"journalist\", \"valley\", \"kiwi\", \"cancel\", \"amnesti\", \"survivor\", \"found\", \"six\", \"match\", \"hors\", \"unit\", \"old\", \"murder\", \"search\", \"teen\", \"abus\", \"rescu\", \"man\", \"hunt\", \"miss\", \"shoot\", \"injur\", \"charg\", \"investig\", \"arrest\", \"sex\", \"polic\", \"bodi\", \"court\", \"death\", \"dead\", \"face\", \"accus\", \"one\", \"two\", \"rail\", \"hour\", \"bulldog\", \"closer\", \"cyclon\", \"anoth\", \"uni\", \"disput\", \"light\", \"firm\", \"jump\", \"woe\", \"option\", \"eye\", \"term\", \"mix\", \"indian\", \"comeback\", \"construct\", \"cruis\", \"controversi\", \"form\", \"part\", \"farewel\", \"relief\", \"ex\", \"boom\", \"juli\", \"tsunami\", \"social\", \"expert\", \"hand\", \"countri\", \"effort\", \"action\", \"reach\", \"kid\", \"sale\", \"staff\", \"coal\", \"resign\", \"prison\", \"stand\", \"drink\", \"support\", \"green\", \"final\", \"help\", \"mine\", \"commun\", \"target\", \"indigen\", \"feder\", \"citi\", \"consid\", \"ga\", \"game\", \"doubt\", \"collaps\", \"worri\", \"earli\", \"month\", \"major\", \"drum\", \"marin\", \"hawk\", \"harvest\", \"success\", \"kangaroo\", \"shortag\", \"cash\", \"dollar\", \"finish\", \"drown\", \"compens\", \"fiji\", \"tim\", \"peter\", \"basin\", \"brace\", \"fed\", \"semi\", \"oppos\", \"transport\", \"quak\", \"human\", \"mid\", \"receiv\", \"fuel\", \"stock\", \"million\", \"rugbi\", \"plant\", \"super\", \"look\", \"futur\", \"make\", \"women\", \"union\", \"decis\", \"cut\", \"welcom\", \"industri\", \"melbourn\", \"fund\", \"leader\", \"plan\", \"govt\", \"job\", \"farm\", \"work\", \"slam\", \"festiv\", \"oil\", \"violenc\", \"se\", \"econom\", \"clean\", \"confirm\", \"asylum\", \"replac\", \"histori\", \"project\", \"class\", \"angri\", \"crowd\", \"massiv\", \"helicopt\", \"round\", \"scott\", \"southern\", \"breakfast\", \"domest\", \"seeker\", \"underway\", \"victorian\", \"mother\", \"oversea\", \"zimbabw\", \"ill\", \"seat\", \"merger\", \"aim\", \"liber\", \"safeti\", \"storm\", \"sentenc\", \"drought\", \"mental\", \"parti\", \"sack\", \"deni\", \"boy\", \"driver\", \"die\", \"highway\", \"educ\", \"crash\", \"west\", \"road\", \"ban\", \"fire\", \"health\", \"polic\", \"90\", \"defenc\", \"dump\", \"wait\", \"safe\", \"truck\", \"posit\", \"list\", \"weather\", \"accid\", \"near\", \"tri\", \"destroy\", \"afghanistan\", \"volunt\", \"sugar\", \"pair\", \"latest\", \"must\", \"popul\", \"eagl\", \"africa\", \"forest\", \"3\", \"master\", \"father\", \"snap\", \"offend\", \"toni\", \"coff\", \"sight\", \"second\", \"telstra\", \"train\", \"step\", \"iraq\", \"launch\", \"four\", \"troop\", \"parent\", \"illeg\", \"firefight\", \"bomb\", \"way\", \"return\", \"kill\", \"india\", \"land\", \"remain\", \"day\", \"pakistan\", \"test\", \"hit\", \"set\", \"us\", \"news\", \"plane\", \"wallabi\", \"good\", \"front\", \"flight\", \"attempt\", \"fatal\", \"escap\", \"readi\", \"nrl\", \"french\", \"arm\", \"grandstand\", \"medic\", \"possibl\", \"cattl\", \"campbel\", \"jame\", \"uk\", \"territori\", \"emerg\", \"net\", \"veteran\", \"origin\", \"museum\", \"entertain\", \"diver\", \"feel\", \"brawl\", \"interview\", \"newcastl\", \"track\", \"play\", \"doctor\", \"soldier\", \"prepar\", \"rule\", \"clear\", \"hill\", \"gold\", \"nation\", \"crash\", \"abc\", \"power\", \"market\", \"chang\", \"home\", \"rural\", \"clash\", \"peopl\", \"brisban\", \"robberi\", \"holiday\", \"gp\", \"cat\", \"michael\", \"given\", \"like\", \"crack\", \"pilot\", \"irrig\", \"christma\", \"flag\", \"wit\", \"fli\", \"grow\", \"survey\", \"chelsea\", \"slow\", \"disrupt\", \"allow\", \"sieg\", \"york\", \"age\", \"newman\", \"recess\", \"seiz\", \"malaysia\", \"pacif\", \"parliament\", \"tree\", \"life\", \"councillor\", \"patient\", \"famili\", \"fine\", \"care\", \"afl\", \"rain\", \"busi\", \"raid\", \"leav\", \"need\", \"star\", \"drug\", \"charg\", \"rate\", \"author\", \"may\", \"water\", \"polic\", \"rise\", \"new\", \"jail\", \"victori\", \"tour\", \"revamp\", \"third\", \"stage\", \"zealand\", \"ask\", \"member\", \"policeman\", \"smith\", \"surviv\", \"brown\", \"docker\", \"insur\", \"england\", \"andrew\", \"royal\", \"system\", \"fourth\", \"perform\", \"prize\", \"unlik\", \"deliv\", \"lower\", \"honour\", \"perth\", \"'s\", \"la\", \"commiss\", \"place\", \"lion\", \"coupl\", \"capit\", \"row\", \"award\", \"video\", \"respons\", \"indonesian\", \"reduc\", \"senat\", \"aust\", \"world\", \"reject\", \"dog\", \"win\", \"claim\", \"polit\", \"strong\", \"post\", \"contract\", \"pm\", \"australian\", \"despit\", \"top\", \"market\", \"mayor\", \"call\", \"us\", \"start\", \"gener\", \"evid\", \"indonesia\", \"team\", \"quarter\", \"nrn\", \"ad\", \"shop\", \"pipelin\", \"packag\", \"await\", \"brother\", \"speed\", \"ambul\", \"whale\", \"pole\", \"watch\", \"rememb\", \"palestinian\", \"retir\", \"bring\", \"lake\", \"mosqu\", \"wall\", \"stori\", \"crew\", \"suffer\", \"sheep\", \"london\", \"10\", \"bay\", \"order\", \"johnson\", \"talk\", \"beat\", \"announc\", \"rudd\", \"abc\", \"name\", \"give\", \"pressur\", \"critic\", \"local\", \"condit\", \"sport\", \"blue\", \"nt\", \"farmer\", \"strike\", \"meet\", \"new\", \"govern\"], \"Freq\": [151.0, 61.0, 61.0, 58.0, 80.0, 150.0, 49.0, 126.0, 63.0, 54.0, 53.0, 40.0, 88.0, 39.0, 44.0, 36.0, 42.0, 41.0, 53.0, 38.0, 35.0, 38.0, 43.0, 35.0, 40.0, 76.0, 61.0, 34.0, 40.0, 32.0, 23.3765946855369, 22.683192477182, 23.02724512249912, 29.355081172287225, 19.777055494262648, 19.581506374213326, 25.888712804899377, 31.7723533599244, 21.748538080206117, 18.903410565619012, 17.18213186776054, 17.51800127836068, 14.929887484549965, 14.559827110450248, 14.45238041526122, 14.331112790112803, 13.90332035834306, 14.202512730503054, 24.764412286422115, 13.558111585259187, 13.39562017191731, 13.025451160688174, 12.98829726242732, 12.428225974781126, 12.130452746595944, 11.786044457623573, 11.644686968373994, 11.825605525962576, 12.858342097571677, 17.015697498395163, 24.930007291019148, 14.139921734276228, 20.67102014030231, 17.66659971817313, 27.917798227506307, 14.302339960499342, 39.22296214708553, 21.302538065545967, 15.289196213483523, 14.758358605589265, 17.44520067906605, 20.398519339065878, 31.726007616966076, 28.325987946934173, 24.563369558270455, 22.347654695713764, 31.361162968627138, 21.483223339193483, 17.5357811740258, 25.65596633173744, 20.387440638962733, 22.08292773874872, 45.0297425048219, 25.334400428661052, 23.21804622821852, 24.688091844134355, 26.754042990722, 26.070671991832906, 27.220126008190924, 24.772337079125954, 23.733233228184243, 28.09082172465805, 24.75762875535153, 26.527595183968824, 24.349150861643523, 24.524779362803827, 24.305481022715067, 23.16015064308, 37.77778348332608, 37.32012952159184, 57.089359568260626, 26.111225080404314, 32.79114227127968, 28.77024809476349, 22.30018753706951, 26.64272133133497, 19.71818979968668, 40.681260824126845, 18.53682993975892, 17.810161614080002, 19.322751139857587, 16.089301543121422, 24.13384149394591, 14.972502059995106, 16.166456561447493, 13.983386445023466, 14.203699149814836, 13.637033262507277, 13.671627712233732, 13.555102681333384, 12.490019181385664, 11.83974688713692, 11.570865508075716, 11.528748222420997, 11.634077656017928, 11.352398373984194, 11.199911203295699, 12.445853063583192, 50.42369013994097, 16.04052528269203, 20.008873131391383, 13.64688279330729, 23.2104204114079, 20.13060079041573, 63.0176959319539, 42.995349161393506, 31.934025505519017, 23.484023294421206, 28.239815722900588, 88.68194908841807, 23.39214911996875, 50.006117605848665, 29.054513554368423, 30.19814030508428, 68.35791475734038, 35.496872171540126, 33.673387774126404, 29.453801207572717, 73.53858199554581, 26.302236782538042, 45.39504949063252, 37.95358301220447, 29.39876276466323, 38.26184845915283, 30.204393838141062, 25.84469526330689, 26.412893179719127, 32.116608312675304, 34.19592114642148, 22.501938436767286, 24.162111526868152, 20.517678718339692, 19.338582824078255, 17.68402731238291, 17.819127767599955, 20.21302883444821, 18.766663775527928, 16.734914002173497, 17.237483622644447, 15.206419716420923, 17.57448837586814, 15.062073503311753, 15.467194276497054, 14.494182243108613, 13.833010171307501, 13.999590390876007, 13.352044404861886, 12.949766041817135, 17.580878275244597, 12.183252847733833, 11.698092148850305, 11.51257277472584, 14.906423930917738, 11.167837127007001, 11.086738622067514, 12.634355536636555, 11.198908637113872, 15.986120963501728, 22.171661713494395, 39.25850432287724, 17.028532376077116, 29.256450159365247, 17.880705956058836, 14.638830084059666, 30.993701650844194, 17.35725100903302, 24.067475311178153, 18.73050493723439, 23.341651136605975, 21.921921545200792, 18.825634900410783, 25.004600355570037, 25.746702827621686, 26.957561862710236, 25.69099389430264, 26.65526352326758, 20.25718561354277, 19.316485222566524, 20.551353449629694, 19.442004671111775, 18.0350760116204, 18.689938874295752, 17.9885542397019, 17.98254857961447, 26.83467244971322, 21.606060937814295, 19.158542786876687, 20.86724261332033, 18.92652916673492, 17.869074931739018, 19.600747561360425, 18.094133725241512, 17.122898219624, 17.33862042237513, 17.64733514444181, 16.540078844175707, 22.06064032520663, 17.240819115659868, 20.13982017206419, 15.943834465786802, 15.080220565074358, 15.714519423985815, 16.61630661055657, 14.723629178496335, 13.720537813604446, 13.268726779115163, 15.63288884352645, 12.791595121717663, 12.518645520211475, 12.512326207828558, 13.085462948412603, 12.382509691825085, 12.23647907618917, 12.208113830827292, 13.776045363689487, 16.623397214722424, 22.76536906153408, 16.00822318616947, 14.04044758131756, 25.83128972887888, 14.482089444805684, 27.759771883278194, 32.13597585490499, 30.491981563072702, 24.085411375539024, 30.13302915617137, 25.12460730480786, 26.866169064281852, 23.170037007315354, 22.486491450933382, 21.814564302068916, 25.837401603373966, 18.986857761913047, 22.54508511104965, 21.278086550762016, 19.37056128043055, 18.204735835434917, 18.22600199053553, 27.025338605566837, 31.727926950291423, 20.09966575476467, 24.082861196766448, 18.316302938201936, 17.12179966977193, 27.876640891291288, 21.034714554387747, 20.65135378880396, 15.254070751585742, 14.139513983988635, 24.65480346916894, 13.7374165481604, 13.190353394354542, 14.3588705349549, 12.714597195148999, 12.44270972848714, 12.407754107557835, 15.23740093600581, 13.441827273313988, 11.61603160241658, 11.799879496511561, 15.056785958798772, 11.492460876601118, 17.621541693925455, 25.329706036383097, 10.887214592302827, 13.933175336687128, 11.34239691711769, 10.477876135030883, 16.152631364575896, 20.5179015292591, 26.702562458752347, 35.45841496197843, 27.45267603937757, 29.478098000999346, 36.96428871393139, 21.081971944304403, 21.21128112102969, 16.928208969607574, 29.751779553750946, 26.68277689491625, 31.220791116798356, 37.41918046053945, 20.671767376506374, 19.841982875670187, 37.81589282605129, 22.540412084718522, 22.754618839981, 20.737561781318927, 22.89487062956504, 20.110310290624188, 20.321875596251925, 39.428444878843074, 27.925549013270988, 29.2581157613862, 23.015771978575938, 18.802129131560736, 19.224366274974752, 18.592615511376177, 19.117600751970727, 46.949231195533464, 31.587908906295198, 20.512346754037466, 18.209679033372968, 14.48458746740551, 14.977185538741418, 14.303530766410605, 14.522954893423329, 17.512744664030695, 14.055198241563833, 14.224702778627275, 13.434661950552947, 14.581080933610043, 13.2193415074787, 13.211495689573068, 13.203572789947662, 13.11386618564138, 13.354049153901027, 12.063824128569635, 11.610296395124728, 11.336091941619316, 11.16382439195776, 11.294236567781693, 56.360211773979124, 17.83155098646046, 37.49320552827474, 20.56717938598286, 33.974748029674544, 24.212852921954905, 22.79763988800896, 17.72534889412241, 14.152417560629578, 17.03434981720278, 21.947632234868536, 19.866987396340587, 18.949300157959, 26.68837456393496, 39.4901983480568, 19.675332876516194, 25.67359188782298, 17.986591689391908, 26.297863889324372, 20.588413564501728, 20.97574920636922, 21.663628308917012, 21.087614969831662, 19.84962198604279, 60.064148853028115, 23.742520096291106, 23.339364740841543, 23.10855682183161, 23.922221337694836, 25.940230552405254, 22.48263648818981, 34.52642804458853, 30.081692207973397, 27.296932307391412, 22.41750952299362, 18.06534458018668, 16.192710387308995, 19.227998373406354, 15.189594264471275, 19.18293976967321, 29.42954844158664, 14.711228798178078, 13.804984320929643, 20.20551219252506, 13.673344864768438, 21.29795210983972, 13.959537544223114, 14.054786093525626, 12.695843740257562, 12.798004503523241, 11.907132289598641, 11.028285496319395, 10.904331718441254, 10.683832727746587, 136.87362432085322, 21.183541050018565, 25.418614557236918, 27.091615160903135, 27.225793538630242, 20.214421993705972, 20.77566692748723, 24.895263027826747, 22.482277412139776, 21.14745934753629, 26.849217064944863, 28.761113866323814, 32.69106703381369, 25.69344012213797, 23.53081393503378, 23.147714246439435, 22.845787507337782, 22.28737891164872, 21.225815907606236, 31.110330523929825, 24.808953152405888, 37.670636099610476, 18.021203369714197, 16.93683429004929, 15.795877711975832, 15.293720729363795, 16.999043219100745, 15.812452146056375, 18.371005632494604, 14.818083928247558, 14.976022034879518, 16.03024952155808, 19.936719901273104, 14.695626233842882, 14.082504420506021, 13.540451222511019, 14.756375003984193, 18.537668460356414, 12.822721523381963, 15.921538335602762, 12.558584030210213, 17.439706859223993, 11.932019153358796, 11.79305133708364, 16.971816509100037, 11.609697226196245, 11.59524781246508, 13.597116620216266, 11.107097304559977, 15.98620743314054, 19.890335399120058, 20.57668436296185, 22.386189009776498, 15.499170160533554, 17.879812522989514, 30.737283473337914, 24.564238852478702, 19.641360188824805, 19.034821771864458, 24.633788431535006, 29.674599383939057, 18.20888270317972, 20.168588063691804, 21.35546355974969, 19.566335919661235, 21.940179303966108, 27.358586263566753, 21.426850112918757, 18.01125581068739, 20.018650033669275, 20.772932619063834, 22.34220308131704, 19.019810758552467, 20.267148790126598, 18.074908594145032, 25.765369187631062, 30.597103674696324, 19.58383381638842, 19.062974463699796, 19.471843923473745, 16.470126997369594, 15.71453894061887, 15.595886822986675, 15.867652804284683, 16.91561454209402, 15.77068655587152, 14.60038794848887, 14.53955849017994, 14.456499765244931, 29.602193049455035, 15.156911421791154, 14.319686961254979, 14.116929863045318, 13.62388641984856, 12.050440413641725, 12.229266462552124, 12.166883577687493, 11.973083911338449, 12.255071801637918, 22.2635403393607, 31.98928783155228, 11.133703974420985, 11.119872354072708, 11.71238857403958, 12.466402503380998, 14.504682727074286, 12.084683938176958, 13.778898724296774, 15.714007618709756, 23.430547511020663, 14.735825008249867, 22.401566730893055, 18.11112851423481, 15.757995207542477, 22.56809647276398, 21.59300346470416, 31.266793539426324, 29.482973383419925, 21.72771426951796, 40.444630838485104, 29.721881934838454, 17.78454494752807, 15.495360027754002, 16.928531874741548, 16.171844947678796, 19.4074125166381, 21.149377271732764, 16.885280891282825, 18.795900675884866, 19.25197325708435, 18.284387758597457, 17.832175886594708, 17.162506722718312, 35.21235566893964, 22.71561257723003, 20.73596134231732, 19.71109189667973, 23.080467856297155, 19.218930328746698, 20.526759401352095, 18.265781941862617, 22.164561385644586, 19.00166901636045, 17.167645172655735, 16.61431644405435, 15.573230866520014, 15.992579593139, 15.739967762478217, 22.895739613918902, 15.148346341002549, 15.450009792211597, 13.649666329922386, 13.915793027647045, 14.458814747959833, 13.942101741054065, 24.216779426364738, 13.173168168286203, 13.010188439543356, 12.984145410311863, 14.145766174540908, 14.552567944613301, 15.304226920232072, 12.609305190268593, 17.746915269984154, 17.252445410596852, 19.91712100475777, 16.007818417328973, 41.12968046063583, 23.048461028900498, 27.68458325726101, 21.78647144661832, 36.053978210978286, 29.083809394828208, 23.583812079721092, 20.91723312754384, 20.50738068804761, 21.681135786775727, 18.041052426703143, 20.81898123999541, 16.86427997585938, 20.818227756256448, 21.06762745669219, 18.483583165499457, 18.554687426906565, 19.463686108995386, 18.62915075641071], \"Total\": [151.0, 61.0, 61.0, 58.0, 80.0, 150.0, 49.0, 126.0, 63.0, 54.0, 53.0, 40.0, 88.0, 39.0, 44.0, 36.0, 42.0, 41.0, 53.0, 38.0, 35.0, 38.0, 43.0, 35.0, 40.0, 76.0, 61.0, 34.0, 40.0, 32.0, 24.24399137449022, 23.55058683415743, 23.958728122549168, 30.544810143150723, 20.644413837542952, 20.502362674845735, 27.110376424929218, 33.32154222194498, 22.829789300814134, 19.86219980923557, 18.066280004356422, 18.488418979167147, 15.797237750050472, 15.427154444905693, 15.319717742067848, 15.212794223803828, 14.770673252502805, 15.094614477684154, 26.33419796215638, 14.42550655374385, 14.263027398367004, 13.89282634137563, 13.855643782430533, 13.295571559040477, 12.997806619039842, 12.65342324819419, 12.512019480783467, 12.710205418533056, 13.826886579551644, 18.303140008543544, 26.931805736692063, 15.225210586856756, 22.482206146127947, 19.140947475510107, 30.848662365282994, 15.42344405582929, 47.01643959484171, 23.907066625238688, 16.661638938969627, 16.024985627617074, 19.752507610445335, 24.275695493613178, 42.94318554591082, 39.5278811490083, 34.12889616091885, 29.774153320997893, 50.40445340758113, 28.52574385234277, 20.900182803986993, 39.93377797586521, 27.208430795633937, 31.528151877098388, 122.44673537322436, 42.10992554085589, 37.391460752477826, 46.97453768608925, 58.8608602573762, 59.97385108368572, 77.99632777625871, 66.72014450141863, 54.538820826701524, 149.11592499802848, 75.65233182168697, 187.55945579627766, 98.98532067730692, 109.95033104498417, 108.78795989352167, 62.79731322322815, 38.738052081658424, 38.34846547798283, 58.7696701588212, 26.979640030346392, 34.012836619164176, 29.84843288926509, 23.16864122059563, 27.755306799409595, 20.594487938931884, 42.49236502700642, 19.40528290919133, 18.705733698612196, 20.31003168177028, 16.97258758141742, 25.504538747282595, 15.840884537916008, 17.146857556784735, 14.851830871906683, 15.099122186616679, 14.505439379384082, 14.542327814604135, 14.447810207499204, 13.373444006241689, 12.72697263272444, 12.439251648791695, 12.40539764872478, 12.519966634402966, 12.220758312323087, 12.068507805703254, 13.413313425463338, 54.39666163655137, 17.384266838265667, 21.937617415478485, 14.766022165172469, 25.899077848735324, 22.783707400142074, 80.31746326093237, 53.812442407257706, 40.703666818829, 28.400220486142025, 35.917171424433285, 150.61696754669472, 28.46449295148283, 76.47213751431917, 37.794768430497655, 41.206857768523626, 126.80004487548983, 52.37561628834604, 50.805329389390714, 42.06250654356836, 187.55945579627766, 35.52694850873096, 100.31108135097571, 75.68439195609972, 49.34885118609872, 94.18669712613058, 59.57730169730201, 41.356971767125366, 57.408023085524874, 33.265512920591306, 35.48543775676147, 23.36804064186824, 25.152354443052726, 21.435309712065077, 20.267891333708018, 18.547622414544026, 18.69562172781783, 21.23105670801391, 19.739728100095515, 17.61321330288501, 18.186888268200807, 16.07003374204916, 18.607803102652333, 15.973487521293917, 16.418300904894366, 15.40221946316718, 14.718017249198985, 14.89711159702025, 14.215714438836708, 13.82854650809553, 18.781357093441173, 13.04691406514606, 12.561694284237348, 12.376184880788447, 16.052554871920236, 12.03330113506389, 11.950364838443885, 13.626876601965254, 12.083887342138222, 17.26287673544814, 24.13070463486095, 44.82515911094667, 19.149660243858317, 35.435631530472584, 20.590862732877426, 16.22765332373161, 39.9837156562173, 20.160491651241887, 30.96466191703951, 22.272066781824165, 29.979695351632813, 31.893076081926637, 24.39865356343025, 41.498434726097734, 46.351279375158754, 58.23194448359582, 62.46965933646711, 75.65233182168697, 35.64619304908593, 30.69781226975415, 43.78875835391319, 35.03936053525823, 24.046758881124944, 45.6982910150398, 27.725457998380886, 30.791207448575346, 27.870482813260217, 22.4693395136057, 20.021781943329596, 21.84680601152584, 19.83030330122179, 18.73238895868065, 20.552683926826933, 19.002283906820196, 17.98929595222078, 18.227811189529287, 18.554532278306255, 17.403312920635855, 23.240387071455466, 18.172401754658928, 21.2364819223081, 16.829158447906345, 15.943508188876319, 16.619947869776407, 17.57972586219734, 15.589776961058083, 14.583790833806008, 14.131988379600934, 16.682801944048546, 13.661684875890284, 13.381911118539843, 13.375603893300372, 13.994002534057026, 13.245756932949035, 13.099712933381285, 13.073820596315148, 14.771081193913188, 18.051141174851516, 25.262100398450926, 17.539083209081046, 15.205504175592107, 30.211762460795864, 15.854243788887624, 36.4196055775148, 45.829256962276546, 44.11220383633508, 32.52362709866791, 46.375708833745506, 35.59203646843487, 56.26698307164476, 45.50361802320274, 42.28642669101441, 39.21775859338946, 76.76853839433686, 32.121190475470584, 122.44673537322436, 98.98532067730692, 53.287914084249444, 36.45352818714222, 51.71130393632454, 28.08075987920317, 33.048391506699645, 20.963181790481297, 25.15714896755324, 19.179829396770423, 18.001661767050518, 29.416131235898938, 22.201945230745288, 21.817373249087833, 16.11758943572202, 15.00304901166179, 26.17658560445216, 14.601041056770597, 14.053894400446563, 15.29975939108533, 13.59429743842505, 13.306258644209588, 13.271347245144181, 16.311207998658592, 14.39252842102356, 12.479592083458215, 12.687449214345023, 16.190971246207198, 12.383777482350482, 18.989366746481966, 27.321244051585644, 11.750780570279003, 15.040855402297971, 12.262503383782501, 11.341391986088356, 17.53608138681411, 22.402199104806424, 29.98955108267094, 40.867300665381826, 31.3721213686035, 34.13355161893, 43.801994295006274, 23.936930453643495, 24.632346459498024, 19.005792259176058, 37.69890809622974, 33.07719435273301, 47.10784708403702, 61.44239489313652, 27.075708069807675, 26.21124923056513, 88.83541015494121, 36.34192664861028, 59.06178722981426, 53.45526607368292, 97.03137869504683, 69.0614372469721, 187.55945579627766, 40.404295985551926, 28.78731426954563, 30.305313645994076, 24.01627127922314, 19.67783117892955, 20.120506466544192, 19.503067734837696, 20.061880312671473, 49.32684661963248, 33.21295056316645, 21.72167735871687, 19.28432085683801, 15.34649149804556, 15.877570460404234, 15.165232137967912, 15.406546281528582, 18.59013579533678, 14.950903941839808, 15.13275405700836, 14.296402626923028, 15.519884213094835, 14.081044619151061, 14.07323447709175, 14.065316005647514, 13.975579171133107, 14.253116587470608, 12.925651714372671, 12.472042699689304, 12.197823626139021, 12.025554941655768, 12.166239090355672, 61.88825834987093, 19.342124604249143, 41.2929800379233, 22.589010035407508, 40.76366901585938, 28.832633634181672, 27.813008227029513, 20.592769009355877, 15.394158226734344, 19.74836920181762, 28.82986226917114, 25.767632278178734, 24.591835754391113, 44.4872540401651, 93.74472607926468, 26.736629909036875, 44.70724140759678, 23.35427505484575, 62.941885514096036, 38.13676233297458, 60.87565172020264, 79.86708615796455, 76.61467937142092, 90.1042412165614, 61.55370668439995, 24.604139780686378, 24.20096999174038, 23.970195873266967, 24.816176970966644, 26.94859404220478, 23.36230364796224, 35.889424607156364, 31.356271141938798, 28.469530672188352, 23.50401997326899, 18.98818307889051, 17.090846302952773, 20.313028827574282, 16.054020102679253, 20.280396124316237, 31.20128587438228, 15.602850684564366, 14.682261454585143, 21.50101355871222, 14.551371098709707, 22.668584134665984, 14.880647013483381, 15.007539008695314, 13.557453776143133, 13.705395141190312, 12.768690408377406, 11.889993687460084, 11.765936228939387, 11.545437758879721, 151.35877542502274, 23.092726675423375, 28.11348809994375, 30.18842269865526, 32.37093162044514, 23.44394314629264, 25.10915808626804, 33.988043188098295, 29.531416016517166, 28.858475055296218, 46.073566900157545, 63.23762225497298, 88.83541015494121, 63.337486034093274, 50.37241430481156, 75.06044240786743, 75.86573163768489, 65.94183901501601, 54.538820826701524, 32.00564953775257, 25.710916780176337, 39.13931020287476, 18.87919515581249, 17.794838349486813, 16.653908117710923, 16.151724476763142, 17.963604334976388, 16.71135302805298, 19.44001354935985, 15.68105950182608, 15.849640231188822, 16.966154297202404, 21.170909646059343, 15.609085226812503, 14.96245954212967, 14.418347535543722, 15.726419602208086, 19.769210366665575, 13.68076384465765, 16.98704012253425, 13.416579040188894, 18.67266847779913, 12.790117126450612, 12.65103918797602, 18.22514846017965, 12.467719050292201, 12.453287649828914, 14.62489968659118, 11.973846156429168, 17.291872047425155, 22.40190590622188, 23.62126818794085, 27.1315851133793, 17.52068012720791, 20.884536486337087, 42.29367599572649, 32.364270697818114, 24.674111954491753, 24.218674372204852, 36.83788650701298, 61.96185248713256, 25.06474514666366, 31.956175874176026, 38.7158406257477, 31.301688725227514, 55.91982478371302, 126.80004487548983, 57.803955424001586, 29.39286440929191, 51.740697758543384, 77.99632777625871, 187.55945579627766, 62.79731322322815, 149.11592499802848, 63.47762408411888, 26.82075828434849, 31.898108638630024, 20.465488113807442, 19.92302943629736, 20.438214245411867, 17.33018565498484, 16.57459972843119, 16.456036370394436, 16.75746098123872, 17.885848348788446, 16.683430357934565, 15.460432165522704, 15.399699541778016, 15.316611799071337, 31.365505413551833, 16.076405465707435, 15.206049249178612, 14.995080057357, 14.48393348928146, 12.910470495936144, 13.111752560227279, 13.048055865268664, 12.840368399066149, 13.160011999980082, 23.923013984397468, 34.42226340439023, 11.993766675574772, 11.979900426848262, 12.619835163453338, 13.434601124604413, 15.708057944725512, 13.046803999522561, 14.941401116736838, 17.215252220082718, 26.546714122075237, 16.208959175667825, 26.01395066842187, 20.472827507781357, 17.854015892099966, 29.01834444445586, 28.889351293960747, 51.732890499967056, 48.182368883733766, 32.44397857306587, 101.67050200789267, 62.8736313116735, 23.850602429603533, 17.98488442891798, 23.375536977026513, 21.405063215992463, 48.059906145710485, 78.94257941334573, 26.34113420550035, 53.81884326754311, 75.06044240786743, 52.369506552295846, 108.78795989352167, 90.1042412165614, 36.26355003231282, 23.61163083297526, 21.59450902115259, 20.569655788035405, 24.093719849877115, 20.07743673736421, 21.44778720697074, 19.12433715666426, 23.218151604436233, 19.950698559620584, 18.031532740408323, 17.472961267150414, 16.431781225009978, 16.916596361225515, 16.66939741136222, 24.256348785169603, 16.064275663858567, 16.402203829639255, 14.508191060947714, 14.79284975027001, 15.391448460917871, 14.84893037525214, 25.792073138132025, 14.031832401261411, 13.86871630163597, 13.845922550141019, 15.085890827497332, 15.52510036312497, 16.341927603479643, 13.467839403036749, 19.217151680065474, 18.829111098897616, 22.103197191625277, 17.394541528339918, 53.83495102816154, 27.27792841744695, 39.43722291997355, 28.36806005593909, 63.337486034093274, 46.0177202535321, 34.506211767984624, 28.17059653578738, 29.83279624857155, 34.08906200838443, 23.20853643672735, 35.499793132116956, 20.55801927961541, 47.00000796357122, 67.74822818800871, 36.957668502458, 42.50230241622374, 149.11592499802848, 55.08832140627475], \"Category\": [\"Default\", \"Default\", \"Default\", \"Default\", \"Default\", \"Default\", \"Default\", \"Default\", \"Default\", \"Default\", \"Default\", \"Default\", \"Default\", \"Default\", \"Default\", \"Default\", \"Default\", \"Default\", \"Default\", \"Default\", \"Default\", \"Default\", \"Default\", \"Default\", \"Default\", \"Default\", \"Default\", \"Default\", \"Default\", \"Default\", \"Topic1\", \"Topic1\", \"Topic1\", \"Topic1\", \"Topic1\", \"Topic1\", \"Topic1\", \"Topic1\", \"Topic1\", \"Topic1\", \"Topic1\", \"Topic1\", \"Topic1\", \"Topic1\", \"Topic1\", \"Topic1\", \"Topic1\", \"Topic1\", \"Topic1\", \"Topic1\", \"Topic1\", \"Topic1\", \"Topic1\", \"Topic1\", \"Topic1\", \"Topic1\", \"Topic1\", \"Topic1\", \"Topic1\", \"Topic1\", \"Topic1\", \"Topic1\", \"Topic1\", \"Topic1\", \"Topic1\", \"Topic1\", \"Topic1\", \"Topic1\", \"Topic1\", \"Topic1\", \"Topic1\", \"Topic1\", \"Topic1\", \"Topic1\", \"Topic1\", \"Topic1\", \"Topic1\", \"Topic1\", \"Topic1\", \"Topic1\", \"Topic1\", \"Topic1\", \"Topic1\", \"Topic1\", \"Topic1\", \"Topic1\", \"Topic1\", \"Topic1\", \"Topic1\", \"Topic1\", \"Topic1\", \"Topic1\", \"Topic1\", \"Topic1\", \"Topic1\", \"Topic1\", \"Topic1\", \"Topic1\", \"Topic2\", \"Topic2\", \"Topic2\", \"Topic2\", \"Topic2\", \"Topic2\", \"Topic2\", \"Topic2\", \"Topic2\", \"Topic2\", \"Topic2\", \"Topic2\", \"Topic2\", \"Topic2\", \"Topic2\", \"Topic2\", \"Topic2\", \"Topic2\", \"Topic2\", \"Topic2\", \"Topic2\", \"Topic2\", \"Topic2\", \"Topic2\", \"Topic2\", \"Topic2\", \"Topic2\", \"Topic2\", \"Topic2\", \"Topic2\", \"Topic2\", \"Topic2\", \"Topic2\", \"Topic2\", \"Topic2\", \"Topic2\", \"Topic2\", \"Topic2\", \"Topic2\", \"Topic2\", \"Topic2\", \"Topic2\", \"Topic2\", \"Topic2\", \"Topic2\", \"Topic2\", \"Topic2\", \"Topic2\", \"Topic2\", \"Topic2\", \"Topic2\", \"Topic2\", \"Topic2\", \"Topic2\", \"Topic2\", \"Topic2\", \"Topic2\", \"Topic2\", \"Topic2\", \"Topic3\", \"Topic3\", \"Topic3\", \"Topic3\", \"Topic3\", \"Topic3\", \"Topic3\", \"Topic3\", \"Topic3\", \"Topic3\", \"Topic3\", \"Topic3\", \"Topic3\", \"Topic3\", \"Topic3\", \"Topic3\", \"Topic3\", \"Topic3\", \"Topic3\", \"Topic3\", \"Topic3\", \"Topic3\", \"Topic3\", \"Topic3\", \"Topic3\", \"Topic3\", \"Topic3\", \"Topic3\", \"Topic3\", \"Topic3\", \"Topic3\", \"Topic3\", \"Topic3\", \"Topic3\", \"Topic3\", \"Topic3\", \"Topic3\", \"Topic3\", \"Topic3\", \"Topic3\", \"Topic3\", \"Topic3\", \"Topic3\", \"Topic3\", \"Topic3\", \"Topic3\", \"Topic3\", \"Topic3\", \"Topic3\", \"Topic3\", \"Topic3\", \"Topic3\", \"Topic3\", \"Topic3\", \"Topic3\", \"Topic3\", \"Topic3\", \"Topic4\", \"Topic4\", \"Topic4\", \"Topic4\", \"Topic4\", \"Topic4\", \"Topic4\", \"Topic4\", \"Topic4\", \"Topic4\", \"Topic4\", \"Topic4\", \"Topic4\", \"Topic4\", \"Topic4\", \"Topic4\", \"Topic4\", \"Topic4\", \"Topic4\", \"Topic4\", \"Topic4\", \"Topic4\", \"Topic4\", \"Topic4\", \"Topic4\", \"Topic4\", \"Topic4\", \"Topic4\", \"Topic4\", \"Topic4\", \"Topic4\", \"Topic4\", \"Topic4\", \"Topic4\", \"Topic4\", \"Topic4\", \"Topic4\", \"Topic4\", \"Topic4\", \"Topic4\", \"Topic4\", \"Topic4\", \"Topic4\", \"Topic4\", \"Topic4\", \"Topic4\", \"Topic4\", \"Topic4\", \"Topic4\", \"Topic4\", \"Topic4\", \"Topic4\", \"Topic4\", \"Topic4\", \"Topic5\", \"Topic5\", \"Topic5\", \"Topic5\", \"Topic5\", \"Topic5\", \"Topic5\", \"Topic5\", \"Topic5\", \"Topic5\", \"Topic5\", \"Topic5\", \"Topic5\", \"Topic5\", \"Topic5\", \"Topic5\", \"Topic5\", \"Topic5\", \"Topic5\", \"Topic5\", \"Topic5\", \"Topic5\", \"Topic5\", \"Topic5\", \"Topic5\", \"Topic5\", \"Topic5\", \"Topic5\", \"Topic5\", \"Topic5\", \"Topic5\", \"Topic5\", \"Topic5\", \"Topic5\", \"Topic5\", \"Topic5\", \"Topic5\", \"Topic5\", \"Topic5\", \"Topic5\", \"Topic5\", \"Topic5\", \"Topic5\", \"Topic5\", \"Topic5\", \"Topic5\", \"Topic5\", \"Topic5\", \"Topic5\", \"Topic5\", \"Topic5\", \"Topic5\", \"Topic5\", \"Topic6\", \"Topic6\", \"Topic6\", \"Topic6\", \"Topic6\", \"Topic6\", \"Topic6\", \"Topic6\", \"Topic6\", \"Topic6\", \"Topic6\", \"Topic6\", \"Topic6\", \"Topic6\", \"Topic6\", \"Topic6\", \"Topic6\", \"Topic6\", \"Topic6\", \"Topic6\", \"Topic6\", \"Topic6\", \"Topic6\", \"Topic6\", \"Topic6\", \"Topic6\", \"Topic6\", \"Topic6\", \"Topic6\", \"Topic6\", \"Topic6\", \"Topic6\", \"Topic6\", \"Topic6\", \"Topic6\", \"Topic6\", \"Topic6\", \"Topic6\", \"Topic6\", \"Topic6\", \"Topic6\", \"Topic6\", \"Topic6\", \"Topic6\", \"Topic6\", \"Topic6\", \"Topic6\", \"Topic6\", \"Topic6\", \"Topic6\", \"Topic6\", \"Topic6\", \"Topic6\", \"Topic6\", \"Topic6\", \"Topic7\", \"Topic7\", \"Topic7\", \"Topic7\", \"Topic7\", \"Topic7\", \"Topic7\", \"Topic7\", \"Topic7\", \"Topic7\", \"Topic7\", \"Topic7\", \"Topic7\", \"Topic7\", \"Topic7\", \"Topic7\", \"Topic7\", \"Topic7\", \"Topic7\", \"Topic7\", \"Topic7\", \"Topic7\", \"Topic7\", \"Topic7\", \"Topic7\", \"Topic7\", \"Topic7\", \"Topic7\", \"Topic7\", \"Topic7\", \"Topic7\", \"Topic7\", \"Topic7\", \"Topic7\", \"Topic7\", \"Topic7\", \"Topic7\", \"Topic7\", \"Topic7\", \"Topic7\", \"Topic7\", \"Topic7\", \"Topic7\", \"Topic7\", \"Topic7\", \"Topic7\", \"Topic7\", \"Topic7\", \"Topic7\", \"Topic8\", \"Topic8\", \"Topic8\", \"Topic8\", \"Topic8\", \"Topic8\", \"Topic8\", \"Topic8\", \"Topic8\", \"Topic8\", \"Topic8\", \"Topic8\", \"Topic8\", \"Topic8\", \"Topic8\", \"Topic8\", \"Topic8\", \"Topic8\", \"Topic8\", \"Topic8\", \"Topic8\", \"Topic8\", \"Topic8\", \"Topic8\", \"Topic8\", \"Topic8\", \"Topic8\", \"Topic8\", \"Topic8\", \"Topic8\", \"Topic8\", \"Topic8\", \"Topic8\", \"Topic8\", \"Topic8\", \"Topic8\", \"Topic8\", \"Topic8\", \"Topic8\", \"Topic8\", \"Topic8\", \"Topic8\", \"Topic8\", \"Topic8\", \"Topic8\", \"Topic8\", \"Topic8\", \"Topic8\", \"Topic8\", \"Topic8\", \"Topic8\", \"Topic8\", \"Topic8\", \"Topic8\", \"Topic8\", \"Topic8\", \"Topic9\", \"Topic9\", \"Topic9\", \"Topic9\", \"Topic9\", \"Topic9\", \"Topic9\", \"Topic9\", \"Topic9\", \"Topic9\", \"Topic9\", \"Topic9\", \"Topic9\", \"Topic9\", \"Topic9\", \"Topic9\", \"Topic9\", \"Topic9\", \"Topic9\", \"Topic9\", \"Topic9\", \"Topic9\", \"Topic9\", \"Topic9\", \"Topic9\", \"Topic9\", \"Topic9\", \"Topic9\", \"Topic9\", \"Topic9\", \"Topic9\", \"Topic9\", \"Topic9\", \"Topic9\", \"Topic9\", \"Topic9\", \"Topic9\", \"Topic9\", \"Topic9\", \"Topic9\", \"Topic9\", \"Topic9\", \"Topic9\", \"Topic9\", \"Topic9\", \"Topic9\", \"Topic9\", \"Topic9\", \"Topic9\", \"Topic9\", \"Topic9\", \"Topic9\", \"Topic9\", \"Topic9\", \"Topic9\", \"Topic9\", \"Topic9\", \"Topic9\", \"Topic10\", \"Topic10\", \"Topic10\", \"Topic10\", \"Topic10\", \"Topic10\", \"Topic10\", \"Topic10\", \"Topic10\", \"Topic10\", \"Topic10\", \"Topic10\", \"Topic10\", \"Topic10\", \"Topic10\", \"Topic10\", \"Topic10\", \"Topic10\", \"Topic10\", \"Topic10\", \"Topic10\", \"Topic10\", \"Topic10\", \"Topic10\", \"Topic10\", \"Topic10\", \"Topic10\", \"Topic10\", \"Topic10\", \"Topic10\", \"Topic10\", \"Topic10\", \"Topic10\", \"Topic10\", \"Topic10\", \"Topic10\", \"Topic10\", \"Topic10\", \"Topic10\", \"Topic10\", \"Topic10\", \"Topic10\", \"Topic10\", \"Topic10\", \"Topic10\", \"Topic10\", \"Topic10\", \"Topic10\", \"Topic10\", \"Topic10\", \"Topic10\", \"Topic10\", \"Topic10\"], \"logprob\": [30.0, 29.0, 28.0, 27.0, 26.0, 25.0, 24.0, 23.0, 22.0, 21.0, 20.0, 19.0, 18.0, 17.0, 16.0, 15.0, 14.0, 13.0, 12.0, 11.0, 10.0, 9.0, 8.0, 7.0, 6.0, 5.0, 4.0, 3.0, 2.0, 1.0, -5.3476, -5.3777, -5.3627, -5.1199, -5.5148, -5.5248, -5.2455, -5.0407, -5.4198, -5.56, -5.6555, -5.6361, -5.796, -5.8211, -5.8285, -5.8369, -5.8672, -5.8459, -5.2899, -5.8924, -5.9044, -5.9324, -5.9353, -5.9794, -6.0036, -6.0324, -6.0445, -6.0291, -5.9453, -5.6652, -5.2833, -5.8503, -5.4706, -5.6277, -5.1701, -5.8389, -4.8301, -5.4405, -5.7722, -5.8075, -5.6403, -5.4839, -5.0422, -5.1556, -5.2981, -5.3926, -5.0538, -5.4321, -5.6351, -5.2546, -5.4844, -5.4045, -4.692, -5.2672, -5.3544, -5.293, -5.2126, -5.2385, -5.1954, -5.2896, -5.3325, -5.1639, -5.2902, -5.2212, -5.3068, -5.2997, -5.3086, -5.3569, -4.8115, -4.8237, -4.3986, -5.1809, -4.9531, -5.0839, -5.3387, -5.1607, -5.4617, -4.7375, -5.5235, -5.5635, -5.482, -5.6651, -5.2596, -5.737, -5.6603, -5.8054, -5.7897, -5.8305, -5.8279, -5.8365, -5.9183, -5.9718, -5.9948, -5.9984, -5.9893, -6.0138, -6.0273, -5.9219, -4.5228, -5.6681, -5.4471, -5.8297, -5.2986, -5.441, -4.2998, -4.6822, -4.9796, -5.2869, -5.1025, -3.9582, -5.2908, -4.5311, -5.0741, -5.0355, -4.2185, -4.8738, -4.9265, -5.0604, -4.1454, -5.1736, -4.6278, -4.8069, -5.0623, -4.7988, -5.0353, -5.1911, -5.1694, -4.8556, -4.7929, -5.2114, -5.1402, -5.3037, -5.3629, -5.4523, -5.4447, -5.3187, -5.3929, -5.5075, -5.4779, -5.6033, -5.4586, -5.6128, -5.5863, -5.6513, -5.6979, -5.686, -5.7333, -5.7639, -5.4582, -5.8249, -5.8656, -5.8816, -5.6232, -5.912, -5.9193, -5.7886, -5.9092, -5.5533, -5.2262, -4.6548, -5.4901, -4.9489, -5.4413, -5.6413, -4.8912, -5.471, -5.1441, -5.3948, -5.1748, -5.2375, -5.3898, -5.1059, -5.0767, -5.0307, -5.0789, -5.042, -5.3165, -5.364, -5.3021, -5.3576, -5.4327, -5.397, -5.4353, -5.4356, -5.0167, -5.2334, -5.3537, -5.2682, -5.3658, -5.4233, -5.3308, -5.4108, -5.466, -5.4535, -5.4358, -5.5006, -5.2126, -5.4591, -5.3037, -5.5373, -5.593, -5.5518, -5.496, -5.617, -5.6875, -5.721, -5.557, -5.7576, -5.7792, -5.7797, -5.7349, -5.7901, -5.802, -5.8043, -5.6835, -5.4956, -5.1812, -5.5333, -5.6645, -5.0548, -5.6335, -4.9828, -4.8364, -4.8889, -5.1248, -4.9008, -5.0826, -5.0155, -5.1635, -5.1935, -5.2238, -5.0546, -5.3627, -5.1909, -5.2487, -5.3426, -5.4047, -5.4036, -5.0037, -4.8433, -5.2998, -5.119, -5.3927, -5.4601, -4.9727, -5.2543, -5.2727, -5.5757, -5.6515, -5.0955, -5.6804, -5.721, -5.6361, -5.7577, -5.7794, -5.7822, -5.5767, -5.7021, -5.8481, -5.8324, -5.5887, -5.8588, -5.4314, -5.0685, -5.9129, -5.6662, -5.872, -5.9512, -5.5184, -5.2792, -5.0157, -4.7321, -4.988, -4.9169, -4.6905, -5.2521, -5.246, -5.4715, -4.9076, -5.0165, -4.8594, -4.6783, -5.2717, -5.3127, -4.6678, -5.1852, -5.1757, -5.2686, -5.1696, -5.2993, -5.2888, -4.6048, -4.9497, -4.9031, -5.1431, -5.3453, -5.3231, -5.3565, -5.3286, -4.4302, -4.8265, -5.2582, -5.3773, -5.6062, -5.5727, -5.6187, -5.6035, -5.4163, -5.6363, -5.6243, -5.6814, -5.5995, -5.6976, -5.6982, -5.6988, -5.7056, -5.6874, -5.789, -5.8274, -5.8513, -5.8666, -5.855, -4.2475, -5.3983, -4.6551, -5.2556, -4.7536, -5.0924, -5.1526, -5.4043, -5.6294, -5.444, -5.1906, -5.2902, -5.3375, -4.995, -4.6032, -5.2999, -5.0338, -5.3896, -5.0098, -5.2545, -5.2359, -5.2036, -5.2306, -5.2911, -4.1719, -5.1001, -5.1172, -5.1271, -5.0925, -5.0115, -5.1546, -4.7256, -4.8634, -4.9605, -5.1575, -5.3733, -5.4828, -5.311, -5.5467, -5.3133, -4.8853, -5.5787, -5.6423, -5.2614, -5.6519, -5.2087, -5.6312, -5.6244, -5.726, -5.718, -5.7902, -5.8669, -5.8782, -5.8986, -3.3483, -5.2141, -5.0318, -4.9681, -4.9632, -5.2609, -5.2335, -5.0526, -5.1546, -5.2158, -4.9771, -4.9083, -4.7802, -5.0211, -5.109, -5.1254, -5.1386, -5.1633, -5.2121, -4.8287, -5.0551, -4.6374, -5.3747, -5.4368, -5.5065, -5.5388, -5.4331, -5.5055, -5.3555, -5.5704, -5.5598, -5.4918, -5.2737, -5.5787, -5.6213, -5.6606, -5.5746, -5.3465, -5.7151, -5.4986, -5.7359, -5.4075, -5.787, -5.7988, -5.4347, -5.8144, -5.8157, -5.6564, -5.8587, -5.4945, -5.276, -5.2421, -5.1578, -5.5255, -5.3826, -4.8408, -5.065, -5.2886, -5.32, -5.0621, -4.876, -5.3644, -5.2621, -5.205, -5.2925, -5.1779, -4.9572, -5.2016, -5.3753, -5.2696, -5.2326, -5.1598, -5.3208, -5.2573, -5.3717, -4.9683, -4.7964, -5.2426, -5.2696, -5.2484, -5.4158, -5.4627, -5.4703, -5.453, -5.3891, -5.4592, -5.5363, -5.5404, -5.5462, -4.8295, -5.4989, -5.5557, -5.5699, -5.6055, -5.7282, -5.7135, -5.7186, -5.7347, -5.7114, -5.1144, -4.7519, -5.8073, -5.8086, -5.7567, -5.6943, -5.5428, -5.7254, -5.5942, -5.4628, -5.0633, -5.527, -5.1082, -5.3208, -5.46, -5.1008, -5.145, -4.7748, -4.8335, -5.1387, -4.5174, -4.8254, -5.339, -5.4768, -5.3883, -5.434, -5.2517, -5.1657, -5.3909, -5.2837, -5.2597, -5.3113, -5.3363, -5.3746, -4.6463, -5.0847, -5.1758, -5.2265, -5.0687, -5.2518, -5.186, -5.3027, -5.1092, -5.2632, -5.3647, -5.3974, -5.4622, -5.4356, -5.4515, -5.0768, -5.4898, -5.4701, -5.594, -5.5747, -5.5364, -5.5728, -5.0207, -5.6295, -5.642, -5.644, -5.5583, -5.5299, -5.4796, -5.6733, -5.3315, -5.3598, -5.2161, -5.4346, -4.491, -5.0701, -4.8868, -5.1264, -4.6227, -4.8375, -5.0472, -5.1671, -5.1869, -5.1313, -5.3151, -5.1718, -5.3825, -5.1719, -5.16, -5.2908, -5.287, -5.2392, -5.283], \"loglift\": [30.0, 29.0, 28.0, 27.0, 26.0, 25.0, 24.0, 23.0, 22.0, 21.0, 20.0, 19.0, 18.0, 17.0, 16.0, 15.0, 14.0, 13.0, 12.0, 11.0, 10.0, 9.0, 8.0, 7.0, 6.0, 5.0, 4.0, 3.0, 2.0, 1.0, 2.082, 2.081, 2.0788, 2.0788, 2.0756, 2.0725, 2.0724, 2.0709, 2.07, 2.069, 2.0683, 2.0646, 2.062, 2.0606, 2.0602, 2.0588, 2.058, 2.0576, 2.057, 2.0565, 2.0557, 2.054, 2.0538, 2.051, 2.0494, 2.0475, 2.0466, 2.0463, 2.0459, 2.0455, 2.0412, 2.0445, 2.0345, 2.0383, 2.0187, 2.043, 1.9372, 2.0031, 2.0325, 2.0361, 1.9943, 1.9445, 1.8157, 1.7853, 1.7896, 1.8316, 1.644, 1.8349, 1.943, 1.676, 1.8299, 1.7624, 1.1181, 1.6104, 1.642, 1.4752, 1.33, 1.2854, 1.0658, 1.1277, 1.2864, 0.4492, 1.0015, 0.1626, 0.716, 0.6181, 0.6198, 1.121, 2.1495, 2.1474, 2.1456, 2.1418, 2.138, 2.1378, 2.1364, 2.1337, 2.1311, 2.131, 2.1288, 2.1255, 2.1247, 2.1211, 2.1193, 2.1182, 2.1157, 2.1143, 2.1134, 2.1128, 2.1128, 2.1108, 2.1062, 2.1023, 2.1022, 2.1013, 2.1012, 2.1009, 2.0999, 2.0997, 2.0987, 2.0941, 2.0825, 2.0957, 2.065, 2.0508, 1.932, 1.9502, 1.9319, 1.9845, 1.9341, 1.6449, 1.9783, 1.7498, 1.9116, 1.8637, 1.5567, 1.7856, 1.7633, 1.8182, 1.2383, 1.8739, 1.3817, 1.4844, 1.6566, 1.2737, 1.4953, 1.7044, 1.3982, 2.2577, 2.2558, 2.255, 2.2527, 2.2491, 2.2459, 2.2451, 2.2448, 2.2437, 2.2423, 2.2417, 2.2392, 2.2376, 2.2357, 2.2341, 2.2331, 2.2321, 2.2308, 2.2307, 2.2301, 2.2272, 2.2268, 2.2243, 2.2216, 2.2205, 2.2187, 2.2182, 2.2178, 2.2172, 2.2168, 2.216, 2.2081, 2.1602, 2.1754, 2.1012, 2.1517, 2.1898, 2.0381, 2.1431, 2.0408, 2.1196, 2.0425, 1.9179, 2.0335, 1.7862, 1.7049, 1.5226, 1.4043, 1.2497, 1.7277, 1.8296, 1.5364, 1.7038, 2.0051, 1.3987, 1.8602, 1.755, 2.2735, 2.2722, 2.2673, 2.2655, 2.2648, 2.2642, 2.264, 2.2624, 2.2621, 2.2614, 2.2613, 2.2605, 2.2593, 2.2588, 2.2584, 2.2574, 2.2557, 2.2554, 2.2551, 2.2543, 2.2504, 2.2484, 2.2464, 2.2456, 2.2447, 2.2447, 2.2443, 2.244, 2.2432, 2.2429, 2.2417, 2.229, 2.2073, 2.2201, 2.2317, 2.1548, 2.2209, 2.0399, 1.9565, 1.9421, 2.0111, 1.8803, 1.9631, 1.5722, 1.6365, 1.6799, 1.7249, 1.2224, 1.7856, 0.6193, 0.7741, 1.2995, 1.6171, 1.2686, 2.279, 2.2765, 2.2753, 2.2737, 2.2712, 2.2672, 2.2636, 2.2633, 2.2624, 2.2623, 2.258, 2.2574, 2.2563, 2.2539, 2.2538, 2.2504, 2.2502, 2.25, 2.2492, 2.249, 2.2456, 2.2448, 2.2447, 2.2426, 2.2426, 2.2416, 2.241, 2.2408, 2.2393, 2.2381, 2.2351, 2.2295, 2.2012, 2.1753, 2.1839, 2.1707, 2.1476, 2.1903, 2.1678, 2.2016, 2.0806, 2.1025, 1.906, 1.8214, 2.0474, 2.0389, 1.4633, 1.8397, 1.3635, 1.3704, 0.8732, 1.0836, 0.0949, 2.3141, 2.3082, 2.3034, 2.296, 2.293, 2.293, 2.2908, 2.2904, 2.2892, 2.2884, 2.2813, 2.2812, 2.2808, 2.2802, 2.2801, 2.2795, 2.2789, 2.2768, 2.2767, 2.2764, 2.2762, 2.2754, 2.2754, 2.2753, 2.2749, 2.2734, 2.2696, 2.267, 2.2653, 2.2642, 2.2642, 2.245, 2.2573, 2.242, 2.2448, 2.1564, 2.1639, 2.1397, 2.1886, 2.2545, 2.1907, 2.0658, 2.0785, 2.0779, 1.8276, 1.474, 2.0319, 1.7839, 2.0774, 1.4658, 1.7221, 1.2731, 1.0338, 1.0485, 0.8258, 2.326, 2.3149, 2.3142, 2.3139, 2.3138, 2.3124, 2.3121, 2.3118, 2.309, 2.3084, 2.3032, 2.3007, 2.2965, 2.2956, 2.2951, 2.2949, 2.292, 2.2917, 2.2889, 2.2884, 2.2883, 2.2881, 2.2866, 2.2849, 2.2848, 2.282, 2.2806, 2.2753, 2.2744, 2.2729, 2.2499, 2.2642, 2.2497, 2.2423, 2.1774, 2.2023, 2.161, 2.0392, 2.0778, 2.0396, 1.8105, 1.5626, 1.3508, 1.4483, 1.5894, 1.1741, 1.1503, 1.2657, 1.4068, 2.3232, 2.3158, 2.3133, 2.305, 2.3021, 2.2987, 2.297, 2.2964, 2.2963, 2.295, 2.2949, 2.2949, 2.2948, 2.2915, 2.2912, 2.2909, 2.2887, 2.2879, 2.2872, 2.2868, 2.2868, 2.2855, 2.2832, 2.2821, 2.2813, 2.2803, 2.2802, 2.2802, 2.2787, 2.2764, 2.273, 2.2326, 2.2136, 2.1593, 2.229, 2.1962, 2.0324, 2.0758, 2.1234, 2.1107, 1.9491, 1.6153, 2.032, 1.8913, 1.7566, 1.8817, 1.4159, 0.818, 1.3591, 1.8618, 1.402, 1.0285, 0.2239, 1.1571, 0.3558, 1.0954, 2.3604, 2.3589, 2.3565, 2.3564, 2.3521, 2.3496, 2.3472, 2.3468, 2.3459, 2.3447, 2.3442, 2.3433, 2.343, 2.3427, 2.3426, 2.3416, 2.3404, 2.3401, 2.3393, 2.3316, 2.3308, 2.3306, 2.3306, 2.3293, 2.3286, 2.3272, 2.3261, 2.326, 2.3259, 2.3257, 2.3208, 2.3239, 2.3195, 2.3093, 2.2756, 2.3052, 2.251, 2.2779, 2.2756, 2.1491, 2.1094, 1.897, 1.9093, 1.9996, 1.4787, 1.6513, 2.107, 2.2515, 2.0778, 2.1201, 1.4937, 1.0834, 1.9558, 1.3485, 1.0398, 1.3482, 0.5921, 0.7423, 2.3807, 2.3714, 2.3695, 2.3675, 2.3671, 2.3664, 2.3662, 2.3642, 2.3637, 2.3614, 2.361, 2.3597, 2.3564, 2.3539, 2.3527, 2.3524, 2.3514, 2.3503, 2.3491, 2.349, 2.3476, 2.3471, 2.3471, 2.347, 2.3462, 2.3458, 2.3458, 2.3454, 2.3445, 2.3442, 2.3305, 2.3227, 2.306, 2.327, 2.1409, 2.2416, 2.0563, 2.1461, 1.8466, 1.9513, 2.0295, 2.1124, 2.0353, 1.9576, 2.1582, 1.8764, 2.212, 1.5958, 1.242, 1.7172, 1.5813, 0.3739, 1.3259]}, \"token.table\": {\"Topic\": [9, 10, 6, 6, 7, 8, 10, 1, 2, 3, 9, 10, 6, 1, 2, 4, 5, 7, 10, 3, 6, 9, 10, 6, 8, 10, 6, 8, 1, 2, 5, 10, 1, 9, 10, 1, 6, 9, 2, 8, 10, 2, 9, 5, 5, 9, 10, 3, 7, 1, 2, 6, 8, 2, 1, 6, 9, 2, 10, 5, 7, 1, 4, 9, 3, 4, 5, 6, 8, 9, 10, 2, 6, 8, 10, 1, 4, 9, 2, 3, 4, 5, 9, 4, 5, 10, 6, 7, 10, 2, 8, 10, 2, 3, 5, 1, 2, 6, 3, 1, 4, 5, 7, 8, 4, 5, 4, 7, 5, 10, 6, 8, 10, 9, 3, 1, 1, 2, 4, 7, 8, 1, 1, 2, 3, 4, 5, 6, 7, 8, 9, 10, 1, 9, 10, 7, 2, 9, 1, 9, 1, 8, 4, 8, 7, 10, 1, 1, 2, 3, 4, 5, 6, 7, 8, 10, 2, 4, 5, 6, 7, 8, 9, 8, 8, 3, 7, 2, 3, 5, 7, 9, 2, 8, 5, 5, 1, 3, 6, 7, 3, 1, 3, 1, 6, 4, 3, 9, 2, 3, 9, 10, 4, 1, 2, 4, 5, 6, 7, 10, 6, 10, 5, 1, 2, 3, 4, 8, 9, 10, 3, 7, 9, 1, 2, 3, 1, 1, 2, 3, 4, 5, 6, 7, 8, 9, 10, 7, 8, 1, 3, 9, 1, 2, 3, 4, 5, 6, 7, 8, 9, 10, 8, 3, 4, 5, 7, 9, 10, 10, 2, 7, 10, 5, 3, 2, 3, 4, 5, 7, 8, 3, 1, 1, 3, 5, 6, 7, 9, 10, 2, 5, 7, 9, 10, 1, 2, 4, 5, 6, 7, 8, 9, 10, 1, 4, 6, 9, 10, 6, 9, 3, 5, 6, 9, 10, 6, 2, 5, 6, 7, 9, 10, 3, 8, 7, 9, 5, 6, 7, 8, 2, 4, 7, 8, 9, 4, 5, 4, 3, 9, 10, 5, 6, 7, 9, 3, 4, 5, 4, 1, 2, 5, 6, 8, 9, 4, 6, 6, 4, 2, 5, 2, 2, 3, 5, 3, 9, 7, 8, 9, 10, 7, 7, 10, 3, 3, 9, 1, 1, 2, 4, 3, 1, 2, 4, 5, 6, 7, 8, 9, 10, 1, 6, 9, 2, 8, 9, 3, 1, 3, 4, 5, 1, 2, 3, 4, 6, 10, 7, 6, 4, 1, 2, 3, 4, 6, 8, 7, 5, 4, 3, 4, 5, 6, 9, 7, 8, 9, 4, 1, 2, 3, 4, 5, 6, 7, 9, 10, 2, 3, 6, 3, 8, 8, 7, 6, 3, 1, 2, 6, 9, 5, 6, 9, 7, 7, 4, 6, 1, 4, 5, 6, 7, 8, 10, 4, 5, 6, 3, 4, 7, 2, 3, 4, 5, 7, 10, 1, 7, 9, 10, 8, 1, 2, 2, 3, 6, 7, 8, 9, 7, 2, 3, 5, 6, 7, 9, 10, 1, 2, 3, 4, 5, 9, 10, 8, 1, 7, 1, 2, 3, 4, 1, 3, 6, 7, 9, 10, 8, 1, 2, 3, 6, 4, 4, 1, 2, 3, 4, 5, 9, 10, 1, 5, 1, 3, 4, 8, 9, 10, 2, 5, 6, 5, 6, 7, 9, 5, 1, 2, 4, 5, 6, 8, 9, 8, 1, 4, 5, 7, 8, 10, 9, 2, 3, 1, 4, 2, 7, 5, 3, 6, 1, 10, 2, 6, 9, 3, 1, 3, 6, 8, 9, 10, 1, 9, 1, 2, 4, 6, 9, 2, 5, 1, 7, 9, 1, 2, 3, 6, 7, 8, 9, 1, 2, 5, 8, 9, 10, 3, 6, 10, 8, 1, 2, 3, 5, 6, 8, 9, 7, 2, 2, 1, 3, 4, 5, 6, 7, 9, 5, 10, 2, 3, 3, 1, 4, 1, 3, 2, 3, 4, 6, 7, 8, 9, 10, 2, 2, 1, 1, 7, 9, 5, 10, 6, 7, 8, 10, 6, 3, 6, 1, 4, 8, 9, 1, 7, 8, 9, 2, 4, 5, 3, 8, 3, 8, 9, 6, 1, 4, 7, 10, 10, 3, 4, 9, 9, 4, 2, 3, 4, 10, 8, 1, 2, 4, 5, 6, 7, 8, 9, 10, 4, 1, 2, 3, 6, 7, 9, 10, 5, 6, 1, 2, 2, 3, 6, 7, 8, 1, 3, 6, 8, 9, 10, 7, 3, 4, 7, 8, 10, 2, 4, 5, 9, 9, 2, 5, 5, 6, 8, 4, 1, 4, 5, 1, 2, 3, 6, 7, 8, 1, 2, 4, 5, 6, 8, 3, 4, 10, 1, 5, 1, 2, 3, 5, 7, 1, 6, 1, 6, 7, 8, 10, 4, 5, 6, 7, 8, 9, 10, 6, 1, 3, 8, 10, 2, 7, 1, 2, 3, 4, 5, 6, 7, 8, 9, 10, 7, 10, 8, 7, 8, 1, 7, 10, 1, 4, 7, 9, 10, 1, 6, 5, 2, 3, 2, 3, 9, 10, 4, 3, 1, 10, 7, 1, 5, 8, 10, 6, 3, 4, 6, 8, 10, 6, 4, 8, 9, 3, 5, 9, 3, 8, 8, 9, 5, 9, 4, 1, 8, 10, 9, 1, 2, 3, 4, 6, 7, 8, 9, 10, 7, 4, 7, 5, 7, 8, 2, 1, 3, 9, 10, 1, 10, 1, 2, 3, 4, 5, 6, 7, 8, 9, 10, 9, 1, 2, 9, 1, 5, 10, 6, 6, 7, 8, 9, 1, 2, 6, 7, 8, 9, 10, 7, 9, 5, 10, 3, 8, 10, 9, 5, 1, 8, 10, 1, 2, 4, 6, 4, 10, 1, 7, 10, 1, 3, 4, 8, 3, 3, 5, 7, 8, 9, 1, 7, 1, 1, 3, 4, 7, 8, 9, 1, 3, 7, 4, 8, 6, 9, 1, 3, 7, 9, 1, 2, 6, 7, 9, 3, 6, 10, 10, 5, 2, 6, 7, 1, 3, 9, 3, 10, 1, 3, 9, 10, 3, 5, 6, 8, 10, 9, 1, 7, 10, 1, 2, 3, 5, 6, 8, 2, 2, 3, 4, 5, 6, 7, 8, 10, 2, 8, 5, 9, 10, 9, 1, 10, 4, 4, 7, 1, 3, 7, 10, 5, 7, 6, 4, 5, 7, 3, 7, 10, 2, 1, 6, 5, 5, 2, 5, 6, 5, 2, 6, 5, 8, 4, 3, 5, 6, 9, 5, 6, 7, 1, 2, 3, 4, 5, 6, 7, 9, 10, 1, 2, 4, 5, 10, 2, 6, 7, 8, 10, 10, 4, 8, 6, 2, 5, 8, 9, 6, 3, 2, 7, 9, 5, 1, 6, 8, 10, 6, 10, 1, 2, 2, 3, 9, 2, 3, 1, 2, 4, 5, 8, 10, 10, 6, 10, 2, 4, 10, 5, 7, 10, 4, 8, 9, 10, 6, 9, 1, 8, 10, 4, 10, 6, 1, 4, 7, 1, 3, 4, 7, 8, 8, 9, 2, 9, 4, 6, 10, 3, 5, 6, 10, 10, 2, 7, 10, 6, 9, 3, 7, 1, 2, 5, 6, 10, 9, 1, 2, 4, 6, 1, 3, 4, 6, 9, 10, 9, 5, 7, 1, 4, 6, 9, 6, 9, 4, 3, 8, 6, 4, 6, 6, 3, 1, 2, 4, 5, 6, 7, 8, 7, 5, 3, 1, 2, 3, 4, 5, 2, 9, 9, 1, 1, 2, 4, 5, 6, 7, 8, 9, 10, 2, 7, 9, 1, 5, 4, 9, 5, 6, 6, 10, 7, 10, 1, 2, 3, 4, 5, 7, 8, 9, 10, 6, 10, 5, 6, 8, 1, 4, 8, 10, 5, 7, 8, 10, 1, 8, 8, 10, 1, 3, 4, 5, 6, 7, 9, 10, 8, 3, 2, 6, 1, 4, 7, 2, 3, 4, 6, 10, 1, 4, 7, 8, 9, 10, 4, 8, 9, 5], \"Freq\": [0.917143070858751, 0.9366632630928307, 0.9242593621629427, 0.9652438942122866, 0.41049939977100974, 0.015788438452731143, 0.5683837842983211, 0.03521099424168038, 0.8098528675586487, 0.07042198848336076, 0.03521099424168038, 0.03521099424168038, 0.9634795902622506, 0.16784915924537172, 0.5035474777361152, 0.13427932739629736, 0.15106424332083454, 0.01678491592453717, 0.03356983184907434, 0.8183853016718973, 0.02822018281627232, 0.1411009140813616, 0.9412090914600686, 0.944728920423138, 0.7845185788453315, 0.16516180607270137, 0.9232269587669102, 0.932777038120897, 0.9735824366746827, 0.9636896552643214, 0.9374079706083149, 0.04463847479087214, 0.6977890770686275, 0.126870741285205, 0.15858842660650624, 0.8784013668088541, 0.041828636514707335, 0.041828636514707335, 0.9809476201822788, 0.9104215618786436, 0.959842734872591, 0.9114631383675863, 0.9330443942830682, 0.92501050808998, 0.22821079512274228, 0.05071351002727606, 0.7099891403818649, 0.9374433525011377, 0.9361736520464579, 0.13778082110932552, 0.6692211311024382, 0.05904892333256808, 0.13778082110932552, 0.9331155838329722, 0.9288023799230479, 0.05463543411312047, 0.9653325125284594, 0.9648792194537081, 0.02353363949887093, 0.9625356710106242, 0.9416879572969225, 0.173074152795021, 0.0346148305590042, 0.7615262722980924, 0.19001152624440543, 0.15200922099552433, 0.07600461049776217, 0.1646766560784847, 0.0633371754148018, 0.26601613674216756, 0.08867204558072253, 0.2721749023368738, 0.06804372558421845, 0.6123935302579661, 0.972931819631536, 0.03766944546890035, 0.0753388909378007, 0.8663972457847081, 0.13095061561102653, 0.22448676961890263, 0.11224338480945131, 0.3928518468330796, 0.11224338480945131, 0.9198988600050845, 0.053109251666083525, 0.9028572783234199, 0.03665967534984806, 0.1099790260495442, 0.8431725330465055, 0.04864281847383828, 0.09728563694767656, 0.8269279140552507, 0.7318388178936996, 0.14073823421032686, 0.11259058736826148, 0.11642513241469003, 0.07761675494312668, 0.7761675494312669, 0.9141298698116223, 0.4587088921558273, 0.13591374582394883, 0.16989218227993602, 0.03397843645598721, 0.20387061873592324, 0.15116155096712047, 0.8162723752224506, 0.9590715069124147, 0.9527572907783233, 0.9615698910468462, 0.9428288534056969, 0.02554976045353376, 0.9708908972342829, 0.9737227985756781, 0.9702186743169131, 0.9842502566856707, 0.9195275113032312, 0.9494247914486669, 0.04841688683570268, 0.14525066050710805, 0.32277924557135124, 0.4841688683570268, 0.902556159147627, 0.22061264889506582, 0.06434535592772754, 0.119498518151494, 0.11030632444753291, 0.119498518151494, 0.055153162223766455, 0.055153162223766455, 0.027576581111883228, 0.16545948667129937, 0.055153162223766455, 0.8238692895642025, 0.04119346447821012, 0.08238692895642025, 0.9613627857657604, 0.9001078099145364, 0.9369937859654732, 0.9002715792212225, 0.06001810528141483, 0.16211323055425414, 0.8105661527712708, 0.9354844906860836, 0.9286934049413681, 0.9294488732533412, 0.03204996114666694, 0.9766210991668851, 0.07908709071250308, 0.06590590892708591, 0.09226827249792027, 0.11863063606875462, 0.013181181785417181, 0.026362363570834362, 0.30316718106459517, 0.1977177267812577, 0.10544945428333745, 0.5362774127309812, 0.031545730160645956, 0.04731859524096893, 0.05520502778113042, 0.04731859524096893, 0.2129336785843602, 0.06309146032129191, 0.9502393395290214, 0.9446925207449793, 0.7485416262949584, 0.20792822952637732, 0.25447870062865835, 0.11133443152503802, 0.07952459394645574, 0.06361967515716459, 0.4771475636787344, 0.9354982945227935, 0.9685789992617915, 0.9588357395590028, 0.9518586851363133, 0.10158673049480849, 0.10158673049480849, 0.033862243498269495, 0.7449693569619289, 0.9541850268665002, 0.19376927208426153, 0.7750770883370461, 0.9478240944520102, 0.9147187014128296, 0.9791120022321304, 0.9512150830480878, 0.9508840523330795, 0.08416045988049567, 0.5610697325366378, 0.22442789301465513, 0.08416045988049567, 0.9626985671294559, 0.3746994282883851, 0.14987977131535404, 0.08992786278921241, 0.14987977131535404, 0.059951908526141615, 0.08992786278921241, 0.07493988565767702, 0.17235037680661447, 0.7755766956297651, 0.9458630665802727, 0.19694390753120292, 0.08753062556942352, 0.41577047145476176, 0.08753062556942352, 0.08753062556942352, 0.06564796917706764, 0.04376531278471176, 0.9397794940866461, 0.1868716742219879, 0.7474866968879516, 0.9076568594271085, 0.06483263281622204, 0.9400843387545842, 0.9486886727818604, 0.2273753954389797, 0.03638006327023675, 0.145520253080947, 0.12733022144582862, 0.09095015817559188, 0.06366511072291431, 0.09095015817559188, 0.09095015817559188, 0.04547507908779594, 0.08185514235803269, 0.057075409900731955, 0.8561311485109794, 0.08923560070583592, 0.8700471068819001, 0.9197654843622339, 0.06978291835483151, 0.44860447513820256, 0.009968988336404501, 0.07975190669123601, 0.08972089502764051, 0.029906965009213506, 0.12959684837325852, 0.039875953345618005, 0.07975190669123601, 0.009968988336404501, 0.9565680175024672, 0.02251354495365895, 0.05628386238414738, 0.4277573541195201, 0.3714734917353727, 0.07879740733780634, 0.0450270899073179, 0.9280194428082391, 0.26816125224543963, 0.033520156530679954, 0.703923287144279, 0.9150470698354475, 0.9144809468375765, 0.08886205954268953, 0.15995170717684115, 0.4798551215305234, 0.05331723572561371, 0.07108964763415161, 0.14217929526830322, 0.9796919327076455, 0.9401971966144198, 0.07943835744927333, 0.11121370042898267, 0.19065205787825598, 0.4130794587362213, 0.06355068595941867, 0.07943835744927333, 0.06355068595941867, 0.5876529909609959, 0.1013194812001717, 0.02026389624003434, 0.060791688720103015, 0.18237506616030905, 0.0396382916274221, 0.5020850272806799, 0.06606381937903684, 0.17176593038549576, 0.026425527751614733, 0.0396382916274221, 0.09248934713065157, 0.026425527751614733, 0.0396382916274221, 0.19667320823881532, 0.7024043151386261, 0.028096172605545044, 0.028096172605545044, 0.028096172605545044, 0.9726506522222347, 0.9345526255206769, 0.13262983604822362, 0.7957790162893417, 0.053051934419289445, 0.6453784361514013, 0.341670936786036, 0.9122606298503445, 0.016275407261374605, 0.6021900686708603, 0.21158029439786985, 0.09765244356824762, 0.03255081452274921, 0.03255081452274921, 0.9627922655932436, 0.9689504277550152, 0.9251476736780166, 0.9740449779105321, 0.06178382579316379, 0.06178382579316379, 0.8340816482077112, 0.030891912896581896, 0.06164472077602551, 0.06164472077602551, 0.12328944155205102, 0.030822360388012754, 0.6780919285362805, 0.9417755762545007, 0.9458165938061245, 0.968766855633873, 0.7787314964165898, 0.12295760469735628, 0.08197173646490419, 0.6580644609951761, 0.14859520086987849, 0.10613942919277035, 0.08491154335421627, 0.022830010735698552, 0.09132004294279421, 0.8447103972208464, 0.9408217954480935, 0.07153098235681568, 0.3040066750164666, 0.12517921912442745, 0.03576549117840784, 0.3934204029624862, 0.05364823676761176, 0.9731089171227156, 0.9569278951789822, 0.9665020559459983, 0.9612389101144083, 0.9622717980495704, 0.9443572610122074, 0.9272062194720895, 0.9426965642833232, 0.22890934908220079, 0.7630311636073359, 0.8877442097413839, 0.052220247631846115, 0.9263922208483106, 0.044113915278490984, 0.9564647406267571, 0.0318821580208919, 0.9397988060018218, 0.9567464149101328, 0.9724694356065124, 0.9344306946577453, 0.9268443634973708, 0.05792777271858567, 0.9495330916287612, 0.8606502189630961, 0.050626483468417416, 0.050626483468417416, 0.9673361170419039, 0.14864094853280427, 0.40345400316046875, 0.01061721060948602, 0.03185163182845806, 0.03185163182845806, 0.03185163182845806, 0.19110979097074834, 0.04246884243794408, 0.09555489548537417, 0.7325170987694472, 0.08790205185233367, 0.17580410370466734, 0.1655093778253587, 0.7329701017980171, 0.0945767873287764, 0.9552851493176225, 0.38405061721674555, 0.027432186944053253, 0.49377936499295855, 0.054864373888106506, 0.2214080043299932, 0.13284480259799591, 0.07380266810999773, 0.14760533621999547, 0.11808426897599637, 0.30997120606199047, 0.9752176409376312, 0.9120812223922888, 0.951566378385875, 0.19977533531059377, 0.05707866723159822, 0.5422473387001832, 0.02853933361579911, 0.14269666807899556, 0.02853933361579911, 0.9349022284299402, 0.968277079188949, 0.9670230430928416, 0.4636630330557829, 0.22324516406389544, 0.1202089344959437, 0.051518114783975874, 0.13738163942393566, 0.030898270791790666, 0.7724567697947667, 0.185389624750744, 0.950730843109419, 0.12367133355606505, 0.195812944797103, 0.041223777852021685, 0.061835666778032525, 0.23703672264912468, 0.0927535001670488, 0.13397727801907047, 0.0515297223150271, 0.07214161124103795, 0.10405876975721848, 0.10405876975721848, 0.7630976448862689, 0.9625259225281864, 0.9609788006175886, 0.9709850567471464, 0.964799868938648, 0.9237393167264605, 0.9583971973082798, 0.018383481079803223, 0.9191740539901612, 0.018383481079803223, 0.018383481079803223, 0.14381759669249586, 0.8269511809818512, 0.9665882552112253, 0.9479579970982537, 0.9671110916108666, 0.9417687134198505, 0.05539815961293238, 0.2214448829633322, 0.3386804092380375, 0.11723552627470528, 0.05210467834431346, 0.05210467834431346, 0.1563140350329404, 0.05210467834431346, 0.6982439193011611, 0.10910061239080643, 0.152740857347129, 0.6492228190081176, 0.1082038031680196, 0.2164076063360392, 0.9469168192026585, 0.584582466603882, 0.097430411100647, 0.03247680370021567, 0.25981442960172535, 0.97409620549712, 0.1738817358550755, 0.08694086792753775, 0.02898028930917925, 0.695526943420302, 0.957432948316103, 0.9441232147595752, 0.897300650034451, 0.13022651389249143, 0.06511325694624572, 0.15193093287457335, 0.5860193125162114, 0.021704418982081905, 0.06511325694624572, 0.95952490841558, 0.09076333916811781, 0.05445800350087069, 0.16337401050261205, 0.03630533566724713, 0.12706867483536494, 0.18152667833623562, 0.34490068883884767, 0.24246019344868547, 0.06061504836217137, 0.1515376209054284, 0.2121526692675998, 0.1515376209054284, 0.07071755642253326, 0.09092257254325704, 0.9607354554204901, 0.9636532212417509, 0.9353602636652646, 0.1510206426740303, 0.04314875504972294, 0.5609338156463982, 0.23731815277347618, 0.4335222689588563, 0.08336966710747237, 0.06669573368597789, 0.10004360052896685, 0.15006540079345027, 0.16673933421494475, 0.9538089647496056, 0.9590423826093327, 0.9648365205445567, 0.9117015160932026, 0.04144097800423648, 0.932640777504071, 0.9450064107651389, 0.2606374949254214, 0.11583888663352061, 0.10135902580433054, 0.08687916497514046, 0.28959721658380155, 0.014479860829190077, 0.1303187474627107, 0.9077090661024378, 0.9018312600756467, 0.08003885491146283, 0.41620204553960666, 0.12806216785834051, 0.17608548080521821, 0.04802331294687769, 0.14406993884063307, 0.9495593544106171, 0.7756029850025329, 0.22160085285786654, 0.03465186563336708, 0.1386074625334683, 0.7276891783007086, 0.06930373126673416, 0.9331436556074618, 0.11268722114388165, 0.12520802349320184, 0.12520802349320184, 0.1627704305411624, 0.27545765168504405, 0.11268722114388165, 0.08764561644524128, 0.9553332076484001, 0.13648390967607918, 0.12131903082318149, 0.15164878852897687, 0.3336273347637491, 0.18197854623477225, 0.07582439426448843, 0.9196165673082977, 0.9481226455843179, 0.9581395115668699, 0.9599841812284332, 0.9160506082099749, 0.8080242300188888, 0.14052595304676327, 0.8970435852884496, 0.10127418520289372, 0.8608305742245965, 0.9493359181064221, 0.03797343672425689, 0.03740187164209518, 0.7480374328419035, 0.18700935821047587, 0.9089599088936212, 0.22836911517739686, 0.4795751418725334, 0.06851073455321906, 0.04567382303547937, 0.1826952921419175, 0.9723060126087889, 0.09769046309015379, 0.8792141678113842, 0.21283425212924034, 0.04729650047316452, 0.5202615052048097, 0.02364825023658226, 0.18918600189265808, 0.7280341580161901, 0.24267805267206335, 0.9603397041726768, 0.03001061575539615, 0.9140402710244857, 0.006606818780027467, 0.006606818780027467, 0.006606818780027467, 0.013213637560054933, 0.9051341728637629, 0.046247731460192266, 0.013213637560054933, 0.15274283277083003, 0.6682498933723814, 0.09546427048176877, 0.019092854096353754, 0.019092854096353754, 0.019092854096353754, 0.12265824251626409, 0.8340760491105959, 0.024531648503252818, 0.9430540191797196, 0.0472607480712334, 0.2835644884274004, 0.07876791345205567, 0.0945214961424668, 0.06301433076164453, 0.2835644884274004, 0.1417822442137002, 0.953531582536144, 0.972786941075151, 0.9690049771510173, 0.26272373840465346, 0.05629794394385432, 0.356553644977744, 0.07506392525847241, 0.07506392525847241, 0.018765981314618103, 0.13136186920232673, 0.05748929906377572, 0.9198287850204115, 0.9646882576867587, 0.9204739895984936, 0.9651844730237515, 0.95907779063405, 0.9768255088858611, 0.9357347224073036, 0.9243480681253976, 0.23467986861893622, 0.010667266755406192, 0.04266906702162477, 0.4160234034608415, 0.010667266755406192, 0.11733993430946811, 0.09600540079865573, 0.07467086728784335, 0.9711336382485111, 0.9584690079784897, 0.9754973276586273, 0.9340720329448975, 0.04447962061642369, 0.918204626755311, 0.03877160221454088, 0.9305184531489812, 0.5815612679600939, 0.22367741075388228, 0.08947096430155291, 0.11183870537694114, 0.9363982308000306, 0.13873169030448607, 0.8323901418269163, 0.062264192901794975, 0.5915098325670523, 0.21792467515628242, 0.09339628935269247, 0.09387856706672834, 0.15646427844454722, 0.6258571137781889, 0.09387856706672834, 0.9791148157392042, 0.06668989457316929, 0.9003135767377854, 0.11057223481279835, 0.8108630552938546, 0.9420162300471256, 0.925925280571254, 0.954923902928225, 0.9470697513831359, 0.1466746136567271, 0.1466746136567271, 0.05866984546269084, 0.6453683000895992, 0.9652624753654799, 0.19220416830438572, 0.7688166732175429, 0.02745773832919796, 0.9118532718676976, 0.9609025330246914, 0.18135570894806272, 0.04533892723701568, 0.6800839085552352, 0.06800839085552352, 0.9186688935445962, 0.03319679104845797, 0.5909028806625519, 0.013278716419383187, 0.07303294030660754, 0.09959037314537392, 0.04647550746784116, 0.09295101493568232, 0.039836149258149565, 0.006639358209691594, 0.9472545557294583, 0.14654856335948055, 0.02664519333808737, 0.17319375669756792, 0.013322596669043686, 0.30641972338800477, 0.25312933671183, 0.07993558001426211, 0.9562833282766614, 0.9301940077626129, 0.045583801607116725, 0.9116760321423345, 0.13529001933191295, 0.13529001933191295, 0.07730858247537883, 0.2512528930449812, 0.3865429123768942, 0.3819016316303865, 0.09547540790759662, 0.0763803263260773, 0.0763803263260773, 0.34371146846734785, 0.019095081581519326, 0.934345410312315, 0.1882250971172396, 0.1882250971172396, 0.02352813713965495, 0.14116882283792967, 0.447034605653444, 0.17849056782097483, 0.560970356008778, 0.12749326272926773, 0.10199461018341419, 0.9722875934319836, 0.08355290181726603, 0.8773054690812933, 0.9124045245382395, 0.05702528278363997, 0.9463579626333573, 0.917864820891163, 0.9202780103403924, 0.9122483660785549, 0.05701552287990968, 0.3304590803483118, 0.10574690571145977, 0.3568958067761767, 0.06609181606966236, 0.052873452855729884, 0.10574690571145977, 0.026153316292819802, 0.653832907320495, 0.052306632585639605, 0.0653832907320495, 0.09153660702486931, 0.09153660702486931, 0.9136146356976826, 0.9581295712622493, 0.9264648855719904, 0.036601554384269076, 0.9150388596067269, 0.06225296214543265, 0.7843873230324513, 0.012450592429086528, 0.1245059242908653, 0.9485315721346617, 0.9705031811424731, 0.925145545038198, 0.02173075924862325, 0.15211531474036274, 0.086923036994493, 0.086923036994493, 0.6301920182100742, 0.06325348514642233, 0.2530139405856893, 0.015813371286605583, 0.4585877673115619, 0.07906685643302792, 0.07906685643302792, 0.06325348514642233, 0.9667761680279602, 0.2066337672306579, 0.2066337672306579, 0.542413638980477, 0.025829220903832238, 0.9627069461287001, 0.9408193062650149, 0.187773371625936, 0.046943342906484, 0.026824767375133715, 0.06706191843783428, 0.06706191843783428, 0.093886685812968, 0.13412383687566856, 0.13412383687566856, 0.10729906950053486, 0.12741764503188513, 0.9093772379140236, 0.043303677995905884, 0.962485595929334, 0.9747585195418668, 0.01624597532569778, 0.9274831113240799, 0.9360100963588568, 0.9791219857484783, 0.17021273711699458, 0.08510636855849729, 0.12765955283774594, 0.14893614497737026, 0.44680843493211075, 0.9565909205668819, 0.9621519336442728, 0.9540536450951045, 0.8778202620296679, 0.0877820262029668, 0.6286727216490107, 0.02417972006342349, 0.16925804044396442, 0.14507832038054094, 0.9719187338159359, 0.9334143437888816, 0.045242323602799506, 0.9048464720559901, 0.958882118622888, 0.9409795484128828, 0.9361080256933794, 0.9252902147389229, 0.9427928421139331, 0.9682554338583792, 0.26221418359244403, 0.07866425507773321, 0.5506497855441325, 0.10488567343697762, 0.9464031769635504, 0.9094358907969926, 0.04463905902409228, 0.8927811804818456, 0.04463905902409228, 0.9197577250897344, 0.8525375377668325, 0.08119405121588881, 0.09576463434122294, 0.8618817090710065, 0.9723496137358871, 0.9294781320151938, 0.05810193177898113, 0.9296309084636981, 0.9599698843422281, 0.9382458299400335, 0.9463937213213897, 0.9523476054344904, 0.8932159495247646, 0.36750673558455876, 0.008166816346323528, 0.12250224519485292, 0.18783677596544113, 0.04900089807794117, 0.057167714424264694, 0.04900089807794117, 0.07350134711691175, 0.08166816346323527, 0.9754456044360221, 0.8605919642635469, 0.13239876373285336, 0.03312528150218809, 0.8943826005590784, 0.06625056300437618, 0.9410089803155959, 0.14565155368337676, 0.22888101293102064, 0.39533993142630836, 0.20807364811910967, 0.9114474533988759, 0.9337489167810425, 0.1439543524231949, 0.39454155849320083, 0.010663285364681105, 0.04265314145872442, 0.10663285364681103, 0.015994928047021656, 0.10130121096447049, 0.11729613901149215, 0.03732149877638386, 0.02665821341170276, 0.9547985830259873, 0.12578298635662047, 0.08385532423774697, 0.7546979181397228, 0.7388959062182548, 0.10075853266612565, 0.13434471022150088, 0.9093196616831679, 0.9742057125741771, 0.9368653296282986, 0.2138988295718726, 0.7272560205443668, 0.21837349175755674, 0.0992606780716167, 0.019852135614323342, 0.47645125474376016, 0.07940854245729337, 0.019852135614323342, 0.0992606780716167, 0.8363482330968597, 0.1194783190138371, 0.21298803496680366, 0.7454581223838128, 0.7671859146743241, 0.1667795466683313, 0.033355909333666264, 0.9152094615025279, 0.9550519833934321, 0.5322032154326736, 0.27674567202499023, 0.19159315755576248, 0.5936842603947258, 0.1662315929105232, 0.14248422249473416, 0.07124211124736708, 0.9059504912210645, 0.9463359416115558, 0.8294970936990896, 0.10634578124347303, 0.042538312497389215, 0.03989667535610705, 0.1595867014244282, 0.03989667535610705, 0.718140156409927, 0.9619572100507744, 0.08143789680846314, 0.10858386241128419, 0.027145965602821048, 0.6786491400705262, 0.10858386241128419, 0.928270471145566, 0.037130818845822644, 0.9687850746156303, 0.3113973752828335, 0.190298396006176, 0.01729985418237964, 0.08649927091189819, 0.3632969378299724, 0.01729985418237964, 0.09713046150351926, 0.8741741535316733, 0.9483823358695574, 0.9477979178510688, 0.9636009652571431, 0.05600980787983276, 0.8961569260773241, 0.7083607617228044, 0.2276873876966157, 0.0252985986329573, 0.0252985986329573, 0.18679031787991593, 0.12452687858661061, 0.0415089595288702, 0.0207544797644351, 0.601879913168618, 0.9696041320962813, 0.7707368333090349, 0.21409356480806524, 0.9649721278956939, 0.9306602615621251, 0.7795714108197426, 0.11136734440282037, 0.055683672201410184, 0.7451706153887584, 0.1397194903853922, 0.11643290865449349, 0.8530865225092428, 0.0897985813167624, 0.9483599627249137, 0.1153227373357664, 0.8457000737956203, 0.9095960029719716, 0.022478348497238218, 0.11239174248619109, 0.6069154094254319, 0.11239174248619109, 0.15734843948066754, 0.9772549713342341, 0.615025020692664, 0.17855565116883793, 0.17855565116883793, 0.36625770784557243, 0.09554548900319282, 0.159242481671988, 0.04777274450159641, 0.031848496334397604, 0.30256071517677724, 0.9702219303110549, 0.033862842521473924, 0.016931421260736962, 0.06772568504294785, 0.38942268899695015, 0.1354513700858957, 0.06772568504294785, 0.25397131891105446, 0.033862842521473924, 0.9426447231150482, 0.953430474733887, 0.9042036033222361, 0.9294083987532261, 0.05808802492207663, 0.9206862197132658, 0.2115054744021472, 0.7755200728078732, 0.9207192236659154, 0.23537689285982155, 0.7355527901869423, 0.4400535185067643, 0.09167781635557588, 0.3850468286934187, 0.07334225308446071, 0.8944641595665314, 0.052615538798031256, 0.9655535626479328, 0.07340832281935523, 0.8564304328924777, 0.024469440939785078, 0.7753156376595938, 0.050020363719973794, 0.1500610911599214, 0.9651551830892872, 0.9403923198175068, 0.05224401776763927, 0.9196130661342542, 0.9384859285052303, 0.7990717030565513, 0.11149837717068158, 0.07433225144712105, 0.8817259832184848, 0.08079076925599778, 0.9048566156671751, 0.9264422604365882, 0.957271523225276, 0.971460644510579, 0.034460959753031546, 0.13784383901212618, 0.034460959753031546, 0.7926020743197256, 0.8496039417098629, 0.029296687645167685, 0.08789006293550305, 0.1957849347287793, 0.0652616449095931, 0.09136630287343035, 0.09136630287343035, 0.026104657963837243, 0.27409890862029107, 0.0652616449095931, 0.09136630287343035, 0.09136630287343035, 0.16641899342706543, 0.689450115626414, 0.023774141918152206, 0.09509656767260882, 0.9178843747175878, 0.7673019627922655, 0.026458688372147085, 0.07937606511644126, 0.026458688372147085, 0.10583475348858834, 0.9475345141512693, 0.9466279512625267, 0.9382244025884166, 0.9041413635146983, 0.9203724349640869, 0.9615124418337557, 0.9418945198566473, 0.9504721089258005, 0.9283864570369482, 0.9103030910956481, 0.9428793748754358, 0.8530988100081084, 0.08530988100081084, 0.9032464359084081, 0.7350662796477534, 0.03675331398238767, 0.18376656991193835, 0.9458167386835307, 0.3943684952725565, 0.5915527429088347, 0.9138549571025116, 0.9715752953458998, 0.09920392987423994, 0.8432334039310395, 0.9296311200116356, 0.2821929116175838, 0.6898048950652049, 0.09584147444358675, 0.03194715814786225, 0.0638943162957245, 0.127788632591449, 0.638943162957245, 0.03194715814786225, 0.9651564716861165, 0.929655614260351, 0.04426931496477862, 0.07916998066093665, 0.9104547776007715, 0.9389045730194119, 0.8606367316626851, 0.09562630351807612, 0.031875434506025375, 0.2976378231020825, 0.16234790351022682, 0.027057983918371137, 0.48704371053068046, 0.11120449552537523, 0.8340337164403142, 0.6510778923975995, 0.15024874439944605, 0.20033165919926138, 0.9701133787697463, 0.9661773289161993, 0.9736121078598904, 0.9232326923853287, 0.8830443246881772, 0.06307459462058408, 0.09638917772203251, 0.6024323607627032, 0.21687564987457314, 0.024097294430508127, 0.048194588861016255, 0.9610904860437622, 0.9590353816168551, 0.8946335345612401, 0.9336395635401235, 0.2043282252499088, 0.01857529320453716, 0.7615870213860236, 0.6189366145391496, 0.06515122258306838, 0.09772683387460257, 0.19545366774920514, 0.954605604419249, 0.7861699571793175, 0.1719746781329757, 0.02456781116185367, 0.9306113143354324, 0.051700628574190687, 0.9390560439605827, 0.9621086497643787, 0.16426928858128884, 0.14784235972315996, 0.2135500751556755, 0.3449655060207066, 0.13141543086503107, 0.9536702267469569, 0.7361771215748789, 0.21033632044996542, 0.9621689930182262, 0.901800217575521, 0.03716170542829473, 0.03716170542829473, 0.14864682171317892, 0.14864682171317892, 0.35303620156879995, 0.27871279071221045, 0.9718444548294511, 0.07114022966093636, 0.8892528707617046, 0.6151137061013551, 0.13372037089159894, 0.13372037089159894, 0.08023222253495936, 0.89603608085489, 0.07265157412336946, 0.9289693901628262, 0.08466945906913845, 0.8890293202259538, 0.9334007732824771, 0.09712147011853256, 0.874093231066793, 0.944310225569752, 0.9539970442034497, 0.03483833604617347, 0.4528983686002551, 0.052257504069260205, 0.017419168023086736, 0.17419168023086737, 0.10451500813852041, 0.1393533441846939, 0.9301887069363757, 0.888258854430915, 0.9704747917385567, 0.1940671145807071, 0.021563012731189678, 0.08625205092475871, 0.6468903819356904, 0.021563012731189678, 0.88806250687119, 0.07722282668445131, 0.9196772395757149, 0.9723115208037121, 0.09988431042184699, 0.09988431042184699, 0.13317908056246267, 0.07768779699476988, 0.2219651342707711, 0.06658954028123133, 0.05549128356769278, 0.18867036413015545, 0.07768779699476988, 0.9673208662709452, 0.9328644751073744, 0.9693983937498348, 0.9360382810047181, 0.9478989078629881, 0.061694275934827195, 0.925414139022408, 0.9540031754374994, 0.9231642399293962, 0.95768405230739, 0.9373614484035919, 0.9503751299162694, 0.9145112544507322, 0.3461701437720575, 0.03846334930800639, 0.07692669861601278, 0.08974781505201491, 0.05128446574400852, 0.03846334930800639, 0.2692434451560447, 0.03846334930800639, 0.05128446574400852, 0.7726141386824839, 0.203319510179601, 0.02027293590671154, 0.9528279876154424, 0.02027293590671154, 0.2417390193982156, 0.505454313287178, 0.19778647041672184, 0.02197627449074687, 0.6328778389320623, 0.1650985666779293, 0.08254928333896465, 0.11006571111861953, 0.8612364862457689, 0.14353941437429482, 0.04122632012165832, 0.9482053627981414, 0.019671389050923936, 0.1278640288310056, 0.059014167152771815, 0.06884986167823379, 0.09835694525461969, 0.14753541788192953, 0.39342778101847875, 0.06884986167823379, 0.9356750446395741, 0.9347393434930789, 0.9698880365665014, 0.017015579588885988, 0.06149375633697126, 0.7379250760436552, 0.1844812690109138, 0.15470505268733728, 0.15470505268733728, 0.3480863685465089, 0.07735252634366864, 0.27073384220284025, 0.01933006237106811, 0.13531043659747677, 0.19330062371068107, 0.03866012474213622, 0.5992319335031113, 0.01933006237106811, 0.9489664832919624, 0.9485386790521692, 0.9232445813641801, 0.9307981245442365], \"Term\": [\"'s\", \"10\", \"3\", \"90\", \"abc\", \"abc\", \"abc\", \"abus\", \"abus\", \"abus\", \"abus\", \"abus\", \"accid\", \"accus\", \"accus\", \"accus\", \"accus\", \"accus\", \"accus\", \"action\", \"action\", \"action\", \"ad\", \"afghanistan\", \"afl\", \"afl\", \"africa\", \"age\", \"agreement\", \"aid\", \"aim\", \"aim\", \"air\", \"air\", \"air\", \"airport\", \"airport\", \"airport\", \"alleg\", \"allow\", \"ambul\", \"amnesti\", \"andrew\", \"angri\", \"announc\", \"announc\", \"announc\", \"anoth\", \"arm\", \"arrest\", \"arrest\", \"arrest\", \"arrest\", \"arriv\", \"ash\", \"ash\", \"ask\", \"assault\", \"assault\", \"asylum\", \"attempt\", \"aust\", \"aust\", \"aust\", \"australian\", \"australian\", \"australian\", \"australian\", \"australian\", \"australian\", \"australian\", \"author\", \"author\", \"author\", \"await\", \"award\", \"award\", \"award\", \"ban\", \"ban\", \"ban\", \"ban\", \"ban\", \"basin\", \"bay\", \"bay\", \"beat\", \"beat\", \"beat\", \"blue\", \"blue\", \"blue\", \"bodi\", \"bodi\", \"bodi\", \"bomb\", \"bomb\", \"bomb\", \"boom\", \"boost\", \"boost\", \"boost\", \"boost\", \"boost\", \"boy\", \"boy\", \"brace\", \"brawl\", \"breakfast\", \"bring\", \"brisban\", \"brisban\", \"brother\", \"brown\", \"bulldog\", \"burn\", \"bushfir\", \"busi\", \"busi\", \"busi\", \"busi\", \"cabinet\", \"call\", \"call\", \"call\", \"call\", \"call\", \"call\", \"call\", \"call\", \"call\", \"call\", \"campaign\", \"campaign\", \"campaign\", \"campbel\", \"cancel\", \"capit\", \"carbon\", \"carbon\", \"care\", \"care\", \"cash\", \"cat\", \"cattl\", \"cattl\", \"celebr\", \"chang\", \"chang\", \"chang\", \"chang\", \"chang\", \"chang\", \"chang\", \"chang\", \"chang\", \"charg\", \"charg\", \"charg\", \"charg\", \"charg\", \"charg\", \"charg\", \"chelsea\", \"christma\", \"citi\", \"citi\", \"claim\", \"claim\", \"claim\", \"claim\", \"claim\", \"clark\", \"clash\", \"class\", \"clean\", \"clear\", \"clear\", \"clear\", \"clear\", \"closer\", \"coal\", \"coal\", \"coalit\", \"coff\", \"collaps\", \"comeback\", \"commiss\", \"commun\", \"commun\", \"commun\", \"commun\", \"compens\", \"concern\", \"concern\", \"concern\", \"concern\", \"concern\", \"concern\", \"concern\", \"condit\", \"condit\", \"confirm\", \"consid\", \"consid\", \"consid\", \"consid\", \"consid\", \"consid\", \"consid\", \"construct\", \"contract\", \"contract\", \"control\", \"control\", \"controversi\", \"convict\", \"council\", \"council\", \"council\", \"council\", \"council\", \"council\", \"council\", \"council\", \"council\", \"council\", \"councillor\", \"councillor\", \"countri\", \"countri\", \"coupl\", \"court\", \"court\", \"court\", \"court\", \"court\", \"court\", \"court\", \"court\", \"court\", \"court\", \"crack\", \"crash\", \"crash\", \"crash\", \"crash\", \"crash\", \"crash\", \"crew\", \"critic\", \"critic\", \"critic\", \"crowd\", \"cruis\", \"cut\", \"cut\", \"cut\", \"cut\", \"cut\", \"cut\", \"cyclon\", \"date\", \"day\", \"day\", \"day\", \"day\", \"day\", \"day\", \"day\", \"dead\", \"dead\", \"dead\", \"dead\", \"dead\", \"death\", \"death\", \"death\", \"death\", \"death\", \"death\", \"death\", \"death\", \"death\", \"decis\", \"decis\", \"decis\", \"decis\", \"decis\", \"defenc\", \"deliv\", \"deni\", \"deni\", \"deni\", \"despit\", \"despit\", \"destroy\", \"die\", \"die\", \"die\", \"die\", \"die\", \"die\", \"disput\", \"disrupt\", \"diver\", \"docker\", \"doctor\", \"doctor\", \"doctor\", \"doctor\", \"dog\", \"dog\", \"dog\", \"dog\", \"dog\", \"dollar\", \"domest\", \"doubt\", \"drink\", \"drink\", \"drink\", \"driver\", \"driver\", \"driver\", \"driver\", \"drought\", \"drought\", \"drought\", \"drown\", \"drug\", \"drug\", \"drug\", \"drug\", \"drug\", \"drug\", \"drum\", \"dump\", \"eagl\", \"earli\", \"eas\", \"econom\", \"economi\", \"edg\", \"educ\", \"educ\", \"effort\", \"effort\", \"emerg\", \"emerg\", \"england\", \"england\", \"entertain\", \"escap\", \"evid\", \"ex\", \"expert\", \"expert\", \"explor\", \"extend\", \"extend\", \"extend\", \"eye\", \"face\", \"face\", \"face\", \"face\", \"face\", \"face\", \"face\", \"face\", \"face\", \"fail\", \"fail\", \"fail\", \"famili\", \"famili\", \"famili\", \"farewel\", \"farm\", \"farm\", \"farm\", \"farm\", \"farmer\", \"farmer\", \"farmer\", \"farmer\", \"farmer\", \"farmer\", \"fatal\", \"father\", \"fed\", \"feder\", \"feder\", \"feder\", \"feder\", \"feder\", \"feder\", \"feel\", \"festiv\", \"fiji\", \"final\", \"final\", \"final\", \"final\", \"final\", \"fine\", \"fine\", \"fine\", \"finish\", \"fire\", \"fire\", \"fire\", \"fire\", \"fire\", \"fire\", \"fire\", \"fire\", \"fire\", \"firefight\", \"firefight\", \"firefight\", \"firm\", \"flag\", \"fli\", \"flight\", \"forest\", \"form\", \"found\", \"found\", \"found\", \"found\", \"four\", \"four\", \"fourth\", \"french\", \"front\", \"fuel\", \"fuel\", \"fund\", \"fund\", \"fund\", \"fund\", \"fund\", \"fund\", \"fund\", \"futur\", \"futur\", \"futur\", \"ga\", \"ga\", \"ga\", \"gain\", \"game\", \"game\", \"game\", \"game\", \"gener\", \"give\", \"give\", \"give\", \"give\", \"given\", \"global\", \"goe\", \"gold\", \"gold\", \"gold\", \"gold\", \"gold\", \"gold\", \"good\", \"govern\", \"govern\", \"govern\", \"govern\", \"govern\", \"govern\", \"govern\", \"govt\", \"govt\", \"govt\", \"govt\", \"govt\", \"govt\", \"govt\", \"gp\", \"grain\", \"grandstand\", \"green\", \"green\", \"green\", \"green\", \"group\", \"group\", \"group\", \"group\", \"group\", \"group\", \"grow\", \"grower\", \"guilti\", \"hand\", \"hand\", \"harvest\", \"hawk\", \"health\", \"health\", \"health\", \"health\", \"health\", \"health\", \"health\", \"held\", \"helicopt\", \"help\", \"help\", \"help\", \"help\", \"help\", \"help\", \"higher\", \"highway\", \"highway\", \"hill\", \"hill\", \"hill\", \"hill\", \"histori\", \"hit\", \"hit\", \"hit\", \"hit\", \"hit\", \"hit\", \"hit\", \"holiday\", \"home\", \"home\", \"home\", \"home\", \"home\", \"home\", \"honour\", \"hors\", \"hour\", \"howard\", \"human\", \"hunt\", \"hunt\", \"ill\", \"illeg\", \"illeg\", \"increas\", \"increas\", \"india\", \"india\", \"india\", \"indian\", \"indigen\", \"indigen\", \"indigen\", \"indigen\", \"indigen\", \"indonesia\", \"indonesian\", \"indonesian\", \"industri\", \"industri\", \"industri\", \"industri\", \"industri\", \"injur\", \"injur\", \"inquiri\", \"inquiri\", \"insur\", \"interview\", \"interview\", \"interview\", \"interview\", \"interview\", \"interview\", \"interview\", \"investig\", \"investig\", \"investig\", \"investig\", \"investig\", \"investig\", \"iraq\", \"iraq\", \"iraq\", \"irrig\", \"jail\", \"jail\", \"jail\", \"jail\", \"jail\", \"jail\", \"jail\", \"jame\", \"japan\", \"japanes\", \"job\", \"job\", \"job\", \"job\", \"job\", \"job\", \"job\", \"johnson\", \"johnson\", \"journalist\", \"juli\", \"jump\", \"justic\", \"kangaroo\", \"keen\", \"kid\", \"kill\", \"kill\", \"kill\", \"kill\", \"kill\", \"kill\", \"kill\", \"kill\", \"killer\", \"kiwi\", \"knight\", \"korea\", \"korea\", \"la\", \"lake\", \"lake\", \"land\", \"land\", \"land\", \"land\", \"latest\", \"launch\", \"launch\", \"leader\", \"leader\", \"leader\", \"leader\", \"leav\", \"leav\", \"leav\", \"leav\", \"level\", \"liber\", \"liber\", \"life\", \"life\", \"light\", \"like\", \"lion\", \"list\", \"local\", \"local\", \"local\", \"local\", \"london\", \"look\", \"look\", \"look\", \"lower\", \"major\", \"make\", \"make\", \"make\", \"make\", \"malaysia\", \"man\", \"man\", \"man\", \"man\", \"man\", \"man\", \"man\", \"man\", \"man\", \"marin\", \"market\", \"market\", \"market\", \"market\", \"market\", \"market\", \"market\", \"massiv\", \"master\", \"match\", \"match\", \"may\", \"may\", \"may\", \"may\", \"may\", \"mayor\", \"mayor\", \"mayor\", \"mayor\", \"mayor\", \"mayor\", \"medic\", \"meet\", \"meet\", \"meet\", \"meet\", \"meet\", \"melbourn\", \"melbourn\", \"melbourn\", \"melbourn\", \"member\", \"mental\", \"mental\", \"merger\", \"merger\", \"michael\", \"mid\", \"mill\", \"million\", \"million\", \"mine\", \"mine\", \"mine\", \"mine\", \"mine\", \"mine\", \"miss\", \"miss\", \"miss\", \"miss\", \"miss\", \"miss\", \"mix\", \"month\", \"mosqu\", \"mother\", \"mother\", \"murder\", \"murder\", \"murder\", \"murder\", \"museum\", \"music\", \"must\", \"name\", \"name\", \"name\", \"name\", \"name\", \"nation\", \"nation\", \"nation\", \"nation\", \"nation\", \"nation\", \"nation\", \"near\", \"need\", \"need\", \"need\", \"need\", \"neglect\", \"net\", \"new\", \"new\", \"new\", \"new\", \"new\", \"new\", \"new\", \"new\", \"new\", \"new\", \"newcastl\", \"newcastl\", \"newman\", \"news\", \"news\", \"next\", \"nrl\", \"nrn\", \"nt\", \"nt\", \"nt\", \"nt\", \"nt\", \"nuclear\", \"offend\", \"oil\", \"old\", \"old\", \"one\", \"one\", \"one\", \"one\", \"oppos\", \"option\", \"order\", \"order\", \"origin\", \"outback\", \"oversea\", \"pacif\", \"packag\", \"pair\", \"pakistan\", \"pakistan\", \"pakistan\", \"pakistan\", \"palestinian\", \"parent\", \"parliament\", \"parliament\", \"parliament\", \"part\", \"parti\", \"parti\", \"patient\", \"patient\", \"peopl\", \"perform\", \"perth\", \"perth\", \"peter\", \"pilbara\", \"pilot\", \"pipelin\", \"place\", \"plan\", \"plan\", \"plan\", \"plan\", \"plan\", \"plan\", \"plan\", \"plan\", \"plan\", \"plane\", \"plant\", \"plant\", \"play\", \"play\", \"play\", \"plead\", \"pm\", \"pm\", \"pm\", \"pm\", \"point\", \"pole\", \"polic\", \"polic\", \"polic\", \"polic\", \"polic\", \"polic\", \"polic\", \"polic\", \"polic\", \"polic\", \"policeman\", \"polit\", \"polit\", \"polit\", \"poll\", \"poll\", \"poll\", \"popul\", \"posit\", \"possibl\", \"post\", \"post\", \"power\", \"power\", \"power\", \"power\", \"power\", \"power\", \"power\", \"prepar\", \"prepar\", \"pressur\", \"pressur\", \"prison\", \"prison\", \"prison\", \"prize\", \"project\", \"protest\", \"protest\", \"protest\", \"public\", \"public\", \"public\", \"public\", \"quak\", \"quarter\", \"question\", \"question\", \"question\", \"raid\", \"raid\", \"raid\", \"raid\", \"rail\", \"rain\", \"rain\", \"rain\", \"rain\", \"rain\", \"rais\", \"rais\", \"rape\", \"rate\", \"rate\", \"rate\", \"rate\", \"rate\", \"rate\", \"reach\", \"reach\", \"readi\", \"receiv\", \"recess\", \"reduc\", \"reduc\", \"region\", \"region\", \"region\", \"region\", \"reject\", \"reject\", \"reject\", \"reject\", \"reject\", \"relief\", \"remain\", \"remain\", \"rememb\", \"replac\", \"rescu\", \"rescu\", \"rescu\", \"resid\", \"resid\", \"resid\", \"resign\", \"resign\", \"respond\", \"respons\", \"respons\", \"retir\", \"return\", \"return\", \"return\", \"return\", \"return\", \"revamp\", \"review\", \"review\", \"review\", \"rise\", \"rise\", \"rise\", \"rise\", \"rise\", \"rise\", \"river\", \"road\", \"road\", \"road\", \"road\", \"road\", \"road\", \"road\", \"road\", \"roar\", \"robberi\", \"round\", \"row\", \"row\", \"royal\", \"rudd\", \"rudd\", \"rugbi\", \"rule\", \"rule\", \"rural\", \"rural\", \"rural\", \"rural\", \"sack\", \"sack\", \"safe\", \"safeti\", \"safeti\", \"safeti\", \"sale\", \"sale\", \"sale\", \"scam\", \"scientist\", \"scientist\", \"scott\", \"se\", \"search\", \"search\", \"search\", \"seat\", \"second\", \"second\", \"seeker\", \"seiz\", \"semi\", \"senat\", \"senat\", \"senat\", \"senat\", \"sentenc\", \"sentenc\", \"sentenc\", \"set\", \"set\", \"set\", \"set\", \"set\", \"set\", \"set\", \"set\", \"set\", \"sex\", \"sex\", \"sex\", \"sex\", \"sheep\", \"shoot\", \"shoot\", \"shoot\", \"shoot\", \"shoot\", \"shop\", \"shortag\", \"sieg\", \"sight\", \"six\", \"slam\", \"slow\", \"smith\", \"snap\", \"social\", \"sold\", \"soldier\", \"soldier\", \"southern\", \"speak\", \"speak\", \"speak\", \"speed\", \"sport\", \"sport\", \"spring\", \"stab\", \"staff\", \"staff\", \"stage\", \"stand\", \"stand\", \"star\", \"star\", \"star\", \"star\", \"star\", \"star\", \"start\", \"step\", \"step\", \"stock\", \"stock\", \"stori\", \"storm\", \"storm\", \"storm\", \"strike\", \"strike\", \"strike\", \"strike\", \"strong\", \"strong\", \"studi\", \"studi\", \"studi\", \"success\", \"suffer\", \"sugar\", \"summit\", \"super\", \"super\", \"support\", \"support\", \"support\", \"support\", \"support\", \"survey\", \"surviv\", \"survivor\", \"system\", \"talk\", \"talk\", \"talk\", \"target\", \"target\", \"target\", \"target\", \"team\", \"teen\", \"teen\", \"teen\", \"telstra\", \"telstra\", \"term\", \"territori\", \"test\", \"test\", \"test\", \"test\", \"test\", \"third\", \"tiger\", \"tiger\", \"tim\", \"toni\", \"top\", \"top\", \"top\", \"top\", \"top\", \"top\", \"tour\", \"track\", \"track\", \"trade\", \"trade\", \"trade\", \"trade\", \"train\", \"train\", \"transport\", \"tree\", \"tree\", \"tri\", \"troop\", \"troop\", \"truck\", \"tsunami\", \"two\", \"two\", \"two\", \"two\", \"two\", \"two\", \"two\", \"uk\", \"underway\", \"uni\", \"union\", \"union\", \"union\", \"union\", \"union\", \"unit\", \"unit\", \"unlik\", \"updat\", \"us\", \"us\", \"us\", \"us\", \"us\", \"us\", \"us\", \"us\", \"us\", \"valley\", \"veteran\", \"victori\", \"victoria\", \"victorian\", \"video\", \"video\", \"violenc\", \"volunt\", \"wait\", \"wall\", \"wallabi\", \"watch\", \"water\", \"water\", \"water\", \"water\", \"water\", \"water\", \"water\", \"water\", \"water\", \"way\", \"way\", \"weather\", \"weather\", \"weather\", \"welcom\", \"welcom\", \"welcom\", \"welcom\", \"west\", \"west\", \"west\", \"west\", \"western\", \"western\", \"whale\", \"whale\", \"win\", \"win\", \"win\", \"win\", \"win\", \"win\", \"win\", \"win\", \"wit\", \"woe\", \"woman\", \"woman\", \"women\", \"women\", \"women\", \"work\", \"work\", \"work\", \"work\", \"work\", \"world\", \"world\", \"world\", \"world\", \"world\", \"world\", \"worri\", \"york\", \"zealand\", \"zimbabw\"]}, \"R\": 30, \"lambda.step\": 0.01, \"plot.opts\": {\"xlab\": \"PC1\", \"ylab\": \"PC2\"}, \"topic.order\": [7, 1, 4, 9, 2, 8, 5, 10, 3, 6]};\n",
              "\n",
              "function LDAvis_load_lib(url, callback){\n",
              "  var s = document.createElement('script');\n",
              "  s.src = url;\n",
              "  s.async = true;\n",
              "  s.onreadystatechange = s.onload = callback;\n",
              "  s.onerror = function(){console.warn(\"failed to load library \" + url);};\n",
              "  document.getElementsByTagName(\"head\")[0].appendChild(s);\n",
              "}\n",
              "\n",
              "if(typeof(LDAvis) !== \"undefined\"){\n",
              "   // already loaded: just create the visualization\n",
              "   !function(LDAvis){\n",
              "       new LDAvis(\"#\" + \"ldavis_el123101405377697658888048289278\", ldavis_el123101405377697658888048289278_data);\n",
              "   }(LDAvis);\n",
              "}else if(typeof define === \"function\" && define.amd){\n",
              "   // require.js is available: use it to load d3/LDAvis\n",
              "   require.config({paths: {d3: \"https://d3js.org/d3.v5\"}});\n",
              "   require([\"d3\"], function(d3){\n",
              "      window.d3 = d3;\n",
              "      LDAvis_load_lib(\"https://cdn.jsdelivr.net/gh/bmabey/pyLDAvis@3.4.0/pyLDAvis/js/ldavis.v3.0.0.js\", function(){\n",
              "        new LDAvis(\"#\" + \"ldavis_el123101405377697658888048289278\", ldavis_el123101405377697658888048289278_data);\n",
              "      });\n",
              "    });\n",
              "}else{\n",
              "    // require.js not available: dynamically load d3 & LDAvis\n",
              "    LDAvis_load_lib(\"https://d3js.org/d3.v5.js\", function(){\n",
              "         LDAvis_load_lib(\"https://cdn.jsdelivr.net/gh/bmabey/pyLDAvis@3.4.0/pyLDAvis/js/ldavis.v3.0.0.js\", function(){\n",
              "                 new LDAvis(\"#\" + \"ldavis_el123101405377697658888048289278\", ldavis_el123101405377697658888048289278_data);\n",
              "            })\n",
              "         });\n",
              "}\n",
              "</script>"
            ]
          },
          "metadata": {},
          "execution_count": 29
        }
      ]
    },
    {
      "cell_type": "markdown",
      "source": [
        "V. Named Entity Recognition"
      ],
      "metadata": {
        "id": "Dwu-IKRRQ5jg"
      }
    },
    {
      "cell_type": "code",
      "source": [
        "df = \"/content/drive/MyDrive/Colab/ada_lovelace.txt\""
      ],
      "metadata": {
        "id": "xL6FS3_GQ9Zf"
      },
      "execution_count": null,
      "outputs": []
    },
    {
      "cell_type": "code",
      "source": [
        "def clean_file(filename):\n",
        "    with open(filename, 'r') as file:\n",
        "        contents = file.read()\n",
        "\n",
        "    redacted_contents = contents.replace(\"Ada Lovelace\", \"[REDACTED]\")\n",
        "\n",
        "    with open(filename, 'w') as file:\n",
        "        file.write(redacted_contents)\n",
        "\n",
        "clean_file(df)\n"
      ],
      "metadata": {
        "id": "dz89NpNGRMAD"
      },
      "execution_count": null,
      "outputs": []
    },
    {
      "cell_type": "code",
      "source": [
        "import spacy\n",
        "\n",
        "def identify_entities(filename):\n",
        "    nlp = spacy.load(\"en_core_web_sm\")\n",
        "\n",
        "    with open(filename, 'r') as file:\n",
        "        contents = file.read()\n",
        "\n",
        "    doc = nlp(contents)\n",
        "\n",
        "    for entity in doc.ents:\n",
        "        print(entity.text, entity.label_)\n",
        "\n"
      ],
      "metadata": {
        "id": "JPtozabZRWFv"
      },
      "execution_count": null,
      "outputs": []
    },
    {
      "cell_type": "code",
      "source": [
        "identify_entities(df)"
      ],
      "metadata": {
        "colab": {
          "base_uri": "https://localhost:8080/"
        },
        "id": "GG_93F2wRXNW",
        "outputId": "915ad78c-8bf9-411f-d7d7-d4c5cde12b83"
      },
      "execution_count": null,
      "outputs": [
        {
          "output_type": "stream",
          "name": "stdout",
          "text": [
            "Augusta Ada King PERSON\n",
            "Countess PERSON\n",
            "Lovelace PERSON\n",
            "Byron ORG\n",
            "10 December 1815 DATE\n",
            "27 November 1852 DATE\n",
            "English LANGUAGE\n",
            "Charles Babbage's ORG\n",
            "the Analytical Engine ORG\n",
            "first ORDINAL\n",
            "first ORDINAL\n",
            "first ORDINAL\n",
            "one CARDINAL\n",
            "first ORDINAL\n",
            "Lovelace PERSON\n",
            "Mary Somerville PERSON\n",
            "Charles Babbage PERSON\n",
            "1833 DATE\n",
            "Somerville GPE\n",
            "many years DATE\n",
            "Andrew Crosse PERSON\n",
            "David Brewster PERSON\n",
            "Charles Wheatstone PERSON\n",
            "Michael Faraday PERSON\n",
            "Charles Dickens PERSON\n"
          ]
        }
      ]
    },
    {
      "cell_type": "code",
      "source": [
        "import spacy\n",
        "from spacy import displacy\n",
        "from IPython.display import display\n",
        "\n",
        "def visualize_entities(filename):\n",
        "\n",
        "    nlp = spacy.load(\"en_core_web_sm\")\n",
        "\n",
        "    with open(filename, 'r') as file:\n",
        "        contents = file.read()\n",
        "\n",
        "    doc = nlp(contents)\n",
        "\n",
        "    displacy.render(doc, style=\"ent\", jupyter=True)\n",
        "\n",
        "\n"
      ],
      "metadata": {
        "id": "tJxshh82RgNd"
      },
      "execution_count": null,
      "outputs": []
    },
    {
      "cell_type": "code",
      "source": [
        "visualize_entities(df)"
      ],
      "metadata": {
        "colab": {
          "base_uri": "https://localhost:8080/",
          "height": 352
        },
        "id": "JynAAOifRhPS",
        "outputId": "94bc0a6c-1c54-471e-ac77-916f9df0a905"
      },
      "execution_count": null,
      "outputs": [
        {
          "output_type": "display_data",
          "data": {
            "text/plain": [
              "<IPython.core.display.HTML object>"
            ],
            "text/html": [
              "<span class=\"tex2jax_ignore\"><div class=\"entities\" style=\"line-height: 2.5; direction: ltr\">\n",
              "<mark class=\"entity\" style=\"background: #aa9cfc; padding: 0.45em 0.6em; margin: 0 0.25em; line-height: 1; border-radius: 0.35em;\">\n",
              "    Augusta Ada King\n",
              "    <span style=\"font-size: 0.8em; font-weight: bold; line-height: 1; border-radius: 0.35em; vertical-align: middle; margin-left: 0.5rem\">PERSON</span>\n",
              "</mark>\n",
              ", \n",
              "<mark class=\"entity\" style=\"background: #aa9cfc; padding: 0.45em 0.6em; margin: 0 0.25em; line-height: 1; border-radius: 0.35em;\">\n",
              "    Countess\n",
              "    <span style=\"font-size: 0.8em; font-weight: bold; line-height: 1; border-radius: 0.35em; vertical-align: middle; margin-left: 0.5rem\">PERSON</span>\n",
              "</mark>\n",
              " of \n",
              "<mark class=\"entity\" style=\"background: #aa9cfc; padding: 0.45em 0.6em; margin: 0 0.25em; line-height: 1; border-radius: 0.35em;\">\n",
              "    Lovelace\n",
              "    <span style=\"font-size: 0.8em; font-weight: bold; line-height: 1; border-radius: 0.35em; vertical-align: middle; margin-left: 0.5rem\">PERSON</span>\n",
              "</mark>\n",
              " (née \n",
              "<mark class=\"entity\" style=\"background: #7aecec; padding: 0.45em 0.6em; margin: 0 0.25em; line-height: 1; border-radius: 0.35em;\">\n",
              "    Byron\n",
              "    <span style=\"font-size: 0.8em; font-weight: bold; line-height: 1; border-radius: 0.35em; vertical-align: middle; margin-left: 0.5rem\">ORG</span>\n",
              "</mark>\n",
              "; \n",
              "<mark class=\"entity\" style=\"background: #bfe1d9; padding: 0.45em 0.6em; margin: 0 0.25em; line-height: 1; border-radius: 0.35em;\">\n",
              "    10 December 1815\n",
              "    <span style=\"font-size: 0.8em; font-weight: bold; line-height: 1; border-radius: 0.35em; vertical-align: middle; margin-left: 0.5rem\">DATE</span>\n",
              "</mark>\n",
              " – \n",
              "<mark class=\"entity\" style=\"background: #bfe1d9; padding: 0.45em 0.6em; margin: 0 0.25em; line-height: 1; border-radius: 0.35em;\">\n",
              "    27 November 1852\n",
              "    <span style=\"font-size: 0.8em; font-weight: bold; line-height: 1; border-radius: 0.35em; vertical-align: middle; margin-left: 0.5rem\">DATE</span>\n",
              "</mark>\n",
              ") was an \n",
              "<mark class=\"entity\" style=\"background: #ff8197; padding: 0.45em 0.6em; margin: 0 0.25em; line-height: 1; border-radius: 0.35em;\">\n",
              "    English\n",
              "    <span style=\"font-size: 0.8em; font-weight: bold; line-height: 1; border-radius: 0.35em; vertical-align: middle; margin-left: 0.5rem\">LANGUAGE</span>\n",
              "</mark>\n",
              " mathematician and writer, chiefly known for her work on \n",
              "<mark class=\"entity\" style=\"background: #7aecec; padding: 0.45em 0.6em; margin: 0 0.25em; line-height: 1; border-radius: 0.35em;\">\n",
              "    Charles Babbage's\n",
              "    <span style=\"font-size: 0.8em; font-weight: bold; line-height: 1; border-radius: 0.35em; vertical-align: middle; margin-left: 0.5rem\">ORG</span>\n",
              "</mark>\n",
              " proposed mechanical general-purpose computer, \n",
              "<mark class=\"entity\" style=\"background: #7aecec; padding: 0.45em 0.6em; margin: 0 0.25em; line-height: 1; border-radius: 0.35em;\">\n",
              "    the Analytical Engine\n",
              "    <span style=\"font-size: 0.8em; font-weight: bold; line-height: 1; border-radius: 0.35em; vertical-align: middle; margin-left: 0.5rem\">ORG</span>\n",
              "</mark>\n",
              ". She was the \n",
              "<mark class=\"entity\" style=\"background: #e4e7d2; padding: 0.45em 0.6em; margin: 0 0.25em; line-height: 1; border-radius: 0.35em;\">\n",
              "    first\n",
              "    <span style=\"font-size: 0.8em; font-weight: bold; line-height: 1; border-radius: 0.35em; vertical-align: middle; margin-left: 0.5rem\">ORDINAL</span>\n",
              "</mark>\n",
              " to recognise that the machine had applications beyond pure calculation, and published the \n",
              "<mark class=\"entity\" style=\"background: #e4e7d2; padding: 0.45em 0.6em; margin: 0 0.25em; line-height: 1; border-radius: 0.35em;\">\n",
              "    first\n",
              "    <span style=\"font-size: 0.8em; font-weight: bold; line-height: 1; border-radius: 0.35em; vertical-align: middle; margin-left: 0.5rem\">ORDINAL</span>\n",
              "</mark>\n",
              " algorithm intended to be carried out by such a machine. As a result, she is sometimes regarded as the \n",
              "<mark class=\"entity\" style=\"background: #e4e7d2; padding: 0.45em 0.6em; margin: 0 0.25em; line-height: 1; border-radius: 0.35em;\">\n",
              "    first\n",
              "    <span style=\"font-size: 0.8em; font-weight: bold; line-height: 1; border-radius: 0.35em; vertical-align: middle; margin-left: 0.5rem\">ORDINAL</span>\n",
              "</mark>\n",
              " to recognise the full potential of a &quot;computing machine&quot; and \n",
              "<mark class=\"entity\" style=\"background: #e4e7d2; padding: 0.45em 0.6em; margin: 0 0.25em; line-height: 1; border-radius: 0.35em;\">\n",
              "    one\n",
              "    <span style=\"font-size: 0.8em; font-weight: bold; line-height: 1; border-radius: 0.35em; vertical-align: middle; margin-left: 0.5rem\">CARDINAL</span>\n",
              "</mark>\n",
              " of the \n",
              "<mark class=\"entity\" style=\"background: #e4e7d2; padding: 0.45em 0.6em; margin: 0 0.25em; line-height: 1; border-radius: 0.35em;\">\n",
              "    first\n",
              "    <span style=\"font-size: 0.8em; font-weight: bold; line-height: 1; border-radius: 0.35em; vertical-align: middle; margin-left: 0.5rem\">ORDINAL</span>\n",
              "</mark>\n",
              " computer programmers. </br></br>\n",
              "<mark class=\"entity\" style=\"background: #aa9cfc; padding: 0.45em 0.6em; margin: 0 0.25em; line-height: 1; border-radius: 0.35em;\">\n",
              "    Lovelace\n",
              "    <span style=\"font-size: 0.8em; font-weight: bold; line-height: 1; border-radius: 0.35em; vertical-align: middle; margin-left: 0.5rem\">PERSON</span>\n",
              "</mark>\n",
              " became close friends with her tutor \n",
              "<mark class=\"entity\" style=\"background: #aa9cfc; padding: 0.45em 0.6em; margin: 0 0.25em; line-height: 1; border-radius: 0.35em;\">\n",
              "    Mary Somerville\n",
              "    <span style=\"font-size: 0.8em; font-weight: bold; line-height: 1; border-radius: 0.35em; vertical-align: middle; margin-left: 0.5rem\">PERSON</span>\n",
              "</mark>\n",
              ", who introduced her to \n",
              "<mark class=\"entity\" style=\"background: #aa9cfc; padding: 0.45em 0.6em; margin: 0 0.25em; line-height: 1; border-radius: 0.35em;\">\n",
              "    Charles Babbage\n",
              "    <span style=\"font-size: 0.8em; font-weight: bold; line-height: 1; border-radius: 0.35em; vertical-align: middle; margin-left: 0.5rem\">PERSON</span>\n",
              "</mark>\n",
              " in \n",
              "<mark class=\"entity\" style=\"background: #bfe1d9; padding: 0.45em 0.6em; margin: 0 0.25em; line-height: 1; border-radius: 0.35em;\">\n",
              "    1833\n",
              "    <span style=\"font-size: 0.8em; font-weight: bold; line-height: 1; border-radius: 0.35em; vertical-align: middle; margin-left: 0.5rem\">DATE</span>\n",
              "</mark>\n",
              ". She had a strong respect and affection for \n",
              "<mark class=\"entity\" style=\"background: #feca74; padding: 0.45em 0.6em; margin: 0 0.25em; line-height: 1; border-radius: 0.35em;\">\n",
              "    Somerville\n",
              "    <span style=\"font-size: 0.8em; font-weight: bold; line-height: 1; border-radius: 0.35em; vertical-align: middle; margin-left: 0.5rem\">GPE</span>\n",
              "</mark>\n",
              ", and they corresponded for \n",
              "<mark class=\"entity\" style=\"background: #bfe1d9; padding: 0.45em 0.6em; margin: 0 0.25em; line-height: 1; border-radius: 0.35em;\">\n",
              "    many years\n",
              "    <span style=\"font-size: 0.8em; font-weight: bold; line-height: 1; border-radius: 0.35em; vertical-align: middle; margin-left: 0.5rem\">DATE</span>\n",
              "</mark>\n",
              ". Other acquaintances included the scientists \n",
              "<mark class=\"entity\" style=\"background: #aa9cfc; padding: 0.45em 0.6em; margin: 0 0.25em; line-height: 1; border-radius: 0.35em;\">\n",
              "    Andrew Crosse\n",
              "    <span style=\"font-size: 0.8em; font-weight: bold; line-height: 1; border-radius: 0.35em; vertical-align: middle; margin-left: 0.5rem\">PERSON</span>\n",
              "</mark>\n",
              ", Sir \n",
              "<mark class=\"entity\" style=\"background: #aa9cfc; padding: 0.45em 0.6em; margin: 0 0.25em; line-height: 1; border-radius: 0.35em;\">\n",
              "    David Brewster\n",
              "    <span style=\"font-size: 0.8em; font-weight: bold; line-height: 1; border-radius: 0.35em; vertical-align: middle; margin-left: 0.5rem\">PERSON</span>\n",
              "</mark>\n",
              ", \n",
              "<mark class=\"entity\" style=\"background: #aa9cfc; padding: 0.45em 0.6em; margin: 0 0.25em; line-height: 1; border-radius: 0.35em;\">\n",
              "    Charles Wheatstone\n",
              "    <span style=\"font-size: 0.8em; font-weight: bold; line-height: 1; border-radius: 0.35em; vertical-align: middle; margin-left: 0.5rem\">PERSON</span>\n",
              "</mark>\n",
              ", \n",
              "<mark class=\"entity\" style=\"background: #aa9cfc; padding: 0.45em 0.6em; margin: 0 0.25em; line-height: 1; border-radius: 0.35em;\">\n",
              "    Michael Faraday\n",
              "    <span style=\"font-size: 0.8em; font-weight: bold; line-height: 1; border-radius: 0.35em; vertical-align: middle; margin-left: 0.5rem\">PERSON</span>\n",
              "</mark>\n",
              " and the author \n",
              "<mark class=\"entity\" style=\"background: #aa9cfc; padding: 0.45em 0.6em; margin: 0 0.25em; line-height: 1; border-radius: 0.35em;\">\n",
              "    Charles Dickens\n",
              "    <span style=\"font-size: 0.8em; font-weight: bold; line-height: 1; border-radius: 0.35em; vertical-align: middle; margin-left: 0.5rem\">PERSON</span>\n",
              "</mark>\n",
              ".</div></span>"
            ]
          },
          "metadata": {}
        }
      ]
    },
    {
      "cell_type": "code",
      "source": [
        "import spacy\n",
        "\n",
        "def replace_name_by_redacted(filename):\n",
        "    nlp = spacy.load(\"en_core_web_sm\")\n",
        "\n",
        "    with open(filename, 'r') as file:\n",
        "        contents = file.read()\n",
        "\n",
        "    doc = nlp(contents)\n",
        "\n",
        "    redacted_contents = contents\n",
        "    for entity in doc.ents:\n",
        "        if entity.label_ == \"PERSON\":\n",
        "            redacted_contents = redacted_contents.replace(entity.text, \"[REDACTED]\")\n",
        "\n",
        "    with open(filename, 'w') as file:\n",
        "        file.write(redacted_contents)\n",
        "\n",
        "replace_name_by_redacted(df)"
      ],
      "metadata": {
        "id": "Ia9IoobdRlaL"
      },
      "execution_count": null,
      "outputs": []
    },
    {
      "cell_type": "code",
      "source": [
        "import spacy\n",
        "\n",
        "def make_doc_GDPR_compliant(filename):\n",
        "\n",
        "    nlp = spacy.load(\"en_core_web_sm\")\n",
        "\n",
        "    with open(filename, 'r') as file:\n",
        "        contents = file.read()\n",
        "\n",
        "    doc = nlp(contents)\n",
        "\n",
        "    redacted_contents = contents\n",
        "    for entity in doc.ents:\n",
        "        if entity.label_ == \"PERSON\":\n",
        "            redacted_contents = redacted_contents.replace(entity.text, \"[REDACTED]\")\n",
        "\n",
        "    with open(filename, 'w') as file:\n",
        "        file.write(redacted_contents)\n",
        "\n",
        "make_doc_GDPR_compliant(df)"
      ],
      "metadata": {
        "id": "iKef0a0FRmxB"
      },
      "execution_count": null,
      "outputs": []
    },
    {
      "cell_type": "markdown",
      "source": [
        "VI. Exercise "
      ],
      "metadata": {
        "id": "11DbQ6CvDmc3"
      }
    },
    {
      "cell_type": "code",
      "source": [
        "df = pd.read_csv('/content/drive/MyDrive/Colab/job-market.csv')"
      ],
      "metadata": {
        "id": "lqcYAIo7Rw9O"
      },
      "execution_count": null,
      "outputs": []
    },
    {
      "cell_type": "code",
      "source": [
        "df.fillna(0)"
      ],
      "metadata": {
        "colab": {
          "base_uri": "https://localhost:8080/",
          "height": 834
        },
        "id": "TIhDddA8Ry9u",
        "outputId": "1f43b0b0-1e75-48dc-ad19-aa0694704ad4"
      },
      "execution_count": null,
      "outputs": [
        {
          "output_type": "execute_result",
          "data": {
            "text/plain": [
              "               Id                                              Title  \\\n",
              "0      37404348.0                           Casual Stock Replenisher   \n",
              "1      37404337.0                           Casual Stock Replenisher   \n",
              "2      37404356.0  RETAIL SALES SUPERSTARS and STYLISTS Wanted - ...   \n",
              "3      37404330.0                              Team member - Belrose   \n",
              "4      37404308.0  Business Banking Contact Centre Specialist, Ni...   \n",
              "...           ...                                                ...   \n",
              "40784         0.0                                                  0   \n",
              "40785         0.0                                                  0   \n",
              "40786         0.0                                                  0   \n",
              "40787         0.0                                                  0   \n",
              "40788         0.0                                                  0   \n",
              "\n",
              "                                              Company  \\\n",
              "0                                         Aldi Stores   \n",
              "1                                         Aldi Stores   \n",
              "2                                 LB Creative Pty Ltd   \n",
              "3                              Anaconda Group Pty Ltd   \n",
              "4      Commonwealth Bank - Business & Private Banking   \n",
              "...                                               ...   \n",
              "40784                                               0   \n",
              "40785                                               0   \n",
              "40786                                               0   \n",
              "40787                                               0   \n",
              "40788                                               0   \n",
              "\n",
              "                           Date                 Location  \\\n",
              "0      2018-10-07T00:00:00.000Z                   Sydney   \n",
              "1      2018-10-07T00:00:00.000Z    Richmond & Hawkesbury   \n",
              "2      2018-10-07T00:00:00.000Z                 Brisbane   \n",
              "3      2018-10-07T00:00:00.000Z  Gosford & Central Coast   \n",
              "4      2018-10-07T00:00:00.000Z                   Sydney   \n",
              "...                         ...                      ...   \n",
              "40784                         0                        0   \n",
              "40785                         0                        0   \n",
              "40786                         0                        0   \n",
              "40787                         0                        0   \n",
              "40788                         0                        0   \n",
              "\n",
              "                              Area                  Classification  \\\n",
              "0      North West & Hills District      Retail & Consumer Products   \n",
              "1                                0      Retail & Consumer Products   \n",
              "2              CBD & Inner Suburbs      Retail & Consumer Products   \n",
              "3                                0      Retail & Consumer Products   \n",
              "4            Ryde & Macquarie Park  Call Centre & Customer Service   \n",
              "...                            ...                             ...   \n",
              "40784                            0                               0   \n",
              "40785                            0                               0   \n",
              "40786                            0                               0   \n",
              "40787                            0                               0   \n",
              "40788                            0                               0   \n",
              "\n",
              "       SubClassification                                        Requirement  \\\n",
              "0      Retail Assistants  Our Casual Stock Replenishers pride themselves...   \n",
              "1      Retail Assistants  Our Casual Stock Replenishers pride themselves...   \n",
              "2      Retail Assistants  BRAND NEW FLAGSHIP STORE OPENING - SUNSHINE PLAZA   \n",
              "3      Retail Assistants  Bring it on - do you love the great outdoors a...   \n",
              "4        Sales - Inbound  We are seeking highly articulate, enthusiastic...   \n",
              "...                  ...                                                ...   \n",
              "40784                  0                                                  0   \n",
              "40785                  0                                                  0   \n",
              "40786                  0                                                  0   \n",
              "40787                  0                                                  0   \n",
              "40788                  0                                                  0   \n",
              "\n",
              "      FullDescription  LowestSalary  HighestSalary JobType  \n",
              "0                   0           0.0           30.0       0  \n",
              "1                   0           0.0           30.0       0  \n",
              "2                   0           0.0           30.0       0  \n",
              "3                   0           0.0           30.0       0  \n",
              "4                   0           0.0           30.0       0  \n",
              "...               ...           ...            ...     ...  \n",
              "40784               0           0.0            0.0       0  \n",
              "40785               0           0.0            0.0       0  \n",
              "40786               0           0.0            0.0       0  \n",
              "40787               0           0.0            0.0       0  \n",
              "40788               0           0.0            0.0       0  \n",
              "\n",
              "[40789 rows x 13 columns]"
            ],
            "text/html": [
              "\n",
              "  <div id=\"df-8078b404-b39e-4bc7-b542-1d175806462e\">\n",
              "    <div class=\"colab-df-container\">\n",
              "      <div>\n",
              "<style scoped>\n",
              "    .dataframe tbody tr th:only-of-type {\n",
              "        vertical-align: middle;\n",
              "    }\n",
              "\n",
              "    .dataframe tbody tr th {\n",
              "        vertical-align: top;\n",
              "    }\n",
              "\n",
              "    .dataframe thead th {\n",
              "        text-align: right;\n",
              "    }\n",
              "</style>\n",
              "<table border=\"1\" class=\"dataframe\">\n",
              "  <thead>\n",
              "    <tr style=\"text-align: right;\">\n",
              "      <th></th>\n",
              "      <th>Id</th>\n",
              "      <th>Title</th>\n",
              "      <th>Company</th>\n",
              "      <th>Date</th>\n",
              "      <th>Location</th>\n",
              "      <th>Area</th>\n",
              "      <th>Classification</th>\n",
              "      <th>SubClassification</th>\n",
              "      <th>Requirement</th>\n",
              "      <th>FullDescription</th>\n",
              "      <th>LowestSalary</th>\n",
              "      <th>HighestSalary</th>\n",
              "      <th>JobType</th>\n",
              "    </tr>\n",
              "  </thead>\n",
              "  <tbody>\n",
              "    <tr>\n",
              "      <th>0</th>\n",
              "      <td>37404348.0</td>\n",
              "      <td>Casual Stock Replenisher</td>\n",
              "      <td>Aldi Stores</td>\n",
              "      <td>2018-10-07T00:00:00.000Z</td>\n",
              "      <td>Sydney</td>\n",
              "      <td>North West &amp; Hills District</td>\n",
              "      <td>Retail &amp; Consumer Products</td>\n",
              "      <td>Retail Assistants</td>\n",
              "      <td>Our Casual Stock Replenishers pride themselves...</td>\n",
              "      <td>0</td>\n",
              "      <td>0.0</td>\n",
              "      <td>30.0</td>\n",
              "      <td>0</td>\n",
              "    </tr>\n",
              "    <tr>\n",
              "      <th>1</th>\n",
              "      <td>37404337.0</td>\n",
              "      <td>Casual Stock Replenisher</td>\n",
              "      <td>Aldi Stores</td>\n",
              "      <td>2018-10-07T00:00:00.000Z</td>\n",
              "      <td>Richmond &amp; Hawkesbury</td>\n",
              "      <td>0</td>\n",
              "      <td>Retail &amp; Consumer Products</td>\n",
              "      <td>Retail Assistants</td>\n",
              "      <td>Our Casual Stock Replenishers pride themselves...</td>\n",
              "      <td>0</td>\n",
              "      <td>0.0</td>\n",
              "      <td>30.0</td>\n",
              "      <td>0</td>\n",
              "    </tr>\n",
              "    <tr>\n",
              "      <th>2</th>\n",
              "      <td>37404356.0</td>\n",
              "      <td>RETAIL SALES SUPERSTARS and STYLISTS Wanted - ...</td>\n",
              "      <td>LB Creative Pty Ltd</td>\n",
              "      <td>2018-10-07T00:00:00.000Z</td>\n",
              "      <td>Brisbane</td>\n",
              "      <td>CBD &amp; Inner Suburbs</td>\n",
              "      <td>Retail &amp; Consumer Products</td>\n",
              "      <td>Retail Assistants</td>\n",
              "      <td>BRAND NEW FLAGSHIP STORE OPENING - SUNSHINE PLAZA</td>\n",
              "      <td>0</td>\n",
              "      <td>0.0</td>\n",
              "      <td>30.0</td>\n",
              "      <td>0</td>\n",
              "    </tr>\n",
              "    <tr>\n",
              "      <th>3</th>\n",
              "      <td>37404330.0</td>\n",
              "      <td>Team member - Belrose</td>\n",
              "      <td>Anaconda Group Pty Ltd</td>\n",
              "      <td>2018-10-07T00:00:00.000Z</td>\n",
              "      <td>Gosford &amp; Central Coast</td>\n",
              "      <td>0</td>\n",
              "      <td>Retail &amp; Consumer Products</td>\n",
              "      <td>Retail Assistants</td>\n",
              "      <td>Bring it on - do you love the great outdoors a...</td>\n",
              "      <td>0</td>\n",
              "      <td>0.0</td>\n",
              "      <td>30.0</td>\n",
              "      <td>0</td>\n",
              "    </tr>\n",
              "    <tr>\n",
              "      <th>4</th>\n",
              "      <td>37404308.0</td>\n",
              "      <td>Business Banking Contact Centre Specialist, Ni...</td>\n",
              "      <td>Commonwealth Bank - Business &amp; Private Banking</td>\n",
              "      <td>2018-10-07T00:00:00.000Z</td>\n",
              "      <td>Sydney</td>\n",
              "      <td>Ryde &amp; Macquarie Park</td>\n",
              "      <td>Call Centre &amp; Customer Service</td>\n",
              "      <td>Sales - Inbound</td>\n",
              "      <td>We are seeking highly articulate, enthusiastic...</td>\n",
              "      <td>0</td>\n",
              "      <td>0.0</td>\n",
              "      <td>30.0</td>\n",
              "      <td>0</td>\n",
              "    </tr>\n",
              "    <tr>\n",
              "      <th>...</th>\n",
              "      <td>...</td>\n",
              "      <td>...</td>\n",
              "      <td>...</td>\n",
              "      <td>...</td>\n",
              "      <td>...</td>\n",
              "      <td>...</td>\n",
              "      <td>...</td>\n",
              "      <td>...</td>\n",
              "      <td>...</td>\n",
              "      <td>...</td>\n",
              "      <td>...</td>\n",
              "      <td>...</td>\n",
              "      <td>...</td>\n",
              "    </tr>\n",
              "    <tr>\n",
              "      <th>40784</th>\n",
              "      <td>0.0</td>\n",
              "      <td>0</td>\n",
              "      <td>0</td>\n",
              "      <td>0</td>\n",
              "      <td>0</td>\n",
              "      <td>0</td>\n",
              "      <td>0</td>\n",
              "      <td>0</td>\n",
              "      <td>0</td>\n",
              "      <td>0</td>\n",
              "      <td>0.0</td>\n",
              "      <td>0.0</td>\n",
              "      <td>0</td>\n",
              "    </tr>\n",
              "    <tr>\n",
              "      <th>40785</th>\n",
              "      <td>0.0</td>\n",
              "      <td>0</td>\n",
              "      <td>0</td>\n",
              "      <td>0</td>\n",
              "      <td>0</td>\n",
              "      <td>0</td>\n",
              "      <td>0</td>\n",
              "      <td>0</td>\n",
              "      <td>0</td>\n",
              "      <td>0</td>\n",
              "      <td>0.0</td>\n",
              "      <td>0.0</td>\n",
              "      <td>0</td>\n",
              "    </tr>\n",
              "    <tr>\n",
              "      <th>40786</th>\n",
              "      <td>0.0</td>\n",
              "      <td>0</td>\n",
              "      <td>0</td>\n",
              "      <td>0</td>\n",
              "      <td>0</td>\n",
              "      <td>0</td>\n",
              "      <td>0</td>\n",
              "      <td>0</td>\n",
              "      <td>0</td>\n",
              "      <td>0</td>\n",
              "      <td>0.0</td>\n",
              "      <td>0.0</td>\n",
              "      <td>0</td>\n",
              "    </tr>\n",
              "    <tr>\n",
              "      <th>40787</th>\n",
              "      <td>0.0</td>\n",
              "      <td>0</td>\n",
              "      <td>0</td>\n",
              "      <td>0</td>\n",
              "      <td>0</td>\n",
              "      <td>0</td>\n",
              "      <td>0</td>\n",
              "      <td>0</td>\n",
              "      <td>0</td>\n",
              "      <td>0</td>\n",
              "      <td>0.0</td>\n",
              "      <td>0.0</td>\n",
              "      <td>0</td>\n",
              "    </tr>\n",
              "    <tr>\n",
              "      <th>40788</th>\n",
              "      <td>0.0</td>\n",
              "      <td>0</td>\n",
              "      <td>0</td>\n",
              "      <td>0</td>\n",
              "      <td>0</td>\n",
              "      <td>0</td>\n",
              "      <td>0</td>\n",
              "      <td>0</td>\n",
              "      <td>0</td>\n",
              "      <td>0</td>\n",
              "      <td>0.0</td>\n",
              "      <td>0.0</td>\n",
              "      <td>0</td>\n",
              "    </tr>\n",
              "  </tbody>\n",
              "</table>\n",
              "<p>40789 rows × 13 columns</p>\n",
              "</div>\n",
              "      <button class=\"colab-df-convert\" onclick=\"convertToInteractive('df-8078b404-b39e-4bc7-b542-1d175806462e')\"\n",
              "              title=\"Convert this dataframe to an interactive table.\"\n",
              "              style=\"display:none;\">\n",
              "        \n",
              "  <svg xmlns=\"http://www.w3.org/2000/svg\" height=\"24px\"viewBox=\"0 0 24 24\"\n",
              "       width=\"24px\">\n",
              "    <path d=\"M0 0h24v24H0V0z\" fill=\"none\"/>\n",
              "    <path d=\"M18.56 5.44l.94 2.06.94-2.06 2.06-.94-2.06-.94-.94-2.06-.94 2.06-2.06.94zm-11 1L8.5 8.5l.94-2.06 2.06-.94-2.06-.94L8.5 2.5l-.94 2.06-2.06.94zm10 10l.94 2.06.94-2.06 2.06-.94-2.06-.94-.94-2.06-.94 2.06-2.06.94z\"/><path d=\"M17.41 7.96l-1.37-1.37c-.4-.4-.92-.59-1.43-.59-.52 0-1.04.2-1.43.59L10.3 9.45l-7.72 7.72c-.78.78-.78 2.05 0 2.83L4 21.41c.39.39.9.59 1.41.59.51 0 1.02-.2 1.41-.59l7.78-7.78 2.81-2.81c.8-.78.8-2.07 0-2.86zM5.41 20L4 18.59l7.72-7.72 1.47 1.35L5.41 20z\"/>\n",
              "  </svg>\n",
              "      </button>\n",
              "      \n",
              "  <style>\n",
              "    .colab-df-container {\n",
              "      display:flex;\n",
              "      flex-wrap:wrap;\n",
              "      gap: 12px;\n",
              "    }\n",
              "\n",
              "    .colab-df-convert {\n",
              "      background-color: #E8F0FE;\n",
              "      border: none;\n",
              "      border-radius: 50%;\n",
              "      cursor: pointer;\n",
              "      display: none;\n",
              "      fill: #1967D2;\n",
              "      height: 32px;\n",
              "      padding: 0 0 0 0;\n",
              "      width: 32px;\n",
              "    }\n",
              "\n",
              "    .colab-df-convert:hover {\n",
              "      background-color: #E2EBFA;\n",
              "      box-shadow: 0px 1px 2px rgba(60, 64, 67, 0.3), 0px 1px 3px 1px rgba(60, 64, 67, 0.15);\n",
              "      fill: #174EA6;\n",
              "    }\n",
              "\n",
              "    [theme=dark] .colab-df-convert {\n",
              "      background-color: #3B4455;\n",
              "      fill: #D2E3FC;\n",
              "    }\n",
              "\n",
              "    [theme=dark] .colab-df-convert:hover {\n",
              "      background-color: #434B5C;\n",
              "      box-shadow: 0px 1px 3px 1px rgba(0, 0, 0, 0.15);\n",
              "      filter: drop-shadow(0px 1px 2px rgba(0, 0, 0, 0.3));\n",
              "      fill: #FFFFFF;\n",
              "    }\n",
              "  </style>\n",
              "\n",
              "      <script>\n",
              "        const buttonEl =\n",
              "          document.querySelector('#df-8078b404-b39e-4bc7-b542-1d175806462e button.colab-df-convert');\n",
              "        buttonEl.style.display =\n",
              "          google.colab.kernel.accessAllowed ? 'block' : 'none';\n",
              "\n",
              "        async function convertToInteractive(key) {\n",
              "          const element = document.querySelector('#df-8078b404-b39e-4bc7-b542-1d175806462e');\n",
              "          const dataTable =\n",
              "            await google.colab.kernel.invokeFunction('convertToInteractive',\n",
              "                                                     [key], {});\n",
              "          if (!dataTable) return;\n",
              "\n",
              "          const docLinkHtml = 'Like what you see? Visit the ' +\n",
              "            '<a target=\"_blank\" href=https://colab.research.google.com/notebooks/data_table.ipynb>data table notebook</a>'\n",
              "            + ' to learn more about interactive tables.';\n",
              "          element.innerHTML = '';\n",
              "          dataTable['output_type'] = 'display_data';\n",
              "          await google.colab.output.renderOutput(dataTable, element);\n",
              "          const docLink = document.createElement('div');\n",
              "          docLink.innerHTML = docLinkHtml;\n",
              "          element.appendChild(docLink);\n",
              "        }\n",
              "      </script>\n",
              "    </div>\n",
              "  </div>\n",
              "  "
            ]
          },
          "metadata": {},
          "execution_count": 17
        }
      ]
    },
    {
      "cell_type": "code",
      "source": [
        "import pandas as pd\n",
        "from sklearn.feature_extraction.text import TfidfVectorizer\n",
        "from sklearn.linear_model import LogisticRegression\n",
        "\n",
        "# Step 1: Filter the jobs for the IT sector only\n",
        "df['Title'] = df['Title'].fillna('')\n",
        "IT_df = df[df['Title'].str.contains('IT', case=False)]"
      ],
      "metadata": {
        "id": "8BMvEbKtSFjz"
      },
      "execution_count": null,
      "outputs": []
    },
    {
      "cell_type": "code",
      "source": [
        "job_descriptions = IT_df['Classification'].tolist()"
      ],
      "metadata": {
        "id": "Z30krCFdSMwC"
      },
      "execution_count": null,
      "outputs": []
    },
    {
      "cell_type": "code",
      "source": [
        "vectorizer = TfidfVectorizer(stop_words='english', max_features=1000)\n",
        "X = vectorizer.fit_transform(job_descriptions)\n",
        "# Train a logistic regression model\n",
        "model = LogisticRegression()\n",
        "model.fit(X, IT_df['Title'])\n",
        "\n",
        "# Get feature names and their corresponding coefficients\n",
        "feature_names = vectorizer.get_feature_names_out()\n",
        "coefficients = model.coef_[0]\n",
        "\n",
        "# Sort feature names based on coefficients\n",
        "top_keywords = sorted(zip(coefficients, feature_names), reverse=True)[:20]\n",
        "\n",
        "# Print the top 20 important keywords\n",
        "print(\"Top 20 important keywords:\")\n",
        "for coef, keyword in top_keywords:\n",
        "    print(keyword)"
      ],
      "metadata": {
        "colab": {
          "base_uri": "https://localhost:8080/"
        },
        "id": "tG9wlq4MSQ3K",
        "outputId": "a2bcc2f5-1089-4df8-9a8c-3059bd9d4e5f"
      },
      "execution_count": null,
      "outputs": [
        {
          "output_type": "stream",
          "name": "stdout",
          "text": [
            "Top 20 important keywords:\n",
            "retail\n",
            "products\n",
            "consumer\n",
            "management\n",
            "general\n",
            "ceo\n",
            "strategy\n",
            "consulting\n",
            "science\n",
            "farming\n",
            "conservation\n",
            "animals\n",
            "superannuation\n",
            "insurance\n",
            "media\n",
            "arts\n",
            "advertising\n",
            "financial\n",
            "banking\n",
            "real\n"
          ]
        }
      ]
    },
    {
      "cell_type": "code",
      "source": [
        "keyword = 'python'\n",
        "\n",
        "query = vectorizer.transform([keyword])\n",
        "\n",
        "similarity_scores = model.predict_proba(query)[0]\n",
        "\n",
        "\n",
        "ranked_jobs = sorted(zip(similarity_scores, IT_df['Title'], job_descriptions), reverse=True)\n",
        "\n",
        "print(\"\\nTop 5 job descriptions most similar to the query:\")\n",
        "for score, job_title, job_description in ranked_jobs[:5]:\n",
        "    print(\"Job Title:\", job_title)\n",
        "    print(\"Similarity Score:\", score)\n",
        "    print(\"Job Description:\", job_description)\n",
        "    print()\n"
      ],
      "metadata": {
        "colab": {
          "base_uri": "https://localhost:8080/"
        },
        "id": "yFk5q_CXSYTq",
        "outputId": "79f73b94-71ab-474e-e27f-4a6336dc1e38"
      },
      "execution_count": null,
      "outputs": [
        {
          "output_type": "stream",
          "name": "stdout",
          "text": [
            "\n",
            "Top 5 job descriptions most similar to the query:\n",
            "Job Title: Credit Controller - Temporary Position\n",
            "Similarity Score: 0.004172072785443803\n",
            "Job Description: Accounting\n",
            "\n",
            "Job Title: Wait Staff\n",
            "Similarity Score: 0.0033997001440222003\n",
            "Job Description: Hospitality & Tourism\n",
            "\n",
            "Job Title: Solution Architect (IAM)\n",
            "Similarity Score: 0.003043823447949755\n",
            "Job Description: Information & Communication Technology\n",
            "\n",
            "Job Title: Recruitment Consultant\n",
            "Similarity Score: 0.0027987719273321284\n",
            "Job Description: Human Resources & Recruitment\n",
            "\n",
            "Job Title: IT Security Architect\n",
            "Similarity Score: 0.002747864116015302\n",
            "Job Description: Information & Communication Technology\n",
            "\n"
          ]
        }
      ]
    },
    {
      "cell_type": "markdown",
      "source": [
        "2"
      ],
      "metadata": {
        "id": "rjHi_ESKSi6q"
      }
    },
    {
      "cell_type": "code",
      "source": [
        "def extract_ngrams(sequence, n):\n",
        "    ngrams = []\n",
        "    sequence_length = len(sequence)\n",
        "    for i in range(sequence_length - n + 1):\n",
        "        ngram = sequence[i:i+n]\n",
        "        ngrams.append(ngram)\n",
        "    return ngrams\n"
      ],
      "metadata": {
        "id": "wFx8aPoYSjdW"
      },
      "execution_count": null,
      "outputs": []
    },
    {
      "cell_type": "code",
      "source": [
        "sentence = \"I like deadline and want to immerse myself in deadline.\"\n",
        "\n",
        "# Extract word tri-grams\n",
        "words = sentence.split()\n",
        "word_trigrams = extract_ngrams(words, 3)\n",
        "\n",
        "print(\"Word Tri-grams:\")\n",
        "for trigram in word_trigrams:\n",
        "    print(trigram)\n",
        "\n",
        "# Extract letter tri-grams\n",
        "letters = list(sentence.replace(\" \", \"\"))\n",
        "letter_trigrams = extract_ngrams(letters, 3)\n",
        "\n",
        "print(\"\\nLetter Tri-grams:\")\n",
        "for trigram in letter_trigrams:\n",
        "    print(trigram)"
      ],
      "metadata": {
        "colab": {
          "base_uri": "https://localhost:8080/"
        },
        "id": "Jya9gal2SmVu",
        "outputId": "8b873525-5e15-4bd6-97a7-b4ef05083ba9"
      },
      "execution_count": null,
      "outputs": [
        {
          "output_type": "stream",
          "name": "stdout",
          "text": [
            "Word Tri-grams:\n",
            "['I', 'like', 'deadline']\n",
            "['like', 'deadline', 'and']\n",
            "['deadline', 'and', 'want']\n",
            "['and', 'want', 'to']\n",
            "['want', 'to', 'immerse']\n",
            "['to', 'immerse', 'myself']\n",
            "['immerse', 'myself', 'in']\n",
            "['myself', 'in', 'deadline.']\n",
            "\n",
            "Letter Tri-grams:\n",
            "['I', 'l', 'i']\n",
            "['l', 'i', 'k']\n",
            "['i', 'k', 'e']\n",
            "['k', 'e', 'd']\n",
            "['e', 'd', 'e']\n",
            "['d', 'e', 'a']\n",
            "['e', 'a', 'd']\n",
            "['a', 'd', 'l']\n",
            "['d', 'l', 'i']\n",
            "['l', 'i', 'n']\n",
            "['i', 'n', 'e']\n",
            "['n', 'e', 'a']\n",
            "['e', 'a', 'n']\n",
            "['a', 'n', 'd']\n",
            "['n', 'd', 'w']\n",
            "['d', 'w', 'a']\n",
            "['w', 'a', 'n']\n",
            "['a', 'n', 't']\n",
            "['n', 't', 't']\n",
            "['t', 't', 'o']\n",
            "['t', 'o', 'i']\n",
            "['o', 'i', 'm']\n",
            "['i', 'm', 'm']\n",
            "['m', 'm', 'e']\n",
            "['m', 'e', 'r']\n",
            "['e', 'r', 's']\n",
            "['r', 's', 'e']\n",
            "['s', 'e', 'm']\n",
            "['e', 'm', 'y']\n",
            "['m', 'y', 's']\n",
            "['y', 's', 'e']\n",
            "['s', 'e', 'l']\n",
            "['e', 'l', 'f']\n",
            "['l', 'f', 'i']\n",
            "['f', 'i', 'n']\n",
            "['i', 'n', 'd']\n",
            "['n', 'd', 'e']\n",
            "['d', 'e', 'a']\n",
            "['e', 'a', 'd']\n",
            "['a', 'd', 'l']\n",
            "['d', 'l', 'i']\n",
            "['l', 'i', 'n']\n",
            "['i', 'n', 'e']\n",
            "['n', 'e', '.']\n"
          ]
        }
      ]
    },
    {
      "cell_type": "markdown",
      "source": [
        "3"
      ],
      "metadata": {
        "id": "RyNXSLcBSndF"
      }
    },
    {
      "cell_type": "code",
      "source": [
        "import random\n",
        "\n",
        "def modify_phrase(phrase):\n",
        "    words = phrase.split()\n",
        "    modified_words = []\n",
        "    \n",
        "    for word in words:\n",
        "        if len(word) <= 4:\n",
        "            modified_words.append(word)\n",
        "        else:\n",
        "            first_letter = word[0]\n",
        "            last_letter = word[-1]\n",
        "            middle_letters = list(word[1:-1])\n",
        "            random.shuffle(middle_letters)\n",
        "            modified_word = first_letter + ''.join(middle_letters) + last_letter\n",
        "            modified_words.append(modified_word)\n",
        "    \n",
        "    modified_phrase = ' '.join(modified_words)\n",
        "    return modified_phrase\n",
        "\n",
        "# Example phrase\n",
        "phrase = \"I couldn't believe that I could completely understand what I was reading: the astounding power of the human mind\"\n",
        "\n",
        "modified_phrase = modify_phrase(phrase)\n",
        "\n",
        "print(\"Original phrase:\")\n",
        "print(phrase)\n",
        "print()\n",
        "print(\"Modified phrase:\")\n",
        "print(modified_phrase)"
      ],
      "metadata": {
        "colab": {
          "base_uri": "https://localhost:8080/"
        },
        "id": "p0xzcHwcSnzA",
        "outputId": "61074847-8f02-4ade-ca62-d646aeb38602"
      },
      "execution_count": null,
      "outputs": [
        {
          "output_type": "stream",
          "name": "stdout",
          "text": [
            "Original phrase:\n",
            "I couldn't believe that I could completely understand what I was reading: the astounding power of the human mind\n",
            "\n",
            "Modified phrase:\n",
            "I cndolu't bveilee that I cloud celtlmopey uadnsenrtd what I was rgeandi: the auotnsidng pweor of the haumn mind\n"
          ]
        }
      ]
    },
    {
      "cell_type": "markdown",
      "source": [
        "4"
      ],
      "metadata": {
        "id": "-FVeyXY2Sqhe"
      }
    },
    {
      "cell_type": "code",
      "source": [
        "alice = \"/content/drive/MyDrive/Colab/alice.txt\""
      ],
      "metadata": {
        "id": "lS7DzaNOSqxm"
      },
      "execution_count": null,
      "outputs": []
    },
    {
      "cell_type": "code",
      "source": [
        "import nltk\n",
        "\n",
        "nltk.download('punkt')\n",
        "nltk.download('averaged_perceptron_tagger')"
      ],
      "metadata": {
        "colab": {
          "base_uri": "https://localhost:8080/"
        },
        "id": "SdFIXeIOT2rz",
        "outputId": "3c971b51-7bdc-4b8f-c611-f45661aa69f6"
      },
      "execution_count": null,
      "outputs": [
        {
          "output_type": "stream",
          "name": "stderr",
          "text": [
            "[nltk_data] Downloading package punkt to /root/nltk_data...\n",
            "[nltk_data]   Unzipping tokenizers/punkt.zip.\n",
            "[nltk_data] Downloading package averaged_perceptron_tagger to\n",
            "[nltk_data]     /root/nltk_data...\n",
            "[nltk_data]   Unzipping taggers/averaged_perceptron_tagger.zip.\n"
          ]
        },
        {
          "output_type": "execute_result",
          "data": {
            "text/plain": [
              "True"
            ]
          },
          "metadata": {},
          "execution_count": 26
        }
      ]
    },
    {
      "cell_type": "code",
      "source": [
        "import nltk\n",
        "\n",
        "# Read the input file\n",
        "with open(alice, 'r') as file:\n",
        "    text = file.read()\n",
        "\n",
        "# Tokenize the text into sentences\n",
        "sentences = nltk.sent_tokenize(text)\n",
        "\n",
        "# Perform POS tagging on each sentence\n",
        "tagged_sentences = []\n",
        "for sentence in sentences:\n",
        "    tagged_sentence = nltk.pos_tag(nltk.word_tokenize(sentence))\n",
        "    tagged_sentences.append(tagged_sentence)\n",
        "\n",
        "# Save the POS tagged output to a separate file\n",
        "output_file = 'alice_pos_tagged.txt'\n",
        "with open(output_file, 'w') as file:\n",
        "    for tagged_sentence in tagged_sentences:\n",
        "        tagged_text = ' '.join([f\"{word}/{tag}\" for word, tag in tagged_sentence])\n",
        "        file.write(tagged_text + '\\n')\n",
        "\n",
        "print(f\"POS tagged output saved to '{output_file}'.\")"
      ],
      "metadata": {
        "colab": {
          "base_uri": "https://localhost:8080/"
        },
        "id": "BK_TaxZNT4da",
        "outputId": "7b6bbc8b-f5cb-42fd-e0bc-e9c0b9001dd7"
      },
      "execution_count": null,
      "outputs": [
        {
          "output_type": "stream",
          "name": "stdout",
          "text": [
            "POS tagged output saved to 'alice_pos_tagged.txt'.\n"
          ]
        }
      ]
    },
    {
      "cell_type": "code",
      "source": [
        "with open('alice_pos_tagged.txt', 'r') as file:\n",
        "    pos_tagged_text = file.read()\n",
        "\n",
        "# Print the contents of the POS tagged file\n",
        "print(\"POS tagged text:\")\n",
        "print(pos_tagged_text)\n"
      ],
      "metadata": {
        "colab": {
          "base_uri": "https://localhost:8080/"
        },
        "id": "Iz85tnpIT6l9",
        "outputId": "c854cc99-7a96-4788-e909-d939fb23279e"
      },
      "execution_count": null,
      "outputs": [
        {
          "output_type": "stream",
          "name": "stdout",
          "text": [
            "POS tagged text:\n",
            "ALICE/NNP 'S/POS ADVENTURES/NNP IN/NNP WONDERLAND/NNP Lewis/NNP Carroll/NNP THE/NNP MILLENNIUM/NNP FULCRUM/NNP EDITION/NNP 3.0/CD CHAPTER/NN I/PRP ./.\n",
            "Down/IN the/DT Rabbit-Hole/JJ Alice/NNP was/VBD beginning/VBG to/TO get/VB very/RB tired/JJ of/IN sitting/VBG by/IN her/PRP$ sister/NN on/IN the/DT bank/NN ,/, and/CC of/IN having/VBG nothing/NN to/TO do/VB :/: once/RB or/CC twice/VB she/PRP had/VBD peeped/VBN into/IN the/DT book/NN her/PRP$ sister/NN was/VBD reading/VBG ,/, but/CC it/PRP had/VBD no/DT pictures/NNS or/CC conversations/NNS in/IN it/PRP ,/, 'and/VB what/WP is/VBZ the/DT use/NN of/IN a/DT book/NN ,/, '/'' thought/JJ Alice/NNP 'without/POS pictures/NNS or/CC conversations/NNS ?/. '/''\n",
            "So/IN she/PRP was/VBD considering/VBG in/IN her/PRP$ own/JJ mind/NN (/( as/RB well/RB as/IN she/PRP could/MD ,/, for/IN the/DT hot/JJ day/NN made/VBD her/PRP$ feel/JJ very/RB sleepy/JJ and/CC stupid/JJ )/) ,/, whether/IN the/DT pleasure/NN of/IN making/VBG a/DT daisy-chain/NN would/MD be/VB worth/IN the/DT trouble/NN of/IN getting/VBG up/RP and/CC picking/VBG the/DT daisies/NNS ,/, when/WRB suddenly/RB a/DT White/NNP Rabbit/NN with/IN pink/JJ eyes/NNS ran/VBD close/RB by/IN her/PRP ./.\n",
            "There/EX was/VBD nothing/NN so/RB VERY/RB remarkable/JJ in/IN that/DT ;/: nor/CC did/VBD Alice/NNP think/VB it/PRP so/RB VERY/RB much/JJ out/IN of/IN the/DT way/NN to/TO hear/VB the/DT Rabbit/NNP say/VBP to/TO itself/PRP ,/, 'Oh/'' dear/NN !/.\n",
            "Oh/UH dear/NN !/.\n",
            "I/PRP shall/MD be/VB late/RB !/. '/''\n",
            "(/( when/WRB she/PRP thought/VBD it/PRP over/IN afterwards/NNS ,/, it/PRP occurred/VBD to/TO her/PRP$ that/IN she/PRP ought/MD to/TO have/VB wondered/VBN at/IN this/DT ,/, but/CC at/IN the/DT time/NN it/PRP all/DT seemed/VBD quite/RB natural/JJ )/) ;/: but/CC when/WRB the/DT Rabbit/NNP actually/RB TOOK/VBZ A/NNP WATCH/NNP OUT/NNP OF/IN ITS/NNP WAISTCOAT-POCKET/NNP ,/, and/CC looked/VBD at/IN it/PRP ,/, and/CC then/RB hurried/VBD on/IN ,/, Alice/NNP started/VBD to/TO her/PRP$ feet/NNS ,/, for/IN it/PRP flashed/VBD across/IN her/PRP$ mind/NN that/IN she/PRP had/VBD never/RB before/RB seen/VBN a/DT rabbit/NN with/IN either/DT a/DT waistcoat-pocket/NN ,/, or/CC a/DT watch/NN to/TO take/VB out/IN of/IN it/PRP ,/, and/CC burning/VBG with/IN curiosity/NN ,/, she/PRP ran/VBD across/IN the/DT field/NN after/IN it/PRP ,/, and/CC fortunately/RB was/VBD just/RB in/IN time/NN to/TO see/VB it/PRP pop/VB down/RP a/DT large/JJ rabbit-hole/JJ under/IN the/DT hedge/NN ./.\n",
            "In/IN another/DT moment/NN down/RP went/VBD Alice/NNP after/IN it/PRP ,/, never/RB once/RB considering/VBG how/WRB in/IN the/DT world/NN she/PRP was/VBD to/TO get/VB out/RP again/RB ./.\n",
            "The/DT rabbit-hole/JJ went/VBD straight/RB on/IN like/IN a/DT tunnel/NN for/IN some/DT way/NN ,/, and/CC then/RB dipped/VBD suddenly/RB down/RB ,/, so/IN suddenly/RB that/IN Alice/NNP had/VBD not/RB a/DT moment/NN to/TO think/VB about/IN stopping/VBG herself/PRP before/IN she/PRP found/VBD herself/PRP falling/VBG down/RP a/DT very/RB deep/JJ well/NN ./.\n",
            "Either/CC the/DT well/NN was/VBD very/RB deep/JJ ,/, or/CC she/PRP fell/VBD very/RB slowly/RB ,/, for/IN she/PRP had/VBD plenty/NN of/IN time/NN as/IN she/PRP went/VBD down/RB to/TO look/VB about/IN her/PRP$ and/CC to/TO wonder/VB what/WP was/VBD going/VBG to/TO happen/VB next/RB ./.\n",
            "First/RB ,/, she/PRP tried/VBD to/TO look/VB down/RP and/CC make/VB out/RP what/WP she/PRP was/VBD coming/VBG to/TO ,/, but/CC it/PRP was/VBD too/RB dark/JJ to/TO see/VB anything/NN ;/: then/RB she/PRP looked/VBD at/IN the/DT sides/NNS of/IN the/DT well/NN ,/, and/CC noticed/VBD that/IN they/PRP were/VBD filled/VBN with/IN cupboards/NNS and/CC book-shelves/NNS ;/: here/RB and/CC there/RB she/PRP saw/VBD maps/NNS and/CC pictures/NNS hung/VBP upon/IN pegs/NNS ./.\n",
            "She/PRP took/VBD down/RP a/DT jar/NN from/IN one/CD of/IN the/DT shelves/NNS as/IN she/PRP passed/VBD ;/: it/PRP was/VBD labelled/VBN 'ORANGE/RB MARMALADE/NNP '/POS ,/, but/CC to/TO her/PRP$ great/JJ disappointment/NN it/PRP was/VBD empty/JJ :/: she/PRP did/VBD not/RB like/IN to/TO drop/VB the/DT jar/NN for/IN fear/NN of/IN killing/VBG somebody/NN ,/, so/RB managed/VBN to/TO put/VB it/PRP into/IN one/CD of/IN the/DT cupboards/NNS as/IN she/PRP fell/VBD past/IN it/PRP ./.\n",
            "'Well/RB !/. '/''\n",
            "thought/VBN Alice/NNP to/TO herself/VB ,/, 'after/FW such/PDT a/DT fall/NN as/IN this/DT ,/, I/PRP shall/MD think/VB nothing/NN of/IN tumbling/VBG down/RP stairs/NNS !/.\n",
            "How/WRB brave/VBP they/PRP 'll/MD all/DT think/VB me/PRP at/IN home/NN !/.\n",
            "Why/WRB ,/, I/PRP would/MD n't/RB say/VB anything/NN about/IN it/PRP ,/, even/RB if/IN I/PRP fell/VBD off/RP the/DT top/NN of/IN the/DT house/NN !/. '/''\n",
            "(/( Which/NNP was/VBD very/RB likely/JJ true/JJ ./. )/)\n",
            "Down/NNP ,/, down/RB ,/, down/RB ./.\n",
            "Would/MD the/DT fall/NN NEVER/NNP come/VBP to/TO an/DT end/NN !/.\n",
            "'/POS I/PRP wonder/VBP how/WRB many/JJ miles/NNS I/PRP 've/VBP fallen/VBN by/IN this/DT time/NN ?/. '/''\n",
            "she/PRP said/VBD aloud/NN ./.\n",
            "'/POS I/PRP must/MD be/VB getting/VBG somewhere/RB near/IN the/DT centre/NN of/IN the/DT earth/NN ./.\n",
            "Let/VB me/PRP see/VB :/: that/DT would/MD be/VB four/CD thousand/NN miles/NNS down/RB ,/, I/PRP think/VBP --/: '/POS (/( for/IN ,/, you/PRP see/VBP ,/, Alice/NNP had/VBD learnt/VBN several/JJ things/NNS of/IN this/DT sort/NN in/IN her/PRP$ lessons/NNS in/IN the/DT schoolroom/NN ,/, and/CC though/IN this/DT was/VBD not/RB a/DT VERY/RB good/JJ opportunity/NN for/IN showing/VBG off/RP her/PRP$ knowledge/NN ,/, as/IN there/EX was/VBD no/DT one/NN to/TO listen/VB to/TO her/PRP$ ,/, still/RB it/PRP was/VBD good/JJ practice/NN to/TO say/VB it/PRP over/RP )/) '/POS --/: yes/UH ,/, that/DT 's/VBZ about/IN the/DT right/JJ distance/NN --/: but/CC then/RB I/PRP wonder/VBP what/WP Latitude/NNP or/CC Longitude/NNP I/PRP 've/VBP got/VBN to/TO ?/. '/''\n",
            "(/( Alice/NNP had/VBD no/DT idea/NN what/WP Latitude/NNP was/VBD ,/, or/CC Longitude/NNP either/CC ,/, but/CC thought/VBD they/PRP were/VBD nice/JJ grand/JJ words/NNS to/TO say/VB ./. )/)\n",
            "Presently/RB she/PRP began/VBD again/RB ./.\n",
            "'/POS I/PRP wonder/VBP if/IN I/PRP shall/MD fall/VB right/RB THROUGH/IN the/DT earth/NN !/.\n",
            "How/WRB funny/JJ it/PRP 'll/MD seem/VB to/TO come/VB out/RP among/IN the/DT people/NNS that/WDT walk/VBP with/IN their/PRP$ heads/NNS downward/RB !/.\n",
            "The/DT Antipathies/NNPS ,/, I/PRP think/VBP --/: '/'' (/( she/PRP was/VBD rather/RB glad/JJ there/EX WAS/NNP no/DT one/NN listening/NN ,/, this/DT time/NN ,/, as/IN it/PRP did/VBD n't/RB sound/VB at/IN all/PDT the/DT right/JJ word/NN )/) '/POS --/: but/CC I/PRP shall/MD have/VB to/TO ask/VB them/PRP what/WP the/DT name/NN of/IN the/DT country/NN is/VBZ ,/, you/PRP know/VBP ./.\n",
            "Please/NNP ,/, Ma'am/NNP ,/, is/VBZ this/DT New/NNP Zealand/NNP or/CC Australia/NNP ?/. '/''\n",
            "(/( and/CC she/PRP tried/VBD to/TO curtsey/VB as/IN she/PRP spoke/VBD --/: fancy/JJ CURTSEYING/NN as/IN you/PRP 're/VBP falling/VBG through/IN the/DT air/NN !/.\n",
            "Do/VBP you/PRP think/VB you/PRP could/MD manage/VB it/PRP ?/. )/)\n",
            "'And/POS what/WP an/DT ignorant/JJ little/JJ girl/NN she/PRP 'll/MD think/VB me/PRP for/IN asking/VBG !/.\n",
            "No/DT ,/, it/PRP 'll/MD never/RB do/VB to/TO ask/VB :/: perhaps/RB I/PRP shall/MD see/VB it/PRP written/VBN up/RP somewhere/RB ./. '/''\n",
            "Down/NNP ,/, down/RB ,/, down/RB ./.\n",
            "There/EX was/VBD nothing/NN else/RB to/TO do/VB ,/, so/IN Alice/NNP soon/RB began/VBD talking/VBG again/RB ./.\n",
            "'Dinah/POS 'll/MD miss/VB me/PRP very/RB much/JJ to-night/NN ,/, I/PRP should/MD think/VB !/. '/''\n",
            "(/( Dinah/NNP was/VBD the/DT cat/NN ./. )/)\n",
            "'/POS I/PRP hope/VBP they/PRP 'll/MD remember/VB her/PRP$ saucer/NN of/IN milk/NN at/IN tea-time/NN ./.\n",
            "Dinah/NNP my/PRP$ dear/NN !/.\n",
            "I/PRP wish/VBP you/PRP were/VBD down/RB here/RB with/IN me/PRP !/.\n",
            "There/EX are/VBP no/DT mice/NN in/IN the/DT air/NN ,/, I/PRP 'm/VBP afraid/JJ ,/, but/CC you/PRP might/MD catch/VB a/DT bat/NN ,/, and/CC that/DT 's/VBZ very/RB like/IN a/DT mouse/NN ,/, you/PRP know/VBP ./.\n",
            "But/CC do/VBP cats/NNS eat/VB bats/NNS ,/, I/PRP wonder/VBP ?/. '/''\n",
            "And/CC here/RB Alice/NNP began/VBD to/TO get/VB rather/RB sleepy/NN ,/, and/CC went/VBD on/IN saying/VBG to/TO herself/VB ,/, in/IN a/DT dreamy/JJ sort/NN of/IN way/NN ,/, 'Do/'' cats/VBZ eat/NN bats/NNS ?/.\n",
            "Do/VB cats/NNS eat/VB bats/NNS ?/. '/''\n",
            "and/CC sometimes/RB ,/, 'Do/'' bats/VBZ eat/NN cats/NNS ?/. '/''\n",
            "for/IN ,/, you/PRP see/VBP ,/, as/IN she/PRP could/MD n't/RB answer/VB either/DT question/NN ,/, it/PRP did/VBD n't/RB much/JJ matter/NN which/WDT way/NN she/PRP put/VBD it/PRP ./.\n",
            "She/PRP felt/VBD that/IN she/PRP was/VBD dozing/VBG off/RP ,/, and/CC had/VBD just/RB begun/VBN to/TO dream/VB that/IN she/PRP was/VBD walking/VBG hand/NN in/IN hand/NN with/IN Dinah/NNP ,/, and/CC saying/VBG to/TO her/PRP$ very/RB earnestly/RB ,/, 'Now/PRP ,/, Dinah/NNP ,/, tell/VB me/PRP the/DT truth/NN :/: did/VBD you/PRP ever/RB eat/VB a/DT bat/NN ?/. '/''\n",
            "when/WRB suddenly/RB ,/, thump/NN !/.\n",
            "thump/NN !/.\n",
            "down/IN she/PRP came/VBD upon/IN a/DT heap/NN of/IN sticks/NNS and/CC dry/JJ leaves/NNS ,/, and/CC the/DT fall/NN was/VBD over/RB ./.\n",
            "Alice/NNP was/VBD not/RB a/DT bit/NN hurt/JJ ,/, and/CC she/PRP jumped/VBD up/RB on/IN to/TO her/PRP$ feet/NNS in/IN a/DT moment/NN :/: she/PRP looked/VBD up/RB ,/, but/CC it/PRP was/VBD all/DT dark/JJ overhead/NN ;/: before/IN her/PRP$ was/VBD another/DT long/JJ passage/NN ,/, and/CC the/DT White/NNP Rabbit/NNP was/VBD still/RB in/IN sight/NN ,/, hurrying/VBG down/RP it/PRP ./.\n",
            "There/EX was/VBD not/RB a/DT moment/NN to/TO be/VB lost/VBN :/: away/RB went/VBD Alice/NNP like/IN the/DT wind/NN ,/, and/CC was/VBD just/RB in/IN time/NN to/TO hear/VB it/PRP say/VB ,/, as/IN it/PRP turned/VBD a/DT corner/NN ,/, 'Oh/'' my/PRP$ ears/NNS and/CC whiskers/NNS ,/, how/WRB late/JJ it/PRP 's/VBZ getting/VBG !/. '/''\n",
            "She/PRP was/VBD close/RB behind/IN it/PRP when/WRB she/PRP turned/VBD the/DT corner/NN ,/, but/CC the/DT Rabbit/NNP was/VBD no/RB longer/JJR to/TO be/VB seen/VBN :/: she/PRP found/VBD herself/PRP in/IN a/DT long/JJ ,/, low/JJ hall/NN ,/, which/WDT was/VBD lit/VBN up/RP by/IN a/DT row/NN of/IN lamps/NNS hanging/VBG from/IN the/DT roof/NN ./.\n",
            "There/EX were/VBD doors/NNS all/DT round/VBP the/DT hall/NN ,/, but/CC they/PRP were/VBD all/DT locked/VBN ;/: and/CC when/WRB Alice/NNP had/VBD been/VBN all/PDT the/DT way/NN down/RP one/CD side/NN and/CC up/RB the/DT other/JJ ,/, trying/VBG every/DT door/NN ,/, she/PRP walked/VBD sadly/RB down/RP the/DT middle/NN ,/, wondering/VBG how/WRB she/PRP was/VBD ever/RB to/TO get/VB out/RP again/RB ./.\n",
            "Suddenly/RB she/PRP came/VBD upon/IN a/DT little/JJ three-legged/JJ table/NN ,/, all/DT made/VBN of/IN solid/JJ glass/NN ;/: there/EX was/VBD nothing/NN on/IN it/PRP except/IN a/DT tiny/JJ golden/JJ key/NN ,/, and/CC Alice's/NNP first/RB thought/VBD was/VBD that/IN it/PRP might/MD belong/VB to/TO one/CD of/IN the/DT doors/NNS of/IN the/DT hall/NN ;/: but/CC ,/, alas/UH !/.\n",
            "either/CC the/DT locks/NNS were/VBD too/RB large/JJ ,/, or/CC the/DT key/NN was/VBD too/RB small/JJ ,/, but/CC at/IN any/DT rate/NN it/PRP would/MD not/RB open/VB any/DT of/IN them/PRP ./.\n",
            "However/RB ,/, on/IN the/DT second/JJ time/NN round/NN ,/, she/PRP came/VBD upon/IN a/DT low/JJ curtain/NN she/PRP had/VBD not/RB noticed/VBN before/IN ,/, and/CC behind/IN it/PRP was/VBD a/DT little/JJ door/NN about/IN fifteen/JJ inches/NNS high/JJ :/: she/PRP tried/VBD the/DT little/JJ golden/JJ key/NN in/IN the/DT lock/NN ,/, and/CC to/TO her/PRP$ great/JJ delight/NN it/PRP fitted/VBD !/.\n",
            "Alice/NNP opened/VBD the/DT door/NN and/CC found/VBD that/IN it/PRP led/VBD into/IN a/DT small/JJ passage/NN ,/, not/RB much/RB larger/JJR than/IN a/DT rat-hole/JJ :/: she/PRP knelt/VBD down/RB and/CC looked/VBD along/IN the/DT passage/NN into/IN the/DT loveliest/JJS garden/NN you/PRP ever/RB saw/VBD ./.\n",
            "How/WRB she/PRP longed/VBD to/TO get/VB out/IN of/IN that/DT dark/NN hall/NN ,/, and/CC wander/VBP about/IN among/IN those/DT beds/NNS of/IN bright/JJ flowers/NNS and/CC those/DT cool/JJ fountains/NNS ,/, but/CC she/PRP could/MD not/RB even/RB get/VB her/PRP$ head/NN through/IN the/DT doorway/NN ;/: 'and/CC even/RB if/IN my/PRP$ head/NN would/MD go/VB through/IN ,/, '/'' thought/VBD poor/JJ Alice/NNP ,/, 'it/NNP would/MD be/VB of/IN very/RB little/JJ use/NN without/IN my/PRP$ shoulders/NNS ./.\n",
            "Oh/UH ,/, how/WRB I/PRP wish/VBP I/PRP could/MD shut/VB up/RP like/IN a/DT telescope/NN !/.\n",
            "I/PRP think/VBP I/PRP could/MD ,/, if/IN I/PRP only/RB knew/VBD how/WRB to/TO begin/VB ./. '/''\n",
            "For/IN ,/, you/PRP see/VBP ,/, so/RB many/JJ out-of-the-way/JJ things/NNS had/VBD happened/VBN lately/RB ,/, that/IN Alice/NNP had/VBD begun/VBN to/TO think/VB that/DT very/RB few/JJ things/NNS indeed/RB were/VBD really/RB impossible/JJ ./.\n",
            "There/EX seemed/VBN to/TO be/VB no/DT use/NN in/IN waiting/VBG by/IN the/DT little/JJ door/NN ,/, so/IN she/PRP went/VBD back/RB to/TO the/DT table/NN ,/, half/NN hoping/VBG she/PRP might/MD find/VB another/DT key/NN on/IN it/PRP ,/, or/CC at/IN any/DT rate/NN a/DT book/NN of/IN rules/NNS for/IN shutting/VBG people/NNS up/IN like/IN telescopes/NNS :/: this/DT time/NN she/PRP found/VBD a/DT little/JJ bottle/NN on/IN it/PRP ,/, (/( 'which/CD certainly/RB was/VBD not/RB here/RB before/RB ,/, '/'' said/VBD Alice/NNP ,/, )/) and/CC round/VB the/DT neck/NN of/IN the/DT bottle/NN was/VBD a/DT paper/NN label/NN ,/, with/IN the/DT words/NNS 'DRINK/POS ME/NNP '/POS beautifully/RB printed/VBN on/IN it/PRP in/IN large/JJ letters/NNS ./.\n",
            "It/PRP was/VBD all/DT very/RB well/RB to/TO say/VB 'Drink/VB me/PRP ,/, '/'' but/CC the/DT wise/NN little/JJ Alice/NNP was/VBD not/RB going/VBG to/TO do/VB THAT/DT in/IN a/DT hurry/NN ./.\n",
            "'No/CD ,/, I/PRP 'll/MD look/VB first/RB ,/, '/'' she/PRP said/VBD ,/, 'and/NNP see/VBP whether/IN it/PRP 's/VBZ marked/VBN ``/`` poison/NN ''/'' or/CC not/RB '/POS ;/: for/IN she/PRP had/VBD read/VBN several/JJ nice/JJ little/JJ histories/NNS about/IN children/NNS who/WP had/VBD got/VBN burnt/RB ,/, and/CC eaten/VB up/RP by/IN wild/JJ beasts/NNS and/CC other/JJ unpleasant/JJ things/NNS ,/, all/DT because/IN they/PRP WOULD/MD not/RB remember/VB the/DT simple/NN rules/NNS their/PRP$ friends/NNS had/VBD taught/VBN them/PRP :/: such/JJ as/IN ,/, that/IN a/DT red-hot/JJ poker/NN will/MD burn/VB you/PRP if/IN you/PRP hold/VBP it/PRP too/RB long/RB ;/: and/CC that/IN if/IN you/PRP cut/VBP your/PRP$ finger/NN VERY/RB deeply/RB with/IN a/DT knife/NN ,/, it/PRP usually/RB bleeds/VBZ ;/: and/CC she/PRP had/VBD never/RB forgotten/VBN that/IN ,/, if/IN you/PRP drink/VBP much/RB from/IN a/DT bottle/NN marked/VBD 'poison/NNP ,/, '/'' it/PRP is/VBZ almost/RB certain/JJ to/TO disagree/VB with/IN you/PRP ,/, sooner/RB or/CC later/RB ./.\n",
            "However/RB ,/, this/DT bottle/NN was/VBD NOT/NNP marked/VBD 'poison/NNP ,/, '/'' so/RB Alice/NNP ventured/VBD to/TO taste/VB it/PRP ,/, and/CC finding/VBG it/PRP very/RB nice/JJ ,/, (/( it/PRP had/VBD ,/, in/IN fact/NN ,/, a/DT sort/NN of/IN mixed/JJ flavour/NN of/IN cherry-tart/NN ,/, custard/NN ,/, pine-apple/JJ ,/, roast/JJ turkey/NN ,/, toffee/NN ,/, and/CC hot/JJ buttered/VBN toast/NN ,/, )/) she/PRP very/RB soon/RB finished/VBD it/PRP off/RP ./.\n",
            "*/JJ */NNP */NNP */NNP */NNP */NNP */NNP */NNP */NNP */NNP */NNP */NNP */NNP */NNP */NNP */NNP */NNP */NNP */NNP */NNP 'What/IN a/DT curious/JJ feeling/NN !/. '/''\n",
            "said/VBD Alice/NNP ;/: '/POS I/PRP must/MD be/VB shutting/VBG up/RP like/IN a/DT telescope/NN ./. '/''\n",
            "And/CC so/IN it/PRP was/VBD indeed/RB :/: she/PRP was/VBD now/RB only/RB ten/JJ inches/NNS high/JJ ,/, and/CC her/PRP$ face/NN brightened/VBD up/RP at/IN the/DT thought/NN that/IN she/PRP was/VBD now/RB the/DT right/NN size/NN for/IN going/VBG through/IN the/DT little/JJ door/NN into/IN that/DT lovely/JJ garden/NN ./.\n",
            "First/RB ,/, however/RB ,/, she/PRP waited/VBD for/IN a/DT few/JJ minutes/NNS to/TO see/VB if/IN she/PRP was/VBD going/VBG to/TO shrink/VB any/DT further/JJ :/: she/PRP felt/VBD a/DT little/JJ nervous/JJ about/IN this/DT ;/: 'for/VBZ it/PRP might/MD end/VB ,/, you/PRP know/VBP ,/, '/'' said/VBD Alice/NNP to/TO herself/VB ,/, 'in/VB my/PRP$ going/VBG out/RP altogether/RB ,/, like/IN a/DT candle/NN ./.\n",
            "I/PRP wonder/VBP what/WP I/PRP should/MD be/VB like/IN then/RB ?/. '/''\n",
            "And/CC she/PRP tried/VBD to/TO fancy/VB what/WP the/DT flame/NN of/IN a/DT candle/NN is/VBZ like/IN after/IN the/DT candle/NN is/VBZ blown/VBN out/RP ,/, for/IN she/PRP could/MD not/RB remember/VB ever/RB having/VBG seen/VBN such/PDT a/DT thing/NN ./.\n",
            "After/IN a/DT while/NN ,/, finding/VBG that/IN nothing/NN more/RBR happened/VBD ,/, she/PRP decided/VBD on/IN going/VBG into/IN the/DT garden/NN at/IN once/RB ;/: but/CC ,/, alas/NNS for/IN poor/JJ Alice/NNP !/.\n",
            "when/WRB she/PRP got/VBD to/TO the/DT door/NN ,/, she/PRP found/VBD she/PRP had/VBD forgotten/VBN the/DT little/JJ golden/JJ key/NN ,/, and/CC when/WRB she/PRP went/VBD back/RB to/TO the/DT table/NN for/IN it/PRP ,/, she/PRP found/VBD she/PRP could/MD not/RB possibly/RB reach/VB it/PRP :/: she/PRP could/MD see/VB it/PRP quite/RB plainly/RB through/IN the/DT glass/NN ,/, and/CC she/PRP tried/VBD her/PRP best/JJS to/TO climb/VB up/RP one/CD of/IN the/DT legs/NN of/IN the/DT table/NN ,/, but/CC it/PRP was/VBD too/RB slippery/JJ ;/: and/CC when/WRB she/PRP had/VBD tired/VBN herself/PRP out/IN with/IN trying/VBG ,/, the/DT poor/JJ little/JJ thing/NN sat/VBD down/RB and/CC cried/VBN ./.\n",
            "'Come/CD ,/, there/EX 's/VBZ no/DT use/NN in/IN crying/VBG like/IN that/DT !/. '/''\n",
            "said/VBD Alice/NNP to/TO herself/VB ,/, rather/RB sharply/RB ;/: '/'' I/PRP advise/VBP you/PRP to/TO leave/VB off/RP this/DT minute/NN !/. '/''\n",
            "She/PRP generally/RB gave/VBD herself/PRP very/RB good/JJ advice/NN ,/, (/( though/IN she/PRP very/RB seldom/RB followed/VBD it/PRP )/) ,/, and/CC sometimes/RB she/PRP scolded/VBD herself/PRP so/RB severely/RB as/IN to/TO bring/VB tears/NNS into/IN her/PRP$ eyes/NNS ;/: and/CC once/RB she/PRP remembered/VBD trying/VBG to/TO box/VB her/PRP$ own/JJ ears/NNS for/IN having/VBG cheated/VBN herself/PRP in/IN a/DT game/NN of/IN croquet/NN she/PRP was/VBD playing/VBG against/IN herself/PRP ,/, for/IN this/DT curious/JJ child/NN was/VBD very/RB fond/JJ of/IN pretending/VBG to/TO be/VB two/CD people/NNS ./.\n",
            "'But/IN it/PRP 's/VBZ no/DT use/NN now/RB ,/, '/'' thought/VBD poor/JJ Alice/NNP ,/, 'to/'' pretend/VBP to/TO be/VB two/CD people/NNS !/.\n",
            "Why/WRB ,/, there/EX 's/VBZ hardly/RB enough/RB of/IN me/PRP left/VBD to/TO make/VB ONE/CD respectable/JJ person/NN !/. '/''\n",
            "Soon/RB her/PRP$ eye/NN fell/VBD on/IN a/DT little/JJ glass/NN box/NN that/WDT was/VBD lying/VBG under/IN the/DT table/NN :/: she/PRP opened/VBD it/PRP ,/, and/CC found/VBD in/IN it/PRP a/DT very/RB small/JJ cake/NN ,/, on/IN which/WDT the/DT words/NNS 'EAT/POS ME/NNP '/POS were/VBD beautifully/RB marked/VBN in/IN currants/NNS ./.\n",
            "'Well/UH ,/, I/PRP 'll/MD eat/VB it/PRP ,/, '/'' said/VBD Alice/NNP ,/, 'and/CD if/IN it/PRP makes/VBZ me/PRP grow/JJ larger/JJR ,/, I/PRP can/MD reach/VB the/DT key/NN ;/: and/CC if/IN it/PRP makes/VBZ me/PRP grow/VB smaller/JJR ,/, I/PRP can/MD creep/VB under/IN the/DT door/NN ;/: so/CC either/DT way/NN I'll/NNP get/VB into/IN the/DT garden/NN ,/, and/CC I/PRP do/VBP n't/RB care/VB which/WDT happens/VBZ !/. '/''\n",
            "She/PRP ate/VBD a/DT little/JJ bit/NN ,/, and/CC said/VBD anxiously/RB to/TO herself/VB ,/, 'Which/VB way/NN ?/.\n",
            "Which/JJ way/NN ?/.\n",
            "'/'' ,/, holding/VBG her/PRP$ hand/NN on/IN the/DT top/NN of/IN her/PRP$ head/NN to/TO feel/VB which/WDT way/NN it/PRP was/VBD growing/VBG ,/, and/CC she/PRP was/VBD quite/RB surprised/JJ to/TO find/VB that/IN she/PRP remained/VBD the/DT same/JJ size/NN :/: to/TO be/VB sure/JJ ,/, this/DT generally/RB happens/VBZ when/WRB one/CD eats/NNS cake/VBP ,/, but/CC Alice/NNP had/VBD got/VBN so/RB much/JJ into/IN the/DT way/NN of/IN expecting/VBG nothing/NN but/CC out-of-the-way/JJ things/NNS to/TO happen/VB ,/, that/IN it/PRP seemed/VBD quite/RB dull/JJ and/CC stupid/JJ for/IN life/NN to/TO go/VB on/IN in/IN the/DT common/JJ way/NN ./.\n",
            "So/RB she/PRP set/VBD to/TO work/VB ,/, and/CC very/RB soon/RB finished/VBD off/RP the/DT cake/NN ./.\n",
            "*/JJ */NNP */NNP */NNP */NNP */NNP */NNP */NNP */NNP */NNP */NNP */NNP */NNP */NNP */NNP */NNP */NNP */NNP */NNP */NNP CHAPTER/NNP II/NNP ./.\n",
            "The/DT Pool/NNP of/IN Tears/NNP 'Curiouser/NNP and/CC curiouser/NN !/. '/''\n",
            "cried/VBN Alice/NNP (/( she/PRP was/VBD so/RB much/JJ surprised/VBN ,/, that/IN for/IN the/DT moment/NN she/PRP quite/RB forgot/VBD how/WRB to/TO speak/VB good/JJ English/NNP )/) ;/: 'now/CC I'm/NNP opening/VBG out/RP like/IN the/DT largest/JJS telescope/NN that/IN ever/RB was/VBD !/.\n",
            "Good-bye/NNP ,/, feet/NNS !/. '/''\n",
            "(/( for/IN when/WRB she/PRP looked/VBD down/RB at/IN her/PRP$ feet/NNS ,/, they/PRP seemed/VBD to/TO be/VB almost/RB out/IN of/IN sight/NN ,/, they/PRP were/VBD getting/VBG so/RB far/RB off/RP )/) ./.\n",
            "'Oh/NN ,/, my/PRP$ poor/JJ little/JJ feet/NNS ,/, I/PRP wonder/VBP who/WP will/MD put/VB on/IN your/PRP$ shoes/NNS and/CC stockings/NNS for/IN you/PRP now/RB ,/, dears/NNS ?/.\n",
            "I/PRP 'm/VBP sure/JJ _I_/NNP sha/NN n't/RB be/VB able/JJ !/.\n",
            "I/PRP shall/MD be/VB a/DT great/JJ deal/NN too/RB far/RB off/IN to/TO trouble/NN myself/PRP about/IN you/PRP :/: you/PRP must/MD manage/VB the/DT best/JJS way/NN you/PRP can/MD ;/: --/: but/CC I/PRP must/MD be/VB kind/NN to/TO them/PRP ,/, '/'' thought/JJ Alice/NNP ,/, 'or/'' perhaps/RB they/PRP wo/MD n't/RB walk/VB the/DT way/NN I/PRP want/VBP to/TO go/VB !/.\n",
            "Let/VB me/PRP see/VB :/: I/PRP 'll/MD give/VB them/PRP a/DT new/JJ pair/NN of/IN boots/NNS every/DT Christmas/NNP ./. '/''\n",
            "And/CC she/PRP went/VBD on/IN planning/NN to/TO herself/VB how/WRB she/PRP would/MD manage/VB it/PRP ./.\n",
            "'They/NN must/MD go/VB by/IN the/DT carrier/NN ,/, '/'' she/PRP thought/VBD ;/: 'and/VB how/WRB funny/JJ it/PRP 'll/MD seem/VB ,/, sending/VBG presents/NNS to/TO one/CD 's/POS own/JJ feet/NNS !/.\n",
            "And/CC how/WRB odd/JJ the/DT directions/NNS will/MD look/VB !/.\n",
            "ALICE/NNP 'S/POS RIGHT/NNP FOOT/NNP ,/, ESQ/NNP ./.\n",
            "HEARTHRUG/NNP ,/, NEAR/NNP THE/NNP FENDER/NNP ,/, (/( WITH/NNP ALICE/NNP 'S/POS LOVE/NNP )/) ./.\n",
            "Oh/UH dear/NN ,/, what/WP nonsense/NN I/PRP 'm/VBP talking/VBG !/. '/''\n",
            "Just/RB then/RB her/PRP$ head/NN struck/NN against/IN the/DT roof/NN of/IN the/DT hall/NN :/: in/IN fact/NN she/PRP was/VBD now/RB more/JJR than/IN nine/CD feet/NNS high/JJ ,/, and/CC she/PRP at/IN once/RB took/VBD up/RP the/DT little/JJ golden/JJ key/NN and/CC hurried/VBD off/IN to/TO the/DT garden/NN door/NN ./.\n",
            "Poor/NNP Alice/NNP !/.\n",
            "It/PRP was/VBD as/RB much/JJ as/IN she/PRP could/MD do/VB ,/, lying/VBG down/RP on/IN one/CD side/NN ,/, to/TO look/VB through/IN into/IN the/DT garden/NN with/IN one/CD eye/NN ;/: but/CC to/TO get/VB through/IN was/VBD more/JJR hopeless/NN than/IN ever/RB :/: she/PRP sat/VBD down/RB and/CC began/VBD to/TO cry/VB again/RB ./.\n",
            "'You/NNS ought/MD to/TO be/VB ashamed/VBN of/IN yourself/PRP ,/, '/'' said/VBD Alice/NNP ,/, '/'' a/DT great/JJ girl/NN like/IN you/PRP ,/, '/'' (/( she/PRP might/MD well/RB say/VB this/DT )/) ,/, 'to/'' go/VBP on/IN crying/VBG in/IN this/DT way/NN !/.\n",
            "Stop/VB this/DT moment/NN ,/, I/PRP tell/VBP you/PRP !/. '/''\n",
            "But/CC she/PRP went/VBD on/IN all/PDT the/DT same/JJ ,/, shedding/VBG gallons/NNS of/IN tears/NNS ,/, until/IN there/EX was/VBD a/DT large/JJ pool/NN all/DT round/VBD her/PRP ,/, about/RB four/CD inches/NNS deep/RB and/CC reaching/VBG half/NN down/RP the/DT hall/NN ./.\n",
            "After/IN a/DT time/NN she/PRP heard/VBD a/DT little/JJ pattering/NN of/IN feet/NNS in/IN the/DT distance/NN ,/, and/CC she/PRP hastily/RB dried/VBD her/PRP eyes/NNS to/TO see/VB what/WP was/VBD coming/VBG ./.\n",
            "It/PRP was/VBD the/DT White/NNP Rabbit/NNP returning/NN ,/, splendidly/RB dressed/VBD ,/, with/IN a/DT pair/NN of/IN white/JJ kid/NN gloves/NNS in/IN one/CD hand/NN and/CC a/DT large/JJ fan/NN in/IN the/DT other/JJ :/: he/PRP came/VBD trotting/VBG along/RB in/IN a/DT great/JJ hurry/NN ,/, muttering/VBG to/TO himself/PRP as/IN he/PRP came/VBD ,/, 'Oh/CD !/.\n",
            "the/DT Duchess/NNP ,/, the/DT Duchess/NN !/.\n",
            "Oh/UH !/.\n",
            "wo/MD n't/RB she/PRP be/VB savage/JJ if/IN I/PRP 've/VBP kept/VBD her/PRP waiting/VBG !/. '/''\n",
            "Alice/NNP felt/VBD so/RB desperate/JJ that/IN she/PRP was/VBD ready/JJ to/TO ask/VB help/NN of/IN any/DT one/CD ;/: so/RB ,/, when/WRB the/DT Rabbit/NNP came/VBD near/IN her/PRP ,/, she/PRP began/VBD ,/, in/IN a/DT low/JJ ,/, timid/JJ voice/NN ,/, 'If/'' you/PRP please/VBP ,/, sir/FW --/: '/'' The/DT Rabbit/NNP started/VBD violently/RB ,/, dropped/VBD the/DT white/JJ kid/NN gloves/NNS and/CC the/DT fan/NN ,/, and/CC skurried/VBD away/RB into/IN the/DT darkness/NN as/RB hard/RB as/IN he/PRP could/MD go/VB ./.\n",
            "Alice/NNP took/VBD up/RP the/DT fan/NN and/CC gloves/NNS ,/, and/CC ,/, as/IN the/DT hall/NN was/VBD very/RB hot/JJ ,/, she/PRP kept/VBD fanning/VBG herself/PRP all/PDT the/DT time/NN she/PRP went/VBD on/IN talking/VBG :/: 'Dear/NN ,/, dear/NN !/.\n",
            "How/WRB queer/NN everything/NN is/VBZ to-day/JJ !/.\n",
            "And/CC yesterday/NN things/NNS went/VBD on/IN just/RB as/IN usual/JJ ./.\n",
            "I/PRP wonder/VBP if/IN I/PRP 've/VBP been/VBN changed/VBN in/IN the/DT night/NN ?/.\n",
            "Let/VB me/PRP think/VB :/: was/VBD I/PRP the/DT same/JJ when/WRB I/PRP got/VBD up/RP this/DT morning/NN ?/.\n",
            "I/PRP almost/RB think/VBP I/PRP can/MD remember/VB feeling/VBG a/DT little/JJ different/JJ ./.\n",
            "But/CC if/IN I/PRP 'm/VBP not/RB the/DT same/JJ ,/, the/DT next/JJ question/NN is/VBZ ,/, Who/WP in/IN the/DT world/NN am/VBP I/PRP ?/.\n",
            "Ah/NNP ,/, THAT/NNP 'S/VBZ the/DT great/JJ puzzle/NN !/. '/''\n",
            "And/CC she/PRP began/VBD thinking/VBG over/IN all/PDT the/DT children/NNS she/PRP knew/VBD that/IN were/VBD of/IN the/DT same/JJ age/NN as/IN herself/NN ,/, to/TO see/VB if/IN she/PRP could/MD have/VB been/VBN changed/VBN for/IN any/DT of/IN them/PRP ./.\n",
            "'/POS I/PRP 'm/VBP sure/JJ I/PRP 'm/VBP not/RB Ada/NNP ,/, '/'' she/PRP said/VBD ,/, 'for/VBD her/PRP$ hair/NN goes/VBZ in/IN such/JJ long/JJ ringlets/NNS ,/, and/CC mine/NN does/VBZ n't/RB go/VB in/IN ringlets/NNS at/IN all/DT ;/: and/CC I/PRP 'm/VBP sure/JJ I/PRP can't/VBP be/VB Mabel/NNP ,/, for/IN I/PRP know/VBP all/DT sorts/NNS of/IN things/NNS ,/, and/CC she/PRP ,/, oh/UH !/.\n",
            "she/PRP knows/VBZ such/PDT a/DT very/RB little/JJ !/.\n",
            "Besides/IN ,/, SHE/NNP 'S/POS she/PRP ,/, and/CC I/PRP 'm/VBP I/PRP ,/, and/CC --/: oh/JJ dear/NN ,/, how/WRB puzzling/VBG it/PRP all/DT is/VBZ !/.\n",
            "I/PRP 'll/MD try/VB if/IN I/PRP know/VBP all/PDT the/DT things/NNS I/PRP used/VBD to/TO know/VB ./.\n",
            "Let/VB me/PRP see/VB :/: four/CD times/NNS five/CD is/VBZ twelve/VBN ,/, and/CC four/CD times/NNS six/CD is/VBZ thirteen/JJ ,/, and/CC four/CD times/NNS seven/CD is/VBZ --/: oh/JJ dear/NN !/.\n",
            "I/PRP shall/MD never/RB get/VB to/TO twenty/VB at/IN that/DT rate/NN !/.\n",
            "However/RB ,/, the/DT Multiplication/NNP Table/NNP does/VBZ n't/RB signify/VB :/: let/NN 's/POS try/VB Geography/NNP ./.\n",
            "London/NNP is/VBZ the/DT capital/NN of/IN Paris/NNP ,/, and/CC Paris/NNP is/VBZ the/DT capital/NN of/IN Rome/NNP ,/, and/CC Rome/NNP --/: no/DT ,/, THAT/NNP 'S/VBZ all/DT wrong/JJ ,/, I/PRP 'm/VBP certain/JJ !/.\n",
            "I/PRP must/MD have/VB been/VBN changed/VBN for/IN Mabel/NN !/.\n",
            "I/PRP 'll/MD try/VB and/CC say/VB ``/`` How/WRB doth/VB the/DT little/JJ --/: ''/'' '/POS and/CC she/PRP crossed/VBD her/PRP hands/NNS on/IN her/PRP$ lap/NN as/IN if/IN she/PRP were/VBD saying/VBG lessons/NNS ,/, and/CC began/VBD to/TO repeat/VB it/PRP ,/, but/CC her/PRP$ voice/NN sounded/VBD hoarse/NN and/CC strange/NN ,/, and/CC the/DT words/NNS did/VBD not/RB come/VB the/DT same/JJ as/IN they/PRP used/VBD to/TO do/VB :/: --/: 'How/WRB doth/VBZ the/DT little/JJ crocodile/JJ Improve/VB his/PRP$ shining/VBG tail/NN ,/, And/CC pour/VBP the/DT waters/NNS of/IN the/DT Nile/NNP On/IN every/DT golden/JJ scale/NN !/.\n",
            "'How/WRB cheerfully/RB he/PRP seems/VBZ to/TO grin/VB ,/, How/NNP neatly/RB spread/VBD his/PRP$ claws/NN ,/, And/CC welcome/JJ little/JJ fishes/NNS in/IN With/IN gently/RB smiling/VBG jaws/NN !/. '/''\n",
            "'/POS I/PRP 'm/VBP sure/JJ those/DT are/VBP not/RB the/DT right/NN words/NNS ,/, '/'' said/VBD poor/JJ Alice/NNP ,/, and/CC her/PRP$ eyes/NNS filled/VBN with/IN tears/NNS again/RB as/IN she/PRP went/VBD on/IN ,/, '/'' I/PRP must/MD be/VB Mabel/NNP after/IN all/DT ,/, and/CC I/PRP shall/MD have/VB to/TO go/VB and/CC live/VB in/IN that/DT poky/JJ little/JJ house/NN ,/, and/CC have/VBP next/VBN to/TO no/DT toys/NN to/TO play/VB with/IN ,/, and/CC oh/UH !/.\n",
            "ever/RB so/RB many/JJ lessons/NNS to/TO learn/VB !/.\n",
            "No/DT ,/, I've/NNP made/VBD up/RP my/PRP$ mind/NN about/IN it/PRP ;/: if/IN I/PRP 'm/VBP Mabel/NNP ,/, I/PRP 'll/MD stay/VB down/RB here/RB !/.\n",
            "It/PRP 'll/MD be/VB no/DT use/VB their/PRP$ putting/VBG their/PRP$ heads/NNS down/RB and/CC saying/VBG ``/`` Come/NNP up/RB again/RB ,/, dear/NN !/. ''/''\n",
            "I/PRP shall/MD only/RB look/VB up/RP and/CC say/VB ``/`` Who/WP am/VBP I/PRP then/RB ?/.\n",
            "Tell/VB me/PRP that/IN first/JJ ,/, and/CC then/RB ,/, if/IN I/PRP like/VBP being/VBG that/IN person/NN ,/, I/PRP 'll/MD come/VB up/RP :/: if/IN not/RB ,/, I/PRP 'll/MD stay/VB down/RB here/RB till/VB I/PRP 'm/VBP somebody/NN else/JJ ''/'' --/: but/CC ,/, oh/JJ dear/NN !/. '/''\n",
            "cried/JJ Alice/NNP ,/, with/IN a/DT sudden/JJ burst/NN of/IN tears/NNS ,/, '/'' I/PRP do/VBP wish/JJ they/PRP WOULD/VBP put/VB their/PRP$ heads/NNS down/RP !/.\n",
            "I/PRP am/VBP so/RB VERY/RB tired/JJ of/IN being/VBG all/DT alone/RB here/RB !/. '/''\n",
            "As/IN she/PRP said/VBD this/DT she/PRP looked/VBD down/RB at/IN her/PRP$ hands/NNS ,/, and/CC was/VBD surprised/VBN to/TO see/VB that/IN she/PRP had/VBD put/VBN on/IN one/CD of/IN the/DT Rabbit/NNP 's/POS little/JJ white/JJ kid/NN gloves/NNS while/IN she/PRP was/VBD talking/VBG ./.\n",
            "'How/CD CAN/NNP I/PRP have/VBP done/VBN that/IN ?/. '/''\n",
            "she/PRP thought/VBD ./.\n",
            "'/POS I/PRP must/MD be/VB growing/VBG small/JJ again/RB ./. '/''\n",
            "She/PRP got/VBD up/RB and/CC went/VBD to/TO the/DT table/NN to/TO measure/VB herself/PRP by/IN it/PRP ,/, and/CC found/VBD that/RB ,/, as/RB nearly/RB as/IN she/PRP could/MD guess/VB ,/, she/PRP was/VBD now/RB about/IN two/CD feet/NNS high/JJ ,/, and/CC was/VBD going/VBG on/IN shrinking/VBG rapidly/RB :/: she/PRP soon/RB found/VBD out/RP that/IN the/DT cause/NN of/IN this/DT was/VBD the/DT fan/NN she/PRP was/VBD holding/VBG ,/, and/CC she/PRP dropped/VBD it/PRP hastily/RB ,/, just/RB in/IN time/NN to/TO avoid/VB shrinking/VBG away/RB altogether/RB ./.\n",
            "'That/DT WAS/VBD a/DT narrow/JJ escape/NN !/. '/''\n",
            "said/VBD Alice/NNP ,/, a/DT good/JJ deal/NN frightened/VBN at/IN the/DT sudden/JJ change/NN ,/, but/CC very/RB glad/JJ to/TO find/VB herself/PRP still/RB in/IN existence/NN ;/: 'and/CC now/RB for/IN the/DT garden/NN !/. '/''\n",
            "and/CC she/PRP ran/VBD with/IN all/DT speed/NN back/RB to/TO the/DT little/JJ door/NN :/: but/CC ,/, alas/UH !/.\n",
            "the/DT little/JJ door/NN was/VBD shut/VBN again/RB ,/, and/CC the/DT little/JJ golden/JJ key/NN was/VBD lying/VBG on/IN the/DT glass/NN table/NN as/IN before/RB ,/, 'and/'' things/NNS are/VBP worse/JJR than/IN ever/RB ,/, '/'' thought/VBD the/DT poor/JJ child/NN ,/, 'for/'' I/PRP never/RB was/VBD so/RB small/JJ as/IN this/DT before/IN ,/, never/RB !/.\n",
            "And/CC I/PRP declare/VBP it/PRP 's/VBZ too/RB bad/JJ ,/, that/IN it/PRP is/VBZ !/. '/''\n",
            "As/IN she/PRP said/VBD these/DT words/NNS her/PRP$ foot/NN slipped/VBD ,/, and/CC in/IN another/DT moment/NN ,/, splash/NN !/.\n",
            "she/PRP was/VBD up/RB to/TO her/PRP$ chin/NN in/IN salt/JJ water/NN ./.\n",
            "Her/PRP$ first/JJ idea/NN was/VBD that/IN she/PRP had/VBD somehow/RB fallen/VBN into/IN the/DT sea/NN ,/, 'and/'' in/IN that/DT case/NN I/PRP can/MD go/VB back/RB by/IN railway/NN ,/, '/'' she/PRP said/VBD to/TO herself/PRP ./.\n",
            "(/( Alice/NNP had/VBD been/VBN to/TO the/DT seaside/NN once/RB in/IN her/PRP$ life/NN ,/, and/CC had/VBD come/VBN to/TO the/DT general/JJ conclusion/NN ,/, that/IN wherever/NN you/PRP go/VBP to/TO on/IN the/DT English/NNP coast/NN you/PRP find/VBP a/DT number/NN of/IN bathing/VBG machines/NNS in/IN the/DT sea/NN ,/, some/DT children/NNS digging/VBG in/IN the/DT sand/NN with/IN wooden/JJ spades/NNS ,/, then/RB a/DT row/NN of/IN lodging/VBG houses/NNS ,/, and/CC behind/IN them/PRP a/DT railway/NN station/NN ./. )/)\n",
            "However/RB ,/, she/PRP soon/RB made/VBD out/RP that/IN she/PRP was/VBD in/IN the/DT pool/NN of/IN tears/NNS which/WDT she/PRP had/VBD wept/NN when/WRB she/PRP was/VBD nine/CD feet/NNS high/JJ ./.\n",
            "'/POS I/PRP wish/VBP I/PRP had/VBD n't/RB cried/VBN so/RB much/JJ !/. '/''\n",
            "said/VBD Alice/NNP ,/, as/IN she/PRP swam/VBZ about/RB ,/, trying/VBG to/TO find/VB her/PRP$ way/NN out/IN ./.\n",
            "'/POS I/PRP shall/MD be/VB punished/VBN for/IN it/PRP now/RB ,/, I/PRP suppose/VBP ,/, by/IN being/VBG drowned/VBN in/IN my/PRP$ own/JJ tears/NNS !/.\n",
            "That/DT WILL/MD be/VB a/DT queer/JJ thing/NN ,/, to/TO be/VB sure/JJ !/.\n",
            "However/RB ,/, everything/NN is/VBZ queer/JJ to-day/JJ ./. '/''\n",
            "Just/RB then/RB she/PRP heard/VBD something/NN splashing/VBG about/IN in/IN the/DT pool/NN a/DT little/JJ way/NN off/IN ,/, and/CC she/PRP swam/VBD nearer/NN to/TO make/VB out/RP what/WP it/PRP was/VBD :/: at/IN first/JJ she/PRP thought/VBD it/PRP must/MD be/VB a/DT walrus/NN or/CC hippopotamus/NN ,/, but/CC then/RB she/PRP remembered/VBD how/WRB small/JJ she/PRP was/VBD now/RB ,/, and/CC she/PRP soon/RB made/VBD out/RP that/IN it/PRP was/VBD only/RB a/DT mouse/NN that/WDT had/VBD slipped/VBN in/IN like/IN herself/NN ./.\n",
            "'Would/MD it/PRP be/VB of/IN any/DT use/NN ,/, now/RB ,/, '/'' thought/JJ Alice/NNP ,/, 'to/'' speak/NN to/TO this/DT mouse/NN ?/.\n",
            "Everything/NN is/VBZ so/RB out-of-the-way/JJ down/IN here/RB ,/, that/IN I/PRP should/MD think/VB very/RB likely/JJ it/PRP can/MD talk/VB :/: at/IN any/DT rate/NN ,/, there/EX 's/VBZ no/DT harm/NN in/IN trying/VBG ./. '/''\n",
            "So/RB she/PRP began/VBD :/: '/'' O/NNP Mouse/NNP ,/, do/VBP you/PRP know/VB the/DT way/NN out/IN of/IN this/DT pool/NN ?/.\n",
            "I/PRP am/VBP very/RB tired/JJ of/IN swimming/VBG about/IN here/RB ,/, O/NNP Mouse/NNP !/. '/''\n",
            "(/( Alice/NNP thought/VBD this/DT must/MD be/VB the/DT right/JJ way/NN of/IN speaking/VBG to/TO a/DT mouse/NN :/: she/PRP had/VBD never/RB done/VBN such/PDT a/DT thing/NN before/IN ,/, but/CC she/PRP remembered/VBD having/VBG seen/VBN in/IN her/PRP$ brother/NN 's/POS Latin/NNP Grammar/NNP ,/, '/'' A/NNP mouse/NN --/: of/IN a/DT mouse/NN --/: to/TO a/DT mouse/NN --/: a/DT mouse/NN --/: O/NNP mouse/NN !/. '/'' )/)\n",
            "The/DT Mouse/NNP looked/VBD at/IN her/PRP$ rather/RB inquisitively/RB ,/, and/CC seemed/VBD to/TO her/PRP$ to/TO wink/VB with/IN one/CD of/IN its/PRP$ little/JJ eyes/NNS ,/, but/CC it/PRP said/VBD nothing/NN ./.\n",
            "'Perhaps/NNS it/PRP does/VBZ n't/RB understand/VB English/NNP ,/, '/'' thought/JJ Alice/NNP ;/: '/POS I/PRP daresay/VBP it's/VB a/DT French/JJ mouse/NN ,/, come/VB over/IN with/IN William/NNP the/DT Conqueror/NNP ./. '/''\n",
            "(/( For/IN ,/, with/IN all/DT her/PRP$ knowledge/NN of/IN history/NN ,/, Alice/NNP had/VBD no/DT very/RB clear/JJ notion/NN how/WRB long/JJ ago/RB anything/NN had/VBD happened/VBN ./. )/)\n",
            "So/RB she/PRP began/VBD again/RB :/: 'Ou/CD est/JJS ma/NN chatte/NN ?/. '/''\n",
            "which/WDT was/VBD the/DT first/JJ sentence/NN in/IN her/PRP$ French/JJ lesson-book/NN ./.\n",
            "The/DT Mouse/NNP gave/VBD a/DT sudden/JJ leap/NN out/IN of/IN the/DT water/NN ,/, and/CC seemed/VBD to/TO quiver/VB all/DT over/IN with/IN fright/NN ./.\n",
            "'Oh/CD ,/, I/PRP beg/VBP your/PRP$ pardon/NN !/. '/''\n",
            "cried/JJ Alice/NNP hastily/RB ,/, afraid/VBD that/IN she/PRP had/VBD hurt/VBN the/DT poor/JJ animal/NN 's/POS feelings/NNS ./.\n",
            "'/POS I/PRP quite/VBP forgot/JJ you/PRP did/VBD n't/RB like/IN cats/NNS ./. '/''\n",
            "'Not/NNS like/IN cats/NNS !/. '/''\n",
            "cried/VBD the/DT Mouse/NNP ,/, in/IN a/DT shrill/NN ,/, passionate/JJ voice/NN ./.\n",
            "'Would/MD YOU/VB like/IN cats/NNS if/IN you/PRP were/VBD me/PRP ?/. '/''\n",
            "'Well/UH ,/, perhaps/RB not/RB ,/, '/'' said/VBD Alice/NNP in/IN a/DT soothing/JJ tone/NN :/: 'do/CD n't/RB be/VB angry/JJ about/IN it/PRP ./.\n",
            "And/CC yet/RB I/PRP wish/VBP I/PRP could/MD show/VB you/PRP our/PRP$ cat/JJ Dinah/NNP :/: I/PRP think/VBP you'd/NNS take/VBP a/DT fancy/NN to/TO cats/VB if/IN you/PRP could/MD only/RB see/VB her/PRP ./.\n",
            "She/PRP is/VBZ such/JJ a/DT dear/JJ quiet/JJ thing/NN ,/, '/'' Alice/NNP went/VBD on/IN ,/, half/NN to/TO herself/VB ,/, as/IN she/PRP swam/VBD lazily/RB about/IN in/IN the/DT pool/NN ,/, 'and/CD she/PRP sits/VBZ purring/VBG so/RB nicely/RB by/IN the/DT fire/NN ,/, licking/VBG her/PRP$ paws/NN and/CC washing/VBG her/PRP$ face/NN --/: and/CC she/PRP is/VBZ such/JJ a/DT nice/JJ soft/JJ thing/NN to/TO nurse/VB --/: and/CC she's/VB such/JJ a/DT capital/NN one/CD for/IN catching/VBG mice/NN --/: oh/UH ,/, I/PRP beg/VBP your/PRP$ pardon/NN !/. '/''\n",
            "cried/VBN Alice/NNP again/RB ,/, for/IN this/DT time/NN the/DT Mouse/NNP was/VBD bristling/VBG all/DT over/IN ,/, and/CC she/PRP felt/VBD certain/JJ it/PRP must/MD be/VB really/RB offended/VBN ./.\n",
            "'We/NNS wo/MD n't/RB talk/VB about/IN her/PRP$ any/DT more/JJR if/IN you/PRP 'd/MD rather/RB not/RB ./. '/''\n",
            "'We/NNS indeed/RB !/. '/''\n",
            "cried/VBD the/DT Mouse/NNP ,/, who/WP was/VBD trembling/VBG down/RB to/TO the/DT end/NN of/IN his/PRP$ tail/NN ./.\n",
            "'As/IN if/IN I/PRP would/MD talk/VB on/IN such/PDT a/DT subject/NN !/.\n",
            "Our/PRP$ family/NN always/RB HATED/NNP cats/NNS :/: nasty/JJ ,/, low/JJ ,/, vulgar/JJ things/NNS !/.\n",
            "Do/VBP n't/RB let/VB me/PRP hear/VB the/DT name/NN again/RB !/. '/''\n",
            "'/POS I/PRP wo/MD n't/RB indeed/RB !/. '/''\n",
            "said/VBD Alice/NNP ,/, in/IN a/DT great/JJ hurry/NN to/TO change/VB the/DT subject/NN of/IN conversation/NN ./.\n",
            "'Are/POS you/PRP --/: are/VBP you/PRP fond/VBP --/: of/IN --/: of/IN dogs/NNS ?/. '/''\n",
            "The/DT Mouse/NNP did/VBD not/RB answer/VB ,/, so/IN Alice/NNP went/VBD on/IN eagerly/NN :/: 'There/EX is/VBZ such/JJ a/DT nice/JJ little/JJ dog/NN near/IN our/PRP$ house/NN I/PRP should/MD like/VB to/TO show/VB you/PRP !/.\n",
            "A/DT little/JJ bright-eyed/JJ terrier/NN ,/, you/PRP know/VBP ,/, with/IN oh/UH ,/, such/JJ long/JJ curly/RB brown/JJ hair/NN !/.\n",
            "And/CC it/PRP 'll/MD fetch/VB things/NNS when/WRB you/PRP throw/VBP them/PRP ,/, and/CC it/PRP 'll/MD sit/VB up/RP and/CC beg/VB for/IN its/PRP$ dinner/NN ,/, and/CC all/DT sorts/NNS of/IN things/NNS --/: I/PRP ca/MD n't/RB remember/VB half/NN of/IN them/PRP --/: and/CC it/PRP belongs/VBZ to/TO a/DT farmer/NN ,/, you/PRP know/VBP ,/, and/CC he/PRP says/VBZ it/PRP 's/VBZ so/RB useful/JJ ,/, it/PRP 's/VBZ worth/IN a/DT hundred/JJ pounds/NNS !/.\n",
            "He/PRP says/VBZ it/PRP kills/VBZ all/PDT the/DT rats/NNS and/CC --/: oh/JJ dear/NN !/. '/''\n",
            "cried/JJ Alice/NNP in/IN a/DT sorrowful/JJ tone/NN ,/, '/'' I/PRP 'm/VBP afraid/JJ I/PRP 've/VBP offended/VBN it/PRP again/RB !/. '/''\n",
            "For/IN the/DT Mouse/NNP was/VBD swimming/VBG away/RB from/IN her/PRP$ as/RB hard/JJ as/IN it/PRP could/MD go/VB ,/, and/CC making/VBG quite/RB a/DT commotion/NN in/IN the/DT pool/NN as/IN it/PRP went/VBD ./.\n",
            "So/IN she/PRP called/VBD softly/RB after/IN it/PRP ,/, 'Mouse/'' dear/NN !/.\n",
            "Do/VBP come/VB back/RB again/RB ,/, and/CC we/PRP wo/MD n't/RB talk/VB about/IN cats/NNS or/CC dogs/NNS either/CC ,/, if/IN you/PRP do/VBP n't/RB like/VB them/PRP !/. '/''\n",
            "When/WRB the/DT Mouse/NNP heard/NN this/DT ,/, it/PRP turned/VBD round/NN and/CC swam/NN slowly/RB back/RB to/TO her/PRP$ :/: its/PRP$ face/NN was/VBD quite/RB pale/JJ (/( with/IN passion/NN ,/, Alice/NNP thought/VBD )/) ,/, and/CC it/PRP said/VBD in/IN a/DT low/JJ trembling/NN voice/NN ,/, 'Let/'' us/PRP get/VB to/TO the/DT shore/NN ,/, and/CC then/RB I/PRP 'll/MD tell/VB you/PRP my/PRP$ history/NN ,/, and/CC you/PRP 'll/MD understand/VB why/WRB it/PRP is/VBZ I/PRP hate/VBP cats/NNS and/CC dogs/NNS ./. '/''\n",
            "It/PRP was/VBD high/JJ time/NN to/TO go/VB ,/, for/IN the/DT pool/NN was/VBD getting/VBG quite/RB crowded/VBN with/IN the/DT birds/NNS and/CC animals/NNS that/WDT had/VBD fallen/VBN into/IN it/PRP :/: there/EX were/VBD a/DT Duck/NNP and/CC a/DT Dodo/NNP ,/, a/DT Lory/NNP and/CC an/DT Eaglet/NNP ,/, and/CC several/JJ other/JJ curious/JJ creatures/NNS ./.\n",
            "Alice/NNP led/VBD the/DT way/NN ,/, and/CC the/DT whole/JJ party/NN swam/NN to/TO the/DT shore/NN ./.\n",
            "CHAPTER/NN III/NNP ./.\n",
            "A/DT Caucus-Race/NNP and/CC a/DT Long/JJ Tale/NN They/PRP were/VBD indeed/RB a/DT queer-looking/JJ party/NN that/WDT assembled/VBD on/IN the/DT bank/NN --/: the/DT birds/NNS with/IN draggled/JJ feathers/NNS ,/, the/DT animals/NNS with/IN their/PRP$ fur/NN clinging/VBG close/JJ to/TO them/PRP ,/, and/CC all/DT dripping/VBG wet/NN ,/, cross/NN ,/, and/CC uncomfortable/JJ ./.\n",
            "The/DT first/JJ question/NN of/IN course/NN was/VBD ,/, how/WRB to/TO get/VB dry/JJ again/RB :/: they/PRP had/VBD a/DT consultation/NN about/IN this/DT ,/, and/CC after/IN a/DT few/JJ minutes/NNS it/PRP seemed/VBD quite/RB natural/JJ to/TO Alice/NNP to/TO find/VB herself/PRP talking/VBG familiarly/RB with/IN them/PRP ,/, as/IN if/IN she/PRP had/VBD known/VBN them/PRP all/DT her/PRP$ life/NN ./.\n",
            "Indeed/RB ,/, she/PRP had/VBD quite/RB a/DT long/JJ argument/NN with/IN the/DT Lory/NNP ,/, who/WP at/IN last/JJ turned/JJ sulky/NN ,/, and/CC would/MD only/RB say/VB ,/, '/'' I/PRP am/VBP older/JJR than/IN you/PRP ,/, and/CC must/MD know/VB better/JJR '/POS ;/: and/CC this/DT Alice/NNP would/MD not/RB allow/VB without/IN knowing/VBG how/WRB old/JJ it/PRP was/VBD ,/, and/CC ,/, as/IN the/DT Lory/NNP positively/RB refused/VBD to/TO tell/VB its/PRP$ age/NN ,/, there/EX was/VBD no/DT more/JJR to/TO be/VB said/VBD ./.\n",
            "At/IN last/JJ the/DT Mouse/NNP ,/, who/WP seemed/VBD to/TO be/VB a/DT person/NN of/IN authority/NN among/IN them/PRP ,/, called/VBN out/RP ,/, 'Sit/'' down/RP ,/, all/DT of/IN you/PRP ,/, and/CC listen/VB to/TO me/PRP !/.\n",
            "I/PRP 'LL/VBP soon/RB make/VBP you/PRP dry/JJ enough/RB !/. '/''\n",
            "They/PRP all/DT sat/VBD down/RP at/IN once/RB ,/, in/IN a/DT large/JJ ring/NN ,/, with/IN the/DT Mouse/NNP in/IN the/DT middle/NN ./.\n",
            "Alice/NNP kept/VBD her/PRP$ eyes/NNS anxiously/RB fixed/VBN on/IN it/PRP ,/, for/IN she/PRP felt/VBD sure/JJ she/PRP would/MD catch/VB a/DT bad/JJ cold/NN if/IN she/PRP did/VBD not/RB get/VB dry/JJ very/RB soon/RB ./.\n",
            "'Ahem/RB !/. '/''\n",
            "said/VBD the/DT Mouse/NNP with/IN an/DT important/JJ air/NN ,/, 'are/'' you/PRP all/DT ready/JJ ?/.\n",
            "This/DT is/VBZ the/DT driest/JJ thing/NN I/PRP know/VBP ./.\n",
            "Silence/NNP all/DT round/NN ,/, if/IN you/PRP please/VBP !/.\n",
            "``/`` William/NNP the/DT Conqueror/NNP ,/, whose/WP$ cause/NN was/VBD favoured/VBN by/IN the/DT pope/NN ,/, was/VBD soon/RB submitted/VBN to/TO by/IN the/DT English/NNP ,/, who/WP wanted/VBD leaders/NNS ,/, and/CC had/VBD been/VBN of/IN late/JJ much/JJ accustomed/VBN to/TO usurpation/NN and/CC conquest/NN ./.\n",
            "Edwin/NNP and/CC Morcar/NNP ,/, the/DT earls/NN of/IN Mercia/NNP and/CC Northumbria/NNP --/: ''/'' '/POS 'Ugh/POS !/. '/''\n",
            "said/VBD the/DT Lory/NNP ,/, with/IN a/DT shiver/NN ./.\n",
            "'/POS I/PRP beg/VBP your/PRP$ pardon/NN !/. '/''\n",
            "said/VBD the/DT Mouse/NNP ,/, frowning/NN ,/, but/CC very/RB politely/RB :/: 'Did/CD you/PRP speak/VB ?/. '/''\n",
            "'Not/CD I/PRP !/. '/''\n",
            "said/VBD the/DT Lory/NNP hastily/RB ./.\n",
            "'/POS I/PRP thought/VBD you/PRP did/VBD ,/, '/'' said/VBD the/DT Mouse/NNP ./. '/''\n",
            "--/: I/PRP proceed/VBP ./.\n",
            "``/`` Edwin/NNP and/CC Morcar/NNP ,/, the/DT earls/NN of/IN Mercia/NNP and/CC Northumbria/NNP ,/, declared/VBD for/IN him/PRP :/: and/CC even/RB Stigand/NNP ,/, the/DT patriotic/JJ archbishop/NN of/IN Canterbury/NNP ,/, found/VBD it/PRP advisable/JJ --/: ''/'' '/POS 'Found/IN WHAT/NNP ?/. '/''\n",
            "said/VBD the/DT Duck/NNP ./.\n",
            "'Found/IN IT/NNP ,/, '/'' the/DT Mouse/NNP replied/VBD rather/RB crossly/RB :/: 'of/JJ course/NN you/PRP know/VBP what/WP ''/'' it/PRP ''/'' means/VBZ ./. '/''\n",
            "'/POS I/PRP know/VBP what/WP ``/`` it/PRP ''/'' means/VBZ well/RB enough/RB ,/, when/WRB I/PRP find/VBP a/DT thing/NN ,/, '/'' said/VBD the/DT Duck/NNP :/: 'it/NN 's/POS generally/RB a/DT frog/NN or/CC a/DT worm/NN ./.\n",
            "The/DT question/NN is/VBZ ,/, what/WP did/VBD the/DT archbishop/NN find/VB ?/. '/''\n",
            "The/DT Mouse/NNP did/VBD not/RB notice/VB this/DT question/NN ,/, but/CC hurriedly/RB went/VBD on/IN ,/, '/'' ''/'' --/: found/VBD it/PRP advisable/JJ to/TO go/VB with/IN Edgar/NNP Atheling/NNP to/TO meet/VB William/NNP and/CC offer/VBP him/PRP the/DT crown/NN ./.\n",
            "William/NNP 's/POS conduct/NN at/IN first/JJ was/VBD moderate/JJ ./.\n",
            "But/CC the/DT insolence/NN of/IN his/PRP$ Normans/NNPS --/: ''/'' How/WRB are/VBP you/PRP getting/VBG on/IN now/RB ,/, my/PRP$ dear/JJ ?/. '/''\n",
            "it/PRP continued/VBD ,/, turning/VBG to/TO Alice/NNP as/IN it/PRP spoke/VBD ./.\n",
            "'As/RB wet/NN as/IN ever/RB ,/, '/'' said/VBD Alice/NNP in/IN a/DT melancholy/JJ tone/NN :/: 'it/NN does/VBZ n't/RB seem/VB to/TO dry/VB me/PRP at/IN all/DT ./. '/''\n",
            "'In/NNS that/WDT case/NN ,/, '/'' said/VBD the/DT Dodo/NNP solemnly/RB ,/, rising/VBG to/TO its/PRP$ feet/NNS ,/, '/'' I/PRP move/VBP that/IN the/DT meeting/NN adjourn/NN ,/, for/IN the/DT immediate/JJ adoption/NN of/IN more/RBR energetic/JJ remedies/NNS --/: '/POS 'Speak/JJ English/JJ !/. '/''\n",
            "said/VBD the/DT Eaglet/NNP ./.\n",
            "'/POS I/PRP do/VBP n't/RB know/VB the/DT meaning/NN of/IN half/PDT those/DT long/JJ words/NNS ,/, and/CC ,/, what/WP 's/VBZ more/JJR ,/, I/PRP do/VBP n't/RB believe/VB you/PRP do/VBP either/DT !/. '/''\n",
            "And/CC the/DT Eaglet/NNP bent/VBD down/RP its/PRP$ head/NN to/TO hide/VB a/DT smile/NN :/: some/DT of/IN the/DT other/JJ birds/NNS tittered/VBN audibly/RB ./.\n",
            "'What/IN I/PRP was/VBD going/VBG to/TO say/VB ,/, '/'' said/VBD the/DT Dodo/NNP in/IN an/DT offended/JJ tone/NN ,/, 'was/UH ,/, that/IN the/DT best/JJS thing/NN to/TO get/VB us/PRP dry/VB would/MD be/VB a/DT Caucus-race/NNP ./. '/''\n",
            "'What/DT IS/VBZ a/DT Caucus-race/JJ ?/. '/''\n",
            "said/VBD Alice/NNP ;/: not/RB that/IN she/PRP wanted/VBD much/RB to/TO know/VB ,/, but/CC the/DT Dodo/NNP had/VBD paused/VBN as/IN if/IN it/PRP thought/VBD that/IN SOMEBODY/NNP ought/MD to/TO speak/VB ,/, and/CC no/DT one/NN else/RB seemed/VBD inclined/JJ to/TO say/VB anything/NN ./.\n",
            "'Why/CD ,/, '/'' said/VBD the/DT Dodo/NNP ,/, 'the/'' best/JJS way/NN to/TO explain/VB it/PRP is/VBZ to/TO do/VB it/PRP ./. '/''\n",
            "(/( And/CC ,/, as/IN you/PRP might/MD like/VB to/TO try/VB the/DT thing/NN yourself/PRP ,/, some/DT winter/NN day/NN ,/, I/PRP will/MD tell/VB you/PRP how/WRB the/DT Dodo/NNP managed/VBD it/PRP ./. )/)\n",
            "First/LS it/PRP marked/VBD out/RP a/DT race-course/NN ,/, in/IN a/DT sort/NN of/IN circle/NN ,/, (/( 'the/POS exact/JJ shape/NN does/VBZ n't/RB matter/VB ,/, '/'' it/PRP said/VBD ,/, )/) and/CC then/RB all/PDT the/DT party/NN were/VBD placed/VBN along/IN the/DT course/NN ,/, here/RB and/CC there/RB ./.\n",
            "There/EX was/VBD no/DT 'One/NN ,/, two/CD ,/, three/CD ,/, and/CC away/RB ,/, '/'' but/CC they/PRP began/VBD running/VBG when/WRB they/PRP liked/VBD ,/, and/CC left/VBD off/RP when/WRB they/PRP liked/VBD ,/, so/IN that/IN it/PRP was/VBD not/RB easy/JJ to/TO know/VB when/WRB the/DT race/NN was/VBD over/RB ./.\n",
            "However/RB ,/, when/WRB they/PRP had/VBD been/VBN running/VBG half/PDT an/DT hour/NN or/CC so/RB ,/, and/CC were/VBD quite/RB dry/JJ again/RB ,/, the/DT Dodo/NNP suddenly/RB called/VBD out/RP 'The/JJ race/NN is/VBZ over/IN !/. '/''\n",
            "and/CC they/PRP all/DT crowded/VBD round/NN it/PRP ,/, panting/VBG ,/, and/CC asking/VBG ,/, 'But/'' who/WP has/VBZ won/VBN ?/. '/''\n",
            "This/DT question/NN the/DT Dodo/NNP could/MD not/RB answer/VB without/IN a/DT great/JJ deal/NN of/IN thought/NN ,/, and/CC it/PRP sat/VBD for/IN a/DT long/JJ time/NN with/IN one/CD finger/NN pressed/VBN upon/IN its/PRP$ forehead/NN (/( the/DT position/NN in/IN which/WDT you/PRP usually/RB see/VBP Shakespeare/NNP ,/, in/IN the/DT pictures/NNS of/IN him/PRP )/) ,/, while/IN the/DT rest/NN waited/VBD in/IN silence/NN ./.\n",
            "At/IN last/JJ the/DT Dodo/NNP said/VBD ,/, 'EVERYBODY/PRP has/VBZ won/VBN ,/, and/CC all/DT must/MD have/VB prizes/NNS ./. '/''\n",
            "'But/NNS who/WP is/VBZ to/TO give/VB the/DT prizes/NNS ?/. '/''\n",
            "quite/RB a/DT chorus/NN of/IN voices/NNS asked/VBN ./.\n",
            "'Why/NN ,/, SHE/NNP ,/, of/IN course/NN ,/, '/'' said/VBD the/DT Dodo/NNP ,/, pointing/VBG to/TO Alice/NNP with/IN one/CD finger/NN ;/: and/CC the/DT whole/JJ party/NN at/IN once/RB crowded/VBN round/NN her/PRP ,/, calling/VBG out/RP in/IN a/DT confused/JJ way/NN ,/, 'Prizes/VBZ !/.\n",
            "Prizes/NNS !/. '/''\n",
            "Alice/NNP had/VBD no/DT idea/NN what/WP to/TO do/VB ,/, and/CC in/IN despair/NN she/PRP put/VBD her/PRP hand/NN in/IN her/PRP$ pocket/NN ,/, and/CC pulled/VBD out/RP a/DT box/NN of/IN comfits/NNS ,/, (/( luckily/RB the/DT salt/NN water/NN had/VBD not/RB got/VBN into/IN it/PRP )/) ,/, and/CC handed/VBD them/PRP round/RP as/IN prizes/NNS ./.\n",
            "There/EX was/VBD exactly/RB one/CD a-piece/NN all/DT round/NN ./.\n",
            "'But/POS she/PRP must/MD have/VB a/DT prize/NN herself/PRP ,/, you/PRP know/VBP ,/, '/'' said/VBD the/DT Mouse/NNP ./.\n",
            "'Of/JJ course/NN ,/, '/'' the/DT Dodo/NNP replied/VBD very/RB gravely/RB ./.\n",
            "'What/WP else/RB have/VBP you/PRP got/VBN in/IN your/PRP$ pocket/NN ?/. '/''\n",
            "he/PRP went/VBD on/IN ,/, turning/VBG to/TO Alice/NNP ./.\n",
            "'Only/RB a/DT thimble/JJ ,/, '/'' said/VBD Alice/NNP sadly/RB ./.\n",
            "'Hand/VB it/PRP over/IN here/RB ,/, '/'' said/VBD the/DT Dodo/NNP ./.\n",
            "Then/RB they/PRP all/DT crowded/VBD round/RP her/PRP$ once/RB more/RBR ,/, while/IN the/DT Dodo/NNP solemnly/RB presented/VBD the/DT thimble/JJ ,/, saying/VBG 'We/CD beg/IN your/PRP$ acceptance/NN of/IN this/DT elegant/JJ thimble/JJ '/POS ;/: and/CC ,/, when/WRB it/PRP had/VBD finished/VBN this/DT short/JJ speech/NN ,/, they/PRP all/DT cheered/VBD ./.\n",
            "Alice/NNP thought/VBD the/DT whole/JJ thing/NN very/RB absurd/JJ ,/, but/CC they/PRP all/DT looked/VBD so/RB grave/JJ that/IN she/PRP did/VBD not/RB dare/VB to/TO laugh/NN ;/: and/CC ,/, as/IN she/PRP could/MD not/RB think/VB of/IN anything/NN to/TO say/VB ,/, she/PRP simply/RB bowed/VBD ,/, and/CC took/VBD the/DT thimble/JJ ,/, looking/VBG as/RB solemn/NN as/IN she/PRP could/MD ./.\n",
            "The/DT next/JJ thing/NN was/VBD to/TO eat/VB the/DT comfits/NNS :/: this/DT caused/VBD some/DT noise/NN and/CC confusion/NN ,/, as/IN the/DT large/JJ birds/NNS complained/VBD that/IN they/PRP could/MD not/RB taste/VB theirs/NNS ,/, and/CC the/DT small/JJ ones/NNS choked/VBN and/CC had/VBD to/TO be/VB patted/VBN on/IN the/DT back/NN ./.\n",
            "However/RB ,/, it/PRP was/VBD over/RB at/IN last/JJ ,/, and/CC they/PRP sat/VBD down/RB again/RB in/IN a/DT ring/NN ,/, and/CC begged/VBD the/DT Mouse/NNP to/TO tell/VB them/PRP something/NN more/RBR ./.\n",
            "'You/NNS promised/VBN to/TO tell/VB me/PRP your/PRP$ history/NN ,/, you/PRP know/VBP ,/, '/'' said/VBD Alice/NNP ,/, 'and/CD why/WRB it/PRP is/VBZ you/PRP hate/VBP --/: C/NNP and/CC D/NNP ,/, '/'' she/PRP added/VBD in/IN a/DT whisper/NN ,/, half/NN afraid/VBD that/IN it/PRP would/MD be/VB offended/VBN again/RB ./.\n",
            "'Mine/NN is/VBZ a/DT long/JJ and/CC a/DT sad/JJ tale/NN !/. '/''\n",
            "said/VBD the/DT Mouse/NNP ,/, turning/VBG to/TO Alice/NNP ,/, and/CC sighing/NN ./.\n",
            "'It/NN IS/VBZ a/DT long/JJ tail/NN ,/, certainly/RB ,/, '/'' said/VBD Alice/NNP ,/, looking/VBG down/RP with/IN wonder/NN at/IN the/DT Mouse/NNP 's/POS tail/NN ;/: 'but/CC why/WRB do/VBP you/PRP call/VB it/PRP sad/JJ ?/. '/''\n",
            "And/CC she/PRP kept/VBD on/IN puzzling/VBG about/IN it/PRP while/IN the/DT Mouse/NNP was/VBD speaking/VBG ,/, so/IN that/IN her/PRP$ idea/NN of/IN the/DT tale/NN was/VBD something/NN like/IN this/DT :/: --/: 'Fury/NN said/VBD to/TO a/DT mouse/NN ,/, That/IN he/PRP met/VBD in/IN the/DT house/NN ,/, ``/`` Let/VB us/PRP both/DT go/VBP to/TO law/NN :/: I/PRP will/MD prosecute/VB YOU./NNP --/: Come/NNP ,/, I/PRP 'll/MD take/VB no/DT denial/NN ;/: We/PRP must/MD have/VB a/DT trial/NN :/: For/IN really/RB this/DT morning/NN I've/NNP nothing/NN to/TO do/VB ./. ''/''\n",
            "Said/VBD the/DT mouse/NN to/TO the/DT cur/NN ,/, ``/`` Such/PDT a/DT trial/NN ,/, dear/JJ Sir/NNP ,/, With/IN no/DT jury/NN or/CC judge/NN ,/, would/MD be/VB wasting/VBG our/PRP$ breath/NN ./. ''/''\n",
            "``/`` I/PRP 'll/MD be/VB judge/NN ,/, I'll/NNP be/VB jury/NN ,/, ''/'' Said/NNP cunning/VBG old/JJ Fury/NN :/: ``/`` I'll/NNP try/VB the/DT whole/JJ cause/NN ,/, and/CC condemn/NN you/PRP to/TO death/NN ./. ''/'' '/''\n",
            "'You/NNS are/VBP not/RB attending/VBG !/. '/''\n",
            "said/VBD the/DT Mouse/NNP to/TO Alice/NNP severely/RB ./.\n",
            "'What/WDT are/VBP you/PRP thinking/VBG of/IN ?/. '/''\n",
            "'/POS I/PRP beg/VBP your/PRP$ pardon/NN ,/, '/'' said/VBD Alice/NNP very/RB humbly/RB :/: 'you/NN had/VBD got/VBN to/TO the/DT fifth/JJ bend/NN ,/, I/PRP think/VBP ?/. '/''\n",
            "'/POS I/PRP had/VBD NOT/NNP !/. '/''\n",
            "cried/VBD the/DT Mouse/NNP ,/, sharply/RB and/CC very/RB angrily/RB ./.\n",
            "'/'' A/DT knot/NN !/. '/''\n",
            "said/VBD Alice/NNP ,/, always/RB ready/JJ to/TO make/VB herself/PRP useful/JJ ,/, and/CC looking/VBG anxiously/RB about/IN her/PRP ./.\n",
            "'Oh/NNS ,/, do/VBP let/VB me/PRP help/VB to/TO undo/VB it/PRP !/. '/''\n",
            "'/POS I/PRP shall/MD do/VB nothing/NN of/IN the/DT sort/NN ,/, '/'' said/VBD the/DT Mouse/NNP ,/, getting/VBG up/RP and/CC walking/VBG away/RB ./.\n",
            "'You/POS insult/NN me/PRP by/IN talking/VBG such/JJ nonsense/NN !/. '/''\n",
            "'/POS I/PRP did/VBD n't/RB mean/VB it/PRP !/. '/''\n",
            "pleaded/VBN poor/JJ Alice/NNP ./.\n",
            "'But/IN you/PRP 're/VBP so/RB easily/RB offended/VBN ,/, you/PRP know/VBP !/. '/''\n",
            "The/DT Mouse/NNP only/RB growled/VBD in/IN reply/NN ./.\n",
            "'Please/POS come/VB back/RB and/CC finish/VB your/PRP$ story/NN !/. '/''\n",
            "Alice/NNP called/VBD after/IN it/PRP ;/: and/CC the/DT others/NNS all/DT joined/VBN in/IN chorus/NN ,/, 'Yes/UH ,/, please/VB do/VB !/. '/''\n",
            "but/CC the/DT Mouse/NNP only/RB shook/VBD its/PRP$ head/NN impatiently/RB ,/, and/CC walked/VBD a/DT little/JJ quicker/NN ./.\n",
            "'What/IN a/DT pity/NN it/PRP would/MD n't/RB stay/VB !/. '/''\n",
            "sighed/VBD the/DT Lory/NNP ,/, as/RB soon/RB as/IN it/PRP was/VBD quite/RB out/IN of/IN sight/NN ;/: and/CC an/DT old/JJ Crab/NN took/VBD the/DT opportunity/NN of/IN saying/VBG to/TO her/PRP$ daughter/NN 'Ah/NN ,/, my/PRP$ dear/NN !/.\n",
            "Let/VB this/DT be/VB a/DT lesson/NN to/TO you/PRP never/RB to/TO lose/VB YOUR/NNP temper/NN !/. '/''\n",
            "'Hold/VB your/PRP$ tongue/NN ,/, Ma/NNP !/. '/''\n",
            "said/VBD the/DT young/JJ Crab/NNP ,/, a/DT little/JJ snappishly/NN ./.\n",
            "'You/POS 're/VBP enough/JJ to/TO try/VB the/DT patience/NN of/IN an/DT oyster/NN !/. '/''\n",
            "'/POS I/PRP wish/VBP I/PRP had/VBD our/PRP$ Dinah/NNP here/RB ,/, I/PRP know/VBP I/PRP do/VBP !/. '/''\n",
            "said/VBD Alice/NNP aloud/NN ,/, addressing/VBG nobody/NN in/IN particular/JJ ./.\n",
            "'She/POS 'd/MD soon/RB fetch/VB it/PRP back/RB !/. '/''\n",
            "'And/NNS who/WP is/VBZ Dinah/NNP ,/, if/IN I/PRP might/MD venture/NN to/TO ask/VB the/DT question/NN ?/. '/''\n",
            "said/VBD the/DT Lory/NNP ./.\n",
            "Alice/NNP replied/VBD eagerly/RB ,/, for/IN she/PRP was/VBD always/RB ready/JJ to/TO talk/VB about/IN her/PRP$ pet/NN :/: 'Dinah/NN 's/POS our/PRP$ cat/NN ./.\n",
            "And/CC she/PRP 's/VBZ such/JJ a/DT capital/NN one/CD for/IN catching/VBG mice/NN you/PRP ca/MD n't/RB think/VB !/.\n",
            "And/CC oh/UH ,/, I/PRP wish/VBP you/PRP could/MD see/VB her/PRP$ after/IN the/DT birds/NNS !/.\n",
            "Why/WRB ,/, she/PRP 'll/MD eat/VB a/DT little/JJ bird/NN as/RB soon/RB as/IN look/NN at/IN it/PRP !/. '/''\n",
            "This/DT speech/NN caused/VBD a/DT remarkable/JJ sensation/NN among/IN the/DT party/NN ./.\n",
            "Some/DT of/IN the/DT birds/NNS hurried/VBD off/RP at/IN once/RB :/: one/CD old/JJ Magpie/NNP began/VBD wrapping/VBG itself/PRP up/RP very/RB carefully/RB ,/, remarking/VBG ,/, '/'' I/PRP really/RB must/MD be/VB getting/VBG home/RB ;/: the/DT night-air/NN does/VBZ n't/RB suit/VB my/PRP$ throat/NN !/. '/''\n",
            "and/CC a/DT Canary/NNP called/VBD out/RP in/IN a/DT trembling/JJ voice/NN to/TO its/PRP$ children/NNS ,/, 'Come/'' away/RB ,/, my/PRP$ dears/NNS !/.\n",
            "It/PRP 's/VBZ high/JJ time/NN you/PRP were/VBD all/DT in/IN bed/NN !/. '/''\n",
            "On/IN various/JJ pretexts/NNS they/PRP all/DT moved/VBD off/RP ,/, and/CC Alice/NNP was/VBD soon/RB left/JJ alone/RB ./.\n",
            "'/POS I/PRP wish/VBP I/PRP had/VBD n't/RB mentioned/VBN Dinah/NNP !/. '/''\n",
            "she/PRP said/VBD to/TO herself/VB in/IN a/DT melancholy/JJ tone/NN ./.\n",
            "'Nobody/NN seems/VBZ to/TO like/VB her/PRP ,/, down/RB here/RB ,/, and/CC I/PRP 'm/VBP sure/JJ she/PRP 's/VBZ the/DT best/JJS cat/NN in/IN the/DT world/NN !/.\n",
            "Oh/UH ,/, my/PRP$ dear/JJ Dinah/NNP !/.\n",
            "I/PRP wonder/VBP if/IN I/PRP shall/MD ever/RB see/VB you/PRP any/DT more/JJR !/. '/''\n",
            "And/CC here/RB poor/JJ Alice/NNP began/VBD to/TO cry/VB again/RB ,/, for/IN she/PRP felt/VBD very/RB lonely/RB and/CC low-spirited/JJ ./.\n",
            "In/IN a/DT little/JJ while/NN ,/, however/RB ,/, she/PRP again/RB heard/VBD a/DT little/JJ pattering/NN of/IN footsteps/NNS in/IN the/DT distance/NN ,/, and/CC she/PRP looked/VBD up/RB eagerly/RB ,/, half/NN hoping/VBG that/IN the/DT Mouse/NNP had/VBD changed/VBN his/PRP$ mind/NN ,/, and/CC was/VBD coming/VBG back/RB to/TO finish/VB his/PRP$ story/NN ./.\n",
            "CHAPTER/NN IV/NNP ./.\n",
            "The/DT Rabbit/NNP Sends/NNPS in/IN a/DT Little/JJ Bill/NNP It/PRP was/VBD the/DT White/NNP Rabbit/NNP ,/, trotting/VBG slowly/RB back/RB again/RB ,/, and/CC looking/VBG anxiously/RB about/IN as/IN it/PRP went/VBD ,/, as/IN if/IN it/PRP had/VBD lost/VBN something/NN ;/: and/CC she/PRP heard/VBD it/PRP muttering/VBG to/TO itself/PRP 'The/JJ Duchess/NN !/.\n",
            "The/DT Duchess/NN !/.\n",
            "Oh/UH my/PRP$ dear/JJ paws/NN !/.\n",
            "Oh/UH my/PRP$ fur/NN and/CC whiskers/NNS !/.\n",
            "She/PRP 'll/MD get/VB me/PRP executed/VBN ,/, as/RB sure/JJ as/IN ferrets/NNS are/VBP ferrets/NNS !/.\n",
            "Where/WRB CAN/NNP I/PRP have/VBP dropped/VBN them/PRP ,/, I/PRP wonder/VBP ?/. '/''\n",
            "Alice/NNP guessed/VBD in/IN a/DT moment/NN that/IN it/PRP was/VBD looking/VBG for/IN the/DT fan/NN and/CC the/DT pair/NN of/IN white/JJ kid/NN gloves/NNS ,/, and/CC she/PRP very/RB good-naturedly/RB began/VBD hunting/VBG about/IN for/IN them/PRP ,/, but/CC they/PRP were/VBD nowhere/RB to/TO be/VB seen/VBN --/: everything/NN seemed/VBD to/TO have/VB changed/VBN since/IN her/PRP$ swim/NN in/IN the/DT pool/NN ,/, and/CC the/DT great/JJ hall/NN ,/, with/IN the/DT glass/NN table/NN and/CC the/DT little/JJ door/NN ,/, had/VBD vanished/VBN completely/RB ./.\n",
            "Very/RB soon/RB the/DT Rabbit/NNP noticed/JJ Alice/NNP ,/, as/IN she/PRP went/VBD hunting/VBG about/RB ,/, and/CC called/VBD out/RP to/TO her/PRP$ in/IN an/DT angry/JJ tone/NN ,/, 'Why/'' ,/, Mary/NNP Ann/NNP ,/, what/WP ARE/NNP you/PRP doing/VBG out/RP here/RB ?/.\n",
            "Run/NNP home/NN this/DT moment/NN ,/, and/CC fetch/VB me/PRP a/DT pair/NN of/IN gloves/NNS and/CC a/DT fan/NN !/.\n",
            "Quick/NNP ,/, now/RB !/. '/''\n",
            "And/CC Alice/NNP was/VBD so/RB much/JJ frightened/VBD that/IN she/PRP ran/VBD off/RP at/IN once/RB in/IN the/DT direction/NN it/PRP pointed/VBD to/TO ,/, without/IN trying/VBG to/TO explain/VB the/DT mistake/NN it/PRP had/VBD made/VBN ./.\n",
            "'He/POS took/VBD me/PRP for/IN his/PRP$ housemaid/NN ,/, '/'' she/PRP said/VBD to/TO herself/VB as/IN she/PRP ran/VBD ./.\n",
            "'How/NNS surprised/VBD he/PRP 'll/MD be/VB when/WRB he/PRP finds/VBZ out/RP who/WP I/PRP am/VBP !/.\n",
            "But/CC I/PRP 'd/MD better/VB take/VB him/PRP his/PRP$ fan/NN and/CC gloves/NNS --/: that/DT is/VBZ ,/, if/IN I/PRP can/MD find/VB them/PRP ./. '/''\n",
            "As/IN she/PRP said/VBD this/DT ,/, she/PRP came/VBD upon/IN a/DT neat/JJ little/JJ house/NN ,/, on/IN the/DT door/NN of/IN which/WDT was/VBD a/DT bright/JJ brass/NN plate/NN with/IN the/DT name/NN '/POS W/NNP ./.\n",
            "RABBIT/NNP '/POS engraved/VBN upon/IN it/PRP ./.\n",
            "She/PRP went/VBD in/IN without/IN knocking/NN ,/, and/CC hurried/VBD upstairs/NNS ,/, in/IN great/JJ fear/NN lest/JJS she/PRP should/MD meet/VB the/DT real/JJ Mary/NNP Ann/NNP ,/, and/CC be/VB turned/VBN out/IN of/IN the/DT house/NN before/IN she/PRP had/VBD found/VBN the/DT fan/NN and/CC gloves/NNS ./.\n",
            "'How/CD queer/NN it/PRP seems/VBZ ,/, '/'' Alice/NNP said/VBD to/TO herself/VB ,/, 'to/FW be/VB going/VBG messages/NNS for/IN a/DT rabbit/NN !/.\n",
            "I/PRP suppose/VBP Dinah/NNP 'll/MD be/VB sending/VBG me/PRP on/IN messages/NNS next/IN !/. '/''\n",
            "And/CC she/PRP began/VBD fancying/VBG the/DT sort/NN of/IN thing/NN that/WDT would/MD happen/VB :/: '/'' ''/'' Miss/NNP Alice/NNP !/.\n",
            "Come/NNP here/RB directly/RB ,/, and/CC get/VB ready/JJ for/IN your/PRP$ walk/NN !/. ''/''\n",
            "``/`` Coming/VBG in/IN a/DT minute/NN ,/, nurse/NN !/.\n",
            "But/CC I/PRP 've/VBP got/VBN to/TO see/VB that/IN the/DT mouse/NN does/VBZ n't/RB get/VB out/RP ./. ''/''\n",
            "Only/RB I/PRP don't/VBP think/VB ,/, '/'' Alice/NNP went/VBD on/IN ,/, 'that/IN they/PRP 'd/MD let/VB Dinah/NNP stop/VB in/IN the/DT house/NN if/IN it/PRP began/VBD ordering/VBG people/NNS about/IN like/IN that/DT !/. '/''\n",
            "By/IN this/DT time/NN she/PRP had/VBD found/VBN her/PRP$ way/NN into/IN a/DT tidy/JJ little/JJ room/NN with/IN a/DT table/NN in/IN the/DT window/NN ,/, and/CC on/IN it/PRP (/( as/IN she/PRP had/VBD hoped/VBN )/) a/DT fan/NN and/CC two/CD or/CC three/CD pairs/NNS of/IN tiny/JJ white/JJ kid/NN gloves/NNS :/: she/PRP took/VBD up/RP the/DT fan/NN and/CC a/DT pair/NN of/IN the/DT gloves/NNS ,/, and/CC was/VBD just/RB going/VBG to/TO leave/VB the/DT room/NN ,/, when/WRB her/PRP$ eye/NN fell/VBD upon/IN a/DT little/JJ bottle/NN that/WDT stood/VBD near/IN the/DT looking-glass/NN ./.\n",
            "There/EX was/VBD no/DT label/NN this/DT time/NN with/IN the/DT words/NNS 'DRINK/POS ME/NNP ,/, '/'' but/CC nevertheless/IN she/PRP uncorked/VBD it/PRP and/CC put/VB it/PRP to/TO her/PRP$ lips/NNS ./.\n",
            "'/POS I/PRP know/VBP SOMETHING/VBG interesting/JJ is/VBZ sure/JJ to/TO happen/VB ,/, '/'' she/PRP said/VBD to/TO herself/VB ,/, 'whenever/'' I/PRP eat/VBP or/CC drink/VBP anything/NN ;/: so/CC I/PRP 'll/MD just/RB see/VB what/WP this/DT bottle/NN does/VBZ ./.\n",
            "I/PRP do/VBP hope/VB it/PRP 'll/MD make/VB me/PRP grow/VB large/JJ again/RB ,/, for/IN really/RB I/PRP 'm/VBP quite/RB tired/VBN of/IN being/VBG such/JJ a/DT tiny/JJ little/JJ thing/NN !/. '/''\n",
            "It/PRP did/VBD so/RB indeed/RB ,/, and/CC much/RB sooner/JJR than/IN she/PRP had/VBD expected/VBN :/: before/IN she/PRP had/VBD drunk/VBN half/PDT the/DT bottle/NN ,/, she/PRP found/VBD her/PRP head/NN pressing/VBG against/IN the/DT ceiling/NN ,/, and/CC had/VBD to/TO stoop/VB to/TO save/VB her/PRP$ neck/NN from/IN being/VBG broken/VBN ./.\n",
            "She/PRP hastily/RB put/VBD down/RP the/DT bottle/NN ,/, saying/VBG to/TO herself/VB 'That/WP 's/VBZ quite/RB enough/JJ --/: I/PRP hope/VBP I/PRP shan't/VBP grow/VB any/DT more/JJR --/: As/IN it/PRP is/VBZ ,/, I/PRP ca/MD n't/RB get/VB out/RP at/IN the/DT door/NN --/: I/PRP do/VBP wish/JJ I/PRP hadn't/VBP drunk/JJ quite/RB so/RB much/JJ !/. '/''\n",
            "Alas/UH !/.\n",
            "it/PRP was/VBD too/RB late/JJ to/TO wish/VB that/DT !/.\n",
            "She/PRP went/VBD on/IN growing/NN ,/, and/CC growing/VBG ,/, and/CC very/RB soon/RB had/VBD to/TO kneel/VB down/RP on/IN the/DT floor/NN :/: in/IN another/DT minute/NN there/RB was/VBD not/RB even/RB room/NN for/IN this/DT ,/, and/CC she/PRP tried/VBD the/DT effect/NN of/IN lying/VBG down/RP with/IN one/CD elbow/NN against/IN the/DT door/NN ,/, and/CC the/DT other/JJ arm/NN curled/VBD round/NN her/PRP$ head/NN ./.\n",
            "Still/RB she/PRP went/VBD on/IN growing/NN ,/, and/CC ,/, as/IN a/DT last/JJ resource/NN ,/, she/PRP put/VBD one/CD arm/NN out/IN of/IN the/DT window/NN ,/, and/CC one/CD foot/NN up/IN the/DT chimney/NN ,/, and/CC said/VBD to/TO herself/VB 'Now/CD I/PRP can/MD do/VB no/DT more/RBR ,/, whatever/WDT happens/VBZ ./.\n",
            "What/WP WILL/VBD become/NN of/IN me/PRP ?/. '/''\n",
            "Luckily/RB for/IN Alice/NNP ,/, the/DT little/JJ magic/JJ bottle/NN had/VBD now/RB had/VBN its/PRP$ full/JJ effect/NN ,/, and/CC she/PRP grew/VBD no/DT larger/JJR :/: still/RB it/PRP was/VBD very/RB uncomfortable/JJ ,/, and/CC ,/, as/IN there/RB seemed/VBN to/TO be/VB no/DT sort/NN of/IN chance/NN of/IN her/PRP$ ever/RB getting/VBG out/IN of/IN the/DT room/NN again/RB ,/, no/DT wonder/NN she/PRP felt/VBD unhappy/JJ ./.\n",
            "'It/NN was/VBD much/JJ pleasanter/NN at/IN home/NN ,/, '/'' thought/VBD poor/JJ Alice/NNP ,/, 'when/'' one/CD wasn't/NN always/RB growing/VBG larger/JJR and/CC smaller/JJR ,/, and/CC being/VBG ordered/VBN about/IN by/IN mice/NNS and/CC rabbits/NNS ./.\n",
            "I/PRP almost/RB wish/JJ I/PRP had/VBD n't/RB gone/VBN down/RP that/DT rabbit-hole/JJ --/: and/CC yet/RB --/: and/CC yet/RB --/: it/PRP 's/VBZ rather/RB curious/JJ ,/, you/PRP know/VBP ,/, this/DT sort/NN of/IN life/NN !/.\n",
            "I/PRP do/VBP wonder/VB what/WP CAN/NNP have/VBP happened/VBN to/TO me/PRP !/.\n",
            "When/WRB I/PRP used/VBD to/TO read/VB fairy-tales/NNS ,/, I/PRP fancied/VBD that/IN kind/NN of/IN thing/NN never/RB happened/VBD ,/, and/CC now/RB here/RB I/PRP am/VBP in/IN the/DT middle/NN of/IN one/CD !/.\n",
            "There/EX ought/MD to/TO be/VB a/DT book/NN written/VBN about/IN me/PRP ,/, that/IN there/EX ought/MD !/.\n",
            "And/CC when/WRB I/PRP grow/VBP up/RB ,/, I/PRP 'll/MD write/VB one/CD --/: but/CC I/PRP 'm/VBP grown/JJ up/RB now/RB ,/, '/'' she/PRP added/VBD in/IN a/DT sorrowful/JJ tone/NN ;/: 'at/CC least/JJS there/EX 's/VBZ no/DT room/NN to/TO grow/VB up/RP any/DT more/JJR HERE/NNP ./. '/''\n",
            "'But/CD then/RB ,/, '/'' thought/JJ Alice/NNP ,/, 'shall/'' I/PRP NEVER/NNP get/VBP any/DT older/JJR than/IN I/PRP am/VBP now/RB ?/.\n",
            "That/DT 'll/MD be/VB a/DT comfort/NN ,/, one/CD way/NN --/: never/RB to/TO be/VB an/DT old/JJ woman/NN --/: but/CC then/RB --/: always/RB to/TO have/VB lessons/NNS to/TO learn/VB !/.\n",
            "Oh/UH ,/, I/PRP should/MD n't/RB like/VB THAT/DT !/. '/''\n",
            "'Oh/CD ,/, you/PRP foolish/JJ Alice/NNP !/. '/''\n",
            "she/PRP answered/VBD herself/PRP ./.\n",
            "'How/NNS can/MD you/PRP learn/VB lessons/NNS in/IN here/RB ?/.\n",
            "Why/WRB ,/, there/EX 's/VBZ hardly/RB room/NN for/IN YOU/NNP ,/, and/CC no/DT room/NN at/IN all/DT for/IN any/DT lesson-books/JJ !/. '/''\n",
            "And/CC so/RB she/PRP went/VBD on/IN ,/, taking/VBG first/JJ one/CD side/NN and/CC then/RB the/DT other/JJ ,/, and/CC making/VBG quite/RB a/DT conversation/NN of/IN it/PRP altogether/RB ;/: but/CC after/IN a/DT few/JJ minutes/NNS she/PRP heard/VBD a/DT voice/NN outside/IN ,/, and/CC stopped/VBD to/TO listen/VB ./.\n",
            "'Mary/JJ Ann/NNP !/.\n",
            "Mary/NNP Ann/NNP !/. '/''\n",
            "said/VBD the/DT voice/NN ./.\n",
            "'Fetch/VB me/PRP my/PRP$ gloves/NNS this/DT moment/NN !/. '/''\n",
            "Then/RB came/VBD a/DT little/JJ pattering/NN of/IN feet/NNS on/IN the/DT stairs/NNS ./.\n",
            "Alice/NNP knew/VBD it/PRP was/VBD the/DT Rabbit/NNP coming/VBG to/TO look/VB for/IN her/PRP ,/, and/CC she/PRP trembled/VBD till/NN she/PRP shook/VBD the/DT house/NN ,/, quite/RB forgetting/VBG that/IN she/PRP was/VBD now/RB about/IN a/DT thousand/JJ times/NNS as/RB large/JJ as/IN the/DT Rabbit/NNP ,/, and/CC had/VBD no/DT reason/NN to/TO be/VB afraid/VBN of/IN it/PRP ./.\n",
            "Presently/RB the/DT Rabbit/NN came/VBD up/RB to/TO the/DT door/NN ,/, and/CC tried/VBD to/TO open/VB it/PRP ;/: but/CC ,/, as/IN the/DT door/NN opened/VBD inwards/NNS ,/, and/CC Alice/NNP 's/POS elbow/NN was/VBD pressed/VBN hard/RB against/IN it/PRP ,/, that/IN attempt/NN proved/VBD a/DT failure/NN ./.\n",
            "Alice/NNP heard/VBD it/PRP say/VB to/TO itself/PRP 'Then/VB I'll/NNP go/VB round/NN and/CC get/VB in/IN at/IN the/DT window/NN ./. '/''\n",
            "'THAT/IN you/PRP wo/MD n't/RB '/VB thought/JJ Alice/NNP ,/, and/CC ,/, after/IN waiting/VBG till/NN she/PRP fancied/VBD she/PRP heard/VBD the/DT Rabbit/NNP just/RB under/IN the/DT window/NN ,/, she/PRP suddenly/RB spread/VBD out/RP her/PRP$ hand/NN ,/, and/CC made/VBD a/DT snatch/NN in/IN the/DT air/NN ./.\n",
            "She/PRP did/VBD not/RB get/VB hold/NN of/IN anything/NN ,/, but/CC she/PRP heard/VBD a/DT little/JJ shriek/NN and/CC a/DT fall/NN ,/, and/CC a/DT crash/NN of/IN broken/JJ glass/NN ,/, from/IN which/WDT she/PRP concluded/VBD that/IN it/PRP was/VBD just/RB possible/JJ it/PRP had/VBD fallen/VBN into/IN a/DT cucumber-frame/JJ ,/, or/CC something/NN of/IN the/DT sort/NN ./.\n",
            "Next/JJ came/VBD an/DT angry/JJ voice/NN --/: the/DT Rabbit/NNP 's/POS --/: 'Pat/CD !/.\n",
            "Pat/NN !/.\n",
            "Where/WRB are/VBP you/PRP ?/. '/''\n",
            "And/CC then/RB a/DT voice/NN she/PRP had/VBD never/RB heard/VBN before/IN ,/, 'Sure/NN then/RB I/PRP 'm/VBP here/RB !/.\n",
            "Digging/VBG for/IN apples/NNS ,/, yer/RB honour/NN !/. '/''\n",
            "'Digging/VBG for/IN apples/NNS ,/, indeed/RB !/. '/''\n",
            "said/VBD the/DT Rabbit/NNP angrily/RB ./.\n",
            "'Here/RB !/.\n",
            "Come/NNP and/CC help/VB me/PRP out/IN of/IN THIS/NNP !/. '/''\n",
            "(/( Sounds/NNPS of/IN more/JJR broken/JJ glass/NN ./. )/)\n",
            "'Now/POS tell/VB me/PRP ,/, Pat/NNP ,/, what/WP 's/VBZ that/DT in/IN the/DT window/NN ?/. '/''\n",
            "'Sure/NN ,/, it/PRP 's/VBZ an/DT arm/NN ,/, yer/VB honour/NN !/. '/''\n",
            "(/( He/PRP pronounced/VBD it/PRP 'arrum/NNP ./. '/'' )/)\n",
            "'An/CD arm/NN ,/, you/PRP goose/VBP !/.\n",
            "Who/WP ever/RB saw/VBD one/CD that/WDT size/NN ?/.\n",
            "Why/WRB ,/, it/PRP fills/VBZ the/DT whole/JJ window/NN !/. '/''\n",
            "'Sure/NN ,/, it/PRP does/VBZ ,/, yer/VB honour/NN :/: but/CC it/PRP 's/VBZ an/DT arm/NN for/IN all/DT that/DT ./. '/''\n",
            "'Well/UH ,/, it/PRP 's/VBZ got/VBD no/DT business/NN there/RB ,/, at/IN any/DT rate/NN :/: go/NN and/CC take/VB it/PRP away/RB !/. '/''\n",
            "There/EX was/VBD a/DT long/JJ silence/NN after/IN this/DT ,/, and/CC Alice/NNP could/MD only/RB hear/VB whispers/NNS now/RB and/CC then/RB ;/: such/JJ as/IN ,/, 'Sure/NN ,/, I/PRP do/VBP n't/RB like/VB it/PRP ,/, yer/RB honour/NN ,/, at/IN all/DT ,/, at/IN all/DT !/. '/''\n",
            "'Do/POS as/IN I/PRP tell/VBP you/PRP ,/, you/PRP coward/VBP !/. '/''\n",
            "and/CC at/IN last/JJ she/PRP spread/VBD out/RP her/PRP$ hand/NN again/RB ,/, and/CC made/VBD another/DT snatch/NN in/IN the/DT air/NN ./.\n",
            "This/DT time/NN there/EX were/VBD TWO/NNP little/JJ shrieks/NN ,/, and/CC more/JJR sounds/NNS of/IN broken/JJ glass/NN ./.\n",
            "'What/IN a/DT number/NN of/IN cucumber-frames/NNS there/EX must/MD be/VB !/. '/''\n",
            "thought/JJ Alice/NNP ./.\n",
            "'/POS I/PRP wonder/VBP what/WP they/PRP 'll/MD do/VB next/RB !/.\n",
            "As/IN for/IN pulling/VBG me/PRP out/IN of/IN the/DT window/NN ,/, I/PRP only/RB wish/VBP they/PRP COULD/VBP !/.\n",
            "I'm/NNP sure/NN I/PRP do/VBP n't/RB want/VB to/TO stay/VB in/IN here/RB any/DT longer/RB !/. '/''\n",
            "She/PRP waited/VBD for/IN some/DT time/NN without/IN hearing/VBG anything/NN more/JJR :/: at/IN last/JJ came/VBD a/DT rumbling/NN of/IN little/JJ cartwheels/NNS ,/, and/CC the/DT sound/NN of/IN a/DT good/JJ many/JJ voices/NNS all/DT talking/VBG together/RB :/: she/PRP made/VBD out/RP the/DT words/NNS :/: 'Where/EX 's/VBZ the/DT other/JJ ladder/NN ?/. --/: Why/WRB ,/, I/PRP had/VBD n't/RB to/TO bring/VB but/CC one/CD ;/: Bill/NNP 's/POS got/VBD the/DT other/JJ --/: Bill/IN !/.\n",
            "fetch/NN it/PRP here/RB ,/, lad/JJ !/. --/: Here/RB ,/, put/VBD 'em/PRP up/RP at/IN this/DT corner/NN --/: No/UH ,/, tie/JJ 'em/POS together/RB first/JJ --/: they/PRP do/VBP n't/RB reach/VB half/JJ high/JJ enough/RB yet/RB --/: Oh/UH !/.\n",
            "they'll/NN do/VBP well/RB enough/RB ;/: do/VB n't/RB be/VB particular/JJ --/: Here/RB ,/, Bill/NNP !/.\n",
            "catch/NN hold/NN of/IN this/DT rope/NN --/: Will/MD the/DT roof/NN bear/NN ?/. --/: Mind/IN that/DT loose/JJ slate/NN --/: Oh/UH ,/, it/PRP 's/VBZ coming/VBG down/RP !/.\n",
            "Heads/NNS below/IN !/. '/''\n",
            "(/( a/DT loud/NN crash/NN )/) --/: 'Now/UH ,/, who/WP did/VBD that/IN ?/. --/: It/PRP was/VBD Bill/NNP ,/, I/PRP fancy/VBP --/: Who/WP 's/VBZ to/TO go/VB down/RP the/DT chimney/NN ?/. --/: Nay/NNP ,/, I/PRP sha/VBP n't/RB !/.\n",
            "YOU/RB do/VBP it/PRP !/. --/: That/IN I/PRP wo/MD n't/RB ,/, then/RB !/. --/: Bill/NNP 's/POS to/TO go/VB down/RP --/: Here/RB ,/, Bill/NNP !/.\n",
            "the/DT master/NN says/VBZ you/PRP 're/VBP to/TO go/VB down/RP the/DT chimney/NN !/. '/''\n",
            "'Oh/CD !/.\n",
            "So/RB Bill/NNP 's/POS got/VBD to/TO come/VB down/RP the/DT chimney/NN ,/, has/VBZ he/PRP ?/. '/''\n",
            "said/VBD Alice/NNP to/TO herself/VB ./.\n",
            "'Shy/LS ,/, they/PRP seem/VBP to/TO put/VB everything/NN upon/IN Bill/NNP !/.\n",
            "I/PRP would/MD n't/RB be/VB in/IN Bill/NNP 's/POS place/NN for/IN a/DT good/JJ deal/NN :/: this/DT fireplace/NN is/VBZ narrow/JJ ,/, to/TO be/VB sure/JJ ;/: but/CC I/PRP THINK/VBP I/PRP can/MD kick/VB a/DT little/JJ !/. '/''\n",
            "She/PRP drew/VBD her/PRP foot/NN as/IN far/RB down/IN the/DT chimney/NN as/IN she/PRP could/MD ,/, and/CC waited/VBD till/NN she/PRP heard/VBD a/DT little/JJ animal/NN (/( she/PRP could/MD n't/RB guess/VB of/IN what/WP sort/NN it/PRP was/VBD )/) scratching/NN and/CC scrambling/VBG about/IN in/IN the/DT chimney/NN close/RB above/IN her/PRP$ :/: then/RB ,/, saying/VBG to/TO herself/VB 'This/NNP is/VBZ Bill/NNP ,/, '/'' she/PRP gave/VBD one/CD sharp/JJ kick/NN ,/, and/CC waited/VBD to/TO see/VB what/WP would/MD happen/VB next/RB ./.\n",
            "The/DT first/JJ thing/NN she/PRP heard/VBD was/VBD a/DT general/JJ chorus/NN of/IN 'There/NNP goes/VBZ Bill/NNP !/. '/''\n",
            "then/RB the/DT Rabbit/NNP 's/POS voice/NN along/RB --/: 'Catch/VB him/PRP ,/, you/PRP by/IN the/DT hedge/NN !/. '/''\n",
            "then/RB silence/NN ,/, and/CC then/RB another/DT confusion/NN of/IN voices/NNS --/: 'Hold/VBD up/RP his/PRP$ head/NN --/: Brandy/NNP now/RB --/: Do/VBP n't/RB choke/VB him/PRP --/: How/WRB was/VBD it/PRP ,/, old/JJ fellow/NN ?/.\n",
            "What/WP happened/VBD to/TO you/PRP ?/.\n",
            "Tell/VB us/PRP all/DT about/IN it/PRP !/. '/''\n",
            "Last/JJ came/VBD a/DT little/JJ feeble/JJ ,/, squeaking/JJ voice/NN ,/, (/( 'That/PRP 's/VBZ Bill/NNP ,/, '/'' thought/JJ Alice/NNP ,/, )/) 'Well/UH ,/, I/PRP hardly/RB know/VBP --/: No/DT more/JJR ,/, thank/JJ ye/NN ;/: I/PRP 'm/VBP better/RB now/RB --/: but/CC I'm/NNP a/DT deal/NN too/RB flustered/VBN to/TO tell/VB you/PRP --/: all/DT I/PRP know/VBP is/VBZ ,/, something/NN comes/VBZ at/IN me/PRP like/IN a/DT Jack-in-the-box/NNP ,/, and/CC up/RB I/PRP goes/VBZ like/IN a/DT sky-rocket/NN !/. '/''\n",
            "'So/IN you/PRP did/VBD ,/, old/JJ fellow/NN !/. '/''\n",
            "said/VBD the/DT others/NNS ./.\n",
            "'We/NNS must/MD burn/VB the/DT house/NN down/RP !/. '/''\n",
            "said/VBD the/DT Rabbit/NNP 's/POS voice/NN ;/: and/CC Alice/NNP called/VBD out/RP as/RB loud/JJ as/IN she/PRP could/MD ,/, 'If/VB you/PRP do/VBP ./.\n",
            "I/PRP 'll/MD set/VB Dinah/NNP at/IN you/PRP !/. '/''\n",
            "There/EX was/VBD a/DT dead/JJ silence/NN instantly/RB ,/, and/CC Alice/NNP thought/VBD to/TO herself/VB ,/, '/'' I/PRP wonder/VBP what/WP they/PRP WILL/VBP do/VBP next/RB !/.\n",
            "If/IN they/PRP had/VBD any/DT sense/NN ,/, they/PRP 'd/MD take/VB the/DT roof/NN off/IN ./. '/''\n",
            "After/IN a/DT minute/NN or/CC two/CD ,/, they/PRP began/VBD moving/VBG about/RB again/RB ,/, and/CC Alice/NNP heard/VBD the/DT Rabbit/NNP say/VBP ,/, '/'' A/DT barrowful/NN will/MD do/VB ,/, to/TO begin/VB with/IN ./. '/''\n",
            "'/'' A/DT barrowful/NN of/IN WHAT/NNP ?/. '/''\n",
            "thought/JJ Alice/NNP ;/: but/CC she/PRP had/VBD not/RB long/RB to/TO doubt/VB ,/, for/IN the/DT next/JJ moment/NN a/DT shower/JJR of/IN little/JJ pebbles/NNS came/VBD rattling/VBG in/IN at/IN the/DT window/NN ,/, and/CC some/DT of/IN them/PRP hit/VBD her/PRP in/IN the/DT face/NN ./.\n",
            "'/POS I/PRP 'll/MD put/VB a/DT stop/NN to/TO this/DT ,/, '/'' she/PRP said/VBD to/TO herself/VB ,/, and/CC shouted/VBD out/RP ,/, 'You/'' 'd/MD better/VB not/RB do/VB that/DT again/RB !/. '/''\n",
            "which/WDT produced/VBD another/DT dead/JJ silence/NN ./.\n",
            "Alice/NNP noticed/VBD with/IN some/DT surprise/NN that/IN the/DT pebbles/NNS were/VBD all/DT turning/VBG into/IN little/JJ cakes/NNS as/IN they/PRP lay/VBP on/IN the/DT floor/NN ,/, and/CC a/DT bright/JJ idea/NN came/VBD into/IN her/PRP$ head/NN ./.\n",
            "'If/POS I/PRP eat/VBP one/CD of/IN these/DT cakes/NNS ,/, '/'' she/PRP thought/VBD ,/, 'it/PRP 's/VBZ sure/JJ to/TO make/VB SOME/NNP change/NN in/IN my/PRP$ size/NN ;/: and/CC as/IN it/PRP ca/MD n't/RB possibly/RB make/VB me/PRP larger/JJR ,/, it/PRP must/MD make/VB me/PRP smaller/JJR ,/, I/PRP suppose/VBP ./. '/''\n",
            "So/IN she/PRP swallowed/VBD one/CD of/IN the/DT cakes/NNS ,/, and/CC was/VBD delighted/VBN to/TO find/VB that/IN she/PRP began/VBD shrinking/VBG directly/RB ./.\n",
            "As/RB soon/RB as/IN she/PRP was/VBD small/JJ enough/RB to/TO get/VB through/IN the/DT door/NN ,/, she/PRP ran/VBD out/RB of/IN the/DT house/NN ,/, and/CC found/VBD quite/RB a/DT crowd/NN of/IN little/JJ animals/NNS and/CC birds/NNS waiting/VBG outside/JJ ./.\n",
            "The/DT poor/JJ little/JJ Lizard/NNP ,/, Bill/NNP ,/, was/VBD in/IN the/DT middle/NN ,/, being/VBG held/VBN up/RP by/IN two/CD guinea-pigs/NNS ,/, who/WP were/VBD giving/VBG it/PRP something/NN out/IN of/IN a/DT bottle/NN ./.\n",
            "They/PRP all/DT made/VBD a/DT rush/NN at/IN Alice/NNP the/DT moment/NN she/PRP appeared/VBD ;/: but/CC she/PRP ran/VBD off/RP as/RB hard/RB as/IN she/PRP could/MD ,/, and/CC soon/RB found/VBD herself/PRP safe/JJ in/IN a/DT thick/JJ wood/NN ./.\n",
            "'The/POS first/JJ thing/NN I/PRP 've/VBP got/VBN to/TO do/VB ,/, '/'' said/VBD Alice/NNP to/TO herself/VB ,/, as/IN she/PRP wandered/VBD about/RB in/IN the/DT wood/NN ,/, 'is/'' to/TO grow/VB to/TO my/PRP$ right/JJ size/NN again/RB ;/: and/CC the/DT second/JJ thing/NN is/VBZ to/TO find/VB my/PRP$ way/NN into/IN that/DT lovely/JJ garden/NN ./.\n",
            "I/PRP think/VBP that/DT will/MD be/VB the/DT best/JJS plan/NN ./. '/''\n",
            "It/PRP sounded/VBD an/DT excellent/JJ plan/NN ,/, no/DT doubt/NN ,/, and/CC very/RB neatly/RB and/CC simply/RB arranged/VBD ;/: the/DT only/JJ difficulty/NN was/VBD ,/, that/IN she/PRP had/VBD not/RB the/DT smallest/JJS idea/NN how/WRB to/TO set/VB about/IN it/PRP ;/: and/CC while/IN she/PRP was/VBD peering/VBG about/RB anxiously/RB among/IN the/DT trees/NNS ,/, a/DT little/JJ sharp/JJ bark/NN just/RB over/IN her/PRP$ head/NN made/VBD her/PRP$ look/NN up/RP in/IN a/DT great/JJ hurry/NN ./.\n",
            "An/DT enormous/JJ puppy/NN was/VBD looking/VBG down/RP at/IN her/PRP$ with/IN large/JJ round/NN eyes/NNS ,/, and/CC feebly/RB stretching/VBG out/RP one/CD paw/NN ,/, trying/VBG to/TO touch/VB her/PRP ./.\n",
            "'Poor/POS little/JJ thing/NN !/. '/''\n",
            "said/VBD Alice/NNP ,/, in/IN a/DT coaxing/VBG tone/NN ,/, and/CC she/PRP tried/VBD hard/JJ to/TO whistle/VB to/TO it/PRP ;/: but/CC she/PRP was/VBD terribly/RB frightened/VBN all/PDT the/DT time/NN at/IN the/DT thought/NN that/IN it/PRP might/MD be/VB hungry/JJ ,/, in/IN which/WDT case/NN it/PRP would/MD be/VB very/RB likely/JJ to/TO eat/VB her/PRP$ up/RP in/IN spite/NN of/IN all/DT her/PRP$ coaxing/NN ./.\n",
            "Hardly/RB knowing/VBG what/WP she/PRP did/VBD ,/, she/PRP picked/VBD up/RP a/DT little/JJ bit/NN of/IN stick/NN ,/, and/CC held/VBD it/PRP out/RP to/TO the/DT puppy/JJ ;/: whereupon/IN the/DT puppy/JJ jumped/VBD into/IN the/DT air/NN off/IN all/DT its/PRP$ feet/NNS at/IN once/RB ,/, with/IN a/DT yelp/NN of/IN delight/NN ,/, and/CC rushed/VBD at/IN the/DT stick/NN ,/, and/CC made/VBD believe/NNS to/TO worry/VB it/PRP ;/: then/RB Alice/NNP dodged/VBD behind/IN a/DT great/JJ thistle/NN ,/, to/TO keep/VB herself/PRP from/IN being/VBG run/VBN over/IN ;/: and/CC the/DT moment/NN she/PRP appeared/VBD on/IN the/DT other/JJ side/NN ,/, the/DT puppy/JJ made/VBD another/DT rush/NN at/IN the/DT stick/NN ,/, and/CC tumbled/VBD head/NN over/IN heels/NNS in/IN its/PRP$ hurry/NN to/TO get/VB hold/NN of/IN it/PRP ;/: then/RB Alice/NNP ,/, thinking/VBG it/PRP was/VBD very/RB like/JJ having/VBG a/DT game/NN of/IN play/NN with/IN a/DT cart-horse/NN ,/, and/CC expecting/VBG every/DT moment/NN to/TO be/VB trampled/VBN under/IN its/PRP$ feet/NNS ,/, ran/VBD round/IN the/DT thistle/NN again/RB ;/: then/RB the/DT puppy/JJ began/VBD a/DT series/NN of/IN short/JJ charges/NNS at/IN the/DT stick/NN ,/, running/VBG a/DT very/RB little/JJ way/NN forwards/NNS each/DT time/NN and/CC a/DT long/JJ way/NN back/RB ,/, and/CC barking/VBG hoarsely/RB all/PDT the/DT while/NN ,/, till/NN at/IN last/JJ it/PRP sat/VBD down/RP a/DT good/JJ way/NN off/IN ,/, panting/VBG ,/, with/IN its/PRP$ tongue/NN hanging/VBG out/IN of/IN its/PRP$ mouth/NN ,/, and/CC its/PRP$ great/JJ eyes/NNS half/NN shut/NN ./.\n",
            "This/DT seemed/VBD to/TO Alice/VB a/DT good/JJ opportunity/NN for/IN making/VBG her/PRP$ escape/NN ;/: so/CC she/PRP set/VBD off/RP at/IN once/RB ,/, and/CC ran/VBD till/NN she/PRP was/VBD quite/RB tired/JJ and/CC out/IN of/IN breath/NN ,/, and/CC till/VB the/DT puppy/NN 's/POS bark/NN sounded/VBD quite/RB faint/NN in/IN the/DT distance/NN ./.\n",
            "'And/POS yet/RB what/WP a/DT dear/JJ little/JJ puppy/JJ it/PRP was/VBD !/. '/''\n",
            "said/VBD Alice/NNP ,/, as/IN she/PRP leant/VBZ against/IN a/DT buttercup/NN to/TO rest/VB herself/PRP ,/, and/CC fanned/VBD herself/PRP with/IN one/CD of/IN the/DT leaves/NNS :/: '/POS I/PRP should/MD have/VB liked/VBN teaching/VBG it/PRP tricks/VBZ very/RB much/JJ ,/, if/IN --/: if/IN I'd/NNP only/RB been/VBN the/DT right/JJ size/NN to/TO do/VB it/PRP !/.\n",
            "Oh/UH dear/NN !/.\n",
            "I/PRP 'd/MD nearly/RB forgotten/VB that/IN I/PRP 've/VBP got/VBN to/TO grow/VB up/RP again/RB !/.\n",
            "Let/VB me/PRP see/VB --/: how/WRB IS/VBZ it/PRP to/TO be/VB managed/VBN ?/.\n",
            "I/PRP suppose/VBP I/PRP ought/MD to/TO eat/VB or/CC drink/VB something/NN or/CC other/JJ ;/: but/CC the/DT great/JJ question/NN is/VBZ ,/, what/WP ?/. '/''\n",
            "The/DT great/JJ question/NN certainly/RB was/VBD ,/, what/WP ?/.\n",
            "Alice/NNP looked/VBD all/DT round/NN her/PRP at/IN the/DT flowers/NNS and/CC the/DT blades/NNS of/IN grass/NN ,/, but/CC she/PRP did/VBD not/RB see/VB anything/NN that/IN looked/VBD like/IN the/DT right/JJ thing/NN to/TO eat/VB or/CC drink/VB under/IN the/DT circumstances/NNS ./.\n",
            "There/EX was/VBD a/DT large/JJ mushroom/NN growing/VBG near/IN her/PRP ,/, about/IN the/DT same/JJ height/NN as/IN herself/NN ;/: and/CC when/WRB she/PRP had/VBD looked/VBN under/IN it/PRP ,/, and/CC on/IN both/DT sides/NNS of/IN it/PRP ,/, and/CC behind/IN it/PRP ,/, it/PRP occurred/VBD to/TO her/PRP$ that/IN she/PRP might/MD as/RB well/RB look/NN and/CC see/VB what/WP was/VBD on/IN the/DT top/NN of/IN it/PRP ./.\n",
            "She/PRP stretched/VBD herself/PRP up/RP on/IN tiptoe/NN ,/, and/CC peeped/VBD over/IN the/DT edge/NN of/IN the/DT mushroom/NN ,/, and/CC her/PRP$ eyes/NNS immediately/RB met/VBD those/DT of/IN a/DT large/JJ caterpillar/NN ,/, that/WDT was/VBD sitting/VBG on/IN the/DT top/JJ with/IN its/PRP$ arms/NNS folded/VBN ,/, quietly/RB smoking/VBG a/DT long/JJ hookah/NN ,/, and/CC taking/VBG not/RB the/DT smallest/JJS notice/NN of/IN her/PRP$ or/CC of/IN anything/NN else/RB ./.\n",
            "CHAPTER/NN V./NNP Advice/NNP from/IN a/DT Caterpillar/NNP The/DT Caterpillar/NNP and/CC Alice/NNP looked/VBD at/IN each/DT other/JJ for/IN some/DT time/NN in/IN silence/NN :/: at/IN last/JJ the/DT Caterpillar/NNP took/VBD the/DT hookah/NN out/IN of/IN its/PRP$ mouth/NN ,/, and/CC addressed/VBD her/PRP$ in/IN a/DT languid/NN ,/, sleepy/JJ voice/NN ./.\n",
            "'Who/NNS are/VBP YOU/NNP ?/. '/''\n",
            "said/VBD the/DT Caterpillar/NNP ./.\n",
            "This/DT was/VBD not/RB an/DT encouraging/JJ opening/NN for/IN a/DT conversation/NN ./.\n",
            "Alice/NNP replied/VBD ,/, rather/RB shyly/NN ,/, '/'' I/PRP --/: I/PRP hardly/RB know/VBP ,/, sir/JJ ,/, just/RB at/IN present/JJ --/: at/IN least/JJS I/PRP know/VBP who/WP I/PRP WAS/VBP when/WRB I/PRP got/VBD up/RP this/DT morning/NN ,/, but/CC I/PRP think/VBP I/PRP must/MD have/VB been/VBN changed/VBN several/JJ times/NNS since/IN then/RB ./. '/''\n",
            "'What/WDT do/VBP you/PRP mean/VB by/IN that/DT ?/. '/''\n",
            "said/VBD the/DT Caterpillar/NNP sternly/RB ./.\n",
            "'Explain/VB yourself/PRP !/. '/''\n",
            "'/POS I/PRP ca/MD n't/RB explain/VB MYSELF/NNP ,/, I/PRP 'm/VBP afraid/JJ ,/, sir/NN '/'' said/VBD Alice/NNP ,/, 'because/IN I/PRP 'm/VBP not/RB myself/PRP ,/, you/PRP see/VBP ./. '/''\n",
            "'/POS I/PRP do/VBP n't/RB see/VB ,/, '/'' said/VBD the/DT Caterpillar/NNP ./.\n",
            "'/POS I/PRP 'm/VBP afraid/JJ I/PRP ca/MD n't/RB put/VB it/PRP more/RBR clearly/RB ,/, '/'' Alice/NNP replied/VBD very/RB politely/RB ,/, 'for/'' I/PRP ca/MD n't/RB understand/VB it/PRP myself/PRP to/TO begin/VB with/IN ;/: and/CC being/VBG so/RB many/JJ different/JJ sizes/NNS in/IN a/DT day/NN is/VBZ very/RB confusing/JJ ./. '/''\n",
            "'It/NN is/VBZ n't/RB ,/, '/'' said/VBD the/DT Caterpillar/NNP ./.\n",
            "'Well/UH ,/, perhaps/RB you/PRP have/VBP n't/RB found/VBN it/PRP so/RB yet/RB ,/, '/'' said/VBD Alice/NNP ;/: 'but/POS when/WRB you/PRP have/VBP to/TO turn/VB into/IN a/DT chrysalis/NN --/: you/PRP will/MD some/DT day/NN ,/, you/PRP know/VBP --/: and/CC then/RB after/IN that/DT into/IN a/DT butterfly/NN ,/, I/PRP should/MD think/VB you/PRP 'll/MD feel/VB it/PRP a/DT little/JJ queer/NN ,/, wo/MD n't/RB you/PRP ?/. '/''\n",
            "'Not/VB a/DT bit/NN ,/, '/'' said/VBD the/DT Caterpillar/NNP ./.\n",
            "'Well/UH ,/, perhaps/RB your/PRP$ feelings/NNS may/MD be/VB different/JJ ,/, '/'' said/VBD Alice/NNP ;/: 'all/CD I/PRP know/VBP is/VBZ ,/, it/PRP would/MD feel/VB very/RB queer/RB to/TO ME/NNP ./. '/''\n",
            "'You/RB !/. '/''\n",
            "said/VBD the/DT Caterpillar/NNP contemptuously/RB ./.\n",
            "'Who/NNS are/VBP YOU/NNP ?/. '/''\n",
            "Which/WDT brought/VBD them/PRP back/RB again/RB to/TO the/DT beginning/NN of/IN the/DT conversation/NN ./.\n",
            "Alice/NNP felt/VBD a/DT little/JJ irritated/JJ at/IN the/DT Caterpillar/NNP 's/POS making/VBG such/JJ VERY/NNP short/JJ remarks/NNS ,/, and/CC she/PRP drew/VBD herself/PRP up/RP and/CC said/VBD ,/, very/RB gravely/RB ,/, '/'' I/PRP think/VBP ,/, you/PRP ought/MD to/TO tell/VB me/PRP who/WP YOU/PRP are/VBP ,/, first/RB ./. '/''\n",
            "'Why/RB ?/. '/''\n",
            "said/VBD the/DT Caterpillar/NNP ./.\n",
            "Here/RB was/VBD another/DT puzzling/JJ question/NN ;/: and/CC as/IN Alice/NNP could/MD not/RB think/VB of/IN any/DT good/JJ reason/NN ,/, and/CC as/IN the/DT Caterpillar/NNP seemed/VBD to/TO be/VB in/IN a/DT VERY/NNP unpleasant/JJ state/NN of/IN mind/NN ,/, she/PRP turned/VBD away/RB ./.\n",
            "'Come/POS back/RB !/. '/''\n",
            "the/DT Caterpillar/NNP called/VBD after/IN her/PRP ./.\n",
            "'/POS I/PRP 've/VBP something/NN important/JJ to/TO say/VB !/. '/''\n",
            "This/DT sounded/VBD promising/NN ,/, certainly/RB :/: Alice/NNP turned/VBD and/CC came/VBD back/RB again/RB ./.\n",
            "'Keep/VB your/PRP$ temper/NN ,/, '/'' said/VBD the/DT Caterpillar/NNP ./.\n",
            "'Is/NNS that/IN all/DT ?/. '/''\n",
            "said/VBD Alice/NNP ,/, swallowing/VBG down/RP her/PRP$ anger/NN as/RB well/RB as/IN she/PRP could/MD ./.\n",
            "'No/CD ,/, '/'' said/VBD the/DT Caterpillar/NNP ./.\n",
            "Alice/NNP thought/VBD she/PRP might/MD as/RB well/RB wait/RB ,/, as/IN she/PRP had/VBD nothing/NN else/RB to/TO do/VB ,/, and/CC perhaps/RB after/IN all/DT it/PRP might/MD tell/VB her/PRP$ something/NN worth/JJ hearing/NN ./.\n",
            "For/IN some/DT minutes/NNS it/PRP puffed/VBD away/RB without/IN speaking/NN ,/, but/CC at/IN last/JJ it/PRP unfolded/VBD its/PRP$ arms/NNS ,/, took/VBD the/DT hookah/NN out/IN of/IN its/PRP$ mouth/NN again/RB ,/, and/CC said/VBD ,/, 'So/'' you/PRP think/VBP you/PRP 're/VBP changed/VBN ,/, do/VB you/PRP ?/. '/''\n",
            "'/POS I/PRP 'm/VBP afraid/JJ I/PRP am/VBP ,/, sir/NN ,/, '/'' said/VBD Alice/NNP ;/: '/POS I/PRP ca/MD n't/RB remember/VB things/NNS as/IN I/PRP used/VBD --/: and/CC I/PRP do/VBP n't/RB keep/VB the/DT same/JJ size/NN for/IN ten/NN minutes/NNS together/RB !/. '/''\n",
            "'Ca/CD n't/RB remember/VB WHAT/NNP things/NNS ?/. '/''\n",
            "said/VBD the/DT Caterpillar/NNP ./.\n",
            "'Well/UH ,/, I/PRP 've/VBP tried/VBN to/TO say/VB ``/`` HOW/NNP DOTH/NNP THE/NNP LITTLE/NNP BUSY/NNP BEE/NNP ,/, ''/'' but/CC it/PRP all/DT came/VBD different/JJ !/. '/''\n",
            "Alice/NNP replied/VBD in/IN a/DT very/RB melancholy/JJ voice/NN ./.\n",
            "'Repeat/NN ,/, ``/`` YOU/NN ARE/VBP OLD/NNP ,/, FATHER/NNP WILLIAM/NNP ,/, ''/'' '/'' said/VBD the/DT Caterpillar/NNP ./.\n",
            "Alice/NNP folded/VBD her/PRP$ hands/NNS ,/, and/CC began/VBD :/: --/: 'You/NNS are/VBP old/JJ ,/, Father/NNP William/NNP ,/, '/'' the/DT young/JJ man/NN said/VBD ,/, 'And/'' your/PRP$ hair/NN has/VBZ become/VBN very/RB white/JJ ;/: And/CC yet/RB you/PRP incessantly/RB stand/VBP on/IN your/PRP$ head/NN --/: Do/VBP you/PRP think/VB ,/, at/IN your/PRP$ age/NN ,/, it/PRP is/VBZ right/JJ ?/. '/''\n",
            "'In/POS my/PRP$ youth/NN ,/, '/'' Father/NNP William/NNP replied/VBD to/TO his/PRP$ son/NN ,/, '/'' I/PRP feared/VBD it/PRP might/MD injure/VB the/DT brain/NN ;/: But/CC ,/, now/RB that/IN I/PRP 'm/VBP perfectly/RB sure/JJ I/PRP have/VBP none/NN ,/, Why/WRB ,/, I/PRP do/VBP it/PRP again/RB and/CC again/RB ./. '/''\n",
            "'You/NNS are/VBP old/JJ ,/, '/'' said/VBD the/DT youth/NN ,/, 'as/'' I/PRP mentioned/VBD before/IN ,/, And/CC have/VBP grown/VBN most/JJS uncommonly/JJ fat/NN ;/: Yet/CC you/PRP turned/VBD a/DT back-somersault/NN in/IN at/IN the/DT door/NN --/: Pray/NNP ,/, what/WP is/VBZ the/DT reason/NN of/IN that/DT ?/. '/''\n",
            "'In/POS my/PRP$ youth/NN ,/, '/'' said/VBD the/DT sage/NN ,/, as/IN he/PRP shook/VBD his/PRP$ grey/NN locks/NNS ,/, '/'' I/PRP kept/VBD all/DT my/PRP$ limbs/NNS very/RB supple/JJ By/IN the/DT use/NN of/IN this/DT ointment/NN --/: one/CD shilling/VBG the/DT box/NN --/: Allow/VB me/PRP to/TO sell/VB you/PRP a/DT couple/NN ?/. '/''\n",
            "'You/NNS are/VBP old/JJ ,/, '/'' said/VBD the/DT youth/NN ,/, 'and/VB your/PRP$ jaws/NNS are/VBP too/RB weak/JJ For/IN anything/NN tougher/JJR than/IN suet/NN ;/: Yet/CC you/PRP finished/VBD the/DT goose/NN ,/, with/IN the/DT bones/NNS and/CC the/DT beak/NN --/: Pray/NNP how/WRB did/VBD you/PRP manage/VB to/TO do/VB it/PRP ?/. '/''\n",
            "'In/POS my/PRP$ youth/NN ,/, '/'' said/VBD his/PRP$ father/NN ,/, '/'' I/PRP took/VBD to/TO the/DT law/NN ,/, And/CC argued/VBD each/DT case/NN with/IN my/PRP$ wife/NN ;/: And/CC the/DT muscular/JJ strength/NN ,/, which/WDT it/PRP gave/VBD to/TO my/PRP$ jaw/NN ,/, Has/NNP lasted/VBN the/DT rest/NN of/IN my/PRP$ life/NN ./. '/''\n",
            "'You/NNS are/VBP old/JJ ,/, '/'' said/VBD the/DT youth/NN ,/, 'one/CD would/MD hardly/RB suppose/VB That/IN your/PRP$ eye/NN was/VBD as/RB steady/JJ as/IN ever/RB ;/: Yet/CC you/PRP balanced/VBD an/DT eel/NN on/IN the/DT end/NN of/IN your/PRP$ nose/NN --/: What/WP made/VBD you/PRP so/RB awfully/RB clever/VB ?/. '/''\n",
            "'/POS I/PRP have/VBP answered/VBN three/CD questions/NNS ,/, and/CC that/DT is/VBZ enough/JJ ,/, '/'' Said/NNP his/PRP$ father/NN ;/: 'do/CC n't/RB give/VB yourself/PRP airs/RB !/.\n",
            "Do/VBP you/PRP think/VB I/PRP can/MD listen/VB all/DT day/NN to/TO such/JJ stuff/NN ?/.\n",
            "Be/VB off/RP ,/, or/CC I/PRP 'll/MD kick/VB you/PRP down/RP stairs/RB !/. '/''\n",
            "'That/DT is/VBZ not/RB said/VBD right/JJ ,/, '/'' said/VBD the/DT Caterpillar/NNP ./.\n",
            "'Not/CD QUITE/NNP right/NN ,/, I/PRP 'm/VBP afraid/JJ ,/, '/'' said/VBD Alice/NNP ,/, timidly/RB ;/: 'some/CD of/IN the/DT words/NNS have/VBP got/VBN altered/VBN ./. '/''\n",
            "'It/NN is/VBZ wrong/JJ from/IN beginning/VBG to/TO end/VB ,/, '/'' said/VBD the/DT Caterpillar/NNP decidedly/RB ,/, and/CC there/RB was/VBD silence/NN for/IN some/DT minutes/NNS ./.\n",
            "The/DT Caterpillar/NNP was/VBD the/DT first/JJ to/TO speak/VB ./.\n",
            "'What/DT size/NN do/VBP you/PRP want/VB to/TO be/VB ?/. '/''\n",
            "it/PRP asked/VBD ./.\n",
            "'Oh/CD ,/, I/PRP 'm/VBP not/RB particular/JJ as/IN to/TO size/NN ,/, '/'' Alice/NNP hastily/RB replied/VBD ;/: 'only/RB one/NN does/VBZ n't/RB like/VB changing/VBG so/RB often/RB ,/, you/PRP know/VBP ./. '/''\n",
            "'/POS I/PRP DO/VBP N'T/RB know/VB ,/, '/'' said/VBD the/DT Caterpillar/NNP ./.\n",
            "Alice/NNP said/VBD nothing/NN :/: she/PRP had/VBD never/RB been/VBN so/RB much/JJ contradicted/VBN in/IN her/PRP$ life/NN before/IN ,/, and/CC she/PRP felt/VBD that/IN she/PRP was/VBD losing/VBG her/PRP$ temper/NN ./.\n",
            "'Are/IN you/PRP content/VBP now/RB ?/. '/''\n",
            "said/VBD the/DT Caterpillar/NNP ./.\n",
            "'Well/UH ,/, I/PRP should/MD like/VB to/TO be/VB a/DT LITTLE/NNP larger/JJR ,/, sir/NN ,/, if/IN you/PRP would/MD n't/RB mind/VB ,/, '/'' said/VBD Alice/NNP :/: 'three/CD inches/NNS is/VBZ such/JJ a/DT wretched/JJ height/NN to/TO be/VB ./. '/''\n",
            "'It/NN is/VBZ a/DT very/RB good/JJ height/NN indeed/RB !/. '/''\n",
            "said/VBD the/DT Caterpillar/NNP angrily/RB ,/, rearing/VBG itself/PRP upright/JJ as/IN it/PRP spoke/VBD (/( it/PRP was/VBD exactly/RB three/CD inches/NNS high/JJ )/) ./.\n",
            "'But/POS I/PRP 'm/VBP not/RB used/VBN to/TO it/PRP !/. '/''\n",
            "pleaded/VBN poor/JJ Alice/NNP in/IN a/DT piteous/JJ tone/NN ./.\n",
            "And/CC she/PRP thought/VBD of/IN herself/PRP ,/, '/'' I/PRP wish/VBP the/DT creatures/NNS would/MD n't/RB be/VB so/RB easily/RB offended/JJ !/. '/''\n",
            "'You/POS 'll/MD get/VB used/VBN to/TO it/PRP in/IN time/NN ,/, '/'' said/VBD the/DT Caterpillar/NNP ;/: and/CC it/PRP put/VBD the/DT hookah/NN into/IN its/PRP$ mouth/NN and/CC began/VBD smoking/VBG again/RB ./.\n",
            "This/DT time/NN Alice/NNP waited/VBD patiently/RB until/IN it/PRP chose/VBD to/TO speak/VB again/RB ./.\n",
            "In/IN a/DT minute/NN or/CC two/CD the/DT Caterpillar/NNP took/VBD the/DT hookah/NN out/IN of/IN its/PRP$ mouth/NN and/CC yawned/VBN once/RB or/CC twice/RB ,/, and/CC shook/VBD itself/PRP ./.\n",
            "Then/RB it/PRP got/VBD down/RB off/IN the/DT mushroom/NN ,/, and/CC crawled/VBD away/RB in/IN the/DT grass/NN ,/, merely/RB remarking/VBG as/IN it/PRP went/VBD ,/, 'One/'' side/NN will/MD make/VB you/PRP grow/VB taller/NN ,/, and/CC the/DT other/JJ side/NN will/MD make/VB you/PRP grow/VB shorter/JJR ./. '/''\n",
            "'One/JJ side/NN of/IN WHAT/WP ?/.\n",
            "The/DT other/JJ side/NN of/IN WHAT/NNP ?/. '/''\n",
            "thought/VBN Alice/NNP to/TO herself/VB ./.\n",
            "'Of/'' the/DT mushroom/NN ,/, '/'' said/VBD the/DT Caterpillar/NNP ,/, just/RB as/IN if/IN she/PRP had/VBD asked/VBN it/PRP aloud/RB ;/: and/CC in/IN another/DT moment/NN it/PRP was/VBD out/IN of/IN sight/NN ./.\n",
            "Alice/NNP remained/VBD looking/VBG thoughtfully/RB at/IN the/DT mushroom/NN for/IN a/DT minute/NN ,/, trying/VBG to/TO make/VB out/RP which/WDT were/VBD the/DT two/CD sides/NNS of/IN it/PRP ;/: and/CC as/IN it/PRP was/VBD perfectly/RB round/VBN ,/, she/PRP found/VBD this/DT a/DT very/RB difficult/JJ question/NN ./.\n",
            "However/RB ,/, at/IN last/JJ she/PRP stretched/VBD her/PRP arms/NNS round/VBP it/PRP as/RB far/RB as/IN they/PRP would/MD go/VB ,/, and/CC broke/VBD off/RP a/DT bit/NN of/IN the/DT edge/NN with/IN each/DT hand/NN ./.\n",
            "'And/NNS now/RB which/WDT is/VBZ which/WDT ?/. '/''\n",
            "she/PRP said/VBD to/TO herself/VB ,/, and/CC nibbled/VBD a/DT little/JJ of/IN the/DT right-hand/JJ bit/NN to/TO try/VB the/DT effect/NN :/: the/DT next/JJ moment/NN she/PRP felt/VBD a/DT violent/JJ blow/NN underneath/IN her/PRP$ chin/NN :/: it/PRP had/VBD struck/VBN her/PRP$ foot/NN !/.\n",
            "She/PRP was/VBD a/DT good/JJ deal/NN frightened/VBN by/IN this/DT very/RB sudden/JJ change/NN ,/, but/CC she/PRP felt/VBD that/IN there/EX was/VBD no/DT time/NN to/TO be/VB lost/VBN ,/, as/IN she/PRP was/VBD shrinking/VBG rapidly/RB ;/: so/RB she/PRP set/VBD to/TO work/VB at/IN once/RB to/TO eat/VB some/DT of/IN the/DT other/JJ bit/NN ./.\n",
            "Her/PRP$ chin/NN was/VBD pressed/VBN so/RB closely/RB against/IN her/PRP$ foot/NN ,/, that/IN there/EX was/VBD hardly/RB room/NN to/TO open/VB her/PRP$ mouth/NN ;/: but/CC she/PRP did/VBD it/PRP at/IN last/JJ ,/, and/CC managed/VBD to/TO swallow/VB a/DT morsel/NN of/IN the/DT lefthand/NN bit/NN ./.\n",
            "*/JJ */NNP */NNP */NNP */NNP */NNP */NNP */NNP */NNP */NNP */NNP */NNP */NNP */NNP */NNP */NNP */NNP */NNP */NNP */NNP 'Come/NNP ,/, my/PRP$ head/NN 's/POS free/JJ at/IN last/JJ !/. '/''\n",
            "said/VBD Alice/NNP in/IN a/DT tone/NN of/IN delight/NN ,/, which/WDT changed/VBD into/IN alarm/NN in/IN another/DT moment/NN ,/, when/WRB she/PRP found/VBD that/IN her/PRP$ shoulders/NNS were/VBD nowhere/RB to/TO be/VB found/VBN :/: all/DT she/PRP could/MD see/VB ,/, when/WRB she/PRP looked/VBD down/RB ,/, was/VBD an/DT immense/JJ length/NN of/IN neck/NN ,/, which/WDT seemed/VBD to/TO rise/VB like/IN a/DT stalk/NN out/IN of/IN a/DT sea/NN of/IN green/JJ leaves/NNS that/WDT lay/VBD far/RB below/IN her/PRP ./.\n",
            "'What/WDT CAN/NNP all/PDT that/DT green/JJ stuff/NN be/VB ?/. '/''\n",
            "said/VBD Alice/NNP ./.\n",
            "'And/CD where/WRB HAVE/NNP my/PRP$ shoulders/NNS got/VBD to/TO ?/.\n",
            "And/CC oh/UH ,/, my/PRP$ poor/JJ hands/NNS ,/, how/WRB is/VBZ it/PRP I/PRP ca/MD n't/RB see/VB you/PRP ?/. '/''\n",
            "She/PRP was/VBD moving/VBG them/PRP about/IN as/IN she/PRP spoke/VBD ,/, but/CC no/DT result/NN seemed/VBD to/TO follow/VB ,/, except/IN a/DT little/JJ shaking/NN among/IN the/DT distant/JJ green/JJ leaves/NNS ./.\n",
            "As/IN there/RB seemed/VBN to/TO be/VB no/DT chance/NN of/IN getting/VBG her/PRP$ hands/NNS up/RB to/TO her/PRP$ head/NN ,/, she/PRP tried/VBD to/TO get/VB her/PRP$ head/NN down/IN to/TO them/PRP ,/, and/CC was/VBD delighted/VBN to/TO find/VB that/IN her/PRP$ neck/NN would/MD bend/VB about/IN easily/RB in/IN any/DT direction/NN ,/, like/IN a/DT serpent/NN ./.\n",
            "She/PRP had/VBD just/RB succeeded/VBN in/IN curving/VBG it/PRP down/RP into/IN a/DT graceful/JJ zigzag/NN ,/, and/CC was/VBD going/VBG to/TO dive/VB in/IN among/IN the/DT leaves/NNS ,/, which/WDT she/PRP found/VBD to/TO be/VB nothing/NN but/CC the/DT tops/NNS of/IN the/DT trees/NNS under/IN which/WDT she/PRP had/VBD been/VBN wandering/VBG ,/, when/WRB a/DT sharp/JJ hiss/NN made/VBD her/PRP$ draw/JJ back/RB in/IN a/DT hurry/NN :/: a/DT large/JJ pigeon/NN had/VBD flown/VBN into/IN her/PRP$ face/NN ,/, and/CC was/VBD beating/VBG her/PRP$ violently/RB with/IN its/PRP$ wings/NNS ./.\n",
            "'Serpent/NN !/. '/''\n",
            "screamed/VBD the/DT Pigeon/NNP ./.\n",
            "'/POS I/PRP 'm/VBP NOT/PDT a/DT serpent/NN !/. '/''\n",
            "said/VBD Alice/NNP indignantly/RB ./.\n",
            "'Let/VB me/PRP alone/RB !/. '/''\n",
            "'Serpent/NN ,/, I/PRP say/VBP again/RB !/. '/''\n",
            "repeated/VBN the/DT Pigeon/NNP ,/, but/CC in/IN a/DT more/RBR subdued/JJ tone/NN ,/, and/CC added/VBD with/IN a/DT kind/NN of/IN sob/NN ,/, '/'' I/PRP 've/VBP tried/VBN every/DT way/NN ,/, and/CC nothing/NN seems/VBZ to/TO suit/VB them/PRP !/. '/''\n",
            "'/POS I/PRP have/VBP n't/RB the/DT least/JJS idea/NN what/WP you/PRP 're/VBP talking/VBG about/IN ,/, '/'' said/VBD Alice/NNP ./.\n",
            "'/POS I/PRP 've/VBP tried/VBN the/DT roots/NNS of/IN trees/NNS ,/, and/CC I/PRP 've/VBP tried/VBN banks/NNS ,/, and/CC I/PRP 've/VBP tried/VBN hedges/NNS ,/, '/'' the/DT Pigeon/NNP went/VBD on/IN ,/, without/IN attending/VBG to/TO her/PRP$ ;/: 'but/CC those/DT serpents/NNS !/.\n",
            "There/EX 's/VBZ no/DT pleasing/VBG them/PRP !/. '/''\n",
            "Alice/NNP was/VBD more/JJR and/CC more/RBR puzzled/JJ ,/, but/CC she/PRP thought/VBD there/EX was/VBD no/DT use/NN in/IN saying/VBG anything/NN more/JJR till/IN the/DT Pigeon/NNP had/VBD finished/VBN ./.\n",
            "'As/CD if/IN it/PRP was/VBD n't/RB trouble/NN enough/JJ hatching/VBG the/DT eggs/NNS ,/, '/'' said/VBD the/DT Pigeon/NNP ;/: 'but/POS I/PRP must/MD be/VB on/IN the/DT look-out/NN for/IN serpents/NNS night/NN and/CC day/NN !/.\n",
            "Why/WRB ,/, I/PRP have/VBP n't/RB had/VBD a/DT wink/NN of/IN sleep/NN these/DT three/CD weeks/NNS !/. '/''\n",
            "'/POS I/PRP 'm/VBP very/RB sorry/JJ you/PRP 've/VBP been/VBN annoyed/VBN ,/, '/'' said/VBD Alice/NNP ,/, who/WP was/VBD beginning/VBG to/TO see/VB its/PRP$ meaning/NN ./.\n",
            "'And/RB just/RB as/IN I/PRP 'd/MD taken/VBN the/DT highest/JJS tree/NN in/IN the/DT wood/NN ,/, '/'' continued/VBD the/DT Pigeon/NNP ,/, raising/VBG its/PRP$ voice/NN to/TO a/DT shriek/NN ,/, 'and/VB just/RB as/IN I/PRP was/VBD thinking/VBG I/PRP should/MD be/VB free/JJ of/IN them/PRP at/IN last/JJ ,/, they/PRP must/MD needs/VB come/VB wriggling/VBG down/IN from/IN the/DT sky/NN !/.\n",
            "Ugh/NNP ,/, Serpent/NNP !/. '/''\n",
            "'But/POS I/PRP 'm/VBP NOT/PDT a/DT serpent/NN ,/, I/PRP tell/VBP you/PRP !/. '/''\n",
            "said/VBD Alice/NNP ./.\n",
            "'/POS I/PRP 'm/VBP a/DT --/: I/PRP 'm/VBP a/DT --/: '/POS 'Well/NN !/.\n",
            "WHAT/WP are/VBP you/PRP ?/. '/''\n",
            "said/VBD the/DT Pigeon/NNP ./.\n",
            "'/POS I/PRP can/MD see/VB you/PRP 're/VBP trying/VBG to/TO invent/VB something/NN !/. '/''\n",
            "'/POS I/PRP --/: I/PRP 'm/VBP a/DT little/JJ girl/NN ,/, '/'' said/VBD Alice/NNP ,/, rather/RB doubtfully/RB ,/, as/IN she/PRP remembered/VBD the/DT number/NN of/IN changes/NNS she/PRP had/VBD gone/VBN through/IN that/DT day/NN ./.\n",
            "'/'' A/DT likely/JJ story/NN indeed/RB !/. '/''\n",
            "said/VBD the/DT Pigeon/NNP in/IN a/DT tone/NN of/IN the/DT deepest/JJS contempt/NN ./.\n",
            "'/POS I/PRP 've/VBP seen/VBN a/DT good/JJ many/JJ little/JJ girls/NNS in/IN my/PRP$ time/NN ,/, but/CC never/RB ONE/NNP with/IN such/PDT a/DT neck/NN as/IN that/DT !/.\n",
            "No/DT ,/, no/DT !/.\n",
            "You/PRP 're/VBP a/DT serpent/NN ;/: and/CC there/EX 's/VBZ no/DT use/NN denying/VBG it/PRP ./.\n",
            "I/PRP suppose/VBP you/PRP 'll/MD be/VB telling/VBG me/PRP next/JJ that/IN you/PRP never/RB tasted/VBD an/DT egg/NN !/. '/''\n",
            "'/POS I/PRP HAVE/VBP tasted/VBN eggs/NNS ,/, certainly/RB ,/, '/'' said/VBD Alice/NNP ,/, who/WP was/VBD a/DT very/RB truthful/JJ child/NN ;/: 'but/CC little/JJ girls/JJ eat/NN eggs/NNS quite/RB as/RB much/JJ as/IN serpents/NNS do/VBP ,/, you/PRP know/VBP ./. '/''\n",
            "'/POS I/PRP do/VBP n't/RB believe/VB it/PRP ,/, '/'' said/VBD the/DT Pigeon/NNP ;/: 'but/POS if/IN they/PRP do/VBP ,/, why/WRB then/RB they're/VBZ a/DT kind/NN of/IN serpent/NN ,/, that/WDT 's/VBZ all/DT I/PRP can/MD say/VB ./. '/''\n",
            "This/DT was/VBD such/JJ a/DT new/JJ idea/NN to/TO Alice/NNP ,/, that/IN she/PRP was/VBD quite/RB silent/JJ for/IN a/DT minute/NN or/CC two/CD ,/, which/WDT gave/VBD the/DT Pigeon/NNP the/DT opportunity/NN of/IN adding/VBG ,/, 'You're/CD looking/VBG for/IN eggs/NNS ,/, I/PRP know/VBP THAT/DT well/RB enough/RB ;/: and/CC what/WP does/VBZ it/PRP matter/VB to/TO me/PRP whether/IN you/PRP 're/VBP a/DT little/JJ girl/NN or/CC a/DT serpent/NN ?/. '/''\n",
            "'It/JJ matters/NNS a/DT good/JJ deal/NN to/TO ME/NNP ,/, '/'' said/VBD Alice/NNP hastily/RB ;/: 'but/CC I/PRP 'm/VBP not/RB looking/VBG for/IN eggs/NNS ,/, as/IN it/PRP happens/VBZ ;/: and/CC if/IN I/PRP was/VBD ,/, I/PRP should/MD n't/RB want/VB YOURS/NN :/: I/PRP don't/VBP like/IN them/PRP raw/VBP ./. '/''\n",
            "'Well/NN ,/, be/VB off/RB ,/, then/RB !/. '/''\n",
            "said/VBD the/DT Pigeon/NNP in/IN a/DT sulky/NN tone/NN ,/, as/IN it/PRP settled/VBD down/RB again/RB into/IN its/PRP$ nest/JJS ./.\n",
            "Alice/NNP crouched/VBD down/RB among/IN the/DT trees/NNS as/RB well/RB as/IN she/PRP could/MD ,/, for/IN her/PRP$ neck/NN kept/VBD getting/VBG entangled/VBN among/IN the/DT branches/NNS ,/, and/CC every/DT now/RB and/CC then/RB she/PRP had/VBD to/TO stop/VB and/CC untwist/VB it/PRP ./.\n",
            "After/IN a/DT while/NN she/PRP remembered/VBD that/IN she/PRP still/RB held/VBD the/DT pieces/NNS of/IN mushroom/NN in/IN her/PRP$ hands/NNS ,/, and/CC she/PRP set/VBD to/TO work/VB very/RB carefully/RB ,/, nibbling/VBG first/RB at/IN one/CD and/CC then/RB at/IN the/DT other/JJ ,/, and/CC growing/VBG sometimes/RB taller/NN and/CC sometimes/RB shorter/JJR ,/, until/IN she/PRP had/VBD succeeded/VBN in/IN bringing/VBG herself/PRP down/RP to/TO her/PRP$ usual/JJ height/NN ./.\n",
            "It/PRP was/VBD so/RB long/JJ since/IN she/PRP had/VBD been/VBN anything/NN near/IN the/DT right/JJ size/NN ,/, that/IN it/PRP felt/VBD quite/RB strange/JJ at/IN first/JJ ;/: but/CC she/PRP got/VBD used/VBN to/TO it/PRP in/IN a/DT few/JJ minutes/NNS ,/, and/CC began/VBD talking/VBG to/TO herself/VB ,/, as/IN usual/JJ ./.\n",
            "'Come/CD ,/, there/EX 's/VBZ half/JJR my/PRP$ plan/NN done/VBN now/RB !/.\n",
            "How/WRB puzzling/VBG all/PDT these/DT changes/NNS are/VBP !/.\n",
            "I/PRP 'm/VBP never/RB sure/JJ what/WP I/PRP 'm/VBP going/VBG to/TO be/VB ,/, from/IN one/CD minute/NN to/TO another/DT !/.\n",
            "However/RB ,/, I/PRP 've/VBP got/VBN back/RB to/TO my/PRP$ right/JJ size/NN :/: the/DT next/JJ thing/NN is/VBZ ,/, to/TO get/VB into/IN that/DT beautiful/JJ garden/NN --/: how/WRB IS/VBZ that/DT to/TO be/VB done/VBN ,/, I/PRP wonder/VBP ?/. '/''\n",
            "As/IN she/PRP said/VBD this/DT ,/, she/PRP came/VBD suddenly/RB upon/IN an/DT open/JJ place/NN ,/, with/IN a/DT little/JJ house/NN in/IN it/PRP about/IN four/CD feet/NNS high/JJ ./.\n",
            "'Whoever/WDT lives/VBZ there/RB ,/, '/'' thought/JJ Alice/NNP ,/, 'it/'' 'll/MD never/RB do/VB to/TO come/VB upon/IN them/PRP THIS/NNP size/NN :/: why/WRB ,/, I/PRP should/MD frighten/VB them/PRP out/IN of/IN their/PRP$ wits/NNS !/. '/''\n",
            "So/RB she/PRP began/VBD nibbling/VBG at/IN the/DT righthand/NN bit/NN again/RB ,/, and/CC did/VBD not/RB venture/NN to/TO go/VB near/IN the/DT house/NN till/NN she/PRP had/VBD brought/VBN herself/PRP down/RP to/TO nine/CD inches/NNS high/JJ ./.\n",
            "CHAPTER/NN VI/NNP ./.\n",
            "Pig/NNP and/CC Pepper/NNP For/IN a/DT minute/NN or/CC two/CD she/PRP stood/VBD looking/VBG at/IN the/DT house/NN ,/, and/CC wondering/VBG what/WP to/TO do/VB next/RB ,/, when/WRB suddenly/RB a/DT footman/NN in/IN livery/NN came/VBD running/VBG out/RB of/IN the/DT wood/NN --/: (/( she/PRP considered/VBD him/PRP to/TO be/VB a/DT footman/NN because/IN he/PRP was/VBD in/IN livery/NN :/: otherwise/RB ,/, judging/VBG by/IN his/PRP$ face/NN only/RB ,/, she/PRP would/MD have/VB called/VBN him/PRP a/DT fish/NN )/) --/: and/CC rapped/VBD loudly/RB at/IN the/DT door/NN with/IN his/PRP$ knuckles/NNS ./.\n",
            "It/PRP was/VBD opened/VBN by/IN another/DT footman/NN in/IN livery/NN ,/, with/IN a/DT round/NN face/NN ,/, and/CC large/JJ eyes/NNS like/IN a/DT frog/NN ;/: and/CC both/DT footmen/NNS ,/, Alice/NNP noticed/VBD ,/, had/VBD powdered/VBN hair/NN that/WDT curled/VBD all/DT over/IN their/PRP$ heads/NNS ./.\n",
            "She/PRP felt/VBD very/RB curious/JJ to/TO know/VB what/WP it/PRP was/VBD all/DT about/IN ,/, and/CC crept/VBD a/DT little/JJ way/NN out/IN of/IN the/DT wood/NN to/TO listen/VB ./.\n",
            "The/DT Fish-Footman/NNP began/VBD by/IN producing/VBG from/IN under/IN his/PRP$ arm/NN a/DT great/JJ letter/NN ,/, nearly/RB as/RB large/JJ as/IN himself/PRP ,/, and/CC this/DT he/PRP handed/VBD over/RP to/TO the/DT other/JJ ,/, saying/VBG ,/, in/IN a/DT solemn/NN tone/NN ,/, 'For/'' the/DT Duchess/NNP ./.\n",
            "An/DT invitation/NN from/IN the/DT Queen/NNP to/TO play/VB croquet/NN ./. '/''\n",
            "The/DT Frog-Footman/NNP repeated/VBD ,/, in/IN the/DT same/JJ solemn/NN tone/NN ,/, only/RB changing/VBG the/DT order/NN of/IN the/DT words/NNS a/DT little/JJ ,/, 'From/IN the/DT Queen/NNP ./.\n",
            "An/DT invitation/NN for/IN the/DT Duchess/NNP to/TO play/VB croquet/NN ./. '/''\n",
            "Then/RB they/PRP both/DT bowed/VBD low/JJ ,/, and/CC their/PRP$ curls/NNS got/VBD entangled/JJ together/RB ./.\n",
            "Alice/NNP laughed/VBD so/RB much/JJ at/IN this/DT ,/, that/IN she/PRP had/VBD to/TO run/VB back/RB into/IN the/DT wood/NN for/IN fear/NN of/IN their/PRP$ hearing/NN her/PRP$ ;/: and/CC when/WRB she/PRP next/RB peeped/VBD out/RP the/DT Fish-Footman/NNP was/VBD gone/VBN ,/, and/CC the/DT other/JJ was/VBD sitting/VBG on/IN the/DT ground/NN near/IN the/DT door/NN ,/, staring/VBG stupidly/RB up/RB into/IN the/DT sky/NN ./.\n",
            "Alice/NNP went/VBD timidly/RB up/IN to/TO the/DT door/NN ,/, and/CC knocked/VBD ./.\n",
            "'There/EX 's/VBZ no/DT sort/NN of/IN use/NN in/IN knocking/NN ,/, '/'' said/VBD the/DT Footman/NNP ,/, 'and/VBZ that/IN for/IN two/CD reasons/NNS ./.\n",
            "First/RB ,/, because/IN I/PRP 'm/VBP on/IN the/DT same/JJ side/NN of/IN the/DT door/NN as/IN you/PRP are/VBP ;/: secondly/RB ,/, because/IN they/PRP 're/VBP making/VBG such/JJ a/DT noise/NN inside/RB ,/, no/DT one/NN could/MD possibly/RB hear/VB you/PRP ./. '/''\n",
            "And/CC certainly/RB there/EX was/VBD a/DT most/RBS extraordinary/JJ noise/NN going/VBG on/IN within/IN --/: a/DT constant/JJ howling/NN and/CC sneezing/NN ,/, and/CC every/DT now/RB and/CC then/RB a/DT great/JJ crash/NN ,/, as/IN if/IN a/DT dish/NN or/CC kettle/VB had/VBD been/VBN broken/VBN to/TO pieces/NNS ./.\n",
            "'Please/NN ,/, then/RB ,/, '/'' said/VBD Alice/NNP ,/, 'how/NNP am/VBP I/PRP to/TO get/VB in/IN ?/. '/''\n",
            "'There/EX might/MD be/VB some/DT sense/NN in/IN your/PRP$ knocking/NN ,/, '/'' the/DT Footman/NNP went/VBD on/IN without/IN attending/VBG to/TO her/PRP$ ,/, 'if/IN we/PRP had/VBD the/DT door/NN between/IN us/PRP ./.\n",
            "For/IN instance/NN ,/, if/IN you/PRP were/VBD INSIDE/NNP ,/, you/PRP might/MD knock/VB ,/, and/CC I/PRP could/MD let/VB you/PRP out/RP ,/, you/PRP know/VBP ./. '/''\n",
            "He/PRP was/VBD looking/VBG up/RP into/IN the/DT sky/NN all/PDT the/DT time/NN he/PRP was/VBD speaking/VBG ,/, and/CC this/DT Alice/NNP thought/VBD decidedly/RB uncivil/JJ ./.\n",
            "'But/POS perhaps/RB he/PRP ca/MD n't/RB help/VB it/PRP ,/, '/'' she/PRP said/VBD to/TO herself/PRP ;/: 'his/CC eyes/NNS are/VBP so/RB VERY/RB nearly/RB at/IN the/DT top/NN of/IN his/PRP$ head/NN ./.\n",
            "But/CC at/IN any/DT rate/NN he/PRP might/MD answer/VB questions./NN --/: How/NNP am/VBP I/PRP to/TO get/VB in/IN ?/. '/''\n",
            "she/PRP repeated/VBD ,/, aloud/NN ./.\n",
            "'/POS I/PRP shall/MD sit/VB here/RB ,/, '/'' the/DT Footman/NNP remarked/VBD ,/, 'till/FW tomorrow/NN --/: '/POS At/IN this/DT moment/NN the/DT door/NN of/IN the/DT house/NN opened/VBD ,/, and/CC a/DT large/JJ plate/NN came/VBD skimming/VBG out/RP ,/, straight/RB at/IN the/DT Footman/NNP 's/POS head/NN :/: it/PRP just/RB grazed/VBD his/PRP$ nose/NN ,/, and/CC broke/VBD to/TO pieces/NNS against/IN one/CD of/IN the/DT trees/NNS behind/IN him./NN '/''\n",
            "--/: or/CC next/JJ day/NN ,/, maybe/RB ,/, '/'' the/DT Footman/NNP continued/VBD in/IN the/DT same/JJ tone/NN ,/, exactly/RB as/IN if/IN nothing/NN had/VBD happened/VBN ./.\n",
            "'How/CD am/VBP I/PRP to/TO get/VB in/IN ?/. '/''\n",
            "asked/VBN Alice/NNP again/RB ,/, in/IN a/DT louder/NN tone/NN ./.\n",
            "'ARE/NN you/PRP to/TO get/VB in/IN at/IN all/DT ?/. '/''\n",
            "said/VBD the/DT Footman/NNP ./.\n",
            "'That/WDT 's/VBZ the/DT first/JJ question/NN ,/, you/PRP know/VBP ./. '/''\n",
            "It/PRP was/VBD ,/, no/DT doubt/NN :/: only/RB Alice/NNP did/VBD not/RB like/IN to/TO be/VB told/VBN so/RB ./.\n",
            "'It/NN 's/POS really/RB dreadful/JJ ,/, '/'' she/PRP muttered/VBD to/TO herself/VB ,/, 'the/VB way/NN all/PDT the/DT creatures/NNS argue/VBP ./.\n",
            "It/PRP 's/VBZ enough/JJ to/TO drive/VB one/CD crazy/NN !/. '/''\n",
            "The/DT Footman/NNP seemed/VBD to/TO think/VB this/DT a/DT good/JJ opportunity/NN for/IN repeating/VBG his/PRP$ remark/NN ,/, with/IN variations/NNS ./.\n",
            "'/POS I/PRP shall/MD sit/VB here/RB ,/, '/'' he/PRP said/VBD ,/, 'on/'' and/CC off/IN ,/, for/IN days/NNS and/CC days/NNS ./. '/''\n",
            "'But/VB what/WP am/VBP I/PRP to/TO do/VB ?/. '/''\n",
            "said/VBD Alice/NNP ./.\n",
            "'Anything/VBG you/PRP like/IN ,/, '/'' said/VBD the/DT Footman/NNP ,/, and/CC began/VBD whistling/VBG ./.\n",
            "'Oh/CD ,/, there/EX 's/VBZ no/DT use/NN in/IN talking/VBG to/TO him/PRP ,/, '/'' said/VBD Alice/NNP desperately/RB :/: 'he's/CD perfectly/RB idiotic/JJ !/. '/''\n",
            "And/CC she/PRP opened/VBD the/DT door/NN and/CC went/VBD in/IN ./.\n",
            "The/DT door/NN led/VBD right/RB into/IN a/DT large/JJ kitchen/NN ,/, which/WDT was/VBD full/JJ of/IN smoke/NN from/IN one/CD end/NN to/TO the/DT other/JJ :/: the/DT Duchess/NNP was/VBD sitting/VBG on/IN a/DT three-legged/JJ stool/NN in/IN the/DT middle/NN ,/, nursing/VBG a/DT baby/NN ;/: the/DT cook/NN was/VBD leaning/VBG over/IN the/DT fire/NN ,/, stirring/VBG a/DT large/JJ cauldron/NN which/WDT seemed/VBD to/TO be/VB full/JJ of/IN soup/NN ./.\n",
            "'There/EX 's/VBZ certainly/RB too/RB much/JJ pepper/NN in/IN that/DT soup/NN !/. '/''\n",
            "Alice/NNP said/VBD to/TO herself/VB ,/, as/RB well/RB as/IN she/PRP could/MD for/IN sneezing/VBG ./.\n",
            "There/EX was/VBD certainly/RB too/RB much/JJ of/IN it/PRP in/IN the/DT air/NN ./.\n",
            "Even/RB the/DT Duchess/NNP sneezed/VBD occasionally/RB ;/: and/CC as/IN for/IN the/DT baby/NN ,/, it/PRP was/VBD sneezing/VBG and/CC howling/VBG alternately/RB without/IN a/DT moment/NN 's/POS pause/NN ./.\n",
            "The/DT only/JJ things/NNS in/IN the/DT kitchen/NN that/WDT did/VBD not/RB sneeze/VB ,/, were/VBD the/DT cook/NN ,/, and/CC a/DT large/JJ cat/NN which/WDT was/VBD sitting/VBG on/IN the/DT hearth/NN and/CC grinning/VBG from/IN ear/NN to/TO ear/VB ./.\n",
            "'Please/NN would/MD you/PRP tell/VB me/PRP ,/, '/'' said/VBD Alice/NNP ,/, a/DT little/JJ timidly/RB ,/, for/IN she/PRP was/VBD not/RB quite/RB sure/JJ whether/IN it/PRP was/VBD good/JJ manners/NNS for/IN her/PRP$ to/TO speak/VB first/JJ ,/, 'why/VB your/PRP$ cat/NN grins/NNS like/IN that/DT ?/. '/''\n",
            "'It/NN 's/POS a/DT Cheshire/NNP cat/NN ,/, '/'' said/VBD the/DT Duchess/NNP ,/, 'and/VBZ that/DT 's/VBZ why/WRB ./.\n",
            "Pig/NN !/. '/''\n",
            "She/PRP said/VBD the/DT last/JJ word/NN with/IN such/JJ sudden/JJ violence/NN that/WDT Alice/NNP quite/RB jumped/VBD ;/: but/CC she/PRP saw/VBD in/IN another/DT moment/NN that/IN it/PRP was/VBD addressed/VBN to/TO the/DT baby/NN ,/, and/CC not/RB to/TO her/PRP$ ,/, so/IN she/PRP took/VBD courage/NN ,/, and/CC went/VBD on/IN again/RB :/: --/: '/POS I/PRP did/VBD n't/RB know/VB that/DT Cheshire/NNP cats/NNS always/RB grinned/VBD ;/: in/IN fact/NN ,/, I/PRP did/VBD n't/RB know/VB that/DT cats/NNS COULD/NNP grin/NN ./. '/''\n",
            "'They/IN all/DT can/MD ,/, '/'' said/VBD the/DT Duchess/NNP ;/: 'and/CD most/JJS of/IN 'em/NNS do/VBP ./. '/''\n",
            "'/POS I/PRP do/VBP n't/RB know/VB of/IN any/DT that/WDT do/VBP ,/, '/'' Alice/NNP said/VBD very/RB politely/RB ,/, feeling/VBG quite/RB pleased/VBN to/TO have/VB got/VBN into/IN a/DT conversation/NN ./.\n",
            "'You/NNS do/VBP n't/RB know/VB much/RB ,/, '/'' said/VBD the/DT Duchess/NNP ;/: 'and/VBZ that/DT 's/VBZ a/DT fact/NN ./. '/''\n",
            "Alice/NNP did/VBD not/RB at/IN all/DT like/IN the/DT tone/NN of/IN this/DT remark/NN ,/, and/CC thought/VBD it/PRP would/MD be/VB as/RB well/RB to/TO introduce/VB some/DT other/JJ subject/NN of/IN conversation/NN ./.\n",
            "While/IN she/PRP was/VBD trying/VBG to/TO fix/VB on/IN one/CD ,/, the/DT cook/NN took/VBD the/DT cauldron/NN of/IN soup/NN off/IN the/DT fire/NN ,/, and/CC at/IN once/RB set/VBN to/TO work/VB throwing/VBG everything/NN within/IN her/PRP$ reach/NN at/IN the/DT Duchess/NNP and/CC the/DT baby/NN --/: the/DT fire-irons/NNS came/VBD first/RB ;/: then/RB followed/VBD a/DT shower/NN of/IN saucepans/NNS ,/, plates/NNS ,/, and/CC dishes/NNS ./.\n",
            "The/DT Duchess/NNP took/VBD no/DT notice/NN of/IN them/PRP even/RB when/WRB they/PRP hit/VBD her/PRP ;/: and/CC the/DT baby/NN was/VBD howling/VBG so/RB much/JJ already/RB ,/, that/IN it/PRP was/VBD quite/RB impossible/JJ to/TO say/VB whether/IN the/DT blows/NNS hurt/VBP it/PRP or/CC not/RB ./.\n",
            "'Oh/CD ,/, PLEASE/NNP mind/VB what/WP you/PRP 're/VBP doing/VBG !/. '/''\n",
            "cried/JJ Alice/NNP ,/, jumping/VBG up/RP and/CC down/RB in/IN an/DT agony/NN of/IN terror/NN ./.\n",
            "'Oh/CD ,/, there/EX goes/VBZ his/PRP$ PRECIOUS/NNP nose/NN '/'' ;/: as/IN an/DT unusually/RB large/JJ saucepan/NN flew/VBD close/JJ by/IN it/PRP ,/, and/CC very/RB nearly/RB carried/VBD it/PRP off/RP ./.\n",
            "'If/POS everybody/NN minded/VBD their/PRP$ own/JJ business/NN ,/, '/'' the/DT Duchess/NNP said/VBD in/IN a/DT hoarse/NN growl/NN ,/, 'the/'' world/NN would/MD go/VB round/VB a/DT deal/NN faster/RBR than/IN it/PRP does/VBZ ./. '/''\n",
            "'Which/NNS would/MD NOT/RB be/VB an/DT advantage/NN ,/, '/'' said/VBD Alice/NNP ,/, who/WP felt/VBD very/RB glad/JJ to/TO get/VB an/DT opportunity/NN of/IN showing/VBG off/RP a/DT little/JJ of/IN her/PRP$ knowledge/NN ./.\n",
            "'Just/JJ think/NN of/IN what/WP work/NN it/PRP would/MD make/VB with/IN the/DT day/NN and/CC night/NN !/.\n",
            "You/PRP see/VBP the/DT earth/NN takes/VBZ twenty-four/JJ hours/NNS to/TO turn/VB round/RP on/IN its/PRP$ axis/NN --/: '/POS 'Talking/NN of/IN axes/NNS ,/, '/'' said/VBD the/DT Duchess/NNP ,/, 'chop/'' off/RP her/PRP$ head/NN !/. '/''\n",
            "Alice/NNP glanced/VBD rather/RB anxiously/RB at/IN the/DT cook/NN ,/, to/TO see/VB if/IN she/PRP meant/VBD to/TO take/VB the/DT hint/NN ;/: but/CC the/DT cook/NN was/VBD busily/RB stirring/VBG the/DT soup/NN ,/, and/CC seemed/VBD not/RB to/TO be/VB listening/JJ ,/, so/IN she/PRP went/VBD on/IN again/RB :/: 'Twenty-four/JJ hours/NNS ,/, I/PRP THINK/VBP ;/: or/CC is/VBZ it/PRP twelve/VB ?/.\n",
            "I/PRP --/: '/'' 'Oh/NNS ,/, do/VBP n't/RB bother/VB ME/NNP ,/, '/'' said/VBD the/DT Duchess/NNP ;/: '/POS I/PRP never/RB could/MD abide/VB figures/NNS !/. '/''\n",
            "And/CC with/IN that/DT she/PRP began/VBD nursing/VBG her/PRP$ child/NN again/RB ,/, singing/VBG a/DT sort/NN of/IN lullaby/NN to/TO it/PRP as/IN she/PRP did/VBD so/RB ,/, and/CC giving/VBG it/PRP a/DT violent/JJ shake/NN at/IN the/DT end/NN of/IN every/DT line/NN :/: 'Speak/VB roughly/RB to/TO your/PRP$ little/JJ boy/NN ,/, And/CC beat/VBD him/PRP when/WRB he/PRP sneezes/VBZ :/: He/PRP only/RB does/VBZ it/PRP to/TO annoy/VB ,/, Because/IN he/PRP knows/VBZ it/PRP teases/VBZ ./. '/''\n",
            "CHORUS/NNP ./.\n",
            "(/( In/IN which/WDT the/DT cook/NN and/CC the/DT baby/NN joined/VBD )/) :/: --/: 'Wow/UH !/.\n",
            "wow/NN !/.\n",
            "wow/NN !/. '/''\n",
            "While/IN the/DT Duchess/NNP sang/VBD the/DT second/JJ verse/NN of/IN the/DT song/NN ,/, she/PRP kept/VBD tossing/VBG the/DT baby/NN violently/RB up/IN and/CC down/RB ,/, and/CC the/DT poor/JJ little/JJ thing/NN howled/VBD so/RB ,/, that/IN Alice/NNP could/MD hardly/RB hear/VB the/DT words/NNS :/: --/: '/POS I/PRP speak/VBP severely/RB to/TO my/PRP$ boy/NN ,/, I/PRP beat/VBP him/PRP when/WRB he/PRP sneezes/VBZ ;/: For/IN he/PRP can/MD thoroughly/VB enjoy/VB The/DT pepper/NN when/WRB he/PRP pleases/VBZ !/. '/''\n",
            "CHORUS/NNP ./.\n",
            "'Wow/CD !/.\n",
            "wow/NN !/.\n",
            "wow/NN !/. '/''\n",
            "'Here/RB !/.\n",
            "you/PRP may/MD nurse/VB it/PRP a/DT bit/NN ,/, if/IN you/PRP like/VBP !/. '/''\n",
            "the/DT Duchess/NNP said/VBD to/TO Alice/NNP ,/, flinging/VBG the/DT baby/NN at/IN her/PRP as/IN she/PRP spoke/VBD ./.\n",
            "'/POS I/PRP must/MD go/VB and/CC get/VB ready/JJ to/TO play/VB croquet/NN with/IN the/DT Queen/NNP ,/, '/'' and/CC she/PRP hurried/VBD out/IN of/IN the/DT room/NN ./.\n",
            "The/DT cook/NN threw/VBD a/DT frying-pan/JJ after/IN her/PRP$ as/IN she/PRP went/VBD out/RB ,/, but/CC it/PRP just/RB missed/VBD her/PRP ./.\n",
            "Alice/NNP caught/VBD the/DT baby/NN with/IN some/DT difficulty/NN ,/, as/IN it/PRP was/VBD a/DT queer-shaped/JJ little/JJ creature/NN ,/, and/CC held/VBD out/RP its/PRP$ arms/NNS and/CC legs/NNS in/IN all/DT directions/NNS ,/, 'just/VBP like/IN a/DT star-fish/JJ ,/, '/'' thought/JJ Alice/NNP ./.\n",
            "The/DT poor/JJ little/JJ thing/NN was/VBD snorting/VBG like/IN a/DT steam-engine/NN when/WRB she/PRP caught/VBD it/PRP ,/, and/CC kept/VBD doubling/VBG itself/PRP up/IN and/CC straightening/VBG itself/PRP out/RB again/RB ,/, so/IN that/IN altogether/NN ,/, for/IN the/DT first/JJ minute/NN or/CC two/CD ,/, it/PRP was/VBD as/RB much/JJ as/IN she/PRP could/MD do/VB to/TO hold/VB it/PRP ./.\n",
            "As/RB soon/RB as/IN she/PRP had/VBD made/VBN out/RP the/DT proper/JJ way/NN of/IN nursing/VBG it/PRP ,/, (/( which/WDT was/VBD to/TO twist/VB it/PRP up/RP into/IN a/DT sort/NN of/IN knot/NN ,/, and/CC then/RB keep/VB tight/JJ hold/NN of/IN its/PRP$ right/JJ ear/NN and/CC left/JJ foot/NN ,/, so/RB as/IN to/TO prevent/VB its/PRP$ undoing/VBG itself/PRP ,/, )/) she/PRP carried/VBD it/PRP out/RP into/IN the/DT open/JJ air/NN ./.\n",
            "'IF/NN I/PRP do/VBP n't/RB take/VB this/DT child/NN away/RB with/IN me/PRP ,/, '/'' thought/JJ Alice/NNP ,/, 'they/NNP 're/VBP sure/JJ to/TO kill/VB it/PRP in/IN a/DT day/NN or/CC two/CD :/: would/MD n't/RB it/PRP be/VB murder/VBN to/TO leave/VB it/PRP behind/IN ?/. '/''\n",
            "She/PRP said/VBD the/DT last/JJ words/NNS out/RP loud/JJ ,/, and/CC the/DT little/JJ thing/NN grunted/VBN in/IN reply/NN (/( it/PRP had/VBD left/VBN off/RP sneezing/VBG by/IN this/DT time/NN )/) ./.\n",
            "'Do/MD n't/RB grunt/VB ,/, '/'' said/VBD Alice/NNP ;/: 'that/WP 's/VBZ not/RB at/IN all/PDT a/DT proper/JJ way/NN of/IN expressing/VBG yourself/PRP ./. '/''\n",
            "The/DT baby/NN grunted/VBD again/RB ,/, and/CC Alice/NNP looked/VBD very/RB anxiously/RB into/IN its/PRP$ face/NN to/TO see/VB what/WP was/VBD the/DT matter/NN with/IN it/PRP ./.\n",
            "There/EX could/MD be/VB no/DT doubt/NN that/IN it/PRP had/VBD a/DT VERY/NNP turn-up/JJ nose/NN ,/, much/RB more/RBR like/IN a/DT snout/NN than/IN a/DT real/JJ nose/NN ;/: also/RB its/PRP$ eyes/NNS were/VBD getting/VBG extremely/RB small/JJ for/IN a/DT baby/NN :/: altogether/RB Alice/NNP did/VBD not/RB like/IN the/DT look/NN of/IN the/DT thing/NN at/IN all/DT ./.\n",
            "'But/CD perhaps/RB it/PRP was/VBD only/RB sobbing/VBG ,/, '/'' she/PRP thought/VBD ,/, and/CC looked/VBD into/IN its/PRP$ eyes/NNS again/RB ,/, to/TO see/VB if/IN there/EX were/VBD any/DT tears/NNS ./.\n",
            "No/DT ,/, there/EX were/VBD no/DT tears/NNS ./.\n",
            "'If/IN you/PRP 're/VBP going/VBG to/TO turn/VB into/IN a/DT pig/NN ,/, my/PRP$ dear/JJ ,/, '/'' said/VBD Alice/NNP ,/, seriously/RB ,/, '/'' I/PRP 'll/MD have/VB nothing/NN more/JJR to/TO do/VB with/IN you/PRP ./.\n",
            "Mind/NN now/RB !/. '/''\n",
            "The/DT poor/JJ little/JJ thing/NN sobbed/VBD again/RB (/( or/CC grunted/VBN ,/, it/PRP was/VBD impossible/JJ to/TO say/VB which/WDT )/) ,/, and/CC they/PRP went/VBD on/IN for/IN some/DT while/NN in/IN silence/NN ./.\n",
            "Alice/NNP was/VBD just/RB beginning/VBG to/TO think/VB to/TO herself/PRP ,/, 'Now/'' ,/, what/WP am/VBP I/PRP to/TO do/VB with/IN this/DT creature/NN when/WRB I/PRP get/VBP it/PRP home/NN ?/. '/''\n",
            "when/WRB it/PRP grunted/VBD again/RB ,/, so/RB violently/RB ,/, that/IN she/PRP looked/VBD down/RB into/IN its/PRP$ face/NN in/IN some/DT alarm/NN ./.\n",
            "This/DT time/NN there/EX could/MD be/VB NO/NNP mistake/VB about/IN it/PRP :/: it/PRP was/VBD neither/RB more/JJR nor/CC less/JJR than/IN a/DT pig/NN ,/, and/CC she/PRP felt/VBD that/IN it/PRP would/MD be/VB quite/RB absurd/JJ for/IN her/PRP$ to/TO carry/VB it/PRP further/RBR ./.\n",
            "So/RB she/PRP set/VBD the/DT little/JJ creature/NN down/RP ,/, and/CC felt/VBD quite/RB relieved/VBN to/TO see/VB it/PRP trot/VB away/RB quietly/RB into/IN the/DT wood/NN ./.\n",
            "'If/VB it/PRP had/VBD grown/VBN up/RP ,/, '/'' she/PRP said/VBD to/TO herself/VB ,/, 'it/PRP would/MD have/VB made/VBN a/DT dreadfully/RB ugly/JJ child/NN :/: but/CC it/PRP makes/VBZ rather/RB a/DT handsome/JJ pig/NN ,/, I/PRP think/VBP ./. '/''\n",
            "And/CC she/PRP began/VBD thinking/VBG over/IN other/JJ children/NNS she/PRP knew/VBD ,/, who/WP might/MD do/VB very/RB well/RB as/IN pigs/NNS ,/, and/CC was/VBD just/RB saying/VBG to/TO herself/VB ,/, 'if/VB one/CD only/RB knew/VBD the/DT right/JJ way/NN to/TO change/VB them/PRP --/: '/'' when/WRB she/PRP was/VBD a/DT little/JJ startled/VBN by/IN seeing/VBG the/DT Cheshire/NNP Cat/NNP sitting/VBG on/IN a/DT bough/NN of/IN a/DT tree/NN a/DT few/JJ yards/NNS off/RP ./.\n",
            "The/DT Cat/NNP only/RB grinned/VBD when/WRB it/PRP saw/VBD Alice/NNP ./.\n",
            "It/PRP looked/VBD good-natured/JJ ,/, she/PRP thought/VBD :/: still/RB it/PRP had/VBD VERY/NNP long/JJ claws/NN and/CC a/DT great/JJ many/JJ teeth/NNS ,/, so/IN she/PRP felt/VBD that/IN it/PRP ought/MD to/TO be/VB treated/VBN with/IN respect/NN ./.\n",
            "'Cheshire/NN Puss/NNP ,/, '/'' she/PRP began/VBD ,/, rather/RB timidly/RB ,/, as/IN she/PRP did/VBD not/RB at/IN all/DT know/VBP whether/IN it/PRP would/MD like/VB the/DT name/NN :/: however/RB ,/, it/PRP only/RB grinned/VBD a/DT little/JJ wider/NN ./.\n",
            "'Come/CD ,/, it/PRP 's/VBZ pleased/VBN so/RB far/RB ,/, '/'' thought/JJ Alice/NNP ,/, and/CC she/PRP went/VBD on/IN ./.\n",
            "'Would/MD you/PRP tell/VB me/PRP ,/, please/NN ,/, which/WDT way/NN I/PRP ought/MD to/TO go/VB from/IN here/RB ?/. '/''\n",
            "'That/DT depends/VBZ a/DT good/JJ deal/NN on/IN where/WRB you/PRP want/VBP to/TO get/VB to/TO ,/, '/'' said/VBD the/DT Cat/NNP ./.\n",
            "'/POS I/PRP do/VBP n't/RB much/RB care/VB where/WRB --/: '/'' said/VBD Alice/NNP ./.\n",
            "'Then/IN it/PRP does/VBZ n't/RB matter/VB which/WDT way/NN you/PRP go/VBP ,/, '/'' said/VBD the/DT Cat./NNP '/POS\n",
            "--/: so/RB long/RB as/IN I/PRP get/VBP SOMEWHERE/RB ,/, '/'' Alice/NNP added/VBD as/IN an/DT explanation/NN ./.\n",
            "'Oh/CD ,/, you/PRP 're/VBP sure/JJ to/TO do/VB that/DT ,/, '/'' said/VBD the/DT Cat/NNP ,/, 'if/'' you/PRP only/RB walk/VBP long/RB enough/RB ./. '/''\n",
            "Alice/NNP felt/VBD that/IN this/DT could/MD not/RB be/VB denied/VBN ,/, so/IN she/PRP tried/VBD another/DT question/NN ./.\n",
            "'What/DT sort/NN of/IN people/NNS live/VBP about/IN here/RB ?/. '/''\n",
            "'In/NNS THAT/DT direction/NN ,/, '/'' the/DT Cat/NNP said/VBD ,/, waving/VBG its/PRP$ right/NN paw/NN round/NN ,/, 'lives/VBZ a/DT Hatter/NN :/: and/CC in/IN THAT/DT direction/NN ,/, '/'' waving/VBG the/DT other/JJ paw/NN ,/, 'lives/VBZ a/DT March/NNP Hare/NNP ./.\n",
            "Visit/NNP either/CC you/PRP like/VBP :/: they/PRP 're/VBP both/DT mad/JJ ./. '/''\n",
            "'But/NN I/PRP do/VBP n't/RB want/VB to/TO go/VB among/IN mad/JJ people/NNS ,/, '/'' Alice/NNP remarked/VBD ./.\n",
            "'Oh/CD ,/, you/PRP ca/MD n't/RB help/VB that/DT ,/, '/'' said/VBD the/DT Cat/NNP :/: 'we/POS 're/VBP all/DT mad/NN here/RB ./.\n",
            "I/PRP 'm/VBP mad/JJ ./.\n",
            "You/PRP 're/VBP mad/JJ ./. '/''\n",
            "'How/WRB do/VBP you/PRP know/VB I/PRP 'm/VBP mad/JJ ?/. '/''\n",
            "said/VBD Alice/NNP ./.\n",
            "'You/NNS must/MD be/VB ,/, '/'' said/VBD the/DT Cat/NNP ,/, 'or/'' you/PRP would/MD n't/RB have/VB come/VBN here/RB ./. '/''\n",
            "Alice/NNP did/VBD n't/RB think/VB that/DT proved/VBD it/PRP at/IN all/DT ;/: however/RB ,/, she/PRP went/VBD on/IN 'And/NNP how/WRB do/VBP you/PRP know/VB that/IN you/PRP 're/VBP mad/JJ ?/. '/''\n",
            "'To/POS begin/NN with/IN ,/, '/'' said/VBD the/DT Cat/NNP ,/, '/'' a/DT dog/NN 's/POS not/RB mad/JJ ./.\n",
            "You/PRP grant/VBP that/IN ?/. '/''\n",
            "'/POS I/PRP suppose/VBP so/RB ,/, '/'' said/VBD Alice/NNP ./.\n",
            "'Well/RB ,/, then/RB ,/, '/'' the/DT Cat/NNP went/VBD on/IN ,/, 'you/'' see/VBP ,/, a/DT dog/NN growls/NN when/WRB it/PRP 's/VBZ angry/JJ ,/, and/CC wags/VBZ its/PRP$ tail/NN when/WRB it/PRP 's/VBZ pleased/JJ ./.\n",
            "Now/RB I/PRP growl/VBP when/WRB I/PRP 'm/VBP pleased/JJ ,/, and/CC wag/VB my/PRP$ tail/NN when/WRB I/PRP 'm/VBP angry/JJ ./.\n",
            "Therefore/RB I/PRP 'm/VBP mad/JJ ./. '/''\n",
            "'/POS I/PRP call/VBP it/PRP purring/VBG ,/, not/RB growling/VBG ,/, '/'' said/VBD Alice/NNP ./.\n",
            "'Call/VB it/PRP what/WP you/PRP like/VBP ,/, '/'' said/VBD the/DT Cat/NNP ./.\n",
            "'Do/NN you/PRP play/VBP croquet/NNS with/IN the/DT Queen/NNP to-day/JJ ?/. '/''\n",
            "'/POS I/PRP should/MD like/VB it/PRP very/RB much/RB ,/, '/'' said/VBD Alice/NNP ,/, 'but/'' I/PRP have/VBP n't/RB been/VBN invited/VBN yet/RB ./. '/''\n",
            "'You/POS 'll/MD see/VB me/PRP there/RB ,/, '/'' said/VBD the/DT Cat/NNP ,/, and/CC vanished/VBD ./.\n",
            "Alice/NNP was/VBD not/RB much/JJ surprised/VBN at/IN this/DT ,/, she/PRP was/VBD getting/VBG so/RB used/VBN to/TO queer/VB things/NNS happening/VBG ./.\n",
            "While/IN she/PRP was/VBD looking/VBG at/IN the/DT place/NN where/WRB it/PRP had/VBD been/VBN ,/, it/PRP suddenly/RB appeared/VBD again/RB ./.\n",
            "'By-the-bye/CD ,/, what/WP became/VBD of/IN the/DT baby/NN ?/. '/''\n",
            "said/VBD the/DT Cat/NNP ./.\n",
            "'/POS I/PRP 'd/MD nearly/RB forgotten/VB to/TO ask/VB ./. '/''\n",
            "'It/NNS turned/VBD into/IN a/DT pig/NN ,/, '/'' Alice/NNP quietly/RB said/VBD ,/, just/RB as/IN if/IN it/PRP had/VBD come/VBN back/RB in/IN a/DT natural/JJ way/NN ./.\n",
            "'/POS I/PRP thought/VBD it/PRP would/MD ,/, '/'' said/VBD the/DT Cat/NNP ,/, and/CC vanished/VBD again/RB ./.\n",
            "Alice/NNP waited/VBD a/DT little/JJ ,/, half/JJ expecting/VBG to/TO see/VB it/PRP again/RB ,/, but/CC it/PRP did/VBD not/RB appear/VB ,/, and/CC after/IN a/DT minute/NN or/CC two/CD she/PRP walked/VBD on/IN in/IN the/DT direction/NN in/IN which/WDT the/DT March/NNP Hare/NNP was/VBD said/VBD to/TO live/VB ./.\n",
            "'/POS I/PRP 've/VBP seen/VBN hatters/NNS before/IN ,/, '/'' she/PRP said/VBD to/TO herself/PRP ;/: 'the/CC March/NNP Hare/NNP will/MD be/VB much/RB the/DT most/RBS interesting/JJ ,/, and/CC perhaps/RB as/IN this/DT is/VBZ May/NNP it/PRP wo/MD n't/RB be/VB raving/VBG mad/JJ --/: at/IN least/JJS not/RB so/RB mad/JJ as/IN it/PRP was/VBD in/IN March/NNP ./. '/''\n",
            "As/IN she/PRP said/VBD this/DT ,/, she/PRP looked/VBD up/RB ,/, and/CC there/EX was/VBD the/DT Cat/NNP again/RB ,/, sitting/VBG on/IN a/DT branch/NN of/IN a/DT tree/NN ./.\n",
            "'Did/IN you/PRP say/VBP pig/JJ ,/, or/CC fig/VB ?/. '/''\n",
            "said/VBD the/DT Cat/NNP ./.\n",
            "'/POS I/PRP said/VBD pig/NN ,/, '/'' replied/JJ Alice/NNP ;/: 'and/CD I/PRP wish/VBP you/PRP would/MD n't/RB keep/VB appearing/VBG and/CC vanishing/VBG so/RB suddenly/RB :/: you/PRP make/VBP one/CD quite/NN giddy/NN ./. '/''\n",
            "'All/RB right/RB ,/, '/'' said/VBD the/DT Cat/NNP ;/: and/CC this/DT time/NN it/PRP vanished/VBD quite/RB slowly/RB ,/, beginning/VBG with/IN the/DT end/NN of/IN the/DT tail/NN ,/, and/CC ending/VBG with/IN the/DT grin/NN ,/, which/WDT remained/VBD some/DT time/NN after/IN the/DT rest/NN of/IN it/PRP had/VBD gone/VBN ./.\n",
            "'Well/NN !/.\n",
            "I/PRP 've/VBP often/RB seen/VBN a/DT cat/NN without/IN a/DT grin/NN ,/, '/'' thought/JJ Alice/NNP ;/: 'but/VBZ a/DT grin/NN without/IN a/DT cat/NN !/.\n",
            "It/PRP 's/VBZ the/DT most/RBS curious/JJ thing/NN I/PRP ever/RB saw/VBD in/IN my/PRP$ life/NN !/. '/''\n",
            "She/PRP had/VBD not/RB gone/VBN much/RB farther/RBR before/IN she/PRP came/VBD in/IN sight/NN of/IN the/DT house/NN of/IN the/DT March/NNP Hare/NNP :/: she/PRP thought/VBD it/PRP must/MD be/VB the/DT right/JJ house/NN ,/, because/IN the/DT chimneys/NNS were/VBD shaped/VBN like/IN ears/NNS and/CC the/DT roof/NN was/VBD thatched/VBN with/IN fur/NN ./.\n",
            "It/PRP was/VBD so/RB large/JJ a/DT house/NN ,/, that/IN she/PRP did/VBD not/RB like/IN to/TO go/VB nearer/NN till/IN she/PRP had/VBD nibbled/VBN some/DT more/JJR of/IN the/DT lefthand/NN bit/NN of/IN mushroom/NN ,/, and/CC raised/VBD herself/PRP to/TO about/IN two/CD feet/NNS high/JJ :/: even/RB then/RB she/PRP walked/VBD up/RP towards/NNS it/PRP rather/RB timidly/RB ,/, saying/VBG to/TO herself/PRP 'Suppose/VB it/PRP should/MD be/VB raving/VBG mad/JJ after/IN all/DT !/.\n",
            "I/PRP almost/RB wish/JJ I/PRP 'd/MD gone/VBN to/TO see/VB the/DT Hatter/NNP instead/RB !/. '/''\n",
            "CHAPTER/NN VII/NNP ./.\n",
            "A/DT Mad/NNP Tea-Party/NNP There/EX was/VBD a/DT table/NN set/VBN out/RP under/IN a/DT tree/NN in/IN front/NN of/IN the/DT house/NN ,/, and/CC the/DT March/NNP Hare/NNP and/CC the/DT Hatter/NNP were/VBD having/VBG tea/NN at/IN it/PRP :/: a/DT Dormouse/NNP was/VBD sitting/VBG between/IN them/PRP ,/, fast/RB asleep/JJ ,/, and/CC the/DT other/JJ two/CD were/VBD using/VBG it/PRP as/IN a/DT cushion/NN ,/, resting/VBG their/PRP$ elbows/NNS on/IN it/PRP ,/, and/CC talking/VBG over/IN its/PRP$ head/NN ./.\n",
            "'Very/POS uncomfortable/JJ for/IN the/DT Dormouse/NNP ,/, '/'' thought/JJ Alice/NNP ;/: 'only/RB ,/, as/IN it/PRP 's/VBZ asleep/JJ ,/, I/PRP suppose/VBP it/PRP does/VBZ n't/RB mind/VB ./. '/''\n",
            "The/DT table/NN was/VBD a/DT large/JJ one/CD ,/, but/CC the/DT three/CD were/VBD all/DT crowded/VBN together/RB at/IN one/CD corner/NN of/IN it/PRP :/: 'No/JJ room/NN !/.\n",
            "No/DT room/NN !/. '/''\n",
            "they/PRP cried/VBD out/RP when/WRB they/PRP saw/VBD Alice/NNP coming/VBG ./.\n",
            "'There/EX 's/VBZ PLENTY/NNP of/IN room/NN !/. '/''\n",
            "said/VBD Alice/NNP indignantly/RB ,/, and/CC she/PRP sat/VBD down/RB in/IN a/DT large/JJ arm-chair/NN at/IN one/CD end/NN of/IN the/DT table/NN ./.\n",
            "'Have/VB some/DT wine/NN ,/, '/'' the/DT March/NNP Hare/NNP said/VBD in/IN an/DT encouraging/JJ tone/NN ./.\n",
            "Alice/NNP looked/VBD all/DT round/VBP the/DT table/NN ,/, but/CC there/EX was/VBD nothing/NN on/IN it/PRP but/CC tea/NN ./.\n",
            "'/POS I/PRP do/VBP n't/RB see/VB any/DT wine/NN ,/, '/'' she/PRP remarked/VBD ./.\n",
            "'There/EX is/VBZ n't/RB any/DT ,/, '/'' said/VBD the/DT March/NNP Hare/NNP ./.\n",
            "'Then/IN it/PRP was/VBD n't/RB very/RB civil/JJ of/IN you/PRP to/TO offer/VB it/PRP ,/, '/'' said/VBD Alice/NNP angrily/RB ./.\n",
            "'It/NN was/VBD n't/RB very/RB civil/JJ of/IN you/PRP to/TO sit/VB down/RP without/IN being/VBG invited/VBN ,/, '/'' said/VBD the/DT March/NNP Hare/NNP ./.\n",
            "'/POS I/PRP did/VBD n't/RB know/VB it/PRP was/VBD YOUR/NNP table/NN ,/, '/'' said/VBD Alice/NNP ;/: 'it/PRP 's/VBZ laid/VBN for/IN a/DT great/JJ many/JJ more/JJR than/IN three/CD ./. '/''\n",
            "'Your/CD hair/NN wants/VBZ cutting/VBG ,/, '/'' said/VBD the/DT Hatter/NNP ./.\n",
            "He/PRP had/VBD been/VBN looking/VBG at/IN Alice/NNP for/IN some/DT time/NN with/IN great/JJ curiosity/NN ,/, and/CC this/DT was/VBD his/PRP$ first/JJ speech/NN ./.\n",
            "'You/NNS should/MD learn/VB not/RB to/TO make/VB personal/JJ remarks/NNS ,/, '/'' Alice/NNP said/VBD with/IN some/DT severity/NN ;/: 'it/CC 's/POS very/RB rude/JJ ./. '/''\n",
            "The/DT Hatter/NNP opened/VBD his/PRP$ eyes/NNS very/RB wide/JJ on/IN hearing/VBG this/DT ;/: but/CC all/DT he/PRP SAID/NNP was/VBD ,/, 'Why/'' is/VBZ a/DT raven/NN like/IN a/DT writing-desk/NN ?/. '/''\n",
            "'Come/CD ,/, we/PRP shall/MD have/VB some/DT fun/NN now/RB !/. '/''\n",
            "thought/JJ Alice/NNP ./.\n",
            "'/POS I/PRP 'm/VBP glad/JJ they've/NN begun/VBN asking/VBG riddles./NN --/: I/PRP believe/VBP I/PRP can/MD guess/VB that/IN ,/, '/'' she/PRP added/VBD aloud/NN ./.\n",
            "'Do/POS you/PRP mean/VBP that/IN you/PRP think/VBP you/PRP can/MD find/VB out/RP the/DT answer/NN to/TO it/PRP ?/. '/''\n",
            "said/VBD the/DT March/NNP Hare/NNP ./.\n",
            "'Exactly/RB so/RB ,/, '/'' said/VBD Alice/NNP ./.\n",
            "'Then/IN you/PRP should/MD say/VB what/WP you/PRP mean/VBP ,/, '/'' the/DT March/NNP Hare/NNP went/VBD on/IN ./.\n",
            "'/POS I/PRP do/VBP ,/, '/'' Alice/NNP hastily/RB replied/VBD ;/: 'at/CC least/JJS --/: at/IN least/JJS I/PRP mean/VBP what/WP I/PRP say/VBP --/: that/WDT 's/VBZ the/DT same/JJ thing/NN ,/, you/PRP know/VBP ./. '/''\n",
            "'Not/IN the/DT same/JJ thing/NN a/DT bit/NN !/. '/''\n",
            "said/VBD the/DT Hatter/NNP ./.\n",
            "'You/POS might/MD just/RB as/RB well/RB say/VB that/IN ``/`` I/PRP see/VBP what/WP I/PRP eat/VBP ''/'' is/VBZ the/DT same/JJ thing/NN as/IN ``/`` I/PRP eat/VBP what/WP I/PRP see/VBP ''/'' !/. '/''\n",
            "'You/POS might/MD just/RB as/RB well/RB say/VB ,/, '/'' added/VBD the/DT March/NNP Hare/NNP ,/, 'that/IN ``/`` I/PRP like/VBP what/WP I/PRP get/VBP ''/'' is/VBZ the/DT same/JJ thing/NN as/IN ``/`` I/PRP get/VBP what/WP I/PRP like/VBP ''/'' !/. '/''\n",
            "'You/POS might/MD just/RB as/RB well/RB say/VB ,/, '/'' added/VBD the/DT Dormouse/NNP ,/, who/WP seemed/VBD to/TO be/VB talking/VBG in/IN his/PRP$ sleep/NN ,/, 'that/IN ``/`` I/PRP breathe/VBP when/WRB I/PRP sleep/VBP ''/'' is/VBZ the/DT same/JJ thing/NN as/IN ``/`` I/PRP sleep/VBP when/WRB I/PRP breathe/VBP ''/'' !/. '/''\n",
            "'It/NN IS/VBZ the/DT same/JJ thing/NN with/IN you/PRP ,/, '/'' said/VBD the/DT Hatter/NNP ,/, and/CC here/RB the/DT conversation/NN dropped/VBD ,/, and/CC the/DT party/NN sat/VBD silent/NN for/IN a/DT minute/NN ,/, while/IN Alice/NNP thought/VBD over/IN all/DT she/PRP could/MD remember/VB about/IN ravens/NNS and/CC writing-desks/NNS ,/, which/WDT was/VBD n't/RB much/JJ ./.\n",
            "The/DT Hatter/NNP was/VBD the/DT first/JJ to/TO break/VB the/DT silence/NN ./.\n",
            "'What/DT day/NN of/IN the/DT month/NN is/VBZ it/PRP ?/. '/''\n",
            "he/PRP said/VBD ,/, turning/VBG to/TO Alice/NNP :/: he/PRP had/VBD taken/VBN his/PRP$ watch/NN out/IN of/IN his/PRP$ pocket/NN ,/, and/CC was/VBD looking/VBG at/IN it/PRP uneasily/RB ,/, shaking/VBG it/PRP every/DT now/RB and/CC then/RB ,/, and/CC holding/VBG it/PRP to/TO his/PRP$ ear/NN ./.\n",
            "Alice/NNP considered/VBD a/DT little/JJ ,/, and/CC then/RB said/VBD 'The/CD fourth/JJ ./. '/''\n",
            "'Two/CD days/NNS wrong/RB !/. '/''\n",
            "sighed/VBD the/DT Hatter/NNP ./.\n",
            "'/POS I/PRP told/VBD you/PRP butter/NN would/MD n't/RB suit/VB the/DT works/NN !/. '/''\n",
            "he/PRP added/VBD looking/VBG angrily/RB at/IN the/DT March/NNP Hare/NNP ./.\n",
            "'It/NN was/VBD the/DT BEST/NNP butter/NN ,/, '/'' the/DT March/NNP Hare/NNP meekly/RB replied/VBD ./.\n",
            "'Yes/CD ,/, but/CC some/DT crumbs/NNS must/MD have/VB got/VBN in/IN as/RB well/RB ,/, '/'' the/DT Hatter/NNP grumbled/VBD :/: 'you/NN should/MD n't/RB have/VB put/VBN it/PRP in/IN with/IN the/DT bread-knife/NN ./. '/''\n",
            "The/DT March/NNP Hare/NNP took/VBD the/DT watch/NN and/CC looked/VBD at/IN it/PRP gloomily/RB :/: then/RB he/PRP dipped/VBD it/PRP into/IN his/PRP$ cup/NN of/IN tea/NN ,/, and/CC looked/VBD at/IN it/PRP again/RB :/: but/CC he/PRP could/MD think/VB of/IN nothing/NN better/NN to/TO say/VB than/IN his/PRP$ first/JJ remark/NN ,/, 'It/'' was/VBD the/DT BEST/NNP butter/NN ,/, you/PRP know/VBP ./. '/''\n",
            "Alice/NNP had/VBD been/VBN looking/VBG over/IN his/PRP$ shoulder/NN with/IN some/DT curiosity/NN ./.\n",
            "'What/IN a/DT funny/JJ watch/NN !/. '/''\n",
            "she/PRP remarked/VBD ./.\n",
            "'It/CD tells/VBZ the/DT day/NN of/IN the/DT month/NN ,/, and/CC doesn't/VB tell/VB what/WP o'clock/IN it/PRP is/VBZ !/. '/''\n",
            "'Why/NNS should/MD it/PRP ?/. '/''\n",
            "muttered/VBD the/DT Hatter/NNP ./.\n",
            "'Does/NNS YOUR/NNP watch/NN tell/NN you/PRP what/WP year/NN it/PRP is/VBZ ?/. '/''\n",
            "'Of/'' course/NN not/RB ,/, '/'' Alice/NNP replied/VBD very/RB readily/RB :/: 'but/NN that/DT 's/VBZ because/IN it/PRP stays/VBZ the/DT same/JJ year/NN for/IN such/PDT a/DT long/JJ time/NN together/RB ./. '/''\n",
            "'Which/'' is/VBZ just/RB the/DT case/NN with/IN MINE/NNP ,/, '/'' said/VBD the/DT Hatter/NNP ./.\n",
            "Alice/NNP felt/VBD dreadfully/RB puzzled/VBN ./.\n",
            "The/DT Hatter/NNP 's/POS remark/NN seemed/VBD to/TO have/VB no/DT sort/NN of/IN meaning/NN in/IN it/PRP ,/, and/CC yet/RB it/PRP was/VBD certainly/RB English/NNP ./.\n",
            "'/POS I/PRP do/VBP n't/RB quite/RB understand/VB you/PRP ,/, '/'' she/PRP said/VBD ,/, as/RB politely/RB as/IN she/PRP could/MD ./.\n",
            "'The/POS Dormouse/NNP is/VBZ asleep/RB again/RB ,/, '/'' said/VBD the/DT Hatter/NNP ,/, and/CC he/PRP poured/VBD a/DT little/JJ hot/JJ tea/NN upon/IN its/PRP$ nose/NN ./.\n",
            "The/DT Dormouse/NNP shook/VBD its/PRP$ head/NN impatiently/RB ,/, and/CC said/VBD ,/, without/IN opening/VBG its/PRP$ eyes/NNS ,/, 'Of/'' course/NN ,/, of/IN course/NN ;/: just/RB what/WP I/PRP was/VBD going/VBG to/TO remark/VB myself/PRP ./. '/''\n",
            "'Have/VB you/PRP guessed/VBN the/DT riddle/NN yet/RB ?/. '/''\n",
            "the/DT Hatter/NNP said/VBD ,/, turning/VBG to/TO Alice/NNP again/RB ./.\n",
            "'No/CD ,/, I/PRP give/VBP it/PRP up/RP ,/, '/'' Alice/NNP replied/VBD :/: 'what/WP 's/VBZ the/DT answer/NN ?/. '/''\n",
            "'/POS I/PRP have/VBP n't/RB the/DT slightest/JJS idea/NN ,/, '/'' said/VBD the/DT Hatter/NNP ./.\n",
            "'Nor/CC I/PRP ,/, '/'' said/VBD the/DT March/NNP Hare/NNP ./.\n",
            "Alice/NNP sighed/VBD wearily/RB ./.\n",
            "'/POS I/PRP think/VBP you/PRP might/MD do/VB something/NN better/RBR with/IN the/DT time/NN ,/, '/'' she/PRP said/VBD ,/, 'than/'' waste/NN it/PRP in/IN asking/VBG riddles/NNS that/WDT have/VBP no/DT answers/NNS ./. '/''\n",
            "'If/IN you/PRP knew/VBD Time/NNP as/RB well/RB as/IN I/PRP do/VBP ,/, '/'' said/VBD the/DT Hatter/NNP ,/, 'you/NNP would/MD n't/RB talk/VB about/IN wasting/VBG IT/NNP ./.\n",
            "It/PRP 's/VBZ HIM/NNP ./. '/''\n",
            "'/POS I/PRP do/VBP n't/RB know/VB what/WP you/PRP mean/VBP ,/, '/'' said/VBD Alice/NNP ./.\n",
            "'Of/POS course/NN you/PRP do/VBP n't/RB !/. '/''\n",
            "the/DT Hatter/NNP said/VBD ,/, tossing/VBG his/PRP$ head/NN contemptuously/RB ./.\n",
            "'/POS I/PRP dare/VBP say/VB you/PRP never/RB even/RB spoke/VBD to/TO Time/NNP !/. '/''\n",
            "'Perhaps/NNS not/RB ,/, '/'' Alice/NNP cautiously/RB replied/VBD :/: 'but/NN I/PRP know/VBP I/PRP have/VBP to/TO beat/VB time/NN when/WRB I/PRP learn/VBP music/NN ./. '/''\n",
            "'Ah/CD !/.\n",
            "that/DT accounts/VBZ for/IN it/PRP ,/, '/'' said/VBD the/DT Hatter/NNP ./.\n",
            "'He/NNS wo/MD n't/RB stand/VB beating/NN ./.\n",
            "Now/RB ,/, if/IN you/PRP only/RB kept/VBD on/IN good/JJ terms/NNS with/IN him/PRP ,/, he/PRP 'd/MD do/VB almost/RB anything/NN you/PRP liked/VBD with/IN the/DT clock/NN ./.\n",
            "For/IN instance/NN ,/, suppose/VB it/PRP were/VBD nine/CD o'clock/NN in/IN the/DT morning/NN ,/, just/RB time/NN to/TO begin/VB lessons/NNS :/: you/PRP 'd/MD only/RB have/VB to/TO whisper/VB a/DT hint/NN to/TO Time/NNP ,/, and/CC round/NN goes/VBZ the/DT clock/NN in/IN a/DT twinkling/NN !/.\n",
            "Half-past/NNP one/CD ,/, time/NN for/IN dinner/NN !/. '/''\n",
            "(/( '/'' I/PRP only/RB wish/VBD it/PRP was/VBD ,/, '/'' the/DT March/NNP Hare/NNP said/VBD to/TO itself/PRP in/IN a/DT whisper/NN ./. )/)\n",
            "'That/WDT would/MD be/VB grand/JJ ,/, certainly/RB ,/, '/'' said/VBD Alice/NNP thoughtfully/RB :/: 'but/NN then/RB --/: I/PRP should/MD n't/RB be/VB hungry/JJ for/IN it/PRP ,/, you/PRP know/VBP ./. '/''\n",
            "'Not/NNS at/IN first/JJ ,/, perhaps/RB ,/, '/'' said/VBD the/DT Hatter/NNP :/: 'but/NN you/PRP could/MD keep/VB it/PRP to/TO half-past/JJ one/CD as/RB long/RB as/IN you/PRP liked/VBD ./. '/''\n",
            "'Is/NNS that/IN the/DT way/NN YOU/NNP manage/NN ?/. '/''\n",
            "Alice/NNP asked/VBD ./.\n",
            "The/DT Hatter/NNP shook/VBD his/PRP$ head/NN mournfully/RB ./.\n",
            "'Not/CD I/PRP !/. '/''\n",
            "he/PRP replied/VBD ./.\n",
            "'We/POS quarrelled/VBN last/JJ March/NNP --/: just/RB before/IN HE/NNP went/VBD mad/JJ ,/, you/PRP know/VBP --/: '/'' (/( pointing/VBG with/IN his/PRP$ tea/NN spoon/NN at/IN the/DT March/NNP Hare/NNP ,/, )/) '/'' --/: it/PRP was/VBD at/IN the/DT great/JJ concert/NN given/VBN by/IN the/DT Queen/NNP of/IN Hearts/NNP ,/, and/CC I/PRP had/VBD to/TO sing/VBG ``/`` Twinkle/NNP ,/, twinkle/NN ,/, little/JJ bat/NN !/.\n",
            "How/WRB I/PRP wonder/VBP what/WP you/PRP 're/VBP at/IN !/. ''/''\n",
            "You/PRP know/VBP the/DT song/NN ,/, perhaps/RB ?/. '/''\n",
            "'/POS I/PRP 've/VBP heard/VBN something/NN like/IN it/PRP ,/, '/'' said/VBD Alice/NNP ./.\n",
            "'It/NN goes/VBZ on/IN ,/, you/PRP know/VBP ,/, '/'' the/DT Hatter/NNP continued/VBD ,/, 'in/'' this/DT way/NN :/: --/: ``/`` Up/IN above/IN the/DT world/NN you/PRP fly/VBP ,/, Like/IN a/DT tea-tray/NN in/IN the/DT sky/NN ./.\n",
            "Twinkle/NNP ,/, twinkle/NN --/: ''/'' '/POS Here/RB the/DT Dormouse/NNP shook/VBD itself/PRP ,/, and/CC began/VBD singing/VBG in/IN its/PRP$ sleep/NN 'Twinkle/NN ,/, twinkle/NN ,/, twinkle/NN ,/, twinkle/NN --/: '/POS and/CC went/VBD on/IN so/IN long/JJ that/IN they/PRP had/VBD to/TO pinch/VB it/PRP to/TO make/VB it/PRP stop/VB ./.\n",
            "'Well/UH ,/, I/PRP 'd/MD hardly/RB finished/VB the/DT first/JJ verse/NN ,/, '/'' said/VBD the/DT Hatter/NNP ,/, 'when/VBZ the/DT Queen/NNP jumped/VBD up/RP and/CC bawled/VBN out/RP ,/, ``/`` He/PRP 's/VBZ murdering/VBG the/DT time/NN !/.\n",
            "Off/IN with/IN his/PRP$ head/NN !/. ''/'' '/''\n",
            "'How/POS dreadfully/RB savage/JJ !/. '/''\n",
            "exclaimed/VBN Alice/NNP ./.\n",
            "'And/CD ever/RB since/IN that/DT ,/, '/'' the/DT Hatter/NNP went/VBD on/IN in/IN a/DT mournful/JJ tone/NN ,/, 'he/'' won't/WRB do/VB a/DT thing/NN I/PRP ask/VBP !/.\n",
            "It/PRP 's/VBZ always/RB six/CD o'clock/NN now/RB ./. '/''\n",
            "A/DT bright/JJ idea/NN came/VBD into/IN Alice/NNP 's/POS head/NN ./.\n",
            "'Is/NNS that/IN the/DT reason/NN so/RB many/JJ tea-things/NNS are/VBP put/VBN out/RP here/RB ?/. '/''\n",
            "she/PRP asked/VBD ./.\n",
            "'Yes/UH ,/, that/DT 's/VBZ it/PRP ,/, '/'' said/VBD the/DT Hatter/NNP with/IN a/DT sigh/NN :/: 'it/NN 's/POS always/RB tea-time/NN ,/, and/CC we/PRP 've/VBP no/DT time/NN to/TO wash/VB the/DT things/NNS between/IN whiles/NNS ./. '/''\n",
            "'Then/IN you/PRP keep/VBP moving/VBG round/NN ,/, I/PRP suppose/VBP ?/. '/''\n",
            "said/VBD Alice/NNP ./.\n",
            "'Exactly/RB so/RB ,/, '/'' said/VBD the/DT Hatter/NNP :/: 'as/CD the/DT things/NNS get/VBP used/VBN up/RP ./. '/''\n",
            "'But/VB what/WP happens/VBZ when/WRB you/PRP come/VBP to/TO the/DT beginning/NN again/RB ?/. '/''\n",
            "Alice/RB ventured/VBN to/TO ask/VB ./.\n",
            "'Suppose/IN we/PRP change/VBP the/DT subject/NN ,/, '/'' the/DT March/NNP Hare/NNP interrupted/VBD ,/, yawning/VBG ./.\n",
            "'/POS I/PRP 'm/VBP getting/VBG tired/VBN of/IN this/DT ./.\n",
            "I/PRP vote/VBP the/DT young/JJ lady/NN tells/VBZ us/PRP a/DT story/NN ./. '/''\n",
            "'/POS I/PRP 'm/VBP afraid/JJ I/PRP do/VBP n't/RB know/VB one/CD ,/, '/'' said/VBD Alice/NNP ,/, rather/RB alarmed/VBD at/IN the/DT proposal/NN ./.\n",
            "'Then/'' the/DT Dormouse/NNP shall/MD !/. '/''\n",
            "they/PRP both/DT cried/VBD ./.\n",
            "'Wake/VB up/RP ,/, Dormouse/NNP !/. '/''\n",
            "And/CC they/PRP pinched/VBD it/PRP on/IN both/DT sides/NNS at/IN once/RB ./.\n",
            "The/DT Dormouse/NNP slowly/NN opened/VBD his/PRP$ eyes/NNS ./.\n",
            "'/'' I/PRP was/VBD n't/RB asleep/RB ,/, '/'' he/PRP said/VBD in/IN a/DT hoarse/NN ,/, feeble/JJ voice/NN :/: '/POS I/PRP heard/VBP every/DT word/NN you/PRP fellows/VBP were/VBD saying/VBG ./. '/''\n",
            "'Tell/VB us/PRP a/DT story/NN !/. '/''\n",
            "said/VBD the/DT March/NNP Hare/NNP ./.\n",
            "'Yes/CD ,/, please/VB do/VB !/. '/''\n",
            "pleaded/JJ Alice/NNP ./.\n",
            "'And/RB be/VB quick/JJ about/IN it/PRP ,/, '/'' added/VBD the/DT Hatter/NNP ,/, 'or/'' you/PRP 'll/MD be/VB asleep/RB again/RB before/IN it/PRP 's/VBZ done/VBN ./. '/''\n",
            "'Once/NN upon/IN a/DT time/NN there/EX were/VBD three/CD little/JJ sisters/NNS ,/, '/'' the/DT Dormouse/NNP began/VBD in/IN a/DT great/JJ hurry/NN ;/: 'and/CC their/PRP$ names/NNS were/VBD Elsie/NNP ,/, Lacie/NNP ,/, and/CC Tillie/NNP ;/: and/CC they/PRP lived/VBD at/IN the/DT bottom/NN of/IN a/DT well/NN --/: '/POS 'What/WP did/VBD they/PRP live/VB on/IN ?/. '/''\n",
            "said/VBD Alice/NNP ,/, who/WP always/RB took/VBD a/DT great/JJ interest/NN in/IN questions/NNS of/IN eating/NN and/CC drinking/NN ./.\n",
            "'They/CD lived/VBD on/IN treacle/NN ,/, '/'' said/VBD the/DT Dormouse/NNP ,/, after/IN thinking/VBG a/DT minute/NN or/CC two/CD ./.\n",
            "'They/NNS could/MD n't/RB have/VB done/VBN that/DT ,/, you/PRP know/VBP ,/, '/'' Alice/NNP gently/RB remarked/VBD ;/: 'they'd/NNS have/VBP been/VBN ill.'/VBN 'So/IN they/PRP were/VBD ,/, '/'' said/VBD the/DT Dormouse/NNP ;/: 'VERY/CD ill.'/NN Alice/NNP tried/VBD to/TO fancy/VB to/TO herself/VB what/WP such/PDT an/DT extraordinary/JJ ways/NNS of/IN living/NN would/MD be/VB like/IN ,/, but/CC it/PRP puzzled/VBD her/PRP too/RB much/JJ ,/, so/IN she/PRP went/VBD on/IN :/: 'But/CD why/WRB did/VBD they/PRP live/VBP at/IN the/DT bottom/NN of/IN a/DT well/NN ?/. '/''\n",
            "'Take/VB some/DT more/RBR tea/JJ ,/, '/'' the/DT March/NNP Hare/NNP said/VBD to/TO Alice/NNP ,/, very/RB earnestly/RB ./.\n",
            "'/POS I/PRP 've/VBP had/VBD nothing/NN yet/RB ,/, '/'' Alice/NNP replied/VBD in/IN an/DT offended/JJ tone/NN ,/, 'so/'' I/PRP can't/VBP take/VB more/JJR ./. '/''\n",
            "'You/POS mean/NN you/PRP ca/MD n't/RB take/VB LESS/JJR ,/, '/'' said/VBD the/DT Hatter/NNP :/: 'it/NN 's/POS very/RB easy/JJ to/TO take/VB MORE/JJR than/IN nothing/NN ./. '/''\n",
            "'Nobody/NN asked/VBD YOUR/JJ opinion/NN ,/, '/'' said/VBD Alice/NNP ./.\n",
            "'Who/NN 's/POS making/VBG personal/JJ remarks/NNS now/RB ?/. '/''\n",
            "the/DT Hatter/NNP asked/VBD triumphantly/RB ./.\n",
            "Alice/NNP did/VBD not/RB quite/RB know/VB what/WP to/TO say/VB to/TO this/DT :/: so/RB she/PRP helped/VBD herself/PRP to/TO some/DT tea/NN and/CC bread-and-butter/NN ,/, and/CC then/RB turned/VBD to/TO the/DT Dormouse/NNP ,/, and/CC repeated/VBD her/PRP$ question/NN ./.\n",
            "'Why/NNS did/VBD they/PRP live/VBP at/IN the/DT bottom/NN of/IN a/DT well/NN ?/. '/''\n",
            "The/DT Dormouse/NNP again/RB took/VBD a/DT minute/NN or/CC two/CD to/TO think/VB about/IN it/PRP ,/, and/CC then/RB said/VBD ,/, 'It/NNP was/VBD a/DT treacle-well/NN ./. '/''\n",
            "'There/EX 's/VBZ no/DT such/JJ thing/NN !/. '/''\n",
            "Alice/NNP was/VBD beginning/VBG very/RB angrily/RB ,/, but/CC the/DT Hatter/NNP and/CC the/DT March/NNP Hare/NNP went/VBD 'Sh/CD !/.\n",
            "sh/NN !/. '/''\n",
            "and/CC the/DT Dormouse/NNP sulkily/RB remarked/VBD ,/, 'If/'' you/PRP ca/MD n't/RB be/VB civil/JJ ,/, you/PRP 'd/MD better/VB finish/VB the/DT story/NN for/IN yourself/PRP ./. '/''\n",
            "'No/CD ,/, please/NN go/VB on/IN !/. '/''\n",
            "Alice/NNP said/VBD very/RB humbly/RB ;/: '/'' I/PRP wo/MD n't/RB interrupt/VB again/RB ./.\n",
            "I/PRP dare/VBP say/VB there/EX may/MD be/VB ONE/CD ./. '/''\n",
            "'One/CD ,/, indeed/RB !/. '/''\n",
            "said/VBD the/DT Dormouse/NNP indignantly/RB ./.\n",
            "However/RB ,/, he/PRP consented/VBD to/TO go/VB on/IN ./.\n",
            "'And/NNS so/RB these/DT three/CD little/JJ sisters/NNS --/: they/PRP were/VBD learning/VBG to/TO draw/VB ,/, you/PRP know/VBP --/: '/'' 'What/WDT did/VBD they/PRP draw/VB ?/. '/''\n",
            "said/VBD Alice/NNP ,/, quite/RB forgetting/VBG her/PRP$ promise/NN ./.\n",
            "'Treacle/NN ,/, '/'' said/VBD the/DT Dormouse/NNP ,/, without/IN considering/VBG at/IN all/PDT this/DT time/NN ./.\n",
            "'/POS I/PRP want/VBP a/DT clean/JJ cup/NN ,/, '/'' interrupted/VBD the/DT Hatter/NN :/: 'let/NN 's/POS all/DT move/VBP one/CD place/NN on/IN ./. '/''\n",
            "He/PRP moved/VBD on/IN as/IN he/PRP spoke/VBD ,/, and/CC the/DT Dormouse/NNP followed/VBD him/PRP :/: the/DT March/NNP Hare/NNP moved/VBD into/IN the/DT Dormouse/NNP 's/POS place/NN ,/, and/CC Alice/NNP rather/RB unwillingly/RB took/VBD the/DT place/NN of/IN the/DT March/NNP Hare/NNP ./.\n",
            "The/DT Hatter/NNP was/VBD the/DT only/JJ one/NN who/WP got/VBD any/DT advantage/NN from/IN the/DT change/NN :/: and/CC Alice/NNP was/VBD a/DT good/JJ deal/NN worse/JJR off/RP than/IN before/RB ,/, as/IN the/DT March/NNP Hare/NNP had/VBD just/RB upset/VBN the/DT milk-jug/NN into/IN his/PRP$ plate/NN ./.\n",
            "Alice/NNP did/VBD not/RB wish/VB to/TO offend/VB the/DT Dormouse/NNP again/RB ,/, so/IN she/PRP began/VBD very/RB cautiously/RB :/: 'But/NN I/PRP do/VBP n't/RB understand/VB ./.\n",
            "Where/WRB did/VBD they/PRP draw/VB the/DT treacle/NN from/IN ?/. '/''\n",
            "'You/NNS can/MD draw/VB water/NN out/IN of/IN a/DT water-well/NN ,/, '/'' said/VBD the/DT Hatter/NNP ;/: 'so/CD I/PRP should/MD think/VB you/PRP could/MD draw/VB treacle/VB out/IN of/IN a/DT treacle-well/NN --/: eh/NN ,/, stupid/JJ ?/. '/''\n",
            "'But/IN they/PRP were/VBD IN/NNP the/DT well/RB ,/, '/'' Alice/NNP said/VBD to/TO the/DT Dormouse/NNP ,/, not/RB choosing/VBG to/TO notice/VB this/DT last/JJ remark/NN ./.\n",
            "'Of/POS course/NN they/PRP were/VBD '/'' ,/, said/VBD the/DT Dormouse/NNP ;/: '/POS --/: well/RB in/IN ./. '/''\n",
            "This/DT answer/NN so/RB confused/JJ poor/JJ Alice/NNP ,/, that/IN she/PRP let/VBD the/DT Dormouse/NNP go/VBP on/IN for/IN some/DT time/NN without/IN interrupting/VBG it/PRP ./.\n",
            "'They/NNS were/VBD learning/VBG to/TO draw/VB ,/, '/'' the/DT Dormouse/NNP went/VBD on/IN ,/, yawning/VBG and/CC rubbing/VBG its/PRP$ eyes/NNS ,/, for/IN it/PRP was/VBD getting/VBG very/RB sleepy/RB ;/: 'and/CC they/PRP drew/VBD all/DT manner/NN of/IN things/NNS --/: everything/NN that/IN begins/VBZ with/IN an/DT M/NNP --/: '/POS 'Why/POS with/IN an/DT M/NNP ?/. '/''\n",
            "said/VBD Alice/NNP ./.\n",
            "'Why/MD not/RB ?/. '/''\n",
            "said/VBD the/DT March/NNP Hare/NNP ./.\n",
            "Alice/NNP was/VBD silent/JJ ./.\n",
            "The/DT Dormouse/NNP had/VBD closed/VBN its/PRP$ eyes/NNS by/IN this/DT time/NN ,/, and/CC was/VBD going/VBG off/RP into/IN a/DT doze/NN ;/: but/CC ,/, on/IN being/VBG pinched/VBN by/IN the/DT Hatter/NNP ,/, it/PRP woke/VBD up/RP again/RB with/IN a/DT little/JJ shriek/NN ,/, and/CC went/VBD on/IN :/: '/POS --/: that/IN begins/VBZ with/IN an/DT M/NNP ,/, such/JJ as/IN mouse-traps/NNS ,/, and/CC the/DT moon/NN ,/, and/CC memory/NN ,/, and/CC muchness/NN --/: you/PRP know/VBP you/PRP say/VBP things/NNS are/VBP ``/`` much/JJ of/IN a/DT muchness/NN ''/'' --/: did/VBD you/PRP ever/RB see/VB such/JJ a/DT thing/NN as/IN a/DT drawing/NN of/IN a/DT muchness/NN ?/. '/''\n",
            "'Really/RB ,/, now/RB you/PRP ask/VBP me/PRP ,/, '/'' said/VBD Alice/NNP ,/, very/RB much/RB confused/VBN ,/, '/'' I/PRP don't/VBP think/VB --/: '/POS 'Then/IN you/PRP should/MD n't/RB talk/VB ,/, '/'' said/VBD the/DT Hatter/NNP ./.\n",
            "This/DT piece/NN of/IN rudeness/NN was/VBD more/JJR than/IN Alice/NNP could/MD bear/VB :/: she/PRP got/VBD up/RB in/IN great/JJ disgust/NN ,/, and/CC walked/VBD off/RP ;/: the/DT Dormouse/NNP fell/VBD asleep/RB instantly/RB ,/, and/CC neither/DT of/IN the/DT others/NNS took/VBD the/DT least/JJS notice/NN of/IN her/PRP$ going/VBG ,/, though/IN she/PRP looked/VBD back/RB once/RB or/CC twice/RB ,/, half/NN hoping/VBG that/IN they/PRP would/MD call/VB after/IN her/PRP :/: the/DT last/JJ time/NN she/PRP saw/VBD them/PRP ,/, they/PRP were/VBD trying/VBG to/TO put/VB the/DT Dormouse/NNP into/IN the/DT teapot/NN ./.\n",
            "'At/CD any/DT rate/NN I/PRP 'll/MD never/RB go/VB THERE/NNP again/RB !/. '/''\n",
            "said/VBD Alice/NNP as/IN she/PRP picked/VBD her/PRP way/NN through/IN the/DT wood/NN ./.\n",
            "'It/NN 's/POS the/DT stupidest/JJS tea-party/NN I/PRP ever/RB was/VBD at/IN in/IN all/DT my/PRP$ life/NN !/. '/''\n",
            "Just/RB as/IN she/PRP said/VBD this/DT ,/, she/PRP noticed/VBD that/IN one/CD of/IN the/DT trees/NNS had/VBD a/DT door/NN leading/VBG right/RB into/IN it/PRP ./.\n",
            "'That/WP 's/VBZ very/RB curious/JJ !/. '/''\n",
            "she/PRP thought/VBD ./.\n",
            "'But/CD everything/NN 's/POS curious/JJ today/NN ./.\n",
            "I/PRP think/VBP I/PRP may/MD as/RB well/RB go/VB in/IN at/IN once/RB ./. '/''\n",
            "And/CC in/IN she/PRP went/VBD ./.\n",
            "Once/RB more/JJR she/PRP found/VBD herself/PRP in/IN the/DT long/JJ hall/NN ,/, and/CC close/RB to/TO the/DT little/JJ glass/NN table/NN ./.\n",
            "'Now/CD ,/, I/PRP 'll/MD manage/VB better/RBR this/DT time/NN ,/, '/'' she/PRP said/VBD to/TO herself/VB ,/, and/CC began/VBD by/IN taking/VBG the/DT little/JJ golden/JJ key/NN ,/, and/CC unlocking/VBG the/DT door/NN that/WDT led/VBD into/IN the/DT garden/NN ./.\n",
            "Then/RB she/PRP went/VBD to/TO work/VB nibbling/VBG at/IN the/DT mushroom/NN (/( she/PRP had/VBD kept/VBN a/DT piece/NN of/IN it/PRP in/IN her/PRP$ pocket/NN )/) till/NN she/PRP was/VBD about/IN a/DT foot/NN high/JJ :/: then/RB she/PRP walked/VBD down/RP the/DT little/JJ passage/NN :/: and/CC THEN/NNP --/: she/PRP found/VBD herself/PRP at/IN last/JJ in/IN the/DT beautiful/JJ garden/NN ,/, among/IN the/DT bright/JJ flower-beds/NNS and/CC the/DT cool/NN fountains/NNS ./.\n",
            "CHAPTER/NN VIII/NNP ./.\n",
            "The/DT Queen/NNP 's/POS Croquet-Ground/NN A/NNP large/JJ rose-tree/JJ stood/NN near/IN the/DT entrance/NN of/IN the/DT garden/NN :/: the/DT roses/NNS growing/VBG on/IN it/PRP were/VBD white/JJ ,/, but/CC there/EX were/VBD three/CD gardeners/NNS at/IN it/PRP ,/, busily/RB painting/VBG them/PRP red/JJ ./.\n",
            "Alice/NNP thought/VBD this/DT a/DT very/RB curious/JJ thing/NN ,/, and/CC she/PRP went/VBD nearer/RB to/TO watch/VB them/PRP ,/, and/CC just/RB as/IN she/PRP came/VBD up/RB to/TO them/PRP she/PRP heard/VBD one/CD of/IN them/PRP say/VBP ,/, 'Look/PRP out/RB now/RB ,/, Five/CD !/.\n",
            "Do/VBP n't/RB go/VB splashing/VBG paint/NN over/IN me/PRP like/IN that/DT !/. '/''\n",
            "'/POS I/PRP could/MD n't/RB help/VB it/PRP ,/, '/'' said/VBD Five/CD ,/, in/IN a/DT sulky/JJ tone/NN ;/: 'Seven/CC jogged/VBD my/PRP$ elbow/NN ./. '/''\n",
            "On/IN which/WDT Seven/NNP looked/VBD up/RP and/CC said/VBD ,/, 'That/WP 's/VBZ right/JJ ,/, Five/CD !/.\n",
            "Always/NNS lay/VBD the/DT blame/NN on/IN others/NNS !/. '/''\n",
            "'YOU/POS 'D/MD better/RBR not/RB talk/VB !/. '/''\n",
            "said/VBD Five/CD ./.\n",
            "'/POS I/PRP heard/VBD the/DT Queen/NNP say/VBP only/RB yesterday/NN you/PRP deserved/VBD to/TO be/VB beheaded/VBN !/. '/''\n",
            "'What/DT for/IN ?/. '/''\n",
            "said/VBD the/DT one/NN who/WP had/VBD spoken/VBN first/RB ./.\n",
            "'That/DT 's/VBZ none/NN of/IN YOUR/NNP business/NN ,/, Two/CD !/. '/''\n",
            "said/VBD Seven/NNP ./.\n",
            "'Yes/UH ,/, it/PRP IS/VBZ his/PRP$ business/NN !/. '/''\n",
            "said/VBD Five/CD ,/, 'and/VBP I/PRP 'll/MD tell/VB him/PRP --/: it/PRP was/VBD for/IN bringing/VBG the/DT cook/NN tulip-roots/JJ instead/RB of/IN onions/NNS ./. '/''\n",
            "Seven/NNP flung/VBD down/RP his/PRP$ brush/NN ,/, and/CC had/VBD just/RB begun/VBN 'Well/UH ,/, of/IN all/PDT the/DT unjust/JJ things/NNS --/: '/'' when/WRB his/PRP$ eye/NN chanced/VBD to/TO fall/VB upon/JJ Alice/NNP ,/, as/IN she/PRP stood/VBD watching/VBG them/PRP ,/, and/CC he/PRP checked/VBD himself/PRP suddenly/RB :/: the/DT others/NNS looked/VBD round/NN also/RB ,/, and/CC all/DT of/IN them/PRP bowed/VBD low/JJ ./.\n",
            "'Would/MD you/PRP tell/VB me/PRP ,/, '/'' said/VBD Alice/NNP ,/, a/DT little/JJ timidly/RB ,/, 'why/IN you/PRP are/VBP painting/VBG those/DT roses/NNS ?/. '/''\n",
            "Five/CD and/CC Seven/NNP said/VBD nothing/NN ,/, but/CC looked/VBD at/IN Two/CD ./.\n",
            "Two/CD began/VBD in/IN a/DT low/JJ voice/NN ,/, 'Why/'' the/DT fact/NN is/VBZ ,/, you/PRP see/VBP ,/, Miss/NNP ,/, this/DT here/RB ought/MD to/TO have/VB been/VBN a/DT RED/JJ rose-tree/NN ,/, and/CC we/PRP put/VBD a/DT white/JJ one/CD in/IN by/IN mistake/NN ;/: and/CC if/IN the/DT Queen/NNP was/VBD to/TO find/VB it/PRP out/RP ,/, we/PRP should/MD all/DT have/VB our/PRP$ heads/NNS cut/VBD off/RP ,/, you/PRP know/VBP ./.\n",
            "So/RB you/PRP see/VBP ,/, Miss/NNP ,/, we/PRP 're/VBP doing/VBG our/PRP$ best/JJS ,/, afore/IN she/PRP comes/VBZ ,/, to/TO --/: '/'' At/IN this/DT moment/NN Five/CD ,/, who/WP had/VBD been/VBN anxiously/RB looking/VBG across/IN the/DT garden/NN ,/, called/VBN out/RP 'The/CD Queen/JJ !/.\n",
            "The/DT Queen/NNP !/. '/''\n",
            "and/CC the/DT three/CD gardeners/NNS instantly/RB threw/VBD themselves/PRP flat/JJ upon/IN their/PRP$ faces/VBZ ./.\n",
            "There/EX was/VBD a/DT sound/NN of/IN many/JJ footsteps/NNS ,/, and/CC Alice/NNP looked/VBD round/NN ,/, eager/JJ to/TO see/VB the/DT Queen/NNP ./.\n",
            "First/RB came/VBD ten/JJ soldiers/NNS carrying/VBG clubs/NNS ;/: these/DT were/VBD all/DT shaped/VBN like/IN the/DT three/CD gardeners/NNS ,/, oblong/RB and/CC flat/JJ ,/, with/IN their/PRP$ hands/NNS and/CC feet/NNS at/IN the/DT corners/NNS :/: next/IN the/DT ten/JJ courtiers/NNS ;/: these/DT were/VBD ornamented/VBN all/DT over/IN with/IN diamonds/NNS ,/, and/CC walked/VBD two/CD and/CC two/CD ,/, as/IN the/DT soldiers/NNS did/VBD ./.\n",
            "After/IN these/DT came/VBD the/DT royal/JJ children/NNS ;/: there/EX were/VBD ten/NNS of/IN them/PRP ,/, and/CC the/DT little/JJ dears/NNS came/VBD jumping/VBG merrily/RB along/RB hand/NN in/IN hand/NN ,/, in/IN couples/NNS :/: they/PRP were/VBD all/DT ornamented/VBN with/IN hearts/NNS ./.\n",
            "Next/JJ came/VBD the/DT guests/NNS ,/, mostly/RB Kings/NNP and/CC Queens/NNP ,/, and/CC among/IN them/PRP Alice/NNP recognised/VBD the/DT White/NNP Rabbit/NN :/: it/PRP was/VBD talking/VBG in/IN a/DT hurried/JJ nervous/JJ manner/NN ,/, smiling/VBG at/IN everything/NN that/WDT was/VBD said/VBD ,/, and/CC went/VBD by/IN without/IN noticing/VBG her/PRP$ ./.\n",
            "Then/RB followed/VBD the/DT Knave/NNP of/IN Hearts/NNP ,/, carrying/VBG the/DT King's/NNP crown/NN on/IN a/DT crimson/NN velvet/NN cushion/NN ;/: and/CC ,/, last/JJ of/IN all/PDT this/DT grand/JJ procession/NN ,/, came/VBD THE/NNP KING/NNP AND/NNP QUEEN/NNP OF/NNP HEARTS/NNP ./.\n",
            "Alice/NNP was/VBD rather/RB doubtful/JJ whether/IN she/PRP ought/MD not/RB to/TO lie/VB down/RP on/IN her/PRP$ face/NN like/IN the/DT three/CD gardeners/NNS ,/, but/CC she/PRP could/MD not/RB remember/VB ever/RB having/VBG heard/VBN of/IN such/JJ a/DT rule/NN at/IN processions/NNS ;/: 'and/CD besides/NNS ,/, what/WP would/MD be/VB the/DT use/NN of/IN a/DT procession/NN ,/, '/'' thought/VBD she/PRP ,/, 'if/'' people/NNS had/VBD all/DT to/TO lie/VB down/RP upon/IN their/PRP$ faces/VBZ ,/, so/IN that/IN they/PRP could/MD n't/RB see/VB it/PRP ?/. '/''\n",
            "So/IN she/PRP stood/VBD still/RB where/WRB she/PRP was/VBD ,/, and/CC waited/VBD ./.\n",
            "When/WRB the/DT procession/NN came/VBD opposite/RB to/TO Alice/NNP ,/, they/PRP all/DT stopped/VBD and/CC looked/VBD at/IN her/PRP ,/, and/CC the/DT Queen/NNP said/VBD severely/RB 'Who/VBN is/VBZ this/DT ?/. '/''\n",
            "She/PRP said/VBD it/PRP to/TO the/DT Knave/NNP of/IN Hearts/NNP ,/, who/WP only/RB bowed/VBD and/CC smiled/VBD in/IN reply/NN ./.\n",
            "'Idiot/NN !/. '/''\n",
            "said/VBD the/DT Queen/NNP ,/, tossing/VBG her/PRP$ head/NN impatiently/RB ;/: and/CC ,/, turning/VBG to/TO Alice/NNP ,/, she/PRP went/VBD on/IN ,/, 'What/WP 's/VBZ your/PRP$ name/NN ,/, child/NN ?/. '/''\n",
            "'My/POS name/NN is/VBZ Alice/NNP ,/, so/IN please/VB your/PRP$ Majesty/NNP ,/, '/'' said/VBD Alice/NNP very/RB politely/RB ;/: but/CC she/PRP added/VBD ,/, to/TO herself/VB ,/, 'Why/FW ,/, they/PRP 're/VBP only/RB a/DT pack/NN of/IN cards/NNS ,/, after/IN all/DT ./.\n",
            "I/PRP need/VBP n't/RB be/VB afraid/VBN of/IN them/PRP !/. '/''\n",
            "'And/NNS who/WP are/VBP THESE/NNP ?/. '/''\n",
            "said/VBD the/DT Queen/NNP ,/, pointing/VBG to/TO the/DT three/CD gardeners/NNS who/WP were/VBD lying/VBG round/NN the/DT rosetree/NN ;/: for/IN ,/, you/PRP see/VBP ,/, as/IN they/PRP were/VBD lying/VBG on/IN their/PRP$ faces/VBZ ,/, and/CC the/DT pattern/NN on/IN their/PRP$ backs/NNS was/VBD the/DT same/JJ as/IN the/DT rest/NN of/IN the/DT pack/NN ,/, she/PRP could/MD not/RB tell/VB whether/IN they/PRP were/VBD gardeners/NNS ,/, or/CC soldiers/NNS ,/, or/CC courtiers/NNS ,/, or/CC three/CD of/IN her/PRP$ own/JJ children/NNS ./.\n",
            "'How/WRB should/MD I/PRP know/VB ?/. '/''\n",
            "said/VBD Alice/NNP ,/, surprised/VBD at/IN her/PRP$ own/JJ courage/NN ./.\n",
            "'It/EX 's/VBZ no/DT business/NN of/IN MINE/NNP ./. '/''\n",
            "The/DT Queen/NNP turned/VBD crimson/JJ with/IN fury/NN ,/, and/CC ,/, after/IN glaring/VBG at/IN her/PRP$ for/IN a/DT moment/NN like/IN a/DT wild/JJ beast/NN ,/, screamed/VBD 'Off/POS with/IN her/PRP$ head/NN !/.\n",
            "Off/NNP --/: '/POS 'Nonsense/NN !/. '/''\n",
            "said/VBD Alice/NNP ,/, very/RB loudly/RB and/CC decidedly/RB ,/, and/CC the/DT Queen/NNP was/VBD silent/JJ ./.\n",
            "The/DT King/NNP laid/VBD his/PRP$ hand/NN upon/IN her/PRP$ arm/NN ,/, and/CC timidly/RB said/VBD 'Consider/UH ,/, my/PRP$ dear/NN :/: she/PRP is/VBZ only/RB a/DT child/NN !/. '/''\n",
            "The/DT Queen/NNP turned/VBD angrily/RB away/RB from/IN him/PRP ,/, and/CC said/VBD to/TO the/DT Knave/NNP 'Turn/NNP them/PRP over/RP !/. '/''\n",
            "The/DT Knave/NNP did/VBD so/RB ,/, very/RB carefully/RB ,/, with/IN one/CD foot/NN ./.\n",
            "'Get/VB up/RP !/. '/''\n",
            "said/VBD the/DT Queen/NNP ,/, in/IN a/DT shrill/NN ,/, loud/JJ voice/NN ,/, and/CC the/DT three/CD gardeners/NNS instantly/RB jumped/VBD up/RP ,/, and/CC began/VBD bowing/VBG to/TO the/DT King/NNP ,/, the/DT Queen/NNP ,/, the/DT royal/NN children/NNS ,/, and/CC everybody/NN else/RB ./.\n",
            "'Leave/VB off/RP that/DT !/. '/''\n",
            "screamed/VBD the/DT Queen/NNP ./.\n",
            "'You/NNS make/VBP me/PRP giddy/JJ ./. '/''\n",
            "And/CC then/RB ,/, turning/VBG to/TO the/DT rose-tree/JJ ,/, she/PRP went/VBD on/IN ,/, 'What/WP HAVE/NNP you/PRP been/VBN doing/VBG here/RB ?/. '/''\n",
            "'May/IN it/PRP please/VB your/PRP$ Majesty/NNP ,/, '/'' said/VBD Two/CD ,/, in/IN a/DT very/RB humble/JJ tone/NN ,/, going/VBG down/RP on/IN one/CD knee/NN as/IN he/PRP spoke/VBD ,/, 'we/'' were/VBD trying/VBG --/: '/'' '/POS I/PRP see/VBP !/. '/''\n",
            "said/VBD the/DT Queen/NNP ,/, who/WP had/VBD meanwhile/RB been/VBN examining/VBG the/DT roses/NNS ./.\n",
            "'Off/NNS with/IN their/PRP$ heads/NNS !/. '/''\n",
            "and/CC the/DT procession/NN moved/VBD on/IN ,/, three/CD of/IN the/DT soldiers/NNS remaining/VBG behind/IN to/TO execute/VB the/DT unfortunate/JJ gardeners/NNS ,/, who/WP ran/VBD to/TO Alice/NNP for/IN protection/NN ./.\n",
            "'You/NNS sha/VBP n't/RB be/VB beheaded/VBN !/. '/''\n",
            "said/VBD Alice/NNP ,/, and/CC she/PRP put/VBD them/PRP into/IN a/DT large/JJ flower-pot/NN that/WDT stood/VBD near/IN ./.\n",
            "The/DT three/CD soldiers/NNS wandered/VBD about/IN for/IN a/DT minute/NN or/CC two/CD ,/, looking/VBG for/IN them/PRP ,/, and/CC then/RB quietly/RB marched/VBN off/RP after/IN the/DT others/NNS ./.\n",
            "'Are/POS their/PRP$ heads/NNS off/IN ?/. '/''\n",
            "shouted/VBD the/DT Queen/NNP ./.\n",
            "'Their/PRP$ heads/NNS are/VBP gone/VBN ,/, if/IN it/PRP please/VB your/PRP$ Majesty/NNP !/. '/''\n",
            "the/DT soldiers/NNS shouted/VBD in/IN reply/NN ./.\n",
            "'That/DT 's/VBZ right/JJ !/. '/''\n",
            "shouted/VBD the/DT Queen/NNP ./.\n",
            "'Can/MD you/PRP play/VB croquet/VB ?/. '/''\n",
            "The/DT soldiers/NNS were/VBD silent/JJ ,/, and/CC looked/VBD at/IN Alice/NNP ,/, as/IN the/DT question/NN was/VBD evidently/RB meant/VBN for/IN her/PRP ./.\n",
            "'Yes/UH !/. '/''\n",
            "shouted/VBN Alice/NNP ./.\n",
            "'Come/VBN on/IN ,/, then/RB !/. '/''\n",
            "roared/VBD the/DT Queen/NNP ,/, and/CC Alice/NNP joined/VBD the/DT procession/NN ,/, wondering/VBG very/RB much/JJ what/WP would/MD happen/VB next/RB ./.\n",
            "'It/NN 's/POS --/: it/PRP 's/VBZ a/DT very/RB fine/JJ day/NN !/. '/''\n",
            "said/VBD a/DT timid/JJ voice/NN at/IN her/PRP$ side/NN ./.\n",
            "She/PRP was/VBD walking/VBG by/IN the/DT White/NNP Rabbit/NNP ,/, who/WP was/VBD peeping/VBG anxiously/RB into/IN her/PRP$ face/NN ./.\n",
            "'Very/RB ,/, '/'' said/VBD Alice/NNP :/: '/POS --/: where/WRB 's/VBZ the/DT Duchess/NNP ?/. '/''\n",
            "'Hush/NN !/.\n",
            "Hush/NN !/. '/''\n",
            "said/VBD the/DT Rabbit/NNP in/IN a/DT low/JJ ,/, hurried/VBD tone/NN ./.\n",
            "He/PRP looked/VBD anxiously/RB over/IN his/PRP$ shoulder/NN as/IN he/PRP spoke/VBD ,/, and/CC then/RB raised/VBD himself/PRP upon/IN tiptoe/NN ,/, put/VBD his/PRP$ mouth/NN close/RB to/TO her/PRP$ ear/NN ,/, and/CC whispered/VBD 'She/PRP 's/VBZ under/IN sentence/NN of/IN execution/NN ./. '/''\n",
            "'What/DT for/IN ?/. '/''\n",
            "said/VBD Alice/NNP ./.\n",
            "'Did/IN you/PRP say/VBP ``/`` What/WP a/DT pity/NN !/. ''/'' ?/. '/''\n",
            "the/DT Rabbit/NNP asked/VBD ./.\n",
            "'No/CD ,/, I/PRP did/VBD n't/RB ,/, '/'' said/VBD Alice/NNP :/: '/POS I/PRP do/VBP n't/RB think/VB it/PRP 's/VBZ at/IN all/PDT a/DT pity/NN ./.\n",
            "I/PRP said/VBD ''/'' What/WP for/IN ?/. ''/'' '/''\n",
            "'She/CD boxed/VBD the/DT Queen/NNP 's/POS ears/NNS --/: '/'' the/DT Rabbit/NNP began/VBD ./.\n",
            "Alice/NNP gave/VBD a/DT little/JJ scream/NN of/IN laughter/NN ./.\n",
            "'Oh/CD ,/, hush/NN !/. '/''\n",
            "the/DT Rabbit/NNP whispered/VBD in/IN a/DT frightened/JJ tone/NN ./.\n",
            "'The/POS Queen/NNP will/MD hear/VB you/PRP !/.\n",
            "You/PRP see/VBP ,/, she/PRP came/VBD rather/RB late/JJ ,/, and/CC the/DT Queen/NNP said/VBD --/: '/'' 'Get/MD to/TO your/PRP$ places/NNS !/. '/''\n",
            "shouted/VBD the/DT Queen/NNP in/IN a/DT voice/NN of/IN thunder/NN ,/, and/CC people/NNS began/VBD running/VBG about/RB in/IN all/DT directions/NNS ,/, tumbling/VBG up/RP against/IN each/DT other/JJ ;/: however/RB ,/, they/PRP got/VBD settled/VBN down/RB in/IN a/DT minute/NN or/CC two/CD ,/, and/CC the/DT game/NN began/VBD ./.\n",
            "Alice/NNP thought/VBD she/PRP had/VBD never/RB seen/VBN such/PDT a/DT curious/JJ croquet-ground/NN in/IN her/PRP$ life/NN ;/: it/PRP was/VBD all/DT ridges/NNS and/CC furrows/NNS ;/: the/DT balls/NNS were/VBD live/JJ hedgehogs/NNS ,/, the/DT mallets/NNS live/VBP flamingoes/NNS ,/, and/CC the/DT soldiers/NNS had/VBD to/TO double/VB themselves/PRP up/RB and/CC to/TO stand/VB on/IN their/PRP$ hands/NNS and/CC feet/NNS ,/, to/TO make/VB the/DT arches/NNS ./.\n",
            "The/DT chief/NN difficulty/NN Alice/NNP found/VBD at/IN first/JJ was/VBD in/IN managing/VBG her/PRP$ flamingo/NN :/: she/PRP succeeded/VBD in/IN getting/VBG its/PRP$ body/NN tucked/VBD away/RB ,/, comfortably/RB enough/RB ,/, under/IN her/PRP$ arm/NN ,/, with/IN its/PRP$ legs/NNS hanging/VBG down/RP ,/, but/CC generally/RB ,/, just/RB as/IN she/PRP had/VBD got/VBN its/PRP$ neck/NN nicely/RB straightened/VBD out/RP ,/, and/CC was/VBD going/VBG to/TO give/VB the/DT hedgehog/NN a/DT blow/NN with/IN its/PRP$ head/NN ,/, it/PRP WOULD/NNP twist/VB itself/PRP round/JJ and/CC look/VB up/RP in/IN her/PRP$ face/NN ,/, with/IN such/PDT a/DT puzzled/JJ expression/NN that/IN she/PRP could/MD not/RB help/VB bursting/VBG out/RP laughing/VBG :/: and/CC when/WRB she/PRP had/VBD got/VBN its/PRP$ head/NN down/RB ,/, and/CC was/VBD going/VBG to/TO begin/VB again/RB ,/, it/PRP was/VBD very/RB provoking/VBG to/TO find/VB that/IN the/DT hedgehog/NN had/VBD unrolled/VBN itself/PRP ,/, and/CC was/VBD in/IN the/DT act/NN of/IN crawling/VBG away/RB :/: besides/IN all/PDT this/DT ,/, there/EX was/VBD generally/RB a/DT ridge/NN or/CC furrow/NN in/IN the/DT way/NN wherever/IN she/PRP wanted/VBD to/TO send/VB the/DT hedgehog/NN to/TO ,/, and/CC ,/, as/IN the/DT doubled-up/JJ soldiers/NNS were/VBD always/RB getting/VBG up/RP and/CC walking/VBG off/RP to/TO other/JJ parts/NNS of/IN the/DT ground/NN ,/, Alice/NNP soon/RB came/VBD to/TO the/DT conclusion/NN that/IN it/PRP was/VBD a/DT very/RB difficult/JJ game/NN indeed/RB ./.\n",
            "The/DT players/NNS all/DT played/VBN at/IN once/RB without/IN waiting/VBG for/IN turns/NNS ,/, quarrelling/VBG all/PDT the/DT while/NN ,/, and/CC fighting/VBG for/IN the/DT hedgehogs/NNS ;/: and/CC in/IN a/DT very/RB short/JJ time/NN the/DT Queen/NNP was/VBD in/IN a/DT furious/JJ passion/NN ,/, and/CC went/VBD stamping/VBG about/RB ,/, and/CC shouting/VBG 'Off/PRP with/IN his/PRP$ head/NN !/. '/''\n",
            "or/CC 'Off/POS with/IN her/PRP$ head/NN !/. '/''\n",
            "about/RB once/RB in/IN a/DT minute/NN ./.\n",
            "Alice/NNP began/VBD to/TO feel/VB very/RB uneasy/JJ :/: to/TO be/VB sure/JJ ,/, she/PRP had/VBD not/RB as/IN yet/RB had/VBD any/DT dispute/NN with/IN the/DT Queen/NNP ,/, but/CC she/PRP knew/VBD that/IN it/PRP might/MD happen/VB any/DT minute/NN ,/, 'and/'' then/RB ,/, '/'' thought/VBD she/PRP ,/, 'what/WP would/MD become/VB of/IN me/PRP ?/.\n",
            "They/PRP 're/VBP dreadfully/RB fond/NN of/IN beheading/VBG people/NNS here/RB ;/: the/DT great/JJ wonder/NN is/VBZ ,/, that/IN there/EX 's/VBZ any/DT one/CD left/VBD alive/JJ !/. '/''\n",
            "She/PRP was/VBD looking/VBG about/IN for/IN some/DT way/NN of/IN escape/NN ,/, and/CC wondering/VBG whether/IN she/PRP could/MD get/VB away/RB without/IN being/VBG seen/VBN ,/, when/WRB she/PRP noticed/VBD a/DT curious/JJ appearance/NN in/IN the/DT air/NN :/: it/PRP puzzled/VBD her/PRP very/RB much/RB at/IN first/JJ ,/, but/CC ,/, after/IN watching/VBG it/PRP a/DT minute/NN or/CC two/CD ,/, she/PRP made/VBD it/PRP out/RP to/TO be/VB a/DT grin/NN ,/, and/CC she/PRP said/VBD to/TO herself/VB 'It/PRP 's/VBZ the/DT Cheshire/NNP Cat/NNP :/: now/RB I/PRP shall/MD have/VB somebody/NN to/TO talk/VB to/TO ./. '/''\n",
            "'How/NNS are/VBP you/PRP getting/VBG on/IN ?/. '/''\n",
            "said/VBD the/DT Cat/NNP ,/, as/RB soon/RB as/IN there/EX was/VBD mouth/NN enough/RB for/IN it/PRP to/TO speak/VB with/IN ./.\n",
            "Alice/NNP waited/VBD till/IN the/DT eyes/NNS appeared/VBD ,/, and/CC then/RB nodded/VBD ./.\n",
            "'It/EX 's/VBZ no/DT use/NN speaking/VBG to/TO it/PRP ,/, '/'' she/PRP thought/VBD ,/, 'till/VB its/PRP$ ears/NNS have/VBP come/VBN ,/, or/CC at/IN least/JJS one/CD of/IN them/PRP ./. '/''\n",
            "In/IN another/DT minute/NN the/DT whole/JJ head/NN appeared/VBD ,/, and/CC then/RB Alice/NNP put/VBD down/RP her/PRP$ flamingo/NN ,/, and/CC began/VBD an/DT account/NN of/IN the/DT game/NN ,/, feeling/VBG very/RB glad/JJ she/PRP had/VBD someone/NN to/TO listen/VB to/TO her/PRP$ ./.\n",
            "The/DT Cat/NNP seemed/VBD to/TO think/VB that/IN there/EX was/VBD enough/RB of/IN it/PRP now/RB in/IN sight/NN ,/, and/CC no/DT more/JJR of/IN it/PRP appeared/VBD ./.\n",
            "'/POS I/PRP do/VBP n't/RB think/VB they/PRP play/VBP at/IN all/DT fairly/RB ,/, '/'' Alice/NNP began/VBD ,/, in/IN rather/RB a/DT complaining/VBG tone/NN ,/, 'and/'' they/PRP all/DT quarrel/VBP so/RB dreadfully/RB one/CD ca/MD n't/RB hear/VB oneself/PRP speak/VB --/: and/CC they/PRP do/VBP n't/RB seem/VB to/TO have/VB any/DT rules/NNS in/IN particular/JJ ;/: at/IN least/JJS ,/, if/IN there/EX are/VBP ,/, nobody/JJ attends/NNS to/TO them/PRP --/: and/CC you/PRP 've/VBP no/DT idea/NN how/WRB confusing/JJ it/PRP is/VBZ all/PDT the/DT things/NNS being/VBG alive/JJ ;/: for/IN instance/NN ,/, there/EX 's/VBZ the/DT arch/NN I/PRP 've/VBP got/VBN to/TO go/VB through/IN next/JJ walking/NN about/RB at/IN the/DT other/JJ end/NN of/IN the/DT ground/NN --/: and/CC I/PRP should/MD have/VB croqueted/VBN the/DT Queen/NNP 's/POS hedgehog/NN just/RB now/RB ,/, only/RB it/PRP ran/VBD away/RB when/WRB it/PRP saw/VBD mine/JJ coming/VBG !/. '/''\n",
            "'How/WRB do/VBP you/PRP like/IN the/DT Queen/NNP ?/. '/''\n",
            "said/VBD the/DT Cat/NNP in/IN a/DT low/JJ voice/NN ./.\n",
            "'Not/NNS at/IN all/DT ,/, '/'' said/VBD Alice/NNP :/: 'she/NN 's/POS so/RB extremely/RB --/: '/'' Just/RB then/RB she/PRP noticed/VBD that/IN the/DT Queen/NNP was/VBD close/JJ behind/IN her/PRP ,/, listening/VBG :/: so/RB she/PRP went/VBD on/IN ,/, '/'' --/: likely/JJ to/TO win/VB ,/, that/IN it/PRP 's/VBZ hardly/RB worth/JJ while/IN finishing/VBG the/DT game/NN ./. '/''\n",
            "The/DT Queen/NNP smiled/VBD and/CC passed/VBD on/IN ./.\n",
            "'Who/NNS ARE/VBP you/PRP talking/VBG to/TO ?/. '/''\n",
            "said/VBD the/DT King/NNP ,/, going/VBG up/RP to/TO Alice/NNP ,/, and/CC looking/VBG at/IN the/DT Cat/NNP 's/POS head/NN with/IN great/JJ curiosity/NN ./.\n",
            "'It/NN 's/POS a/DT friend/NN of/IN mine/NN --/: a/DT Cheshire/NNP Cat/NNP ,/, '/'' said/VBD Alice/NNP :/: 'allow/VB me/PRP to/TO introduce/VB it/PRP ./. '/''\n",
            "'/POS I/PRP do/VBP n't/RB like/VB the/DT look/NN of/IN it/PRP at/IN all/DT ,/, '/'' said/VBD the/DT King/NNP :/: 'however/CD ,/, it/PRP may/MD kiss/VB my/PRP$ hand/NN if/IN it/PRP likes/VBZ ./. '/''\n",
            "'/POS I/PRP 'd/MD rather/RB not/RB ,/, '/'' the/DT Cat/NNP remarked/VBD ./.\n",
            "'Do/MD n't/RB be/VB impertinent/JJ ,/, '/'' said/VBD the/DT King/NNP ,/, 'and/NNP do/VBP n't/RB look/VB at/IN me/PRP like/IN that/DT !/. '/''\n",
            "He/PRP got/VBD behind/RB Alice/NNP as/IN he/PRP spoke/VBD ./.\n",
            "'/'' A/DT cat/NN may/MD look/VB at/IN a/DT king/NN ,/, '/'' said/VBD Alice/NNP ./.\n",
            "'/POS I/PRP 've/VBP read/VBN that/IN in/IN some/DT book/NN ,/, but/CC I/PRP do/VBP n't/RB remember/VB where/WRB ./. '/''\n",
            "'Well/UH ,/, it/PRP must/MD be/VB removed/VBN ,/, '/'' said/VBD the/DT King/NNP very/RB decidedly/RB ,/, and/CC he/PRP called/VBD the/DT Queen/NNP ,/, who/WP was/VBD passing/VBG at/IN the/DT moment/NN ,/, 'My/'' dear/NN !/.\n",
            "I/PRP wish/VBP you/PRP would/MD have/VB this/DT cat/NN removed/VBD !/. '/''\n",
            "The/DT Queen/NNP had/VBD only/RB one/CD way/NN of/IN settling/VBG all/DT difficulties/NNS ,/, great/JJ or/CC small/JJ ./.\n",
            "'Off/NN with/IN his/PRP$ head/NN !/. '/''\n",
            "she/PRP said/VBD ,/, without/IN even/RB looking/VBG round/NN ./.\n",
            "'/POS I/PRP 'll/MD fetch/VB the/DT executioner/NN myself/PRP ,/, '/'' said/VBD the/DT King/NNP eagerly/RB ,/, and/CC he/PRP hurried/VBD off/RP ./.\n",
            "Alice/NNP thought/VBD she/PRP might/MD as/RB well/RB go/VB back/RB ,/, and/CC see/VB how/WRB the/DT game/NN was/VBD going/VBG on/IN ,/, as/IN she/PRP heard/VBD the/DT Queen/NNP 's/POS voice/NN in/IN the/DT distance/NN ,/, screaming/VBG with/IN passion/NN ./.\n",
            "She/PRP had/VBD already/RB heard/VBN her/PRP$ sentence/NN three/CD of/IN the/DT players/NNS to/TO be/VB executed/VBN for/IN having/VBG missed/VBN their/PRP$ turns/NNS ,/, and/CC she/PRP did/VBD not/RB like/IN the/DT look/NN of/IN things/NNS at/IN all/DT ,/, as/IN the/DT game/NN was/VBD in/IN such/JJ confusion/NN that/IN she/PRP never/RB knew/VBD whether/IN it/PRP was/VBD her/PRP turn/NN or/CC not/RB ./.\n",
            "So/IN she/PRP went/VBD in/IN search/NN of/IN her/PRP$ hedgehog/NN ./.\n",
            "The/DT hedgehog/NN was/VBD engaged/VBN in/IN a/DT fight/NN with/IN another/DT hedgehog/NN ,/, which/WDT seemed/VBD to/TO Alice/NNP an/DT excellent/JJ opportunity/NN for/IN croqueting/VBG one/CD of/IN them/PRP with/IN the/DT other/JJ :/: the/DT only/JJ difficulty/NN was/VBD ,/, that/IN her/PRP$ flamingo/NN was/VBD gone/VBN across/IN to/TO the/DT other/JJ side/NN of/IN the/DT garden/NN ,/, where/WRB Alice/NNP could/MD see/VB it/PRP trying/VBG in/IN a/DT helpless/JJ sort/NN of/IN way/NN to/TO fly/VB up/RP into/IN a/DT tree/NN ./.\n",
            "By/IN the/DT time/NN she/PRP had/VBD caught/VBN the/DT flamingo/NN and/CC brought/VBD it/PRP back/RB ,/, the/DT fight/NN was/VBD over/IN ,/, and/CC both/DT the/DT hedgehogs/NNS were/VBD out/IN of/IN sight/NN :/: 'but/VB it/PRP doesn't/VB matter/RB much/RB ,/, '/'' thought/JJ Alice/NNP ,/, 'as/'' all/PDT the/DT arches/NNS are/VBP gone/VBN from/IN this/DT side/NN of/IN the/DT ground/NN ./. '/''\n",
            "So/IN she/PRP tucked/VBD it/PRP away/RP under/IN her/PRP$ arm/NN ,/, that/IN it/PRP might/MD not/RB escape/VB again/RB ,/, and/CC went/VBD back/RB for/IN a/DT little/RB more/JJR conversation/NN with/IN her/PRP$ friend/NN ./.\n",
            "When/WRB she/PRP got/VBD back/RB to/TO the/DT Cheshire/NNP Cat/NNP ,/, she/PRP was/VBD surprised/VBN to/TO find/VB quite/PDT a/DT large/JJ crowd/NN collected/VBD round/NN it/PRP :/: there/EX was/VBD a/DT dispute/NN going/VBG on/IN between/IN the/DT executioner/NN ,/, the/DT King/NNP ,/, and/CC the/DT Queen/NNP ,/, who/WP were/VBD all/DT talking/VBG at/IN once/RB ,/, while/IN all/PDT the/DT rest/NN were/VBD quite/RB silent/JJ ,/, and/CC looked/VBD very/RB uncomfortable/JJ ./.\n",
            "The/DT moment/NN Alice/NNP appeared/VBD ,/, she/PRP was/VBD appealed/VBN to/TO by/IN all/DT three/CD to/TO settle/VB the/DT question/NN ,/, and/CC they/PRP repeated/VBD their/PRP$ arguments/NNS to/TO her/PRP$ ,/, though/RB ,/, as/IN they/PRP all/DT spoke/VBD at/IN once/RB ,/, she/PRP found/VBD it/PRP very/RB hard/RB indeed/RB to/TO make/VB out/RP exactly/RB what/WP they/PRP said/VBD ./.\n",
            "The/DT executioner/NN 's/POS argument/NN was/VBD ,/, that/IN you/PRP could/MD n't/RB cut/VB off/RP a/DT head/NN unless/IN there/EX was/VBD a/DT body/NN to/TO cut/VB it/PRP off/RP from/IN :/: that/IN he/PRP had/VBD never/RB had/VBN to/TO do/VB such/PDT a/DT thing/NN before/IN ,/, and/CC he/PRP was/VBD n't/RB going/VBG to/TO begin/VB at/IN HIS/NNP time/NN of/IN life/NN ./.\n",
            "The/DT King/NNP 's/POS argument/NN was/VBD ,/, that/IN anything/NN that/WDT had/VBD a/DT head/NN could/MD be/VB beheaded/VBN ,/, and/CC that/IN you/PRP were/VBD n't/RB to/TO talk/VB nonsense/NN ./.\n",
            "The/DT Queen/NNP 's/POS argument/NN was/VBD ,/, that/IN if/IN something/NN was/VBD n't/RB done/VBN about/IN it/PRP in/IN less/JJR than/IN no/DT time/NN she/PRP 'd/MD have/VB everybody/NN executed/VBN ,/, all/DT round/NN ./.\n",
            "(/( It/PRP was/VBD this/DT last/JJ remark/NN that/WDT had/VBD made/VBN the/DT whole/JJ party/NN look/NN so/RB grave/JJ and/CC anxious/JJ ./. )/)\n",
            "Alice/NNP could/MD think/VB of/IN nothing/NN else/RB to/TO say/VB but/CC 'It/NNP belongs/VBZ to/TO the/DT Duchess/NN :/: you/PRP 'd/MD better/VB ask/VB HER/PRP about/IN it/PRP ./. '/''\n",
            "'She/NN 's/POS in/IN prison/NN ,/, '/'' the/DT Queen/NNP said/VBD to/TO the/DT executioner/NN :/: 'fetch/VB her/PRP$ here/RB ./. '/''\n",
            "And/CC the/DT executioner/NN went/VBD off/IN like/IN an/DT arrow/NN ./.\n",
            "The/DT Cat/NNP 's/POS head/NN began/VBD fading/VBG away/RB the/DT moment/NN he/PRP was/VBD gone/VBN ,/, and/CC ,/, by/IN the/DT time/NN he/PRP had/VBD come/VBN back/RB with/IN the/DT Duchess/NNP ,/, it/PRP had/VBD entirely/RB disappeared/VBN ;/: so/IN the/DT King/NNP and/CC the/DT executioner/NN ran/VBD wildly/RB up/IN and/CC down/IN looking/VBG for/IN it/PRP ,/, while/IN the/DT rest/NN of/IN the/DT party/NN went/VBD back/RB to/TO the/DT game/NN ./.\n",
            "CHAPTER/NN IX/NNP ./.\n",
            "The/DT Mock/NNP Turtle/NNP 's/POS Story/NNP 'You/NNP ca/MD n't/RB think/VB how/WRB glad/JJ I/PRP am/VBP to/TO see/VB you/PRP again/RB ,/, you/PRP dear/VBP old/JJ thing/NN !/. '/''\n",
            "said/VBD the/DT Duchess/NNP ,/, as/IN she/PRP tucked/VBD her/PRP arm/NN affectionately/RB into/IN Alice/NNP 's/POS ,/, and/CC they/PRP walked/VBD off/RP together/RB ./.\n",
            "Alice/NNP was/VBD very/RB glad/JJ to/TO find/VB her/PRP$ in/IN such/JJ a/DT pleasant/JJ temper/NN ,/, and/CC thought/VBD to/TO herself/VB that/IN perhaps/RB it/PRP was/VBD only/RB the/DT pepper/NN that/WDT had/VBD made/VBN her/PRP$ so/RB savage/JJ when/WRB they/PRP met/VBD in/IN the/DT kitchen/NN ./.\n",
            "'When/POS I/PRP 'M/VBP a/DT Duchess/NNP ,/, '/'' she/PRP said/VBD to/TO herself/VB ,/, (/( not/RB in/IN a/DT very/RB hopeful/JJ tone/NN though/IN )/) ,/, '/'' I/PRP wo/MD n't/RB have/VB any/DT pepper/NN in/IN my/PRP$ kitchen/NN AT/NNP ALL/NNP ./.\n",
            "Soup/NN does/VBZ very/RB well/RB without/IN --/: Maybe/VBP it/PRP 's/VBZ always/RB pepper/JJ that/IN makes/VBZ people/NNS hot-tempered/JJ ,/, '/'' she/PRP went/VBD on/IN ,/, very/RB much/RB pleased/VBN at/IN having/VBG found/VBN out/RP a/DT new/JJ kind/NN of/IN rule/NN ,/, 'and/CD vinegar/NN that/WDT makes/VBZ them/PRP sour/VB --/: and/CC camomile/JJ that/WDT makes/VBZ them/PRP bitter/JJ --/: and/CC --/: and/CC barley-sugar/JJ and/CC such/JJ things/NNS that/WDT make/VBP children/NNS sweet-tempered/JJ ./.\n",
            "I/PRP only/RB wish/JJ people/NNS knew/VBD that/IN :/: then/RB they/PRP would/MD n't/RB be/VB so/RB stingy/JJ about/IN it/PRP ,/, you/PRP know/VBP --/: '/POS She/PRP had/VBD quite/RB forgotten/VBN the/DT Duchess/NNP by/IN this/DT time/NN ,/, and/CC was/VBD a/DT little/JJ startled/JJ when/WRB she/PRP heard/VBD her/PRP voice/NN close/RB to/TO her/PRP$ ear/NN ./.\n",
            "'You/POS 're/VBP thinking/VBG about/IN something/NN ,/, my/PRP$ dear/NN ,/, and/CC that/IN makes/VBZ you/PRP forget/VB to/TO talk/VB ./.\n",
            "I/PRP can't/VBP tell/VB you/PRP just/RB now/RB what/WP the/DT moral/NN of/IN that/DT is/VBZ ,/, but/CC I/PRP shall/MD remember/VB it/PRP in/IN a/DT bit/NN ./. '/''\n",
            "'Perhaps/NNS it/PRP has/VBZ n't/RB one/CD ,/, '/'' Alice/NNP ventured/VBD to/TO remark/VB ./.\n",
            "'Tut/CD ,/, tut/NN ,/, child/NN !/. '/''\n",
            "said/VBD the/DT Duchess/NNP ./.\n",
            "'Everything/VBG 's/POS got/VBD a/DT moral/JJ ,/, if/IN only/RB you/PRP can/MD find/VB it/PRP ./. '/''\n",
            "And/CC she/PRP squeezed/VBD herself/PRP up/RP closer/RBR to/TO Alice/NNP 's/POS side/NN as/IN she/PRP spoke/VBD ./.\n",
            "Alice/NNP did/VBD not/RB much/JJ like/IN keeping/VBG so/RB close/RB to/TO her/PRP$ :/: first/RB ,/, because/IN the/DT Duchess/NNP was/VBD VERY/NNP ugly/RB ;/: and/CC secondly/RB ,/, because/IN she/PRP was/VBD exactly/RB the/DT right/JJ height/NN to/TO rest/VB her/PRP$ chin/JJ upon/IN Alice/NNP 's/POS shoulder/NN ,/, and/CC it/PRP was/VBD an/DT uncomfortably/JJ sharp/JJ chin/NN ./.\n",
            "However/RB ,/, she/PRP did/VBD not/RB like/IN to/TO be/VB rude/JJ ,/, so/IN she/PRP bore/VBD it/PRP as/RB well/RB as/IN she/PRP could/MD ./.\n",
            "'The/JJ game/NN 's/POS going/VBG on/IN rather/RB better/JJR now/RB ,/, '/'' she/PRP said/VBD ,/, by/IN way/NN of/IN keeping/VBG up/RP the/DT conversation/NN a/DT little/JJ ./.\n",
            "''/'' Tis/NNP so/RB ,/, '/'' said/VBD the/DT Duchess/NN :/: 'and/CD the/DT moral/NN of/IN that/DT is/VBZ --/: ''/'' Oh/UH ,/, 't/'' is/VBZ love/NN ,/, 'tis/'' love/NN ,/, that/WDT makes/VBZ the/DT world/NN go/VBP round/NN !/. ''/'' '/''\n",
            "'Somebody/NN said/VBD ,/, '/'' Alice/NNP whispered/VBD ,/, 'that/IN it/PRP 's/VBZ done/VBN by/IN everybody/NN minding/VBG their/PRP$ own/JJ business/NN !/. '/''\n",
            "'Ah/NN ,/, well/RB !/.\n",
            "It/PRP means/VBZ much/RB the/DT same/JJ thing/NN ,/, '/'' said/VBD the/DT Duchess/NNP ,/, digging/VBG her/PRP$ sharp/JJ little/JJ chin/NN into/IN Alice/NNP 's/POS shoulder/NN as/IN she/PRP added/VBD ,/, 'and/'' the/DT moral/NN of/IN THAT/DT is/VBZ --/: ''/'' Take/NNP care/NN of/IN the/DT sense/NN ,/, and/CC the/DT sounds/NNS will/MD take/VB care/NN of/IN themselves/PRP ./. ''/'' '/''\n",
            "'How/CD fond/NN she/PRP is/VBZ of/IN finding/VBG morals/NNS in/IN things/NNS !/. '/''\n",
            "Alice/NNP thought/VBD to/TO herself/VB ./.\n",
            "'/POS I/PRP dare/VBP say/VB you/PRP 're/VBP wondering/VBG why/WRB I/PRP do/VBP n't/RB put/VB my/PRP$ arm/NN round/VB your/PRP$ waist/NN ,/, '/'' the/DT Duchess/NNP said/VBD after/IN a/DT pause/NN :/: 'the/CD reason/NN is/VBZ ,/, that/IN I/PRP 'm/VBP doubtful/JJ about/IN the/DT temper/NN of/IN your/PRP$ flamingo/NN ./.\n",
            "Shall/NN I/PRP try/VBP the/DT experiment/NN ?/. '/''\n",
            "'HE/NN might/MD bite/VB ,/, '/'' Alice/NNP cautiously/RB replied/VBD ,/, not/RB feeling/VBG at/IN all/DT anxious/JJ to/TO have/VB the/DT experiment/NN tried/VBD ./.\n",
            "'Very/DT true/JJ ,/, '/'' said/VBD the/DT Duchess/NN :/: 'flamingoes/NNS and/CC mustard/VB both/DT bite/NN ./.\n",
            "And/CC the/DT moral/NN of/IN that/DT is/VBZ --/: ''/'' Birds/NNS of/IN a/DT feather/NN flock/NN together/RB ./. ''/'' '/''\n",
            "'Only/RB mustard/NN is/VBZ n't/RB a/DT bird/NN ,/, '/'' Alice/NNP remarked/VBD ./.\n",
            "'Right/RB ,/, as/IN usual/JJ ,/, '/'' said/VBD the/DT Duchess/NN :/: 'what/WP a/DT clear/JJ way/NN you/PRP have/VBP of/IN putting/VBG things/NNS !/. '/''\n",
            "'It/NN 's/POS a/DT mineral/NN ,/, I/PRP THINK/VBP ,/, '/'' said/VBD Alice/NNP ./.\n",
            "'Of/CD course/NN it/PRP is/VBZ ,/, '/'' said/VBD the/DT Duchess/NNP ,/, who/WP seemed/VBD ready/JJ to/TO agree/VB to/TO everything/NN that/WDT Alice/NNP said/VBD ;/: 'there/EX 's/VBZ a/DT large/JJ mustard-mine/NN near/IN here/RB ./.\n",
            "And/CC the/DT moral/NN of/IN that/DT is/VBZ --/: ''/'' The/DT more/RBR there/EX is/VBZ of/IN mine/NN ,/, the/DT less/JJR there/EX is/VBZ of/IN yours/NNS ./. ''/'' '/''\n",
            "'Oh/CD ,/, I/PRP know/VBP !/. '/''\n",
            "exclaimed/JJ Alice/NNP ,/, who/WP had/VBD not/RB attended/VBN to/TO this/DT last/JJ remark/NN ,/, 'it/EX 's/VBZ a/DT vegetable/JJ ./.\n",
            "It/PRP does/VBZ n't/RB look/VB like/IN one/CD ,/, but/CC it/PRP is/VBZ ./. '/''\n",
            "'/POS I/PRP quite/VBP agree/JJ with/IN you/PRP ,/, '/'' said/VBD the/DT Duchess/NNP ;/: 'and/CD the/DT moral/NN of/IN that/DT is/VBZ --/: ''/'' Be/VB what/WP you/PRP would/MD seem/VB to/TO be/VB ''/'' --/: or/CC if/IN you/PRP 'd/MD like/VB it/PRP put/VB more/RBR simply/RB --/: ''/'' Never/RB imagine/VB yourself/PRP not/RB to/TO be/VB otherwise/RB than/IN what/WP it/PRP might/MD appear/VB to/TO others/NNS that/IN what/WP you/PRP were/VBD or/CC might/MD have/VB been/VBN was/VBD not/RB otherwise/RB than/IN what/WP you/PRP had/VBD been/VBN would/MD have/VB appeared/VBN to/TO them/PRP to/TO be/VB otherwise/RB ./. ''/'' '/''\n",
            "'/POS I/PRP think/VBP I/PRP should/MD understand/VB that/IN better/JJR ,/, '/'' Alice/NNP said/VBD very/RB politely/RB ,/, 'if/'' I/PRP had/VBD it/PRP written/VBN down/RP :/: but/CC I/PRP ca/MD n't/RB quite/RB follow/VB it/PRP as/IN you/PRP say/VBP it/PRP ./. '/''\n",
            "'That/DT 's/VBZ nothing/NN to/TO what/WP I/PRP could/MD say/VB if/IN I/PRP chose/VBD ,/, '/'' the/DT Duchess/NNP replied/VBD ,/, in/IN a/DT pleased/JJ tone/NN ./.\n",
            "'Pray/NNS do/VBP n't/RB trouble/NN yourself/PRP to/TO say/VB it/PRP any/DT longer/JJR than/IN that/DT ,/, '/'' said/VBD Alice/NNP ./.\n",
            "'Oh/NNS ,/, do/VBP n't/RB talk/VB about/IN trouble/NN !/. '/''\n",
            "said/VBD the/DT Duchess/NNP ./.\n",
            "'/POS I/PRP make/VBP you/PRP a/DT present/JJ of/IN everything/NN I/PRP 've/VBP said/VBD as/IN yet/RB ./. '/''\n",
            "'/'' A/DT cheap/JJ sort/NN of/IN present/JJ !/. '/''\n",
            "thought/JJ Alice/NNP ./.\n",
            "'/POS I/PRP 'm/VBP glad/JJ they/PRP do/VBP n't/RB give/VB birthday/JJ presents/NNS like/IN that/DT !/. '/''\n",
            "But/CC she/PRP did/VBD not/RB venture/NN to/TO say/VB it/PRP out/RP loud/JJ ./.\n",
            "'Thinking/VBG again/RB ?/. '/''\n",
            "the/DT Duchess/NNP asked/VBD ,/, with/IN another/DT dig/NN of/IN her/PRP$ sharp/JJ little/JJ chin/NN ./.\n",
            "'/POS I/PRP 've/VBP a/DT right/NN to/TO think/VB ,/, '/'' said/VBD Alice/NNP sharply/RB ,/, for/IN she/PRP was/VBD beginning/VBG to/TO feel/VB a/DT little/JJ worried/JJ ./.\n",
            "'Just/RB about/RB as/RB much/JJ right/NN ,/, '/'' said/VBD the/DT Duchess/NNP ,/, 'as/'' pigs/NNS have/VBP to/TO fly/VB ;/: and/CC the/DT m/NN --/: '/'' But/CC here/RB ,/, to/TO Alice/NNP 's/POS great/JJ surprise/NN ,/, the/DT Duchess/NNP 's/POS voice/NN died/VBD away/RB ,/, even/RB in/IN the/DT middle/NN of/IN her/PRP$ favourite/JJ word/NN 'moral/NNP ,/, '/'' and/CC the/DT arm/NN that/WDT was/VBD linked/VBN into/IN hers/NNS began/VBD to/TO tremble/VB ./.\n",
            "Alice/NN looked/VBD up/RB ,/, and/CC there/RB stood/VBD the/DT Queen/NNP in/IN front/NN of/IN them/PRP ,/, with/IN her/PRP$ arms/NNS folded/VBN ,/, frowning/VBG like/IN a/DT thunderstorm/NN ./.\n",
            "'/'' A/DT fine/JJ day/NN ,/, your/PRP$ Majesty/JJ !/. '/''\n",
            "the/DT Duchess/NNP began/VBD in/IN a/DT low/JJ ,/, weak/JJ voice/NN ./.\n",
            "'Now/CD ,/, I/PRP give/VBP you/PRP fair/JJ warning/VBG ,/, '/'' shouted/VBD the/DT Queen/NNP ,/, stamping/VBG on/IN the/DT ground/NN as/IN she/PRP spoke/VBD ;/: 'either/CC you/PRP or/CC your/PRP$ head/NN must/MD be/VB off/RP ,/, and/CC that/IN in/IN about/IN half/NN no/DT time/NN !/.\n",
            "Take/VB your/PRP$ choice/NN !/. '/''\n",
            "The/DT Duchess/NNP took/VBD her/PRP$ choice/NN ,/, and/CC was/VBD gone/VBN in/IN a/DT moment/NN ./.\n",
            "'Let/NN 's/POS go/VB on/IN with/IN the/DT game/NN ,/, '/'' the/DT Queen/NNP said/VBD to/TO Alice/NNP ;/: and/CC Alice/NNP was/VBD too/RB much/JJ frightened/VBN to/TO say/VB a/DT word/NN ,/, but/CC slowly/RB followed/VBD her/PRP back/RB to/TO the/DT croquet-ground/NN ./.\n",
            "The/DT other/JJ guests/NNS had/VBD taken/VBN advantage/NN of/IN the/DT Queen/NNP 's/POS absence/NN ,/, and/CC were/VBD resting/VBG in/IN the/DT shade/NN :/: however/RB ,/, the/DT moment/NN they/PRP saw/VBD her/PRP ,/, they/PRP hurried/VBD back/RB to/TO the/DT game/NN ,/, the/DT Queen/NNP merely/RB remarking/VBG that/IN a/DT moment/NN 's/POS delay/NN would/MD cost/VB them/PRP their/PRP$ lives/NNS ./.\n",
            "All/PDT the/DT time/NN they/PRP were/VBD playing/VBG the/DT Queen/NNP never/RB left/VBD off/RP quarrelling/VBG with/IN the/DT other/JJ players/NNS ,/, and/CC shouting/VBG 'Off/PRP with/IN his/PRP$ head/NN !/. '/''\n",
            "or/CC 'Off/POS with/IN her/PRP$ head/NN !/. '/''\n",
            "Those/DT whom/WP she/PRP sentenced/VBD were/VBD taken/VBN into/IN custody/NN by/IN the/DT soldiers/NNS ,/, who/WP of/IN course/NN had/VBD to/TO leave/VB off/RP being/VBG arches/NNS to/TO do/VB this/DT ,/, so/IN that/IN by/IN the/DT end/NN of/IN half/PDT an/DT hour/NN or/CC so/RB there/EX were/VBD no/DT arches/NNS left/VBD ,/, and/CC all/PDT the/DT players/NNS ,/, except/IN the/DT King/NNP ,/, the/DT Queen/NNP ,/, and/CC Alice/NNP ,/, were/VBD in/IN custody/NN and/CC under/IN sentence/NN of/IN execution/NN ./.\n",
            "Then/RB the/DT Queen/NNP left/VBD off/RP ,/, quite/RB out/IN of/IN breath/NN ,/, and/CC said/VBD to/TO Alice/NNP ,/, 'Have/VBP you/PRP seen/VBN the/DT Mock/NNP Turtle/NNP yet/RB ?/. '/''\n",
            "'No/CD ,/, '/'' said/VBD Alice/NNP ./.\n",
            "'/POS I/PRP do/VBP n't/RB even/RB know/VB what/WP a/DT Mock/NNP Turtle/NNP is/VBZ ./. '/''\n",
            "'It/NN 's/POS the/DT thing/NN Mock/NNP Turtle/NNP Soup/NNP is/VBZ made/VBN from/IN ,/, '/'' said/VBD the/DT Queen/NNP ./.\n",
            "'/POS I/PRP never/RB saw/VBD one/CD ,/, or/CC heard/NN of/IN one/CD ,/, '/'' said/VBD Alice/NNP ./.\n",
            "'Come/VBN on/IN ,/, then/RB ,/, '/'' said/VBD the/DT Queen/NNP ,/, 'and/NN he/PRP shall/MD tell/VB you/PRP his/PRP$ history/NN ,/, '/'' As/IN they/PRP walked/VBD off/RP together/RB ,/, Alice/NNP heard/VBD the/DT King/NNP say/VBP in/IN a/DT low/JJ voice/NN ,/, to/TO the/DT company/NN generally/RB ,/, 'You/EX are/VBP all/DT pardoned/VBN ./. '/''\n",
            "'Come/CD ,/, THAT/NNP 'S/VBZ a/DT good/JJ thing/NN !/. '/''\n",
            "she/PRP said/VBD to/TO herself/VB ,/, for/IN she/PRP had/VBD felt/VBN quite/RB unhappy/JJ at/IN the/DT number/NN of/IN executions/NNS the/DT Queen/NNP had/VBD ordered/VBN ./.\n",
            "They/PRP very/RB soon/RB came/VBD upon/IN a/DT Gryphon/NNP ,/, lying/VBG fast/RB asleep/RB in/IN the/DT sun/NN ./.\n",
            "(/( IF/NNP you/PRP do/VBP n't/RB know/VB what/WP a/DT Gryphon/NNP is/VBZ ,/, look/NN at/IN the/DT picture/NN ./. )/)\n",
            "'Up/CD ,/, lazy/JJ thing/NN !/. '/''\n",
            "said/VBD the/DT Queen/NNP ,/, 'and/NNP take/VB this/DT young/JJ lady/NN to/TO see/VB the/DT Mock/NNP Turtle/NNP ,/, and/CC to/TO hear/VB his/PRP$ history/NN ./.\n",
            "I/PRP must/MD go/VB back/RB and/CC see/VB after/IN some/DT executions/NNS I/PRP have/VBP ordered/VBN '/POS ;/: and/CC she/PRP walked/VBD off/RP ,/, leaving/VBG Alice/NNP alone/RB with/IN the/DT Gryphon/NNP ./.\n",
            "Alice/NNP did/VBD not/RB quite/RB like/IN the/DT look/NN of/IN the/DT creature/NN ,/, but/CC on/IN the/DT whole/JJ she/PRP thought/VBD it/PRP would/MD be/VB quite/RB as/IN safe/JJ to/TO stay/VB with/IN it/PRP as/IN to/TO go/VB after/IN that/DT savage/NN Queen/VBZ :/: so/RB she/PRP waited/VBD ./.\n",
            "The/DT Gryphon/NNP sat/VBD up/RP and/CC rubbed/VB its/PRP$ eyes/NNS :/: then/RB it/PRP watched/VBD the/DT Queen/NNP till/NN she/PRP was/VBD out/IN of/IN sight/NN :/: then/RB it/PRP chuckled/VBD ./.\n",
            "'What/DT fun/NN !/. '/''\n",
            "said/VBD the/DT Gryphon/NNP ,/, half/NN to/TO itself/PRP ,/, half/NN to/TO Alice/NNP ./.\n",
            "'What/WDT IS/VBZ the/DT fun/NN ?/. '/''\n",
            "said/VBD Alice/NNP ./.\n",
            "'Why/NN ,/, SHE/NNP ,/, '/'' said/VBD the/DT Gryphon/NNP ./.\n",
            "'It/NN 's/POS all/DT her/PRP$ fancy/NN ,/, that/IN :/: they/PRP never/RB executes/VBZ nobody/NN ,/, you/PRP know/VBP ./.\n",
            "Come/VBN on/IN !/. '/''\n",
            "'Everybody/NN says/VBZ ``/`` come/VB on/IN !/. ''/''\n",
            "here/RB ,/, '/'' thought/JJ Alice/NNP ,/, as/IN she/PRP went/VBD slowly/RB after/IN it/PRP :/: '/'' I/PRP never/RB was/VBD so/RB ordered/JJ about/IN in/IN all/DT my/PRP$ life/NN ,/, never/RB !/. '/''\n",
            "They/PRP had/VBD not/RB gone/VBN far/RB before/IN they/PRP saw/VBD the/DT Mock/NNP Turtle/NNP in/IN the/DT distance/NN ,/, sitting/VBG sad/JJ and/CC lonely/RB on/IN a/DT little/JJ ledge/NN of/IN rock/NN ,/, and/CC ,/, as/IN they/PRP came/VBD nearer/RB ,/, Alice/NNP could/MD hear/VB him/PRP sighing/VBG as/IN if/IN his/PRP$ heart/NN would/MD break/VB ./.\n",
            "She/PRP pitied/VBD him/PRP deeply/RB ./.\n",
            "'What/DT is/VBZ his/PRP$ sorrow/NN ?/. '/''\n",
            "she/PRP asked/VBD the/DT Gryphon/NNP ,/, and/CC the/DT Gryphon/NNP answered/VBD ,/, very/RB nearly/RB in/IN the/DT same/JJ words/NNS as/IN before/RB ,/, 'It/PRP 's/VBZ all/DT his/PRP$ fancy/NN ,/, that/IN :/: he/PRP has/VBZ n't/RB got/VBD no/DT sorrow/NN ,/, you/PRP know/VBP ./.\n",
            "Come/VBN on/IN !/. '/''\n",
            "So/IN they/PRP went/VBD up/RB to/TO the/DT Mock/NNP Turtle/NNP ,/, who/WP looked/VBD at/IN them/PRP with/IN large/JJ eyes/NNS full/JJ of/IN tears/NNS ,/, but/CC said/VBD nothing/NN ./.\n",
            "'This/CD here/RB young/JJ lady/NN ,/, '/'' said/VBD the/DT Gryphon/NNP ,/, 'she/'' wants/VBZ for/IN to/TO know/VB your/PRP$ history/NN ,/, she/PRP do/VBP ./. '/''\n",
            "'/POS I/PRP 'll/MD tell/VB it/PRP her/PRP ,/, '/'' said/VBD the/DT Mock/NNP Turtle/NNP in/IN a/DT deep/JJ ,/, hollow/JJ tone/NN :/: 'sit/POS down/RP ,/, both/DT of/IN you/PRP ,/, and/CC do/VBP n't/RB speak/VB a/DT word/NN till/NN I/PRP 've/VBP finished/VBN ./. '/''\n",
            "So/IN they/PRP sat/VBD down/RB ,/, and/CC nobody/NN spoke/VBD for/IN some/DT minutes/NNS ./.\n",
            "Alice/NNP thought/VBD to/TO herself/VB ,/, '/'' I/PRP do/VBP n't/RB see/VB how/WRB he/PRP can/MD EVEN/RB finish/VB ,/, if/IN he/PRP does/VBZ n't/RB begin/VB ./. '/''\n",
            "But/CC she/PRP waited/VBD patiently/RB ./.\n",
            "'Once/NN ,/, '/'' said/VBD the/DT Mock/NNP Turtle/NNP at/IN last/JJ ,/, with/IN a/DT deep/JJ sigh/NN ,/, '/'' I/PRP was/VBD a/DT real/JJ Turtle/NNP ./. '/''\n",
            "These/DT words/NNS were/VBD followed/VBN by/IN a/DT very/RB long/JJ silence/NN ,/, broken/VBN only/RB by/IN an/DT occasional/JJ exclamation/NN of/IN 'Hjckrrh/NN !/. '/''\n",
            "from/IN the/DT Gryphon/NNP ,/, and/CC the/DT constant/JJ heavy/JJ sobbing/NN of/IN the/DT Mock/NNP Turtle/NNP ./.\n",
            "Alice/NNP was/VBD very/RB nearly/RB getting/VBG up/RP and/CC saying/VBG ,/, 'Thank/'' you/PRP ,/, sir/VB ,/, for/IN your/PRP$ interesting/JJ story/NN ,/, '/'' but/CC she/PRP could/MD not/RB help/VB thinking/VBG there/EX MUST/NNP be/VB more/JJR to/TO come/VB ,/, so/IN she/PRP sat/VBD still/RB and/CC said/VBD nothing/NN ./.\n",
            "'When/IN we/PRP were/VBD little/JJ ,/, '/'' the/DT Mock/NNP Turtle/NNP went/VBD on/IN at/IN last/JJ ,/, more/RBR calmly/JJ ,/, though/IN still/RB sobbing/VBG a/DT little/JJ now/RB and/CC then/RB ,/, 'we/PRP went/VBD to/TO school/NN in/IN the/DT sea/NN ./.\n",
            "The/DT master/NN was/VBD an/DT old/JJ Turtle/NNP --/: we/PRP used/VBD to/TO call/VB him/PRP Tortoise/NNP --/: '/POS 'Why/POS did/VBD you/PRP call/VB him/PRP Tortoise/NNP ,/, if/IN he/PRP was/VBD n't/RB one/CD ?/. '/''\n",
            "Alice/NNP asked/VBD ./.\n",
            "'We/NNS called/VBD him/PRP Tortoise/NNP because/IN he/PRP taught/VBD us/PRP ,/, '/'' said/VBD the/DT Mock/NNP Turtle/NNP angrily/RB :/: 'really/RB you/PRP are/VBP very/RB dull/JJ !/. '/''\n",
            "'You/NNS ought/MD to/TO be/VB ashamed/VBN of/IN yourself/PRP for/IN asking/VBG such/PDT a/DT simple/JJ question/NN ,/, '/'' added/VBD the/DT Gryphon/NNP ;/: and/CC then/RB they/PRP both/DT sat/VBD silent/NN and/CC looked/VBD at/IN poor/JJ Alice/NNP ,/, who/WP felt/VBD ready/JJ to/TO sink/VB into/IN the/DT earth/NN ./.\n",
            "At/IN last/JJ the/DT Gryphon/NNP said/VBD to/TO the/DT Mock/NNP Turtle/NNP ,/, 'Drive/'' on/IN ,/, old/JJ fellow/NN !/.\n",
            "Do/VBP n't/RB be/VB all/DT day/NN about/IN it/PRP !/. '/''\n",
            "and/CC he/PRP went/VBD on/IN in/IN these/DT words/NNS :/: 'Yes/CD ,/, we/PRP went/VBD to/TO school/NN in/IN the/DT sea/NN ,/, though/IN you/PRP may/MD n't/RB believe/VB it/PRP --/: '/'' '/POS I/PRP never/RB said/VBD I/PRP did/VBD n't/RB !/. '/''\n",
            "interrupted/JJ Alice/NNP ./.\n",
            "'You/NN did/VBD ,/, '/'' said/VBD the/DT Mock/NNP Turtle/NNP ./.\n",
            "'Hold/VB your/PRP$ tongue/NN !/. '/''\n",
            "added/VBD the/DT Gryphon/NNP ,/, before/IN Alice/NNP could/MD speak/VB again/RB ./.\n",
            "The/DT Mock/NNP Turtle/NNP went/VBD on/IN ./.\n",
            "'We/NNS had/VBD the/DT best/JJS of/IN educations/NNS --/: in/IN fact/NN ,/, we/PRP went/VBD to/TO school/NN every/DT day/NN --/: '/POS '/POS I/PRP 'VE/VBP been/VBN to/TO a/DT day-school/NN ,/, too/RB ,/, '/'' said/VBD Alice/NNP ;/: 'you/CC need/VBP n't/RB be/VB so/RB proud/JJ as/IN all/DT that/IN ./. '/''\n",
            "'With/CD extras/NNS ?/. '/''\n",
            "asked/VBN the/DT Mock/NNP Turtle/NNP a/DT little/JJ anxiously/RB ./.\n",
            "'Yes/CD ,/, '/'' said/VBD Alice/NNP ,/, 'we/'' learned/VBD French/NNP and/CC music/NN ./. '/''\n",
            "'And/CD washing/VBG ?/. '/''\n",
            "said/VBD the/DT Mock/NNP Turtle/NNP ./.\n",
            "'Certainly/RB not/RB !/. '/''\n",
            "said/VBD Alice/NNP indignantly/RB ./.\n",
            "'Ah/CD !/.\n",
            "then/RB yours/NN was/VBD n't/RB a/DT really/RB good/JJ school/NN ,/, '/'' said/VBD the/DT Mock/NNP Turtle/NNP in/IN a/DT tone/NN of/IN great/JJ relief/NN ./.\n",
            "'Now/NNS at/IN OURS/NNP they/PRP had/VBD at/IN the/DT end/NN of/IN the/DT bill/NN ,/, ''/'' French/NNP ,/, music/NN ,/, AND/CC WASHING/NNP --/: extra/JJ ./. ''/'' '/''\n",
            "'You/NNS could/MD n't/RB have/VB wanted/VBN it/PRP much/RB ,/, '/'' said/VBD Alice/NNP ;/: 'living/VBG at/IN the/DT bottom/NN of/IN the/DT sea/NN ./. '/''\n",
            "'/POS I/PRP could/MD n't/RB afford/VB to/TO learn/VB it/PRP ./. '/''\n",
            "said/VBD the/DT Mock/NNP Turtle/NNP with/IN a/DT sigh/NN ./.\n",
            "'/POS I/PRP only/RB took/VBD the/DT regular/JJ course/NN ./. '/''\n",
            "'What/DT was/VBD that/IN ?/. '/''\n",
            "inquired/JJ Alice/NNP ./.\n",
            "'Reeling/VBG and/CC Writhing/NNP ,/, of/IN course/NN ,/, to/TO begin/VB with/IN ,/, '/'' the/DT Mock/NNP Turtle/NNP replied/VBD ;/: 'and/CD then/RB the/DT different/JJ branches/NNS of/IN Arithmetic/NNP --/: Ambition/NNP ,/, Distraction/NNP ,/, Uglification/NNP ,/, and/CC Derision/NNP ./. '/''\n",
            "'/POS I/PRP never/RB heard/NN of/IN ``/`` Uglification/NNP ,/, ''/'' '/POS Alice/NNP ventured/VBD to/TO say/VB ./.\n",
            "'What/DT is/VBZ it/PRP ?/. '/''\n",
            "The/DT Gryphon/NNP lifted/VBD up/RP both/DT its/PRP$ paws/NN in/IN surprise/NN ./.\n",
            "'What/CD !/.\n",
            "Never/RB heard/NN of/IN uglifying/VBG !/. '/''\n",
            "it/PRP exclaimed/VBD ./.\n",
            "'You/NNS know/VBP what/WP to/TO beautify/VB is/VBZ ,/, I/PRP suppose/VBP ?/. '/''\n",
            "'Yes/CD ,/, '/'' said/VBD Alice/NNP doubtfully/RB :/: 'it/NN means/VBZ --/: to/TO --/: make/VB --/: anything/NN --/: prettier/NN ./. '/''\n",
            "'Well/RB ,/, then/RB ,/, '/'' the/DT Gryphon/NNP went/VBD on/IN ,/, 'if/'' you/PRP do/VBP n't/RB know/VB what/WP to/TO uglify/VB is/VBZ ,/, you/PRP ARE/VBP a/DT simpleton/NN ./. '/''\n",
            "Alice/NNP did/VBD not/RB feel/VB encouraged/VBN to/TO ask/VB any/DT more/JJR questions/NNS about/IN it/PRP ,/, so/IN she/PRP turned/VBD to/TO the/DT Mock/NNP Turtle/NNP ,/, and/CC said/VBD 'What/WP else/RB had/VBD you/PRP to/TO learn/VB ?/. '/''\n",
            "'Well/RB ,/, there/EX was/VBD Mystery/NNP ,/, '/'' the/DT Mock/NNP Turtle/NNP replied/VBD ,/, counting/VBG off/RP the/DT subjects/NNS on/IN his/PRP$ flappers/NNS ,/, '/'' --/: Mystery/NNP ,/, ancient/NN and/CC modern/JJ ,/, with/IN Seaography/NNP :/: then/RB Drawling/NNP --/: the/DT Drawling-master/NNP was/VBD an/DT old/JJ conger-eel/NN ,/, that/WDT used/VBD to/TO come/VB once/RB a/DT week/NN :/: HE/NNP taught/VBD us/PRP Drawling/NNP ,/, Stretching/NNP ,/, and/CC Fainting/NNP in/IN Coils/NNP ./. '/''\n",
            "'What/DT was/VBD THAT/IN like/IN ?/. '/''\n",
            "said/VBD Alice/NNP ./.\n",
            "'Well/UH ,/, I/PRP ca/MD n't/RB show/VB it/PRP you/PRP myself/PRP ,/, '/'' the/DT Mock/NNP Turtle/NNP said/VBD :/: '/'' I/PRP 'm/VBP too/RB stiff/JJ ./.\n",
            "And/CC the/DT Gryphon/NNP never/RB learnt/VBD it/PRP ./. '/''\n",
            "'Had/MD n't/RB time/NN ,/, '/'' said/VBD the/DT Gryphon/NNP :/: '/POS I/PRP went/VBD to/TO the/DT Classics/NNPS master/NN ,/, though/RB ./.\n",
            "He/PRP was/VBD an/DT old/JJ crab/NN ,/, HE/NNP was/VBD ./. '/''\n",
            "'/POS I/PRP never/RB went/VBD to/TO him/PRP ,/, '/'' the/DT Mock/NNP Turtle/NNP said/VBD with/IN a/DT sigh/NN :/: 'he/POS taught/NN Laughing/NNP and/CC Grief/NNP ,/, they/PRP used/VBD to/TO say/VB ./. '/''\n",
            "'So/IN he/PRP did/VBD ,/, so/IN he/PRP did/VBD ,/, '/'' said/VBD the/DT Gryphon/NNP ,/, sighing/VBG in/IN his/PRP$ turn/NN ;/: and/CC both/DT creatures/NNS hid/VBP their/PRP$ faces/VBZ in/IN their/PRP$ paws/NN ./.\n",
            "'And/POS how/WRB many/JJ hours/NNS a/DT day/NN did/VBD you/PRP do/VB lessons/NNS ?/. '/''\n",
            "said/VBD Alice/NNP ,/, in/IN a/DT hurry/NN to/TO change/VB the/DT subject/NN ./.\n",
            "'Ten/CD hours/NNS the/DT first/JJ day/NN ,/, '/'' said/VBD the/DT Mock/NNP Turtle/NNP :/: 'nine/CD the/DT next/JJ ,/, and/CC so/RB on/IN ./. '/''\n",
            "'What/IN a/DT curious/JJ plan/NN !/. '/''\n",
            "exclaimed/VBN Alice/NNP ./.\n",
            "'That/WDT 's/VBZ the/DT reason/NN they/PRP 're/VBP called/VBN lessons/NNS ,/, '/'' the/DT Gryphon/NNP remarked/VBD :/: 'because/IN they/PRP lessen/VBP from/IN day/NN to/TO day/NN ./. '/''\n",
            "This/DT was/VBD quite/RB a/DT new/JJ idea/NN to/TO Alice/NNP ,/, and/CC she/PRP thought/VBD it/PRP over/RP a/DT little/JJ before/IN she/PRP made/VBD her/PRP next/JJ remark/NN ./.\n",
            "'Then/'' the/DT eleventh/JJ day/NN must/MD have/VB been/VBN a/DT holiday/NN ?/. '/''\n",
            "'Of/CD course/NN it/PRP was/VBD ,/, '/'' said/VBD the/DT Mock/NNP Turtle/NNP ./.\n",
            "'And/POS how/WRB did/VBD you/PRP manage/VB on/IN the/DT twelfth/NN ?/. '/''\n",
            "Alice/NNP went/VBD on/IN eagerly/RB ./.\n",
            "'That/DT 's/VBZ enough/JJ about/IN lessons/NNS ,/, '/'' the/DT Gryphon/NNP interrupted/VBN in/IN a/DT very/RB decided/JJ tone/NN :/: 'tell/VB her/PRP$ something/NN about/IN the/DT games/NNS now/RB ./. '/''\n",
            "CHAPTER/NN X/NN ./.\n",
            "The/DT Lobster/NNP Quadrille/NNP The/DT Mock/NNP Turtle/NNP sighed/VBD deeply/RB ,/, and/CC drew/VBD the/DT back/NN of/IN one/CD flapper/NN across/IN his/PRP$ eyes/NNS ./.\n",
            "He/PRP looked/VBD at/IN Alice/NNP ,/, and/CC tried/VBD to/TO speak/VB ,/, but/CC for/IN a/DT minute/NN or/CC two/CD sobs/NN choked/VBD his/PRP$ voice/NN ./.\n",
            "'Same/POS as/IN if/IN he/PRP had/VBD a/DT bone/NN in/IN his/PRP$ throat/NN ,/, '/'' said/VBD the/DT Gryphon/NNP :/: and/CC it/PRP set/VBD to/TO work/VB shaking/VBG him/PRP and/CC punching/VBG him/PRP in/IN the/DT back/NN ./.\n",
            "At/IN last/JJ the/DT Mock/NNP Turtle/NNP recovered/VBD his/PRP$ voice/NN ,/, and/CC ,/, with/IN tears/NNS running/VBG down/RP his/PRP$ cheeks/NN ,/, he/PRP went/VBD on/IN again/RB :/: --/: 'You/NNS may/MD not/RB have/VB lived/VBN much/JJ under/IN the/DT sea/NN --/: '/POS (/( '/POS I/PRP have/VBP n't/RB ,/, '/'' said/VBD Alice/NNP )/) --/: 'and/POS perhaps/RB you/PRP were/VBD never/RB even/RB introduced/VBD to/TO a/DT lobster/NN --/: '/POS (/( Alice/NNP began/VBD to/TO say/VB '/'' I/PRP once/RB tasted/VBD --/: '/'' but/CC checked/VBD herself/PRP hastily/RB ,/, and/CC said/VBD 'No/NNS ,/, never/RB '/POS )/) '/POS --/: so/IN you/PRP can/MD have/VB no/DT idea/NN what/WP a/DT delightful/JJ thing/NN a/DT Lobster/NNP Quadrille/NNP is/VBZ !/. '/''\n",
            "'No/CD ,/, indeed/RB ,/, '/'' said/VBD Alice/NNP ./.\n",
            "'What/DT sort/NN of/IN a/DT dance/NN is/VBZ it/PRP ?/. '/''\n",
            "'Why/CD ,/, '/'' said/VBD the/DT Gryphon/NNP ,/, 'you/NNP first/RB form/VBZ into/IN a/DT line/NN along/IN the/DT sea-shore/NN --/: '/POS 'Two/JJ lines/NNS !/. '/''\n",
            "cried/VBD the/DT Mock/NNP Turtle/NNP ./.\n",
            "'Seals/NNS ,/, turtles/NNS ,/, salmon/NN ,/, and/CC so/RB on/IN ;/: then/RB ,/, when/WRB you/PRP 've/VBP cleared/VBN all/PDT the/DT jelly-fish/JJ out/IN of/IN the/DT way/NN --/: '/POS 'THAT/POS generally/RB takes/VBZ some/DT time/NN ,/, '/'' interrupted/VBD the/DT Gryphon./NNP '/POS\n",
            "--/: you/PRP advance/VBP twice/RB --/: '/'' 'Each/MD with/IN a/DT lobster/NN as/IN a/DT partner/NN !/. '/''\n",
            "cried/VBD the/DT Gryphon/NNP ./.\n",
            "'Of/JJ course/NN ,/, '/'' the/DT Mock/NNP Turtle/NNP said/VBD :/: 'advance/NN twice/RB ,/, set/VBN to/TO partners/NNS --/: '/POS '/POS --/: change/NN lobsters/NNS ,/, and/CC retire/NN in/IN same/JJ order/NN ,/, '/'' continued/VBD the/DT Gryphon/NNP ./.\n",
            "'Then/CD ,/, you/PRP know/VBP ,/, '/'' the/DT Mock/NNP Turtle/NNP went/VBD on/IN ,/, 'you/'' throw/VBP the/DT --/: '/POS 'The/JJ lobsters/NNS !/. '/''\n",
            "shouted/VBD the/DT Gryphon/NNP ,/, with/IN a/DT bound/NN into/IN the/DT air./NN '/POS\n",
            "--/: as/IN far/RB out/IN to/TO sea/VB as/IN you/PRP can/MD --/: '/POS 'Swim/NNS after/IN them/PRP !/. '/''\n",
            "screamed/VBD the/DT Gryphon/NNP ./.\n",
            "'Turn/VB a/DT somersault/NN in/IN the/DT sea/NN !/. '/''\n",
            "cried/VBD the/DT Mock/NNP Turtle/NNP ,/, capering/VBG wildly/RB about/IN ./.\n",
            "'Change/NN lobsters/NNS again/RB !/. '/''\n",
            "yelled/VBN the/DT Gryphon/NNP at/IN the/DT top/NN of/IN its/PRP$ voice/NN ./.\n",
            "'Back/NN to/TO land/VB again/RB ,/, and/CC that/DT 's/VBZ all/PDT the/DT first/JJ figure/NN ,/, '/'' said/VBD the/DT Mock/NNP Turtle/NNP ,/, suddenly/RB dropping/VBG his/PRP$ voice/NN ;/: and/CC the/DT two/CD creatures/NNS ,/, who/WP had/VBD been/VBN jumping/VBG about/IN like/IN mad/JJ things/NNS all/PDT this/DT time/NN ,/, sat/VBD down/RB again/RB very/RB sadly/RB and/CC quietly/RB ,/, and/CC looked/VBD at/IN Alice/NNP ./.\n",
            "'It/NNS must/MD be/VB a/DT very/RB pretty/JJ dance/NN ,/, '/'' said/VBD Alice/NNP timidly/RB ./.\n",
            "'Would/MD you/PRP like/VB to/TO see/VB a/DT little/JJ of/IN it/PRP ?/. '/''\n",
            "said/VBD the/DT Mock/NNP Turtle/NNP ./.\n",
            "'Very/RB much/JJ indeed/RB ,/, '/'' said/VBD Alice/NNP ./.\n",
            "'Come/CD ,/, let/NN 's/POS try/VB the/DT first/JJ figure/NN !/. '/''\n",
            "said/VBD the/DT Mock/NNP Turtle/NNP to/TO the/DT Gryphon/NNP ./.\n",
            "'We/NNS can/MD do/VB without/IN lobsters/NNS ,/, you/PRP know/VBP ./.\n",
            "Which/WDT shall/MD sing/VB ?/. '/''\n",
            "'Oh/CD ,/, YOU/NNP sing/NN ,/, '/'' said/VBD the/DT Gryphon/NNP ./.\n",
            "'/POS I/PRP 've/VBP forgotten/VBN the/DT words/NNS ./. '/''\n",
            "So/IN they/PRP began/VBD solemnly/RB dancing/VBG round/NN and/CC round/NN Alice/NNP ,/, every/DT now/RB and/CC then/RB treading/VBG on/IN her/PRP$ toes/NNS when/WRB they/PRP passed/VBD too/RB close/JJ ,/, and/CC waving/VBG their/PRP$ forepaws/NN to/TO mark/VB the/DT time/NN ,/, while/IN the/DT Mock/NNP Turtle/NNP sang/VBD this/DT ,/, very/RB slowly/RB and/CC sadly/RB :/: --/: '/'' ''/'' Will/NNP you/PRP walk/VBP a/DT little/JJ faster/NN ?/. ''/''\n",
            "said/VBD a/DT whiting/NN to/TO a/DT snail/NN ./.\n",
            "``/`` There/EX 's/VBZ a/DT porpoise/NN close/RB behind/IN us/PRP ,/, and/CC he/PRP 's/VBZ treading/VBG on/IN my/PRP$ tail/NN ./.\n",
            "See/VB how/WRB eagerly/RB the/DT lobsters/NNS and/CC the/DT turtles/NNS all/DT advance/NN !/.\n",
            "They/PRP are/VBP waiting/VBG on/IN the/DT shingle/NN --/: will/MD you/PRP come/VB and/CC join/VB the/DT dance/NN ?/.\n",
            "Will/MD you/PRP ,/, wo/MD n't/RB you/PRP ,/, will/MD you/PRP ,/, wo/MD n't/RB you/PRP ,/, will/MD you/PRP join/VB the/DT dance/NN ?/.\n",
            "Will/MD you/PRP ,/, wo/MD n't/RB you/PRP ,/, will/MD you/PRP ,/, wo/MD n't/RB you/PRP ,/, wo/MD n't/RB you/PRP join/VB the/DT dance/NN ?/.\n",
            "``/`` You/PRP can/MD really/RB have/VB no/DT notion/NN how/WRB delightful/JJ it/PRP will/MD be/VB When/WRB they/PRP take/VBP us/PRP up/RP and/CC throw/VB us/PRP ,/, with/IN the/DT lobsters/NNS ,/, out/IN to/TO sea/VB !/. ''/''\n",
            "But/CC the/DT snail/NN replied/VBD ``/`` Too/NNP far/RB ,/, too/RB far/RB !/. ''/''\n",
            "and/CC gave/VBD a/DT look/NN askance/NN --/: Said/VBD he/PRP thanked/VBD the/DT whiting/NN kindly/RB ,/, but/CC he/PRP would/MD not/RB join/VB the/DT dance/NN ./.\n",
            "Would/MD not/RB ,/, could/MD not/RB ,/, would/MD not/RB ,/, could/MD not/RB ,/, would/MD not/RB join/VB the/DT dance/NN ./.\n",
            "Would/MD not/RB ,/, could/MD not/RB ,/, would/MD not/RB ,/, could/MD not/RB ,/, could/MD not/RB join/VB the/DT dance/NN ./.\n",
            "'/'' ''/'' What/WP matters/VBZ it/PRP how/WRB far/RB we/PRP go/VBP ?/. ''/''\n",
            "his/PRP$ scaly/NN friend/NN replied/VBD ./.\n",
            "``/`` There/EX is/VBZ another/DT shore/NN ,/, you/PRP know/VBP ,/, upon/IN the/DT other/JJ side/NN ./.\n",
            "The/DT further/JJR off/RP from/IN England/NNP the/DT nearer/NN is/VBZ to/TO France/NNP --/: Then/RB turn/IN not/RB pale/JJ ,/, beloved/JJ snail/NN ,/, but/CC come/VBP and/CC join/VBP the/DT dance/NN ./.\n",
            "Will/MD you/PRP ,/, wo/MD n't/RB you/PRP ,/, will/MD you/PRP ,/, wo/MD n't/RB you/PRP ,/, will/MD you/PRP join/VB the/DT dance/NN ?/.\n",
            "Will/MD you/PRP ,/, wo/MD n't/RB you/PRP ,/, will/MD you/PRP ,/, wo/MD n't/RB you/PRP ,/, wo/MD n't/RB you/PRP join/VB the/DT dance/NN ?/. ''/'' '/''\n",
            "'Thank/NN you/PRP ,/, it/PRP 's/VBZ a/DT very/RB interesting/JJ dance/NN to/TO watch/VB ,/, '/'' said/VBD Alice/NNP ,/, feeling/VBG very/RB glad/JJ that/IN it/PRP was/VBD over/RB at/IN last/JJ :/: 'and/NN I/PRP do/VBP so/RB like/IN that/DT curious/JJ song/NN about/IN the/DT whiting/NN !/. '/''\n",
            "'Oh/RB ,/, as/IN to/TO the/DT whiting/NN ,/, '/'' said/VBD the/DT Mock/NNP Turtle/NNP ,/, 'they/NNP --/: you/PRP 've/VBP seen/VBN them/PRP ,/, of/IN course/NN ?/. '/''\n",
            "'Yes/CD ,/, '/'' said/VBD Alice/NNP ,/, '/'' I/PRP 've/VBP often/RB seen/VBN them/PRP at/IN dinn/NN --/: '/POS she/PRP checked/VBD herself/PRP hastily/RB ./.\n",
            "'/POS I/PRP do/VBP n't/RB know/VB where/WRB Dinn/NNP may/MD be/VB ,/, '/'' said/VBD the/DT Mock/NNP Turtle/NNP ,/, 'but/'' if/IN you've/NNS seen/VBN them/PRP so/RB often/RB ,/, of/IN course/NN you/PRP know/VBP what/WP they/PRP 're/VBP like/IN ./. '/''\n",
            "'/POS I/PRP believe/VBP so/RB ,/, '/'' Alice/NNP replied/VBD thoughtfully/RB ./.\n",
            "'They/NNS have/VBP their/PRP$ tails/NNS in/IN their/PRP$ mouths/NNS --/: and/CC they/PRP 're/VBP all/DT over/IN crumbs/NNS ./. '/''\n",
            "'You/CD 're/VBP wrong/JJ about/IN the/DT crumbs/NN ,/, '/'' said/VBD the/DT Mock/NNP Turtle/NNP :/: 'crumbs/NNS would/MD all/DT wash/VB off/RP in/IN the/DT sea/NN ./.\n",
            "But/CC they/PRP HAVE/VBP their/PRP$ tails/NNS in/IN their/PRP$ mouths/NNS ;/: and/CC the/DT reason/NN is/VBZ --/: '/'' here/RB the/DT Mock/NNP Turtle/NNP yawned/VBD and/CC shut/VBD his/PRP$ eyes./NN --/: 'Tell/VB her/PRP about/IN the/DT reason/NN and/CC all/DT that/IN ,/, '/'' he/PRP said/VBD to/TO the/DT Gryphon/NNP ./.\n",
            "'The/CD reason/NN is/VBZ ,/, '/'' said/VBD the/DT Gryphon/NNP ,/, 'that/IN they/PRP WOULD/VBP go/VB with/IN the/DT lobsters/NNS to/TO the/DT dance/NN ./.\n",
            "So/IN they/PRP got/VBD thrown/VBN out/RP to/TO sea/NN ./.\n",
            "So/IN they/PRP had/VBD to/TO fall/VB a/DT long/JJ way/NN ./.\n",
            "So/IN they/PRP got/VBD their/PRP$ tails/NNS fast/RB in/IN their/PRP$ mouths/NNS ./.\n",
            "So/IN they/PRP could/MD n't/RB get/VB them/PRP out/RP again/RB ./.\n",
            "That/DT 's/VBZ all/DT ./. '/''\n",
            "'Thank/NN you/PRP ,/, '/'' said/VBD Alice/NNP ,/, 'it/NNP 's/POS very/RB interesting/JJ ./.\n",
            "I/PRP never/RB knew/VBD so/RB much/JJ about/IN a/DT whiting/NN before/IN ./. '/''\n",
            "'/POS I/PRP can/MD tell/VB you/PRP more/JJR than/IN that/DT ,/, if/IN you/PRP like/VBP ,/, '/'' said/VBD the/DT Gryphon/NNP ./.\n",
            "'Do/IN you/PRP know/VBP why/WRB it/PRP 's/VBZ called/VBN a/DT whiting/NN ?/. '/''\n",
            "'/POS I/PRP never/RB thought/VBD about/IN it/PRP ,/, '/'' said/VBD Alice/NNP ./.\n",
            "'Why/RB ?/. '/''\n",
            "'IT/NN DOES/VBZ THE/NNP BOOTS/NNP AND/NNP SHOES/NNP ./. '/''\n",
            "the/DT Gryphon/NNP replied/VBD very/RB solemnly/RB ./.\n",
            "Alice/NNP was/VBD thoroughly/RB puzzled/VBN ./.\n",
            "'Does/VBZ the/DT boots/NNS and/CC shoes/NNS !/. '/''\n",
            "she/PRP repeated/VBD in/IN a/DT wondering/VBG tone/NN ./.\n",
            "'Why/NN ,/, what/WP are/VBP YOUR/JJ shoes/NNS done/VBN with/IN ?/. '/''\n",
            "said/VBD the/DT Gryphon/NNP ./.\n",
            "'/POS I/PRP mean/VBP ,/, what/WP makes/VBZ them/PRP so/RB shiny/RB ?/. '/''\n",
            "Alice/NNP looked/VBD down/RB at/IN them/PRP ,/, and/CC considered/VBD a/DT little/JJ before/IN she/PRP gave/VBD her/PRP answer/NN ./.\n",
            "'They/POS 're/VBP done/VBN with/IN blacking/NN ,/, I/PRP believe/VBP ./. '/''\n",
            "'Boots/NNS and/CC shoes/NNS under/IN the/DT sea/NN ,/, '/'' the/DT Gryphon/NNP went/VBD on/IN in/IN a/DT deep/JJ voice/NN ,/, 'are/'' done/VBN with/IN a/DT whiting/NN ./.\n",
            "Now/RB you/PRP know/VBP ./. '/''\n",
            "'And/VB what/WP are/VBP they/PRP made/VBD of/IN ?/. '/''\n",
            "Alice/NNP asked/VBD in/IN a/DT tone/NN of/IN great/JJ curiosity/NN ./.\n",
            "'Soles/NNS and/CC eels/NNS ,/, of/IN course/NN ,/, '/'' the/DT Gryphon/NNP replied/VBD rather/RB impatiently/RB :/: 'any/JJ shrimp/NN could/MD have/VB told/VBN you/PRP that/IN ./. '/''\n",
            "'If/NN I/PRP 'd/MD been/VBN the/DT whiting/NN ,/, '/'' said/VBD Alice/NNP ,/, whose/WP$ thoughts/NNS were/VBD still/RB running/VBG on/IN the/DT song/NN ,/, '/'' I/PRP 'd/MD have/VB said/VBD to/TO the/DT porpoise/NN ,/, ``/`` Keep/NNP back/NN ,/, please/NN :/: we/PRP do/VBP n't/RB want/VB YOU/NN with/IN us/PRP !/. ''/'' '/''\n",
            "'They/NNS were/VBD obliged/VBN to/TO have/VB him/PRP with/IN them/PRP ,/, '/'' the/DT Mock/NNP Turtle/NNP said/VBD :/: 'no/CD wise/NN fish/NN would/MD go/VB anywhere/RB without/IN a/DT porpoise/NN ./. '/''\n",
            "'Would/MD n't/RB it/PRP really/RB ?/. '/''\n",
            "said/VBD Alice/NNP in/IN a/DT tone/NN of/IN great/JJ surprise/NN ./.\n",
            "'Of/'' course/NN not/RB ,/, '/'' said/VBD the/DT Mock/NNP Turtle/NNP :/: 'why/CD ,/, if/IN a/DT fish/NN came/VBD to/TO ME/NNP ,/, and/CC told/VBD me/PRP he/PRP was/VBD going/VBG a/DT journey/NN ,/, I/PRP should/MD say/VB ``/`` With/IN what/WP porpoise/NN ?/. ''/'' '/''\n",
            "'Do/MD n't/RB you/PRP mean/VB ``/`` purpose/VB ''/'' ?/. '/''\n",
            "said/VBD Alice/NNP ./.\n",
            "'/POS I/PRP mean/VBP what/WP I/PRP say/VBP ,/, '/'' the/DT Mock/NNP Turtle/NNP replied/VBD in/IN an/DT offended/JJ tone/NN ./.\n",
            "And/CC the/DT Gryphon/NNP added/VBD 'Come/CD ,/, let/NN 's/POS hear/VB some/DT of/IN YOUR/JJ adventures/NNS ./. '/''\n",
            "'/POS I/PRP could/MD tell/VB you/PRP my/PRP$ adventures/NNS --/: beginning/VBG from/IN this/DT morning/NN ,/, '/'' said/VBD Alice/NNP a/DT little/JJ timidly/RB :/: 'but/VB it/PRP 's/VBZ no/DT use/NN going/VBG back/RB to/TO yesterday/NN ,/, because/IN I/PRP was/VBD a/DT different/JJ person/NN then/RB ./. '/''\n",
            "'Explain/VB all/DT that/IN ,/, '/'' said/VBD the/DT Mock/NNP Turtle/NNP ./.\n",
            "'No/CD ,/, no/DT !/.\n",
            "The/DT adventures/NNS first/RB ,/, '/'' said/VBD the/DT Gryphon/NNP in/IN an/DT impatient/JJ tone/NN :/: 'explanations/NNS take/VBP such/PDT a/DT dreadful/JJ time/NN ./. '/''\n",
            "So/RB Alice/NNP began/VBD telling/VBG them/PRP her/PRP$ adventures/NNS from/IN the/DT time/NN when/WRB she/PRP first/RB saw/VBD the/DT White/NNP Rabbit/NNP ./.\n",
            "She/PRP was/VBD a/DT little/JJ nervous/JJ about/IN it/PRP just/RB at/IN first/JJ ,/, the/DT two/CD creatures/NNS got/VBD so/RB close/JJ to/TO her/PRP$ ,/, one/CD on/IN each/DT side/NN ,/, and/CC opened/VBD their/PRP$ eyes/NNS and/CC mouths/NNS so/RB VERY/NNP wide/JJ ,/, but/CC she/PRP gained/VBD courage/NN as/IN she/PRP went/VBD on/IN ./.\n",
            "Her/PRP$ listeners/NNS were/VBD perfectly/RB quiet/JJ till/NN she/PRP got/VBD to/TO the/DT part/NN about/IN her/PRP$ repeating/NN 'YOU/NN ARE/NNP OLD/NNP ,/, FATHER/NNP WILLIAM/NNP ,/, '/'' to/TO the/DT Caterpillar/NNP ,/, and/CC the/DT words/NNS all/DT coming/VBG different/JJ ,/, and/CC then/RB the/DT Mock/NNP Turtle/NNP drew/VBD a/DT long/JJ breath/NN ,/, and/CC said/VBD 'That/WP 's/VBZ very/RB curious/JJ ./. '/''\n",
            "'It/NN 's/POS all/DT about/IN as/RB curious/JJ as/IN it/PRP can/MD be/VB ,/, '/'' said/VBD the/DT Gryphon/NNP ./.\n",
            "'It/CD all/DT came/VBD different/JJ !/. '/''\n",
            "the/DT Mock/NNP Turtle/NNP repeated/VBD thoughtfully/RB ./.\n",
            "'/POS I/PRP should/MD like/VB to/TO hear/VB her/PRP$ try/NN and/CC repeat/VB something/NN now/RB ./.\n",
            "Tell/VB her/PRP$ to/TO begin/VB ./. '/''\n",
            "He/PRP looked/VBD at/IN the/DT Gryphon/NNP as/IN if/IN he/PRP thought/VBD it/PRP had/VBD some/DT kind/NN of/IN authority/NN over/IN Alice/NNP ./.\n",
            "'Stand/VB up/RP and/CC repeat/VB ``/`` 'T/CD IS/VBZ THE/DT VOICE/NNP OF/IN THE/NNP SLUGGARD/NNP ,/, ''/'' '/'' said/VBD the/DT Gryphon/NNP ./.\n",
            "'How/'' the/DT creatures/NNS order/NN one/CD about/NN ,/, and/CC make/VB one/CD repeat/NN lessons/NNS !/. '/''\n",
            "thought/JJ Alice/NNP ;/: '/POS I/PRP might/MD as/RB well/RB be/VB at/IN school/NN at/IN once/RB ./. '/''\n",
            "However/RB ,/, she/PRP got/VBD up/RB ,/, and/CC began/VBD to/TO repeat/VB it/PRP ,/, but/CC her/PRP$ head/NN was/VBD so/RB full/JJ of/IN the/DT Lobster/NNP Quadrille/NNP ,/, that/IN she/PRP hardly/RB knew/VBD what/WP she/PRP was/VBD saying/VBG ,/, and/CC the/DT words/NNS came/VBD very/RB queer/JJ indeed/RB :/: --/: ``/`` Tis/IN the/DT voice/NN of/IN the/DT Lobster/NNP ;/: I/PRP heard/VBD him/PRP declare/VB ,/, ``/`` You/PRP have/VBP baked/VBN me/PRP too/RB brown/JJ ,/, I/PRP must/MD sugar/VB my/PRP$ hair/NN ./. ''/''\n",
            "As/IN a/DT duck/NN with/IN its/PRP$ eyelids/NNS ,/, so/IN he/PRP with/IN his/PRP$ nose/NN Trims/NNP his/PRP$ belt/NN and/CC his/PRP$ buttons/NNS ,/, and/CC turns/VBZ out/RP his/PRP$ toes/NNS ./. '/''\n",
            "[/NN later/RBR editions/NNS continued/VBD as/IN follows/VBZ When/WRB the/DT sands/NNS are/VBP all/DT dry/JJ ,/, he/PRP is/VBZ gay/JJ as/IN a/DT lark/NN ,/, And/CC will/MD talk/VB in/IN contemptuous/JJ tones/NNS of/IN the/DT Shark/NNP ,/, But/CC ,/, when/WRB the/DT tide/NN rises/VBZ and/CC sharks/NNS are/VBP around/RB ,/, His/PRP$ voice/NN has/VBZ a/DT timid/NN and/CC tremulous/JJ sound/NN ./. ]/NN\n",
            "'That/DT 's/POS different/JJ from/IN what/WP I/PRP used/VBD to/TO say/VB when/WRB I/PRP was/VBD a/DT child/NN ,/, '/'' said/VBD the/DT Gryphon/NNP ./.\n",
            "'Well/UH ,/, I/PRP never/RB heard/VBD it/PRP before/IN ,/, '/'' said/VBD the/DT Mock/NNP Turtle/NNP ;/: 'but/VBZ it/PRP sounds/VBZ uncommon/JJ nonsense/NN ./. '/''\n",
            "Alice/NNP said/VBD nothing/NN ;/: she/PRP had/VBD sat/VBN down/RP with/IN her/PRP$ face/NN in/IN her/PRP$ hands/NNS ,/, wondering/VBG if/IN anything/NN would/MD EVER/VB happen/VB in/IN a/DT natural/JJ way/NN again/RB ./.\n",
            "'/POS I/PRP should/MD like/VB to/TO have/VB it/PRP explained/VBN ,/, '/'' said/VBD the/DT Mock/NNP Turtle/NNP ./.\n",
            "'She/NNS ca/MD n't/RB explain/VB it/PRP ,/, '/'' said/VBD the/DT Gryphon/NNP hastily/RB ./.\n",
            "'Go/NNS on/IN with/IN the/DT next/JJ verse/NN ./. '/''\n",
            "'But/NNS about/IN his/PRP$ toes/NNS ?/. '/''\n",
            "the/DT Mock/NNP Turtle/NNP persisted/VBD ./.\n",
            "'How/NNS COULD/NNP he/PRP turn/VB them/PRP out/RP with/IN his/PRP$ nose/NN ,/, you/PRP know/VBP ?/. '/''\n",
            "'It/NN 's/POS the/DT first/JJ position/NN in/IN dancing/VBG ./. '/''\n",
            "Alice/NNP said/VBD ;/: but/CC was/VBD dreadfully/RB puzzled/VBN by/IN the/DT whole/JJ thing/NN ,/, and/CC longed/VBD to/TO change/VB the/DT subject/NN ./.\n",
            "'Go/NNS on/IN with/IN the/DT next/JJ verse/NN ,/, '/'' the/DT Gryphon/NNP repeated/VBD impatiently/RB :/: 'it/CD begins/VBZ ``/`` I/PRP passed/VBN by/IN his/PRP$ garden/NN ./. ''/'' '/''\n",
            "Alice/NNP did/VBD not/RB dare/VB to/TO disobey/VB ,/, though/IN she/PRP felt/VBD sure/JJ it/PRP would/MD all/DT come/VB wrong/JJ ,/, and/CC she/PRP went/VBD on/IN in/IN a/DT trembling/JJ voice/NN :/: --/: '/POS I/PRP passed/VBN by/IN his/PRP$ garden/NN ,/, and/CC marked/VBD ,/, with/IN one/CD eye/NN ,/, How/WRB the/DT Owl/NNP and/CC the/DT Panther/NNP were/VBD sharing/VBG a/DT pie/NN --/: '/POS [/NN later/RBR editions/NNS continued/VBD as/IN follows/VBZ The/DT Panther/NNP took/VBD pie-crust/NN ,/, and/CC gravy/NN ,/, and/CC meat/NN ,/, While/IN the/DT Owl/NNP had/VBD the/DT dish/NN as/IN its/PRP$ share/NN of/IN the/DT treat/NN ./.\n",
            "When/WRB the/DT pie/NN was/VBD all/DT finished/VBN ,/, the/DT Owl/NNP ,/, as/IN a/DT boon/NN ,/, Was/NNP kindly/RB permitted/VBD to/TO pocket/VB the/DT spoon/NN :/: While/IN the/DT Panther/NNP received/VBD knife/NN and/CC fork/NN with/IN a/DT growl/NN ,/, And/CC concluded/VBD the/DT banquet/NN --/: ]/VB 'What/WP IS/VBZ the/DT use/NN of/IN repeating/VBG all/PDT that/DT stuff/NN ,/, '/'' the/DT Mock/NNP Turtle/NNP interrupted/VBD ,/, 'if/'' you/PRP do/VBP n't/RB explain/VB it/PRP as/IN you/PRP go/VBP on/IN ?/.\n",
            "It/PRP 's/VBZ by/IN far/RB the/DT most/RBS confusing/JJ thing/NN I/PRP ever/RB heard/VBD !/. '/''\n",
            "'Yes/CD ,/, I/PRP think/VBP you/PRP 'd/MD better/VB leave/VB off/RP ,/, '/'' said/VBD the/DT Gryphon/NNP :/: and/CC Alice/NNP was/VBD only/RB too/RB glad/JJ to/TO do/VB so/RB ./.\n",
            "'Shall/DT we/PRP try/VBP another/DT figure/NN of/IN the/DT Lobster/NNP Quadrille/NNP ?/. '/''\n",
            "the/DT Gryphon/NNP went/VBD on/IN ./.\n",
            "'Or/NNS would/MD you/PRP like/IN the/DT Mock/NNP Turtle/NNP to/TO sing/VB you/PRP a/DT song/NN ?/. '/''\n",
            "'Oh/NNS ,/, a/DT song/NN ,/, please/NN ,/, if/IN the/DT Mock/NNP Turtle/NNP would/MD be/VB so/RB kind/NN ,/, '/'' Alice/NNP replied/VBD ,/, so/RB eagerly/RB that/IN the/DT Gryphon/NNP said/VBD ,/, in/IN a/DT rather/RB offended/JJ tone/NN ,/, 'Hm/'' !/.\n",
            "No/DT accounting/NN for/IN tastes/NNS !/.\n",
            "Sing/VBG her/PRP$ ``/`` Turtle/NNP Soup/NNP ,/, ''/'' will/MD you/PRP ,/, old/JJ fellow/NN ?/. '/''\n",
            "The/DT Mock/NNP Turtle/NNP sighed/VBD deeply/RB ,/, and/CC began/VBD ,/, in/IN a/DT voice/NN sometimes/RB choked/VBD with/IN sobs/NN ,/, to/TO sing/VBG this/DT :/: --/: 'Beautiful/JJ Soup/NNP ,/, so/IN rich/JJ and/CC green/JJ ,/, Waiting/VBG in/IN a/DT hot/JJ tureen/NN !/.\n",
            "Who/WP for/IN such/JJ dainties/NNS would/MD not/RB stoop/VB ?/.\n",
            "Soup/NNP of/IN the/DT evening/NN ,/, beautiful/JJ Soup/NN !/.\n",
            "Soup/NNP of/IN the/DT evening/NN ,/, beautiful/JJ Soup/NN !/.\n",
            "Beau/NNP --/: ootiful/JJ Soo/NNP --/: oop/NN !/.\n",
            "Beau/NNP --/: ootiful/JJ Soo/NNP --/: oop/NN !/.\n",
            "Soo/NNP --/: oop/NN of/IN the/DT e/NN --/: e/NN --/: evening/NN ,/, Beautiful/NNP ,/, beautiful/JJ Soup/NN !/.\n",
            "'Beautiful/JJ Soup/NN !/.\n",
            "Who/WP cares/VBZ for/IN fish/NN ,/, Game/NNP ,/, or/CC any/DT other/JJ dish/NN ?/.\n",
            "Who/WP would/MD not/RB give/VB all/DT else/RB for/IN two/CD Pennyworth/NNP only/RB of/IN beautiful/JJ Soup/NNP ?/.\n",
            "Pennyworth/NNP only/RB of/IN beautiful/JJ Soup/NNP ?/.\n",
            "Beau/NNP --/: ootiful/JJ Soo/NNP --/: oop/NN !/.\n",
            "Beau/NNP --/: ootiful/JJ Soo/NNP --/: oop/NN !/.\n",
            "Soo/NNP --/: oop/NN of/IN the/DT e/NN --/: e/NN --/: evening/NN ,/, Beautiful/NNP ,/, beauti/NN --/: FUL/NNP SOUP/NNP !/. '/''\n",
            "'Chorus/NN again/RB !/. '/''\n",
            "cried/VBD the/DT Gryphon/NNP ,/, and/CC the/DT Mock/NNP Turtle/NNP had/VBD just/RB begun/VBN to/TO repeat/VB it/PRP ,/, when/WRB a/DT cry/NN of/IN 'The/NNP trial/NN 's/POS beginning/NN !/. '/''\n",
            "was/VBD heard/VBN in/IN the/DT distance/NN ./.\n",
            "'Come/VBN on/IN !/. '/''\n",
            "cried/VBD the/DT Gryphon/NNP ,/, and/CC ,/, taking/VBG Alice/NNP by/IN the/DT hand/NN ,/, it/PRP hurried/VBD off/RP ,/, without/IN waiting/VBG for/IN the/DT end/NN of/IN the/DT song/NN ./.\n",
            "'What/DT trial/NN is/VBZ it/PRP ?/. '/''\n",
            "Alice/RB panted/VBN as/IN she/PRP ran/VBD ;/: but/CC the/DT Gryphon/NNP only/RB answered/VBD 'Come/VBN on/IN !/. '/''\n",
            "and/CC ran/VBD the/DT faster/NN ,/, while/IN more/JJR and/CC more/RBR faintly/RB came/VBD ,/, carried/VBD on/IN the/DT breeze/NN that/WDT followed/VBD them/PRP ,/, the/DT melancholy/JJ words/NNS :/: --/: 'Soo/CD --/: oop/NN of/IN the/DT e/NN --/: e/NN --/: evening/NN ,/, Beautiful/NNP ,/, beautiful/JJ Soup/NNP !/. '/''\n",
            "CHAPTER/NN XI/NN ./.\n",
            "Who/WP Stole/VBD the/DT Tarts/NNS ?/.\n",
            "The/DT King/NNP and/CC Queen/NNP of/IN Hearts/NNP were/VBD seated/VBN on/IN their/PRP$ throne/NN when/WRB they/PRP arrived/VBD ,/, with/IN a/DT great/JJ crowd/NN assembled/VBD about/IN them/PRP --/: all/DT sorts/NNS of/IN little/JJ birds/NNS and/CC beasts/NNS ,/, as/RB well/RB as/IN the/DT whole/JJ pack/NN of/IN cards/NNS :/: the/DT Knave/NNP was/VBD standing/VBG before/IN them/PRP ,/, in/IN chains/NNS ,/, with/IN a/DT soldier/NN on/IN each/DT side/NN to/TO guard/VB him/PRP ;/: and/CC near/IN the/DT King/NNP was/VBD the/DT White/NNP Rabbit/NNP ,/, with/IN a/DT trumpet/NN in/IN one/CD hand/NN ,/, and/CC a/DT scroll/NN of/IN parchment/NN in/IN the/DT other/JJ ./.\n",
            "In/IN the/DT very/RB middle/JJ of/IN the/DT court/NN was/VBD a/DT table/NN ,/, with/IN a/DT large/JJ dish/NN of/IN tarts/NNS upon/IN it/PRP :/: they/PRP looked/VBD so/RB good/JJ ,/, that/IN it/PRP made/VBD Alice/NNP quite/RB hungry/JJ to/TO look/VB at/IN them/PRP --/: '/'' I/PRP wish/VBP they/PRP 'd/MD get/VB the/DT trial/NN done/VBN ,/, '/'' she/PRP thought/VBD ,/, 'and/CD hand/NN round/VBD the/DT refreshments/NNS !/. '/''\n",
            "But/CC there/EX seemed/VBD to/TO be/VB no/DT chance/NN of/IN this/DT ,/, so/IN she/PRP began/VBD looking/VBG at/IN everything/NN about/IN her/PRP$ ,/, to/TO pass/VB away/RP the/DT time/NN ./.\n",
            "Alice/NNP had/VBD never/RB been/VBN in/IN a/DT court/NN of/IN justice/NN before/IN ,/, but/CC she/PRP had/VBD read/VBN about/IN them/PRP in/IN books/NNS ,/, and/CC she/PRP was/VBD quite/RB pleased/JJ to/TO find/VB that/IN she/PRP knew/VBD the/DT name/NN of/IN nearly/RB everything/NN there/RB ./.\n",
            "'That/WDT 's/VBZ the/DT judge/NN ,/, '/'' she/PRP said/VBD to/TO herself/VB ,/, 'because/CD of/IN his/PRP$ great/JJ wig/NN ./. '/''\n",
            "The/DT judge/NN ,/, by/IN the/DT way/NN ,/, was/VBD the/DT King/NNP ;/: and/CC as/IN he/PRP wore/VBD his/PRP$ crown/NN over/IN the/DT wig/NN ,/, (/( look/NN at/IN the/DT frontispiece/NN if/IN you/PRP want/VBP to/TO see/VB how/WRB he/PRP did/VBD it/PRP ,/, )/) he/PRP did/VBD not/RB look/VB at/IN all/DT comfortable/JJ ,/, and/CC it/PRP was/VBD certainly/RB not/RB becoming/VBG ./.\n",
            "'And/MD that/WDT 's/VBZ the/DT jury-box/NN ,/, '/'' thought/JJ Alice/NNP ,/, 'and/NNP those/DT twelve/JJ creatures/NNS ,/, '/'' (/( she/PRP was/VBD obliged/VBN to/TO say/VB 'creatures/NNS ,/, '/'' you/PRP see/VBP ,/, because/IN some/DT of/IN them/PRP were/VBD animals/NNS ,/, and/CC some/DT were/VBD birds/NNS ,/, )/) '/POS I/PRP suppose/VBP they/PRP are/VBP the/DT jurors/NNS ./. '/''\n",
            "She/PRP said/VBD this/DT last/JJ word/NN two/CD or/CC three/CD times/NNS over/IN to/TO herself/VB ,/, being/VBG rather/RB proud/NN of/IN it/PRP :/: for/IN she/PRP thought/VBD ,/, and/CC rightly/RB too/RB ,/, that/DT very/RB few/JJ little/JJ girls/NNS of/IN her/PRP$ age/NN knew/VBD the/DT meaning/NN of/IN it/PRP at/IN all/DT ./.\n",
            "However/RB ,/, 'jury-men/NNS '/POS would/MD have/VB done/VBN just/RB as/RB well/RB ./.\n",
            "The/DT twelve/NN jurors/NNS were/VBD all/DT writing/VBG very/RB busily/RB on/IN slates/NNS ./.\n",
            "'What/WDT are/VBP they/PRP doing/VBG ?/. '/''\n",
            "Alice/RB whispered/VBN to/TO the/DT Gryphon/NNP ./.\n",
            "'They/NNS ca/MD n't/RB have/VB anything/NN to/TO put/VB down/RP yet/RB ,/, before/IN the/DT trial/NN 's/POS begun/VBN ./. '/''\n",
            "'They/CD 're/VBP putting/VBG down/RP their/PRP$ names/NNS ,/, '/'' the/DT Gryphon/NNP whispered/VBD in/IN reply/NN ,/, 'for/'' fear/VBP they/PRP should/MD forget/VB them/PRP before/IN the/DT end/NN of/IN the/DT trial/NN ./. '/''\n",
            "'Stupid/JJ things/NNS !/. '/''\n",
            "Alice/NNP began/VBD in/IN a/DT loud/NN ,/, indignant/JJ voice/NN ,/, but/CC she/PRP stopped/VBD hastily/RB ,/, for/IN the/DT White/NNP Rabbit/NNP cried/VBD out/RP ,/, 'Silence/NN in/IN the/DT court/NN !/. '/''\n",
            "and/CC the/DT King/NNP put/NN on/IN his/PRP$ spectacles/NNS and/CC looked/VBD anxiously/RB round/VBN ,/, to/TO make/VB out/RP who/WP was/VBD talking/VBG ./.\n",
            "Alice/NNP could/MD see/VB ,/, as/RB well/RB as/IN if/IN she/PRP were/VBD looking/VBG over/IN their/PRP$ shoulders/NNS ,/, that/IN all/PDT the/DT jurors/NNS were/VBD writing/VBG down/RP 'stupid/JJ things/NNS !/. '/''\n",
            "on/IN their/PRP$ slates/NNS ,/, and/CC she/PRP could/MD even/RB make/VB out/RP that/IN one/CD of/IN them/PRP did/VBD n't/RB know/VB how/WRB to/TO spell/VB 'stupid/CD ,/, '/'' and/CC that/IN he/PRP had/VBD to/TO ask/VB his/PRP$ neighbour/NN to/TO tell/VB him/PRP ./.\n",
            "'/'' A/DT nice/JJ muddle/FW their/PRP$ slates/NNS 'll/MD be/VB in/IN before/IN the/DT trial/NN 's/POS over/IN !/. '/''\n",
            "thought/JJ Alice/NNP ./.\n",
            "One/CD of/IN the/DT jurors/NNS had/VBD a/DT pencil/NN that/IN squeaked/VBD ./.\n",
            "This/DT of/IN course/NN ,/, Alice/NNP could/MD not/RB stand/VB ,/, and/CC she/PRP went/VBD round/IN the/DT court/NN and/CC got/VBD behind/IN him/PRP ,/, and/CC very/RB soon/RB found/VBD an/DT opportunity/NN of/IN taking/VBG it/PRP away/RB ./.\n",
            "She/PRP did/VBD it/PRP so/RB quickly/RB that/IN the/DT poor/JJ little/JJ juror/NN (/( it/PRP was/VBD Bill/NNP ,/, the/DT Lizard/NNP )/) could/MD not/RB make/VB out/RP at/IN all/DT what/WP had/VBD become/VBN of/IN it/PRP ;/: so/RB ,/, after/IN hunting/VBG all/DT about/IN for/IN it/PRP ,/, he/PRP was/VBD obliged/VBN to/TO write/VB with/IN one/CD finger/NN for/IN the/DT rest/NN of/IN the/DT day/NN ;/: and/CC this/DT was/VBD of/IN very/RB little/JJ use/NN ,/, as/IN it/PRP left/VBD no/DT mark/NN on/IN the/DT slate/NN ./.\n",
            "'Herald/CD ,/, read/VBD the/DT accusation/NN !/. '/''\n",
            "said/VBD the/DT King/NNP ./.\n",
            "On/IN this/DT the/DT White/NNP Rabbit/NNP blew/VBD three/CD blasts/NNS on/IN the/DT trumpet/NN ,/, and/CC then/RB unrolled/VBD the/DT parchment/NN scroll/NN ,/, and/CC read/VBD as/IN follows/VBZ :/: --/: 'The/POS Queen/NNP of/IN Hearts/NNP ,/, she/PRP made/VBD some/DT tarts/NNS ,/, All/DT on/IN a/DT summer/NN day/NN :/: The/DT Knave/NNP of/IN Hearts/NNP ,/, he/PRP stole/VBD those/DT tarts/NNS ,/, And/CC took/VBD them/PRP quite/VB away/RB !/. '/''\n",
            "'Consider/VB your/PRP$ verdict/NN ,/, '/'' the/DT King/NNP said/VBD to/TO the/DT jury/NN ./.\n",
            "'Not/CD yet/RB ,/, not/RB yet/RB !/. '/''\n",
            "the/DT Rabbit/NNP hastily/RB interrupted/VBD ./.\n",
            "'There/EX 's/VBZ a/DT great/JJ deal/NN to/TO come/VB before/IN that/DT !/. '/''\n",
            "'Call/VB the/DT first/JJ witness/NN ,/, '/'' said/VBD the/DT King/NNP ;/: and/CC the/DT White/NNP Rabbit/NNP blew/VBD three/CD blasts/NNS on/IN the/DT trumpet/NN ,/, and/CC called/VBD out/RP ,/, 'First/'' witness/NN !/. '/''\n",
            "The/DT first/JJ witness/NN was/VBD the/DT Hatter/NNP ./.\n",
            "He/PRP came/VBD in/IN with/IN a/DT teacup/NN in/IN one/CD hand/NN and/CC a/DT piece/NN of/IN bread-and-butter/NN in/IN the/DT other/JJ ./.\n",
            "'/POS I/PRP beg/VBP pardon/RB ,/, your/PRP$ Majesty/NNP ,/, '/'' he/PRP began/VBD ,/, 'for/CD bringing/VBG these/DT in/IN :/: but/CC I/PRP had/VBD n't/RB quite/RB finished/VBN my/PRP$ tea/NN when/WRB I/PRP was/VBD sent/VBN for/IN ./. '/''\n",
            "'You/NNS ought/MD to/TO have/VB finished/VBN ,/, '/'' said/VBD the/DT King/NNP ./.\n",
            "'When/POS did/VBD you/PRP begin/VB ?/. '/''\n",
            "The/DT Hatter/NNP looked/VBD at/IN the/DT March/NNP Hare/NNP ,/, who/WP had/VBD followed/VBN him/PRP into/IN the/DT court/NN ,/, arm-in-arm/NN with/IN the/DT Dormouse/NNP ./.\n",
            "'Fourteenth/CD of/IN March/NNP ,/, I/PRP think/VBP it/PRP was/VBD ,/, '/'' he/PRP said/VBD ./.\n",
            "'Fifteenth/CD ,/, '/'' said/VBD the/DT March/NNP Hare/NNP ./.\n",
            "'Sixteenth/CD ,/, '/'' added/VBD the/DT Dormouse/NNP ./.\n",
            "'Write/NN that/WDT down/RB ,/, '/'' the/DT King/NNP said/VBD to/TO the/DT jury/NN ,/, and/CC the/DT jury/NN eagerly/RB wrote/VBD down/IN all/DT three/CD dates/NNS on/IN their/PRP$ slates/NNS ,/, and/CC then/RB added/VBD them/PRP up/RP ,/, and/CC reduced/VBD the/DT answer/NN to/TO shillings/NNS and/CC pence/NN ./.\n",
            "'Take/VB off/RP your/PRP$ hat/NN ,/, '/'' the/DT King/NNP said/VBD to/TO the/DT Hatter/NNP ./.\n",
            "'It/NN is/VBZ n't/RB mine/JJ ,/, '/'' said/VBD the/DT Hatter/NNP ./.\n",
            "'Stolen/CD !/. '/''\n",
            "the/DT King/NNP exclaimed/VBD ,/, turning/VBG to/TO the/DT jury/NN ,/, who/WP instantly/RB made/VBD a/DT memorandum/NN of/IN the/DT fact/NN ./.\n",
            "'/POS I/PRP keep/VBP them/PRP to/TO sell/VB ,/, '/'' the/DT Hatter/NNP added/VBD as/IN an/DT explanation/NN ;/: '/POS I/PRP 've/VBP none/NN of/IN my/PRP$ own/JJ ./.\n",
            "I/PRP 'm/VBP a/DT hatter/NN ./. '/''\n",
            "Here/RB the/DT Queen/NNP put/NN on/IN her/PRP$ spectacles/NNS ,/, and/CC began/VBD staring/VBG at/IN the/DT Hatter/NNP ,/, who/WP turned/VBD pale/JJ and/CC fidgeted/VBN ./.\n",
            "'Give/CD your/PRP$ evidence/NN ,/, '/'' said/VBD the/DT King/NNP ;/: 'and/CD do/VBP n't/RB be/VB nervous/JJ ,/, or/CC I/PRP 'll/MD have/VB you/PRP executed/VBN on/IN the/DT spot/NN ./. '/''\n",
            "This/DT did/VBD not/RB seem/VB to/TO encourage/VB the/DT witness/NN at/IN all/DT :/: he/PRP kept/VBD shifting/VBG from/IN one/CD foot/NN to/TO the/DT other/JJ ,/, looking/VBG uneasily/RB at/IN the/DT Queen/NNP ,/, and/CC in/IN his/PRP$ confusion/NN he/PRP bit/VBZ a/DT large/JJ piece/NN out/IN of/IN his/PRP$ teacup/NN instead/RB of/IN the/DT bread-and-butter/NN ./.\n",
            "Just/RB at/IN this/DT moment/NN Alice/NNP felt/VBD a/DT very/RB curious/JJ sensation/NN ,/, which/WDT puzzled/VBD her/PRP a/DT good/JJ deal/NN until/IN she/PRP made/VBD out/RP what/WP it/PRP was/VBD :/: she/PRP was/VBD beginning/VBG to/TO grow/VB larger/JJR again/RB ,/, and/CC she/PRP thought/VBD at/IN first/JJ she/PRP would/MD get/VB up/RP and/CC leave/VB the/DT court/NN ;/: but/CC on/IN second/JJ thoughts/NNS she/PRP decided/VBD to/TO remain/VB where/WRB she/PRP was/VBD as/RB long/RB as/IN there/EX was/VBD room/NN for/IN her/PRP$ ./.\n",
            "'/POS I/PRP wish/VBP you/PRP would/MD n't/RB squeeze/VB so/RB ./. '/''\n",
            "said/VBD the/DT Dormouse/NNP ,/, who/WP was/VBD sitting/VBG next/JJ to/TO her/PRP$ ./.\n",
            "'/POS I/PRP can/MD hardly/RB breathe/VB ./. '/''\n",
            "'/POS I/PRP ca/MD n't/RB help/VB it/PRP ,/, '/'' said/VBD Alice/NNP very/RB meekly/RB :/: '/'' I/PRP 'm/VBP growing/VBG ./. '/''\n",
            "'You/POS 've/VBP no/DT right/NN to/TO grow/VB here/RB ,/, '/'' said/VBD the/DT Dormouse/NNP ./.\n",
            "'Do/MD n't/RB talk/VB nonsense/NN ,/, '/'' said/VBD Alice/NNP more/RBR boldly/RB :/: 'you/CD know/VBP you/PRP 're/VBP growing/VBG too/RB ./. '/''\n",
            "'Yes/CD ,/, but/CC I/PRP grow/VBP at/IN a/DT reasonable/JJ pace/NN ,/, '/'' said/VBD the/DT Dormouse/NNP :/: 'not/NN in/IN that/DT ridiculous/JJ fashion/NN ./. '/''\n",
            "And/CC he/PRP got/VBD up/RB very/RB sulkily/RB and/CC crossed/VBD over/IN to/TO the/DT other/JJ side/NN of/IN the/DT court/NN ./.\n",
            "All/PDT this/DT time/NN the/DT Queen/NNP had/VBD never/RB left/VBN off/RP staring/VBG at/IN the/DT Hatter/NNP ,/, and/CC ,/, just/RB as/IN the/DT Dormouse/NNP crossed/VBD the/DT court/NN ,/, she/PRP said/VBD to/TO one/CD of/IN the/DT officers/NNS of/IN the/DT court/NN ,/, 'Bring/VBG me/PRP the/DT list/NN of/IN the/DT singers/NNS in/IN the/DT last/JJ concert/NN !/. '/''\n",
            "on/IN which/WDT the/DT wretched/NN Hatter/NNP trembled/VBD so/RB ,/, that/IN he/PRP shook/VBD both/DT his/PRP$ shoes/NNS off/RP ./.\n",
            "'Give/CD your/PRP$ evidence/NN ,/, '/'' the/DT King/NNP repeated/VBD angrily/RB ,/, 'or/'' I/PRP 'll/MD have/VB you/PRP executed/VBN ,/, whether/IN you/PRP 're/VBP nervous/JJ or/CC not/RB ./. '/''\n",
            "'/POS I/PRP 'm/VBP a/DT poor/JJ man/NN ,/, your/PRP$ Majesty/NNP ,/, '/'' the/DT Hatter/NNP began/VBD ,/, in/IN a/DT trembling/JJ voice/NN ,/, '/'' --/: and/CC I/PRP had/VBD n't/RB begun/VBN my/PRP$ tea/NN --/: not/RB above/IN a/DT week/NN or/CC so/RB --/: and/CC what/WP with/IN the/DT bread-and-butter/NN getting/VBG so/RB thin/JJ --/: and/CC the/DT twinkling/NN of/IN the/DT tea/NN --/: '/'' 'The/JJ twinkling/NN of/IN the/DT what/WP ?/. '/''\n",
            "said/VBD the/DT King/NNP ./.\n",
            "'It/NNS began/VBD with/IN the/DT tea/NN ,/, '/'' the/DT Hatter/NNP replied/VBD ./.\n",
            "'Of/JJ course/NN twinkling/VBG begins/NNS with/IN a/DT T/NN !/. '/''\n",
            "said/VBD the/DT King/NNP sharply/RB ./.\n",
            "'Do/IN you/PRP take/VBP me/PRP for/IN a/DT dunce/NN ?/.\n",
            "Go/VB on/IN !/. '/''\n",
            "'/POS I/PRP 'm/VBP a/DT poor/JJ man/NN ,/, '/'' the/DT Hatter/NNP went/VBD on/IN ,/, 'and/PRP most/JJS things/NNS twinkled/VBD after/IN that/DT --/: only/RB the/DT March/NNP Hare/NNP said/VBD --/: '/'' '/POS I/PRP did/VBD n't/RB !/. '/''\n",
            "the/DT March/NNP Hare/NNP interrupted/VBN in/IN a/DT great/JJ hurry/NN ./.\n",
            "'You/NNS did/VBD !/. '/''\n",
            "said/VBD the/DT Hatter/NNP ./.\n",
            "'/POS I/PRP deny/VBP it/PRP !/. '/''\n",
            "said/VBD the/DT March/NNP Hare/NNP ./.\n",
            "'He/MD denies/VBZ it/PRP ,/, '/'' said/VBD the/DT King/NNP :/: 'leave/VB out/RP that/IN part/NN ./. '/''\n",
            "'Well/RB ,/, at/IN any/DT rate/NN ,/, the/DT Dormouse/NNP said/VBD --/: '/'' the/DT Hatter/NNP went/VBD on/IN ,/, looking/VBG anxiously/RB round/VBN to/TO see/VB if/IN he/PRP would/MD deny/VB it/PRP too/RB :/: but/CC the/DT Dormouse/NNP denied/VBD nothing/NN ,/, being/VBG fast/JJ asleep/NN ./.\n",
            "'After/NN that/IN ,/, '/'' continued/VBD the/DT Hatter/NNP ,/, '/'' I/PRP cut/VBD some/DT more/RBR bread-and-butter/JJ --/: '/POS 'But/MD what/WP did/VBD the/DT Dormouse/NNP say/VB ?/. '/''\n",
            "one/CD of/IN the/DT jury/NN asked/VBD ./.\n",
            "'That/IN I/PRP ca/MD n't/RB remember/VB ,/, '/'' said/VBD the/DT Hatter/NNP ./.\n",
            "'You/NNS MUST/NNP remember/VB ,/, '/'' remarked/VBD the/DT King/NNP ,/, 'or/'' I/PRP 'll/MD have/VB you/PRP executed/VBN ./. '/''\n",
            "The/DT miserable/JJ Hatter/NNP dropped/VBD his/PRP$ teacup/NN and/CC bread-and-butter/NN ,/, and/CC went/VBD down/RB on/IN one/CD knee/NN ./.\n",
            "'/POS I/PRP 'm/VBP a/DT poor/JJ man/NN ,/, your/PRP$ Majesty/NNP ,/, '/'' he/PRP began/VBD ./.\n",
            "'You/MD 're/VBP a/DT very/RB poor/JJ speaker/NN ,/, '/'' said/VBD the/DT King/NNP ./.\n",
            "Here/RB one/CD of/IN the/DT guinea-pigs/NNS cheered/VBN ,/, and/CC was/VBD immediately/RB suppressed/VBN by/IN the/DT officers/NNS of/IN the/DT court/NN ./.\n",
            "(/( As/IN that/DT is/VBZ rather/RB a/DT hard/JJ word/NN ,/, I/PRP will/MD just/RB explain/VB to/TO you/PRP how/WRB it/PRP was/VBD done/VBN ./.\n",
            "They/PRP had/VBD a/DT large/JJ canvas/NN bag/NN ,/, which/WDT tied/VBD up/RP at/IN the/DT mouth/NN with/IN strings/NNS :/: into/IN this/DT they/PRP slipped/VBD the/DT guinea-pig/NN ,/, head/NN first/RB ,/, and/CC then/RB sat/VBD upon/IN it/PRP ./. )/)\n",
            "'/POS I/PRP 'm/VBP glad/JJ I/PRP 've/VBP seen/VBN that/IN done/VBN ,/, '/'' thought/JJ Alice/NNP ./.\n",
            "'/POS I/PRP 've/VBP so/RB often/RB read/VBN in/IN the/DT newspapers/NNS ,/, at/IN the/DT end/NN of/IN trials/NNS ,/, ``/`` There/EX was/VBD some/DT attempts/NNS at/IN applause/NN ,/, which/WDT was/VBD immediately/RB suppressed/VBN by/IN the/DT officers/NNS of/IN the/DT court/NN ,/, ''/'' and/CC I/PRP never/RB understood/VBD what/WP it/PRP meant/VBD till/NN now/RB ./. '/''\n",
            "'If/MD that/DT 's/VBZ all/DT you/PRP know/VBP about/IN it/PRP ,/, you/PRP may/MD stand/VB down/RP ,/, '/'' continued/VBD the/DT King/NNP ./.\n",
            "'/POS I/PRP ca/MD n't/RB go/VB no/DT lower/JJR ,/, '/'' said/VBD the/DT Hatter/NNP :/: '/POS I/PRP 'm/VBP on/IN the/DT floor/NN ,/, as/IN it/PRP is/VBZ ./. '/''\n",
            "'Then/IN you/PRP may/MD SIT/VB down/RP ,/, '/'' the/DT King/NNP replied/VBD ./.\n",
            "Here/RB the/DT other/JJ guinea-pig/NN cheered/VBN ,/, and/CC was/VBD suppressed/VBN ./.\n",
            "'Come/CD ,/, that/WDT finished/VBD the/DT guinea-pigs/JJ !/. '/''\n",
            "thought/JJ Alice/NNP ./.\n",
            "'Now/IN we/PRP shall/MD get/VB on/IN better/JJR ./. '/''\n",
            "'/POS I/PRP 'd/MD rather/RB finish/VB my/PRP$ tea/NN ,/, '/'' said/VBD the/DT Hatter/NNP ,/, with/IN an/DT anxious/JJ look/NN at/IN the/DT Queen/NNP ,/, who/WP was/VBD reading/VBG the/DT list/NN of/IN singers/NNS ./.\n",
            "'You/NN may/MD go/VB ,/, '/'' said/VBD the/DT King/NNP ,/, and/CC the/DT Hatter/NNP hurriedly/RB left/VBD the/DT court/NN ,/, without/IN even/RB waiting/VBG to/TO put/VB his/PRP$ shoes/NNS on./VBP '/''\n",
            "--/: and/CC just/RB take/VB his/PRP$ head/NN off/IN outside/JJ ,/, '/'' the/DT Queen/NNP added/VBD to/TO one/CD of/IN the/DT officers/NNS :/: but/CC the/DT Hatter/NNP was/VBD out/IN of/IN sight/NN before/IN the/DT officer/NN could/MD get/VB to/TO the/DT door/NN ./.\n",
            "'Call/PDT the/DT next/JJ witness/NN !/. '/''\n",
            "said/VBD the/DT King/NNP ./.\n",
            "The/DT next/JJ witness/NN was/VBD the/DT Duchess/NNP 's/POS cook/NN ./.\n",
            "She/PRP carried/VBD the/DT pepper-box/NN in/IN her/PRP$ hand/NN ,/, and/CC Alice/NNP guessed/VBD who/WP it/PRP was/VBD ,/, even/RB before/IN she/PRP got/VBD into/IN the/DT court/NN ,/, by/IN the/DT way/NN the/DT people/NNS near/IN the/DT door/NN began/VBD sneezing/VBG all/DT at/IN once/RB ./.\n",
            "'Give/CD your/PRP$ evidence/NN ,/, '/'' said/VBD the/DT King/NNP ./.\n",
            "'Sha/MD n't/RB ,/, '/'' said/VBD the/DT cook/NN ./.\n",
            "The/DT King/NNP looked/VBD anxiously/RB at/IN the/DT White/NNP Rabbit/NNP ,/, who/WP said/VBD in/IN a/DT low/JJ voice/NN ,/, 'Your/CD Majesty/NNP must/MD cross-examine/VB THIS/NNP witness/NN ./. '/''\n",
            "'Well/RB ,/, if/IN I/PRP must/MD ,/, I/PRP must/MD ,/, '/'' the/DT King/NNP said/VBD ,/, with/IN a/DT melancholy/JJ air/NN ,/, and/CC ,/, after/IN folding/VBG his/PRP$ arms/NNS and/CC frowning/VBG at/IN the/DT cook/NN till/VB his/PRP$ eyes/NNS were/VBD nearly/RB out/RB of/IN sight/NN ,/, he/PRP said/VBD in/IN a/DT deep/JJ voice/NN ,/, 'What/WDT are/VBP tarts/NNS made/VBN of/IN ?/. '/''\n",
            "'Pepper/CD ,/, mostly/RB ,/, '/'' said/VBD the/DT cook/NN ./.\n",
            "'Treacle/NN ,/, '/'' said/VBD a/DT sleepy/JJ voice/NN behind/IN her/PRP ./.\n",
            "'Collar/JJ that/IN Dormouse/NNP ,/, '/'' the/DT Queen/NNP shrieked/VBD out/RP ./.\n",
            "'Behead/POS that/DT Dormouse/NN !/.\n",
            "Turn/NN that/WDT Dormouse/VBZ out/IN of/IN court/NN !/.\n",
            "Suppress/NNP him/PRP !/.\n",
            "Pinch/NN him/PRP !/.\n",
            "Off/IN with/IN his/PRP$ whiskers/NNS !/. '/''\n",
            "For/IN some/DT minutes/NNS the/DT whole/JJ court/NN was/VBD in/IN confusion/NN ,/, getting/VBG the/DT Dormouse/NNP turned/VBD out/RP ,/, and/CC ,/, by/IN the/DT time/NN they/PRP had/VBD settled/VBN down/RB again/RB ,/, the/DT cook/NN had/VBD disappeared/VBN ./.\n",
            "'Never/RB mind/NN !/. '/''\n",
            "said/VBD the/DT King/NNP ,/, with/IN an/DT air/NN of/IN great/JJ relief/NN ./.\n",
            "'Call/PDT the/DT next/JJ witness/NN ./. '/''\n",
            "And/CC he/PRP added/VBD in/IN an/DT undertone/NN to/TO the/DT Queen/NNP ,/, 'Really/RB ,/, my/PRP$ dear/NN ,/, YOU/PRP must/MD cross-examine/VB the/DT next/JJ witness/NN ./.\n",
            "It/PRP quite/RB makes/VBZ my/PRP$ forehead/JJ ache/NN !/. '/''\n",
            "Alice/NNP watched/VBD the/DT White/NNP Rabbit/NNPS as/IN he/PRP fumbled/VBD over/RP the/DT list/NN ,/, feeling/VBG very/RB curious/JJ to/TO see/VB what/WP the/DT next/JJ witness/NN would/MD be/VB like/IN ,/, '/'' --/: for/IN they/PRP haven't/VBP got/VBD much/JJ evidence/NN YET/RB ,/, '/'' she/PRP said/VBD to/TO herself/PRP ./.\n",
            "Imagine/NNP her/PRP surprise/NN ,/, when/WRB the/DT White/NNP Rabbit/NNP read/VBD out/RP ,/, at/IN the/DT top/NN of/IN his/PRP$ shrill/NN little/JJ voice/NN ,/, the/DT name/NN 'Alice/POS !/. '/''\n",
            "CHAPTER/NN XII/NN ./.\n",
            "Alice/NNP 's/POS Evidence/NNP 'Here/RB !/. '/''\n",
            "cried/JJ Alice/NNP ,/, quite/RB forgetting/VBG in/IN the/DT flurry/NN of/IN the/DT moment/NN how/WRB large/JJ she/PRP had/VBD grown/VBN in/IN the/DT last/JJ few/JJ minutes/NNS ,/, and/CC she/PRP jumped/VBD up/RB in/IN such/JJ a/DT hurry/NN that/IN she/PRP tipped/VBD over/IN the/DT jury-box/NN with/IN the/DT edge/NN of/IN her/PRP$ skirt/NN ,/, upsetting/VBG all/PDT the/DT jurymen/NNS on/IN to/TO the/DT heads/NNS of/IN the/DT crowd/NN below/IN ,/, and/CC there/RB they/PRP lay/VBD sprawling/VBG about/RB ,/, reminding/VBG her/PRP$ very/RB much/JJ of/IN a/DT globe/NN of/IN goldfish/JJ she/PRP had/VBD accidentally/RB upset/VBN the/DT week/NN before/IN ./.\n",
            "'Oh/CD ,/, I/PRP BEG/VBP your/PRP$ pardon/NN !/. '/''\n",
            "she/PRP exclaimed/VBD in/IN a/DT tone/NN of/IN great/JJ dismay/NN ,/, and/CC began/VBD picking/VBG them/PRP up/RP again/RB as/RB quickly/RB as/IN she/PRP could/MD ,/, for/IN the/DT accident/NN of/IN the/DT goldfish/JJ kept/NN running/VBG in/IN her/PRP$ head/NN ,/, and/CC she/PRP had/VBD a/DT vague/JJ sort/NN of/IN idea/NN that/IN they/PRP must/MD be/VB collected/VBN at/IN once/RB and/CC put/VB back/RB into/IN the/DT jury-box/NN ,/, or/CC they/PRP would/MD die/VB ./.\n",
            "'The/POS trial/NN can/MD not/RB proceed/VB ,/, '/'' said/VBD the/DT King/NNP in/IN a/DT very/RB grave/JJ voice/NN ,/, 'until/'' all/PDT the/DT jurymen/NNS are/VBP back/RB in/IN their/PRP$ proper/JJ places/NNS --/: ALL/NNP ,/, '/'' he/PRP repeated/VBD with/IN great/JJ emphasis/NN ,/, looking/VBG hard/RB at/IN Alice/NNP as/IN he/PRP said/VBD do/NN ./.\n",
            "Alice/NNP looked/VBD at/IN the/DT jury-box/NN ,/, and/CC saw/VBD that/IN ,/, in/IN her/PRP$ haste/NN ,/, she/PRP had/VBD put/VBN the/DT Lizard/NNP in/IN head/NN downwards/NNS ,/, and/CC the/DT poor/JJ little/JJ thing/NN was/VBD waving/VBG its/PRP$ tail/NN about/IN in/IN a/DT melancholy/JJ way/NN ,/, being/VBG quite/RB unable/JJ to/TO move/VB ./.\n",
            "She/PRP soon/RB got/VBD it/PRP out/RP again/RB ,/, and/CC put/VBD it/PRP right/RB ;/: 'not/CC that/IN it/PRP signifies/VBZ much/RB ,/, '/'' she/PRP said/VBD to/TO herself/PRP ;/: '/'' I/PRP should/MD think/VB it/PRP would/MD be/VB QUITE/RB as/RB much/JJ use/NN in/IN the/DT trial/NN one/CD way/NN up/RB as/IN the/DT other/JJ ./. '/''\n",
            "As/RB soon/RB as/IN the/DT jury/NN had/VBD a/DT little/JJ recovered/JJ from/IN the/DT shock/NN of/IN being/VBG upset/VBN ,/, and/CC their/PRP$ slates/NNS and/CC pencils/NNS had/VBD been/VBN found/VBN and/CC handed/VBN back/RP to/TO them/PRP ,/, they/PRP set/VBP to/TO work/VB very/RB diligently/RB to/TO write/VB out/RP a/DT history/NN of/IN the/DT accident/NN ,/, all/DT except/IN the/DT Lizard/NNP ,/, who/WP seemed/VBD too/RB much/JJ overcome/NN to/TO do/VB anything/NN but/CC sit/NN with/IN its/PRP$ mouth/NN open/JJ ,/, gazing/VBG up/RP into/IN the/DT roof/NN of/IN the/DT court/NN ./.\n",
            "'What/WDT do/VBP you/PRP know/VB about/IN this/DT business/NN ?/. '/''\n",
            "the/DT King/NNP said/VBD to/TO Alice/NNP ./.\n",
            "'Nothing/VBG ,/, '/'' said/VBD Alice/NNP ./.\n",
            "'Nothing/VBG WHATEVER/NNP ?/. '/''\n",
            "persisted/VBN the/DT King/NNP ./.\n",
            "'Nothing/VBG whatever/NN ,/, '/'' said/VBD Alice/NNP ./.\n",
            "'That/WP 's/VBZ very/RB important/JJ ,/, '/'' the/DT King/NNP said/VBD ,/, turning/VBG to/TO the/DT jury/NN ./.\n",
            "They/PRP were/VBD just/RB beginning/VBG to/TO write/VB this/DT down/RP on/IN their/PRP$ slates/NNS ,/, when/WRB the/DT White/NNP Rabbit/NNP interrupted/VBD :/: 'UNimportant/NN ,/, your/PRP$ Majesty/NNP means/NNPS ,/, of/IN course/NN ,/, '/'' he/PRP said/VBD in/IN a/DT very/RB respectful/JJ tone/NN ,/, but/CC frowning/VBG and/CC making/VBG faces/VBZ at/IN him/PRP as/IN he/PRP spoke/VBD ./.\n",
            "'UNimportant/JJ ,/, of/IN course/NN ,/, I/PRP meant/VBP ,/, '/'' the/DT King/NNP hastily/NN said/VBD ,/, and/CC went/VBD on/IN to/TO himself/PRP in/IN an/DT undertone/NN ,/, 'important/CD --/: unimportant/JJ --/: unimportant/JJ --/: important/JJ --/: '/POS as/IN if/IN he/PRP were/VBD trying/VBG which/WDT word/NN sounded/VBD best/RBS ./.\n",
            "Some/DT of/IN the/DT jury/NN wrote/VBD it/PRP down/RP 'important/JJ ,/, '/'' and/CC some/DT 'unimportant/JJ ./. '/''\n",
            "Alice/NNP could/MD see/VB this/DT ,/, as/IN she/PRP was/VBD near/RB enough/JJ to/TO look/VB over/RP their/PRP$ slates/NNS ;/: 'but/VBZ it/PRP does/VBZ n't/RB matter/VB a/DT bit/NN ,/, '/'' she/PRP thought/VBD to/TO herself/VB ./.\n",
            "At/IN this/DT moment/NN the/DT King/NNP ,/, who/WP had/VBD been/VBN for/IN some/DT time/NN busily/RB writing/VBG in/IN his/PRP$ note-book/NN ,/, cackled/VBD out/RP 'Silence/NN !/. '/''\n",
            "and/CC read/VB out/RP from/IN his/PRP$ book/NN ,/, 'Rule/'' Forty-two/NNP ./.\n",
            "ALL/DT PERSONS/NNP MORE/NNP THAN/NNP A/NNP MILE/NNP HIGH/NNP TO/NNP LEAVE/NNP THE/NNP COURT/NNP ./. '/''\n",
            "Everybody/NN looked/VBD at/IN Alice/NNP ./.\n",
            "'/POS I/PRP 'M/MD not/RB a/DT mile/NN high/JJ ,/, '/'' said/VBD Alice/NNP ./.\n",
            "'You/NNS are/VBP ,/, '/'' said/VBD the/DT King/NNP ./.\n",
            "'Nearly/RB two/CD miles/NNS high/RB ,/, '/'' added/VBD the/DT Queen/NNP ./.\n",
            "'Well/UH ,/, I/PRP sha/VBP n't/RB go/VB ,/, at/IN any/DT rate/NN ,/, '/'' said/VBD Alice/NNP :/: 'besides/NNS ,/, that/DT 's/VBZ not/RB a/DT regular/JJ rule/NN :/: you/PRP invented/VBD it/PRP just/RB now/RB ./. '/''\n",
            "'It/NN 's/POS the/DT oldest/JJS rule/NN in/IN the/DT book/NN ,/, '/'' said/VBD the/DT King/NNP ./.\n",
            "'Then/VB it/PRP ought/MD to/TO be/VB Number/NNP One/NNP ,/, '/'' said/VBD Alice/NNP ./.\n",
            "The/DT King/NNP turned/VBD pale/JJ ,/, and/CC shut/VB his/PRP$ note-book/JJ hastily/NN ./.\n",
            "'Consider/VB your/PRP$ verdict/NN ,/, '/'' he/PRP said/VBD to/TO the/DT jury/NN ,/, in/IN a/DT low/JJ ,/, trembling/JJ voice/NN ./.\n",
            "'There/EX 's/VBZ more/JJR evidence/NN to/TO come/VB yet/RB ,/, please/VB your/PRP$ Majesty/NNP ,/, '/'' said/VBD the/DT White/NNP Rabbit/NNP ,/, jumping/VBG up/RP in/IN a/DT great/JJ hurry/NN ;/: 'this/CC paper/NN has/VBZ just/RB been/VBN picked/VBN up/RP ./. '/''\n",
            "'What/DT 's/VBZ in/IN it/PRP ?/. '/''\n",
            "said/VBD the/DT Queen/NNP ./.\n",
            "'/POS I/PRP have/VBP n't/RB opened/VBN it/PRP yet/RB ,/, '/'' said/VBD the/DT White/NNP Rabbit/NNP ,/, 'but/VBZ it/PRP seems/VBZ to/TO be/VB a/DT letter/NN ,/, written/VBN by/IN the/DT prisoner/NN to/TO --/: to/TO somebody/NN ./. '/''\n",
            "'It/NNS must/MD have/VB been/VBN that/IN ,/, '/'' said/VBD the/DT King/NNP ,/, 'unless/VBD it/PRP was/VBD written/VBN to/TO nobody/NN ,/, which/WDT is/VBZ n't/RB usual/JJ ,/, you/PRP know/VBP ./. '/''\n",
            "'Who/'' is/VBZ it/PRP directed/VBD to/TO ?/. '/''\n",
            "said/VBD one/CD of/IN the/DT jurymen/NNS ./.\n",
            "'It/NN is/VBZ n't/RB directed/VBN at/IN all/DT ,/, '/'' said/VBD the/DT White/NNP Rabbit/NNP ;/: 'in/CD fact/NN ,/, there's/JJ nothing/NN written/VBN on/IN the/DT OUTSIDE/NNP ./. '/''\n",
            "He/PRP unfolded/VBD the/DT paper/NN as/IN he/PRP spoke/VBD ,/, and/CC added/VBD 'It/NNP is/VBZ n't/RB a/DT letter/NN ,/, after/IN all/DT :/: it/PRP 's/VBZ a/DT set/NN of/IN verses/NNS ./. '/''\n",
            "'Are/NNS they/PRP in/IN the/DT prisoner/NN 's/POS handwriting/NN ?/. '/''\n",
            "asked/VBN another/DT of/IN the/DT jurymen/NNS ./.\n",
            "'No/LS ,/, they/PRP 're/VBP not/RB ,/, '/'' said/VBD the/DT White/NNP Rabbit/NNP ,/, 'and/VBZ that/WDT 's/VBZ the/DT queerest/JJS thing/NN about/IN it/PRP ./. '/''\n",
            "(/( The/DT jury/NN all/DT looked/VBD puzzled/VBN ./. )/)\n",
            "'He/NNS must/MD have/VB imitated/VBN somebody/NN else/RB 's/POS hand/NN ,/, '/'' said/VBD the/DT King/NNP ./.\n",
            "(/( The/DT jury/NN all/DT brightened/VBD up/RP again/RB ./. )/)\n",
            "'Please/VB your/PRP$ Majesty/NNP ,/, '/'' said/VBD the/DT Knave/NNP ,/, '/'' I/PRP did/VBD n't/RB write/VB it/PRP ,/, and/CC they/PRP ca/MD n't/RB prove/VB I/PRP did/VBD :/: there/EX 's/VBZ no/DT name/NN signed/VBD at/IN the/DT end/NN ./. '/''\n",
            "'If/IN you/PRP did/VBD n't/RB sign/VB it/PRP ,/, '/'' said/VBD the/DT King/NNP ,/, 'that/IN only/RB makes/VBZ the/DT matter/NN worse/NN ./.\n",
            "You/PRP MUST/VBP have/VB meant/VBN some/DT mischief/NN ,/, or/CC else/RB you/PRP 'd/MD have/VB signed/VBN your/PRP$ name/NN like/IN an/DT honest/NN man/NN ./. '/''\n",
            "There/EX was/VBD a/DT general/JJ clapping/NN of/IN hands/NNS at/IN this/DT :/: it/PRP was/VBD the/DT first/JJ really/RB clever/JJ thing/NN the/DT King/NNP had/VBD said/VBD that/IN day/NN ./.\n",
            "'That/WDT PROVES/NNP his/PRP$ guilt/NN ,/, '/'' said/VBD the/DT Queen/NNP ./.\n",
            "'It/POS proves/NNS nothing/NN of/IN the/DT sort/NN !/. '/''\n",
            "said/VBD Alice/NNP ./.\n",
            "'Why/CD ,/, you/PRP do/VBP n't/RB even/RB know/VB what/WP they/PRP 're/VBP about/IN !/. '/''\n",
            "'Read/VB them/PRP ,/, '/'' said/VBD the/DT King/NNP ./.\n",
            "The/DT White/NNP Rabbit/NNP put/VBD on/IN his/PRP$ spectacles/NNS ./.\n",
            "'Where/RB shall/MD I/PRP begin/VB ,/, please/VB your/PRP$ Majesty/NNP ?/. '/''\n",
            "he/PRP asked/VBD ./.\n",
            "'Begin/NN at/IN the/DT beginning/NN ,/, '/'' the/DT King/NNP said/VBD gravely/RB ,/, 'and/PRP go/VBP on/IN till/NN you/PRP come/VBP to/TO the/DT end/NN :/: then/RB stop/VB ./. '/''\n",
            "These/DT were/VBD the/DT verses/NNS the/DT White/NNP Rabbit/NNP read/NN :/: --/: 'They/MD told/VB me/PRP you/PRP had/VBD been/VBN to/TO her/PRP$ ,/, And/CC mentioned/VBD me/PRP to/TO him/PRP :/: She/PRP gave/VBD me/PRP a/DT good/JJ character/NN ,/, But/CC said/VBD I/PRP could/MD not/RB swim/VB ./.\n",
            "He/PRP sent/VBD them/PRP word/NN I/PRP had/VBD not/RB gone/VBN (/( We/PRP know/VBP it/PRP to/TO be/VB true/JJ )/) :/: If/IN she/PRP should/MD push/VB the/DT matter/NN on/IN ,/, What/WP would/MD become/VB of/IN you/PRP ?/.\n",
            "I/PRP gave/VBD her/PRP one/NN ,/, they/PRP gave/VBD him/PRP two/CD ,/, You/PRP gave/VBD us/PRP three/CD or/CC more/JJR ;/: They/PRP all/DT returned/VBN from/IN him/PRP to/TO you/PRP ,/, Though/IN they/PRP were/VBD mine/JJ before/RB ./.\n",
            "If/IN I/PRP or/CC she/PRP should/MD chance/NN to/TO be/VB Involved/VBN in/IN this/DT affair/NN ,/, He/PRP trusts/VBZ to/TO you/PRP to/TO set/VB them/PRP free/JJ ,/, Exactly/RB as/IN we/PRP were/VBD ./.\n",
            "My/PRP$ notion/NN was/VBD that/IN you/PRP had/VBD been/VBN (/( Before/IN she/PRP had/VBD this/DT fit/NN )/) An/DT obstacle/NN that/WDT came/VBD between/IN Him/NNP ,/, and/CC ourselves/PRP ,/, and/CC it/PRP ./.\n",
            "Do/VBP n't/RB let/VB him/PRP know/VB she/PRP liked/VBD them/PRP best/JJS ,/, For/IN this/DT must/MD ever/RB be/VB A/NNP secret/JJ ,/, kept/VBD from/IN all/PDT the/DT rest/NN ,/, Between/NNP yourself/PRP and/CC me/PRP ./. '/''\n",
            "'That/WDT 's/VBZ the/DT most/RBS important/JJ piece/NN of/IN evidence/NN we/PRP 've/VBP heard/VBN yet/RB ,/, '/'' said/VBD the/DT King/NNP ,/, rubbing/VBG his/PRP$ hands/NNS ;/: 'so/CC now/RB let/VB the/DT jury/NN --/: '/POS 'If/MD any/DT one/CD of/IN them/PRP can/MD explain/VB it/PRP ,/, '/'' said/VBD Alice/NNP ,/, (/( she/PRP had/VBD grown/VBN so/RB large/JJ in/IN the/DT last/JJ few/JJ minutes/NNS that/IN she/PRP was/VBD n't/RB a/DT bit/NN afraid/JJ of/IN interrupting/VBG him/PRP ,/, )/) '/POS I/PRP 'll/MD give/VB him/PRP sixpence/NN ./.\n",
            "_I_/NNS do/VBP n't/RB believe/VB there/EX 's/VBZ an/DT atom/NN of/IN meaning/NN in/IN it/PRP ./. '/''\n",
            "The/DT jury/NN all/DT wrote/VBD down/RB on/IN their/PRP$ slates/NNS ,/, 'SHE/NN does/VBZ n't/RB believe/VB there/EX 's/VBZ an/DT atom/NN of/IN meaning/NN in/IN it/PRP ,/, '/'' but/CC none/NN of/IN them/PRP attempted/VBD to/TO explain/VB the/DT paper/NN ./.\n",
            "'If/IN there/EX 's/VBZ no/DT meaning/NN in/IN it/PRP ,/, '/'' said/VBD the/DT King/NNP ,/, 'that/WDT saves/VBZ a/DT world/NN of/IN trouble/NN ,/, you/PRP know/VBP ,/, as/IN we/PRP need/VBP n't/RB try/VB to/TO find/VB any/DT ./.\n",
            "And/CC yet/RB I/PRP do/VBP n't/RB know/VB ,/, '/'' he/PRP went/VBD on/IN ,/, spreading/VBG out/RP the/DT verses/NNS on/IN his/PRP$ knee/NN ,/, and/CC looking/VBG at/IN them/PRP with/IN one/CD eye/NN ;/: '/POS I/PRP seem/VBP to/TO see/VB some/DT meaning/NN in/IN them/PRP ,/, after/IN all./NN ``/``\n",
            "--/: SAID/NN I/PRP COULD/NNP NOT/NNP SWIM/NNP --/: ''/'' you/PRP ca/MD n't/RB swim/VB ,/, can/MD you/PRP ?/. '/''\n",
            "he/PRP added/VBD ,/, turning/VBG to/TO the/DT Knave/NNP ./.\n",
            "The/DT Knave/NNP shook/VBD his/PRP$ head/NN sadly/RB ./.\n",
            "'Do/POS I/PRP look/VBP like/IN it/PRP ?/. '/''\n",
            "he/PRP said/VBD ./.\n",
            "(/( Which/MD he/PRP certainly/RB did/VBD NOT/NNP ,/, being/VBG made/VBN entirely/RB of/IN cardboard/NN ./. )/)\n",
            "'All/RB right/RB ,/, so/RB far/RB ,/, '/'' said/VBD the/DT King/NNP ,/, and/CC he/PRP went/VBD on/IN muttering/NN over/IN the/DT verses/NNS to/TO himself/PRP :/: '/'' ''/'' WE/NNP KNOW/NNP IT/NNP TO/NNP BE/NNP TRUE/NNP --/: ''/'' that/WDT 's/VBZ the/DT jury/NN ,/, of/IN course/NN --/: ''/'' I/PRP GAVE/VBD HER/NNP ONE/NNP ,/, THEY/NNP GAVE/NNP HIM/NNP TWO/NNP --/: ''/'' why/WRB ,/, that/DT must/MD be/VB what/WP he/PRP did/VBD with/IN the/DT tarts/NNS ,/, you/PRP know/VBP --/: '/'' 'But/CD ,/, it/PRP goes/VBZ on/IN ``/`` THEY/NNP ALL/NNP RETURNED/NNP FROM/NNP HIM/NNP TO/NNP YOU/NNP ,/, ''/'' '/POS said/VBD Alice/NNP ./.\n",
            "'Why/CD ,/, there/EX they/PRP are/VBP !/. '/''\n",
            "said/VBD the/DT King/NNP triumphantly/RB ,/, pointing/VBG to/TO the/DT tarts/NNS on/IN the/DT table/NN ./.\n",
            "'Nothing/VBG can/MD be/VB clearer/JJR than/IN THAT/DT ./.\n",
            "Then/RB again/RB --/: ''/'' BEFORE/IN SHE/NNP HAD/VBD THIS/NNP FIT/NNP --/: ''/'' you/PRP never/RB had/VBD fits/NNS ,/, my/PRP$ dear/JJ ,/, I/PRP think/VBP ?/. '/''\n",
            "he/PRP said/VBD to/TO the/DT Queen/NNP ./.\n",
            "'Never/RB !/. '/''\n",
            "said/VBD the/DT Queen/NNP furiously/RB ,/, throwing/VBG an/DT inkstand/NN at/IN the/DT Lizard/NNP as/IN she/PRP spoke/VBD ./.\n",
            "(/( The/DT unfortunate/NN little/JJ Bill/NNP had/VBD left/VBN off/RP writing/VBG on/IN his/PRP$ slate/NN with/IN one/CD finger/NN ,/, as/IN he/PRP found/VBD it/PRP made/VBD no/DT mark/NN ;/: but/CC he/PRP now/RB hastily/RB began/VBD again/RB ,/, using/VBG the/DT ink/NN ,/, that/WDT was/VBD trickling/VBG down/RP his/PRP$ face/NN ,/, as/RB long/RB as/IN it/PRP lasted/VBD ./. )/)\n",
            "'Then/IN the/DT words/NNS do/VBP n't/RB FIT/NNP you/PRP ,/, '/'' said/VBD the/DT King/NNP ,/, looking/VBG round/RP the/DT court/NN with/IN a/DT smile/NN ./.\n",
            "There/EX was/VBD a/DT dead/JJ silence/NN ./.\n",
            "'It/NN 's/POS a/DT pun/NN !/. '/''\n",
            "the/DT King/NNP added/VBD in/IN an/DT offended/JJ tone/NN ,/, and/CC everybody/NN laughed/VBD ,/, 'Let/'' the/DT jury/NN consider/VB their/PRP$ verdict/NN ,/, '/'' the/DT King/NNP said/VBD ,/, for/IN about/IN the/DT twentieth/JJ time/NN that/DT day/NN ./.\n",
            "'No/CD ,/, no/DT !/. '/''\n",
            "said/VBD the/DT Queen/NNP ./.\n",
            "'Sentence/NN first/RB --/: verdict/NN afterwards/NNS ./. '/''\n",
            "'Stuff/CD and/CC nonsense/JJ !/. '/''\n",
            "said/VBD Alice/NNP loudly/RB ./.\n",
            "'The/POS idea/NN of/IN having/VBG the/DT sentence/NN first/RB !/. '/''\n",
            "'Hold/VB your/PRP$ tongue/NN !/. '/''\n",
            "said/VBD the/DT Queen/NNP ,/, turning/VBG purple/NN ./.\n",
            "'/POS I/PRP wo/MD n't/RB !/. '/''\n",
            "said/VBD Alice/NNP ./.\n",
            "'Off/NN with/IN her/PRP$ head/NN !/. '/''\n",
            "the/DT Queen/NNP shouted/VBD at/IN the/DT top/NN of/IN her/PRP$ voice/NN ./.\n",
            "Nobody/NN moved/VBD ./.\n",
            "'Who/POS cares/NNS for/IN you/PRP ?/. '/''\n",
            "said/VBD Alice/NNP ,/, (/( she/PRP had/VBD grown/VBN to/TO her/PRP$ full/JJ size/NN by/IN this/DT time/NN ./. )/)\n",
            "'You/POS 're/VBP nothing/NN but/CC a/DT pack/NN of/IN cards/NNS !/. '/''\n",
            "At/IN this/DT the/DT whole/JJ pack/NN rose/VBD up/RP into/IN the/DT air/NN ,/, and/CC came/VBD flying/VBG down/RP upon/IN her/PRP$ :/: she/PRP gave/VBD a/DT little/JJ scream/NN ,/, half/NN of/IN fright/NN and/CC half/NN of/IN anger/NN ,/, and/CC tried/VBD to/TO beat/VB them/PRP off/RP ,/, and/CC found/VBD herself/PRP lying/VBG on/IN the/DT bank/NN ,/, with/IN her/PRP$ head/NN in/IN the/DT lap/NN of/IN her/PRP$ sister/NN ,/, who/WP was/VBD gently/RB brushing/VBG away/RB some/DT dead/JJ leaves/NNS that/WDT had/VBD fluttered/VBN down/RP from/IN the/DT trees/NNS upon/IN her/PRP$ face/NN ./.\n",
            "'Wake/VB up/RP ,/, Alice/NNP dear/RB !/. '/''\n",
            "said/VBD her/PRP$ sister/NN ;/: 'Why/CC ,/, what/WP a/DT long/JJ sleep/NN you've/NN had/VBD !/. '/''\n",
            "'Oh/CD ,/, I/PRP 've/VBP had/VBD such/PDT a/DT curious/JJ dream/NN !/. '/''\n",
            "said/VBD Alice/NNP ,/, and/CC she/PRP told/VBD her/PRP sister/NN ,/, as/RB well/RB as/IN she/PRP could/MD remember/VB them/PRP ,/, all/PDT these/DT strange/JJ Adventures/NNS of/IN hers/NNS that/IN you/PRP have/VBP just/RB been/VBN reading/VBG about/IN ;/: and/CC when/WRB she/PRP had/VBD finished/VBN ,/, her/PRP$ sister/NN kissed/VBD her/PRP ,/, and/CC said/VBD ,/, 'It/NNP WAS/NNP a/DT curious/JJ dream/NN ,/, dear/NN ,/, certainly/RB :/: but/CC now/RB run/VBP in/IN to/TO your/PRP$ tea/NN ;/: it/PRP 's/VBZ getting/VBG late/RB ./. '/''\n",
            "So/RB Alice/NNP got/VBD up/RB and/CC ran/VBD off/RP ,/, thinking/VBG while/IN she/PRP ran/VBD ,/, as/IN well/RB she/PRP might/MD ,/, what/WP a/DT wonderful/JJ dream/NN it/PRP had/VBD been/VBN ./.\n",
            "But/CC her/PRP$ sister/NN sat/VBD still/RB just/RB as/IN she/PRP left/VBD her/PRP ,/, leaning/VBG her/PRP$ head/NN on/IN her/PRP$ hand/NN ,/, watching/VBG the/DT setting/NN sun/NN ,/, and/CC thinking/NN of/IN little/JJ Alice/NNP and/CC all/DT her/PRP$ wonderful/JJ Adventures/NNPS ,/, till/VB she/PRP too/RB began/VBD dreaming/VBG after/IN a/DT fashion/NN ,/, and/CC this/DT was/VBD her/PRP$ dream/NN :/: --/: First/NNP ,/, she/PRP dreamed/VBD of/IN little/JJ Alice/NNP herself/PRP ,/, and/CC once/RB again/RB the/DT tiny/JJ hands/NNS were/VBD clasped/VBN upon/IN her/PRP$ knee/NN ,/, and/CC the/DT bright/JJ eager/JJ eyes/NNS were/VBD looking/VBG up/RP into/IN hers/NNS --/: she/PRP could/MD hear/VB the/DT very/RB tones/NNS of/IN her/PRP$ voice/NN ,/, and/CC see/VBP that/IN queer/NN little/JJ toss/NN of/IN her/PRP$ head/NN to/TO keep/VB back/RP the/DT wandering/NN hair/NN that/WDT WOULD/NNP always/RB get/VB into/IN her/PRP$ eyes/NNS --/: and/CC still/RB as/IN she/PRP listened/VBD ,/, or/CC seemed/VBD to/TO listen/VB ,/, the/DT whole/JJ place/NN around/IN her/PRP$ became/VBD alive/JJ with/IN the/DT strange/JJ creatures/NNS of/IN her/PRP$ little/JJ sister/NN 's/POS dream/NN ./.\n",
            "The/DT long/JJ grass/NN rustled/VBD at/IN her/PRP$ feet/NNS as/IN the/DT White/NNP Rabbit/NNP hurried/VBN by/IN --/: the/DT frightened/JJ Mouse/NNP splashed/VBD his/PRP$ way/NN through/IN the/DT neighbouring/JJ pool/NN --/: she/PRP could/MD hear/VB the/DT rattle/NN of/IN the/DT teacups/NNS as/IN the/DT March/NNP Hare/NNP and/CC his/PRP$ friends/NNS shared/VBN their/PRP$ never-ending/JJ meal/NN ,/, and/CC the/DT shrill/JJ voice/NN of/IN the/DT Queen/NNP ordering/VBG off/RP her/PRP$ unfortunate/JJ guests/NNS to/TO execution/NN --/: once/RB more/JJR the/DT pig-baby/NN was/VBD sneezing/VBG on/IN the/DT Duchess/NNP 's/POS knee/NN ,/, while/IN plates/NNS and/CC dishes/NNS crashed/VBN around/IN it/PRP --/: once/RB more/JJR the/DT shriek/NN of/IN the/DT Gryphon/NNP ,/, the/DT squeaking/NN of/IN the/DT Lizard/NNP 's/POS slate-pencil/NN ,/, and/CC the/DT choking/NN of/IN the/DT suppressed/JJ guinea-pigs/NNS ,/, filled/VBD the/DT air/NN ,/, mixed/VBD up/RP with/IN the/DT distant/JJ sobs/NN of/IN the/DT miserable/JJ Mock/NNP Turtle/NNP ./.\n",
            "So/IN she/PRP sat/VBD on/IN ,/, with/IN closed/JJ eyes/NNS ,/, and/CC half/NN believed/VBN herself/PRP in/IN Wonderland/NNP ,/, though/IN she/PRP knew/VBD she/PRP had/VBD but/CC to/TO open/VB them/PRP again/RB ,/, and/CC all/DT would/MD change/VB to/TO dull/VB reality/NN --/: the/DT grass/NN would/MD be/VB only/RB rustling/VBG in/IN the/DT wind/NN ,/, and/CC the/DT pool/NN rippling/VBG to/TO the/DT waving/NN of/IN the/DT reeds/NNS --/: the/DT rattling/NN teacups/NNS would/MD change/VB to/TO tinkling/VBG sheep-bells/NNS ,/, and/CC the/DT Queen/NNP 's/POS shrill/NN cries/NNS to/TO the/DT voice/NN of/IN the/DT shepherd/NN boy/NN --/: and/CC the/DT sneeze/NN of/IN the/DT baby/NN ,/, the/DT shriek/NN of/IN the/DT Gryphon/NNP ,/, and/CC all/PDT the/DT other/JJ queer/NN noises/NNS ,/, would/MD change/VB (/( she/PRP knew/VBD )/) to/TO the/DT confused/JJ clamour/NN of/IN the/DT busy/JJ farm-yard/NN --/: while/IN the/DT lowing/NN of/IN the/DT cattle/NNS in/IN the/DT distance/NN would/MD take/VB the/DT place/NN of/IN the/DT Mock/NNP Turtle's/NNP heavy/JJ sobs/NN ./.\n",
            "Lastly/RB ,/, she/PRP pictured/VBD to/TO herself/VB how/WRB this/DT same/JJ little/JJ sister/NN of/IN hers/NNS would/MD ,/, in/IN the/DT after-time/JJ ,/, be/VB herself/PRP a/DT grown/JJ woman/NN ;/: and/CC how/WRB she/PRP would/MD keep/VB ,/, through/IN all/DT her/PRP$ riper/NN years/NNS ,/, the/DT simple/NN and/CC loving/VBG heart/NN of/IN her/PRP$ childhood/NN :/: and/CC how/WRB she/PRP would/MD gather/VB about/IN her/PRP$ other/JJ little/JJ children/NNS ,/, and/CC make/VB THEIR/NNP eyes/NNS bright/VBD and/CC eager/JJ with/IN many/JJ a/DT strange/JJ tale/NN ,/, perhaps/RB even/RB with/IN the/DT dream/NN of/IN Wonderland/NNP of/IN long/RB ago/IN :/: and/CC how/WRB she/PRP would/MD feel/VB with/IN all/DT their/PRP$ simple/NN sorrows/NNS ,/, and/CC find/VB a/DT pleasure/NN in/IN all/DT their/PRP$ simple/NN joys/NNS ,/, remembering/VBG her/PRP$ own/JJ child-life/NN ,/, and/CC the/DT happy/JJ summer/NN days/NNS ./.\n",
            "THE/DT END/NN\n",
            "\n"
          ]
        }
      ]
    }
  ]
}